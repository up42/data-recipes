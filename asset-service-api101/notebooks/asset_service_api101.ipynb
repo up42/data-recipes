{
 "cells": [
  {
   "cell_type": "markdown",
   "id": "c90bd57f-f2f3-4883-b823-d2d25d30abcd",
   "metadata": {},
   "source": [
    "# Short excursion through the UP42 Spatial Asset Service API\n",
    "\n",
    "## Introduction\n",
    "\n",
    "[STAC](https://stacspec.org/en) is a specification for the handling of\n",
    "geospatial asset catalogs. It has emerged from the efforts of several\n",
    "companies, governmental and non-governmental organizations in the\n",
    "geospatial domain.\n",
    "\n",
    "In a previous\n",
    "[article](https://up42.com/blog/automate-your-pipeline-with-stac-and-our-brand-new-data-management)\n",
    "we gave you an overview of STAC and our new storage capabilities with\n",
    "STAC, explaining the specification and its benefits in a nutshell. In\n",
    "this blog post we are going to further explain why we brought STAC to\n",
    "UP42 storage and introduced STAC-compatible endpoints for all geospatial\n",
    "assets in\n",
    "[storage](https://docs.up42.com/getting-started/concepts#storage) by\n",
    "giving you real-world examples. We will show you how to overcome common\n",
    "data management challenges by customizing assets in storage, searching\n",
    "for a specific asset property or creating a consolidated view of your\n",
    "assets through sort and filter operations. This first article uses a\n",
    "Python HTTP client library, in this case\n",
    "[httpx](https://www.python-httpx.org/). The way the authentication is\n",
    "done in httpx, via [httpx-auth](https://pypi.org/project/httpx-auth/)\n",
    "makes it very transparent how the Client Credentials OAuth flow is used\n",
    "to authenticate with the UP42 API.\n",
    "\n",
    "You can run the code below in console based\n",
    "[IPython](https://ipython.org/) or in [Jupyter](https://jupyter.org/)\n",
    "lab or classic notebook. For simplicity’s sake we refer to it simply as\n",
    "notebook.\n",
    "\n",
    "It explores the API entry points and then proceeds towards real use\n",
    "cases, e.g., searching for assets that intersect a given AOI, etc.\n",
    "\n",
    "## Creating the environment and importing the needed packages.\n",
    "\n",
    "1.  Create a virtual environment.\n",
    "\n",
    "``` bash\n",
    "   mkvirtualenv --python=$(which python3) up42-asset-service-api\n",
    "```\n",
    "\n",
    "2.  Activate the environment.\n",
    "\n",
    "``` bash\n",
    "   workon up42-asset-service-api\n",
    "```\n",
    "\n",
    "3.  Install Jupyter Lab.\n",
    "\n",
    "``` bash\n",
    "   pip install jupyterlab\n",
    "```\n",
    "\n",
    "4.  Done.\n",
    "\n",
    "Now we can install the needed modules from inside Jupyter."
   ]
  },
  {
   "cell_type": "code",
   "execution_count": 1,
   "id": "015334cd-bd80-4d4f-9f3b-ca529132b152",
   "metadata": {},
   "outputs": [],
   "source": [
    "import httpx\n",
    "from httpx_auth import OAuth2ClientCredentials"
   ]
  },
  {
   "cell_type": "markdown",
   "id": "aabf7908-05e9-4214-8657-4967119c20c3",
   "metadata": {},
   "source": [
    "## Authenticate with the UP42 API\n",
    "\n",
    "To authenticate with the UP42 API a project ID and a project API key are\n",
    "needed.\n",
    "\n",
    "The project API key and the project ID are read from a JSON file. This\n",
    "file has the following structure:\n",
    "\n",
    "    {\n",
    "      \"project_id\": \"<your-project-ID-here>\",\n",
    "      \"project_api_key\": \"<your-api-key-here>\",\n",
    "      \"workspace_id\": \"<your-workspace-ID-here>\"\n",
    "    }\n",
    "\n",
    "To find out how to obtain the project API key and project ID please\n",
    "refer to our\n",
    "[documentation](https://docs.up42.com/developers/authentication#step-1-find-project-credentials).\n",
    "\n",
    "Reading the credentials from the JSON file `~/.up42/proj_default.json`.\n",
    "If you have a different filename and/or the file in other location\n",
    "please adjust the path accordingly."
   ]
  },
  {
   "cell_type": "code",
   "execution_count": 2,
   "id": "1bc84207-9c76-4126-a0d0-69c516d1fb73",
   "metadata": {},
   "outputs": [],
   "source": [
    "import json\n",
    "from pathlib import Path\n",
    "\n",
    "project_config_file = Path.home() / \".up42\" / \"proj_default.json\"\n",
    "\n",
    "with open(project_config_file, \"r\") as f:\n",
    "    api_credentials = json.load(f)"
   ]
  },
  {
   "cell_type": "markdown",
   "id": "4f38d270-00b3-40ed-ad02-85fc66405c54",
   "metadata": {},
   "source": [
    "Now we can authenticate with the UP42 API."
   ]
  },
  {
   "cell_type": "code",
   "execution_count": 3,
   "id": "b5a3a97c-20d9-45e2-a1b8-f97ede8d3407",
   "metadata": {},
   "outputs": [],
   "source": [
    "from typing import Final\n",
    "\n",
    "_UP42_AUTH_URL: Final[str] = \"https://api.up42.com/oauth/token\"\n",
    "\n",
    "client_auth = OAuth2ClientCredentials(\n",
    "                _UP42_AUTH_URL,\n",
    "                client_id=api_credentials[\"project_id\"],\n",
    "                client_secret=api_credentials[\"project_api_key\"],\n",
    "            )"
   ]
  },
  {
   "cell_type": "markdown",
   "id": "c6460494-4985-4568-a05a-8d33b5b245b1",
   "metadata": {},
   "source": [
    "## Some auxiliary functions\n",
    "\n",
    "Let us create a few auxiliary functions that will be useful throughout\n",
    "the notebook."
   ]
  },
  {
   "cell_type": "code",
   "execution_count": 4,
   "id": "a9194616-3ea7-487f-bec1-1b41cdc13c91",
   "metadata": {},
   "outputs": [],
   "source": [
    "from IPython.display import JSON, DisplayObject\n",
    "\n",
    "def up42_asset_stac_url(url: str) -> str:\n",
    "    \"\"\"Create a UP42 Spatial Asset service URL.\"\"\"\n",
    "    return f\"https://api.up42.com/v2/assets/stac{url}\"\n",
    "\n",
    "def ppjson(json_data: dict, expand:bool=False) -> DisplayObject:\n",
    "    \"\"\"Pretty print JSON data.\"\"\"\n",
    "    return JSON(json_data, expanded=expand)"
   ]
  },
  {
   "cell_type": "markdown",
   "id": "5ad8ddad-82e9-4727-99c4-3dc027eec97e",
   "metadata": {},
   "source": [
    "## Spatial Asset Service entry point\n",
    "\n",
    "Let us get the entry point for the asset service. This will inform us\n",
    "about the available asset catalog and which standards it conforms to."
   ]
  },
  {
   "cell_type": "code",
   "execution_count": 5,
   "id": "014d5033-fd06-417d-ba7a-2ac698e07c34",
   "metadata": {},
   "outputs": [
    {
     "data": {
      "application/json": {
       "conformsTo": [
        "https://api.stacspec.org/v1.0.0-rc.1/item-search#filter",
        "http://www.opengis.net/spec/ogcapi-features-1/1.0/conf/oas30",
        "https://api.stacspec.org/v1.0.0-rc.1/core",
        "https://api.stacspec.org/v1.0.0-rc.1/ogcapi-features/extensions/transaction",
        "https://api.stacspec.org/v1.0.0-rc.1/ogcapi-features",
        "http://www.opengis.net/spec/ogcapi-features-1/1.0/conf/core",
        "http://www.opengis.net/spec/ogcapi-features-1/1.0/conf/geojson",
        "http://www.opengis.net/spec/ogcapi-features-3/1.0/conf/features-filter",
        "https://api.stacspec.org/v1.0.0-rc.1/item-search#sort",
        "https://api.stacspec.org/v1.0.0-rc.1/collections",
        "https://api.stacspec.org/v1.0.0-rc.1/item-search#filter:cql-text",
        "http://www.opengis.net/spec/ogcapi-features-4/1.0/conf/simpletx",
        "https://api.stacspec.org/v1.0.0-rc.1/item-search",
        "http://www.opengis.net/spec/ogcapi-features-3/1.0/conf/filter",
        "https://api.stacspec.org/v1.0.0-rc.1/item-search#filter:basic-cql"
       ],
       "description": "UP42 Storage STAC API",
       "id": "up42-storage",
       "links": [
        {
         "href": "https://api.up42.com/v2/assets/stac/",
         "rel": "self",
         "type": "application/json"
        },
        {
         "href": "https://api.up42.com/v2/assets/stac/",
         "rel": "root",
         "type": "application/json"
        },
        {
         "href": "https://api.up42.com/v2/assets/stac/collections",
         "rel": "data",
         "type": "application/json"
        },
        {
         "href": "https://api.up42.com/v2/assets/stac/search",
         "method": "POST",
         "rel": "search",
         "type": "application/json"
        }
       ],
       "stac_extensions": [],
       "stac_version": "1.0.0",
       "title": "UP42 Storage",
       "type": "Catalog"
      },
      "text/plain": [
       "<IPython.core.display.JSON object>"
      ]
     },
     "execution_count": 5,
     "metadata": {
      "application/json": {
       "expanded": false,
       "root": "root"
      }
     },
     "output_type": "execute_result"
    }
   ],
   "source": [
    "ppjson(httpx.get(up42_asset_stac_url(\"/\"), auth=client_auth).json())"
   ]
  },
  {
   "cell_type": "markdown",
   "id": "fdbdcf95-1c43-4867-b672-3b6ace68b422",
   "metadata": {},
   "source": [
    "Let us examine the response.\n",
    "\n",
    "### Statement of conformity\n",
    "\n",
    "This API conforms to the above listed standards.\n",
    "\n",
    "### Additional URLs to explore\n",
    "\n",
    "The `links` gives entries 3 and 4, respectively:\n",
    "\n",
    "-   `/search`: to search for STAC items.\n",
    "-   `/collections`: to list the available STAC collections.\n",
    "\n",
    "Let us proceed as suggested by the entry point.\n",
    "\n",
    "## Listing collections\n",
    "\n",
    "Let us *naively* ask for the available collections."
   ]
  },
  {
   "cell_type": "code",
   "execution_count": 6,
   "id": "19e5af35-80ad-4608-b8b2-d06183e6865b",
   "metadata": {},
   "outputs": [
    {
     "data": {
      "application/json": {
       "collections": [
        {
         "assets": {},
         "description": "High-resolution 1.5m SPOT images acquired daily on a global basis. The datasets are available starting from 2012.",
         "extent": {
          "spatial": {
           "bbox": [
            [
             13.351,
             52.523611111111,
             13.35725000005,
             52.526763888914
            ]
           ]
          },
          "temporal": {
           "interval": [
            [
             "2021-05-31T09:51:52.100000Z",
             "2021-05-31T09:51:52.100000Z"
            ]
           ]
          }
         },
         "id": "0c6a851f-9780-488b-ae79-47fa5c7eab68",
         "keywords": [
          "Airbus",
          "SPOT"
         ],
         "license": "proprietary",
         "links": [
          {
           "href": "https://api.up42.com/v2/assets/stac/collections/0c6a851f-9780-488b-ae79-47fa5c7eab68",
           "rel": "self",
           "type": "application/json"
          },
          {
           "href": "https://api.up42.com/v2/assets/stac/",
           "rel": "parent",
           "type": "application/json"
          },
          {
           "href": "https://api.up42.com/v2/assets/stac/collections/0c6a851f-9780-488b-ae79-47fa5c7eab68/items",
           "rel": "items",
           "type": "application/geo+json"
          },
          {
           "href": "https://api.up42.com/v2/assets/stac/",
           "rel": "root",
           "type": "application/json"
          }
         ],
         "providers": [
          {
           "name": "AIRBUS DS GEO",
           "roles": [
            "producer"
           ],
           "url": "http://www.geo-airbusds.com/"
          },
          {
           "name": "AIRBUS DS GEO",
           "roles": [
            "processor"
           ],
           "url": "http://www.geo-airbusds.com/"
          }
         ],
         "stac_extensions": [
          "https://api.up42.com/stac-extensions/up42-system/v1.0.0/schema.json",
          "https://api.up42.com/stac-extensions/up42-product/v1.0.0/schema.json"
         ],
         "stac_version": "1.0.0",
         "summaries": {},
         "title": "ORT_SPOT7_20210531_095152300_000",
         "type": "Collection",
         "up42-product:data_type": "raster",
         "up42-product:modality": "multispectral",
         "up42-system:account_id": "3c86279b-610a-4dba-ad12-abe3bdc51428",
         "up42-system:asset_id": "048c8a94-eaaf-47fa-9789-b5b930404ddf",
         "up42-system:metadata_version": "0.0.5",
         "up42-system:workspace_id": "8710989c-fe75-46d8-9cbe-49e54bf70350"
        },
        {
         "assets": {},
         "description": "Very high-resolution 30cm Pleiades Neo images acquired bidaily on a global basis. The datasets are available starting from November 2021.",
         "extent": {
          "spatial": {
           "bbox": [
            [
             54.31793246860514,
             17.019094292371896,
             54.45325584020295,
             17.088556590348343
            ]
           ]
          },
          "temporal": {
           "interval": [
            [
             "2023-04-07T06:56:15Z",
             "2023-04-07T06:56:15Z"
            ]
           ]
          }
         },
         "id": "4ecf5965-3fa0-4e9b-a822-ad74a5dd18a4",
         "keywords": [
          "Airbus",
          "PléiadesNeo"
         ],
         "license": "proprietary",
         "links": [
          {
           "href": "https://api.up42.com/v2/assets/stac/collections/4ecf5965-3fa0-4e9b-a822-ad74a5dd18a4",
           "rel": "self",
           "type": "application/json"
          },
          {
           "href": "https://api.up42.com/v2/assets/stac/",
           "rel": "parent",
           "type": "application/json"
          },
          {
           "href": "https://api.up42.com/v2/assets/stac/collections/4ecf5965-3fa0-4e9b-a822-ad74a5dd18a4/items",
           "rel": "items",
           "type": "application/geo+json"
          },
          {
           "href": "https://api.up42.com/v2/assets/stac/",
           "rel": "root",
           "type": "application/json"
          }
         ],
         "providers": [
          {
           "name": "AIRBUS DS GEO",
           "roles": [
            "producer"
           ],
           "url": "http://www.geo-airbusds.com/"
          },
          {
           "name": "AIRBUS DS GEO",
           "roles": [
            "processor"
           ],
           "url": "http://www.geo-airbusds.com/"
          }
         ],
         "stac_extensions": [
          "https://api.up42.com/stac-extensions/up42-product/v1.0.0/schema.json",
          "https://api.up42.com/stac-extensions/up42-system/v1.0.0/schema.json",
          "https://api.up42.com/stac-extensions/up42-order/v1.0.0/schema.json"
         ],
         "stac_version": "1.0.0",
         "summaries": {},
         "title": "PNEO4_202304070656155_PAN_SEN",
         "type": "Collection",
         "up42-order:id": "d7574551-aa40-4214-8c38-d1741a983192",
         "up42-order:status": "BEING_FULFILLED",
         "up42-product:collection_name": "pneo-tasking",
         "up42-product:data_type": "raster",
         "up42-product:modality": "multispectral",
         "up42-product:product_id": "07c33a51-94b9-4509-84df-e9c13ea92b84",
         "up42-system:account_id": "3c86279b-610a-4dba-ad12-abe3bdc51428",
         "up42-system:asset_id": "405527cf-1a7e-428f-85d0-8f19cfdb0d5b",
         "up42-system:metadata_version": "0.0.5",
         "up42-system:source": "TASKING",
         "up42-system:workspace_id": "313ba781-8aee-4585-b045-77eafa1fb592"
        },
        {
         "assets": {},
         "description": "Very high-resolution 30cm Pleiades Neo images acquired bidaily on a global basis. The datasets are available starting from November 2021.",
         "extent": {
          "spatial": {
           "bbox": [
            [
             54.205398908250345,
             17.01098855638842,
             54.34225242252421,
             17.136973752039395
            ]
           ]
          },
          "temporal": {
           "interval": [
            [
             "2023-03-15T07:03:47Z",
             "2023-03-15T07:03:47Z"
            ]
           ]
          }
         },
         "id": "f9ab4697-8bd4-4284-870c-58472a31f909",
         "keywords": [
          "Airbus",
          "PléiadesNeo"
         ],
         "license": "proprietary",
         "links": [
          {
           "href": "https://api.up42.com/v2/assets/stac/collections/f9ab4697-8bd4-4284-870c-58472a31f909",
           "rel": "self",
           "type": "application/json"
          },
          {
           "href": "https://api.up42.com/v2/assets/stac/",
           "rel": "parent",
           "type": "application/json"
          },
          {
           "href": "https://api.up42.com/v2/assets/stac/collections/f9ab4697-8bd4-4284-870c-58472a31f909/items",
           "rel": "items",
           "type": "application/geo+json"
          },
          {
           "href": "https://api.up42.com/v2/assets/stac/",
           "rel": "root",
           "type": "application/json"
          }
         ],
         "providers": [
          {
           "name": "AIRBUS DS GEO",
           "roles": [
            "producer"
           ],
           "url": "http://www.geo-airbusds.com/"
          },
          {
           "name": "AIRBUS DS GEO",
           "roles": [
            "processor"
           ],
           "url": "http://www.geo-airbusds.com/"
          }
         ],
         "stac_extensions": [
          "https://api.up42.com/stac-extensions/up42-system/v1.0.0/schema.json",
          "https://api.up42.com/stac-extensions/up42-order/v1.0.0/schema.json",
          "https://api.up42.com/stac-extensions/up42-product/v1.0.0/schema.json"
         ],
         "stac_version": "1.0.0",
         "summaries": {},
         "title": "PNEO3_202303150703480_PAN_SEN",
         "type": "Collection",
         "up42-order:id": "d7574551-aa40-4214-8c38-d1741a983192",
         "up42-order:status": "BEING_FULFILLED",
         "up42-product:collection_name": "pneo-tasking",
         "up42-product:data_type": "raster",
         "up42-product:modality": "multispectral",
         "up42-product:product_id": "07c33a51-94b9-4509-84df-e9c13ea92b84",
         "up42-system:account_id": "3c86279b-610a-4dba-ad12-abe3bdc51428",
         "up42-system:asset_id": "7652f727-c071-4f06-a8d2-31ee15681403",
         "up42-system:metadata_version": "0.0.5",
         "up42-system:source": "TASKING",
         "up42-system:workspace_id": "313ba781-8aee-4585-b045-77eafa1fb592"
        },
        {
         "assets": {},
         "description": "Very high-resolution 30cm Pleiades Neo images acquired bidaily on a global basis. The datasets are available starting from November 2021.",
         "extent": {
          "spatial": {
           "bbox": [
            [
             54.09102449711633,
             16.9951895173228,
             54.22532839880994,
             17.156656996877444
            ]
           ]
          },
          "temporal": {
           "interval": [
            [
             "2023-04-10T07:03:40.400000Z",
             "2023-04-10T07:03:40.400000Z"
            ]
           ]
          }
         },
         "id": "772816ae-be60-4e89-b35a-0b7ec1d8db82",
         "keywords": [
          "Airbus",
          "PléiadesNeo"
         ],
         "license": "proprietary",
         "links": [
          {
           "href": "https://api.up42.com/v2/assets/stac/collections/772816ae-be60-4e89-b35a-0b7ec1d8db82",
           "rel": "self",
           "type": "application/json"
          },
          {
           "href": "https://api.up42.com/v2/assets/stac/",
           "rel": "parent",
           "type": "application/json"
          },
          {
           "href": "https://api.up42.com/v2/assets/stac/collections/772816ae-be60-4e89-b35a-0b7ec1d8db82/items",
           "rel": "items",
           "type": "application/geo+json"
          },
          {
           "href": "https://api.up42.com/v2/assets/stac/",
           "rel": "root",
           "type": "application/json"
          }
         ],
         "providers": [
          {
           "name": "AIRBUS DS GEO",
           "roles": [
            "producer"
           ],
           "url": "http://www.geo-airbusds.com/"
          },
          {
           "name": "AIRBUS DS GEO",
           "roles": [
            "processor"
           ],
           "url": "http://www.geo-airbusds.com/"
          }
         ],
         "stac_extensions": [
          "https://api.up42.com/stac-extensions/up42-system/v1.0.0/schema.json",
          "https://api.up42.com/stac-extensions/up42-order/v1.0.0/schema.json",
          "https://api.up42.com/stac-extensions/up42-product/v1.0.0/schema.json"
         ],
         "stac_version": "1.0.0",
         "summaries": {},
         "title": "PNEO3_202304100703416_PAN_SEN",
         "type": "Collection",
         "up42-order:id": "d7574551-aa40-4214-8c38-d1741a983192",
         "up42-order:status": "BEING_FULFILLED",
         "up42-product:collection_name": "pneo-tasking",
         "up42-product:data_type": "raster",
         "up42-product:modality": "multispectral",
         "up42-product:product_id": "07c33a51-94b9-4509-84df-e9c13ea92b84",
         "up42-system:account_id": "3c86279b-610a-4dba-ad12-abe3bdc51428",
         "up42-system:asset_id": "d20acd73-4327-47b8-95ad-e5628f4376ff",
         "up42-system:metadata_version": "0.0.5",
         "up42-system:source": "TASKING",
         "up42-system:workspace_id": "313ba781-8aee-4585-b045-77eafa1fb592"
        },
        {
         "assets": {},
         "description": "Very high-resolution 30cm Pleiades Neo images acquired bidaily on a global basis. The datasets are available starting from November 2021.",
         "extent": {
          "spatial": {
           "bbox": [
            [
             -9.423687389795216,
             38.69123683111964,
             -9.415284316365145,
             38.69608402308488
            ]
           ]
          },
          "temporal": {
           "interval": [
            [
             "2023-01-27T11:45:45.200000Z",
             "2023-01-27T11:45:45.200000Z"
            ]
           ]
          }
         },
         "id": "36a2cd2f-e4d9-49b5-897c-4cda35dcdbef",
         "keywords": [
          "Airbus",
          "PléiadesNeo"
         ],
         "license": "proprietary",
         "links": [
          {
           "href": "https://api.up42.com/v2/assets/stac/collections/36a2cd2f-e4d9-49b5-897c-4cda35dcdbef",
           "rel": "self",
           "type": "application/json"
          },
          {
           "href": "https://api.up42.com/v2/assets/stac/",
           "rel": "parent",
           "type": "application/json"
          },
          {
           "href": "https://api.up42.com/v2/assets/stac/collections/36a2cd2f-e4d9-49b5-897c-4cda35dcdbef/items",
           "rel": "items",
           "type": "application/geo+json"
          },
          {
           "href": "https://api.up42.com/v2/assets/stac/",
           "rel": "root",
           "type": "application/json"
          }
         ],
         "providers": [
          {
           "name": "AIRBUS DS GEO",
           "roles": [
            "producer"
           ],
           "url": "http://www.geo-airbusds.com/"
          },
          {
           "name": "AIRBUS DS GEO",
           "roles": [
            "processor"
           ],
           "url": "http://www.geo-airbusds.com/"
          }
         ],
         "stac_extensions": [
          "https://api.up42.com/stac-extensions/up42-product/v1.0.0/schema.json",
          "https://api.up42.com/stac-extensions/up42-system/v1.0.0/schema.json",
          "https://api.up42.com/stac-extensions/up42-order/v1.0.0/schema.json"
         ],
         "stac_version": "1.0.0",
         "summaries": {},
         "title": "PNEO3_202301271145452_PMS-FS_ORT",
         "type": "Collection",
         "up42-order:host_id": "390bbfcc-4066-4853-bacc-f6e6c4f35bd5",
         "up42-order:id": "53b9a6c5-5707-47a3-8bbc-d23d3f38d2ed",
         "up42-order:status": "FULFILLED",
         "up42-product:collection_name": "pneo",
         "up42-product:data_type": "raster",
         "up42-product:modality": "multispectral",
         "up42-product:product_id": "17745de8-6e7d-4751-99cd-3f8e9e9d290e",
         "up42-system:account_id": "3c86279b-610a-4dba-ad12-abe3bdc51428",
         "up42-system:asset_id": "519917e7-d6a0-467d-8128-26577710ce8b",
         "up42-system:metadata_version": "0.0.5",
         "up42-system:source": "ARCHIVE",
         "up42-system:workspace_id": "d39fe05a-400c-44f6-b770-86990f64b004"
        },
        {
         "assets": {},
         "description": "High-resolution 1.5m SPOT images acquired daily on a global basis. The datasets are available starting from 2012.",
         "extent": {
          "spatial": {
           "bbox": [
            [
             13.309,
             52.408055555556,
             13.328888889048,
             52.422486111227
            ]
           ]
          },
          "temporal": {
           "interval": [
            [
             "2022-06-24T09:59:07.500000Z",
             "2022-06-24T09:59:07.500000Z"
            ]
           ]
          }
         },
         "id": "b2c38fed-194a-40a1-8e41-8da3b12b3afe",
         "keywords": [
          "Airbus",
          "SPOT"
         ],
         "license": "proprietary",
         "links": [
          {
           "href": "https://api.up42.com/v2/assets/stac/collections/b2c38fed-194a-40a1-8e41-8da3b12b3afe",
           "rel": "self",
           "type": "application/json"
          },
          {
           "href": "https://api.up42.com/v2/assets/stac/",
           "rel": "parent",
           "type": "application/json"
          },
          {
           "href": "https://api.up42.com/v2/assets/stac/collections/b2c38fed-194a-40a1-8e41-8da3b12b3afe/items",
           "rel": "items",
           "type": "application/geo+json"
          },
          {
           "href": "https://api.up42.com/v2/assets/stac/",
           "rel": "root",
           "type": "application/json"
          }
         ],
         "providers": [
          {
           "name": "AIRBUS DS GEO",
           "roles": [
            "producer"
           ],
           "url": "http://www.geo-airbusds.com/"
          },
          {
           "name": "AIRBUS DS GEO",
           "roles": [
            "processor"
           ],
           "url": "http://www.geo-airbusds.com/"
          }
         ],
         "stac_extensions": [
          "https://api.up42.com/stac-extensions/up42-product/v1.0.0/schema.json",
          "https://api.up42.com/stac-extensions/up42-system/v1.0.0/schema.json"
         ],
         "stac_version": "1.0.0",
         "summaries": {},
         "title": "ORT_SPOT6_20220624_095907600_000",
         "type": "Collection",
         "up42-product:data_type": "raster",
         "up42-product:modality": "multispectral",
         "up42-system:account_id": "3c86279b-610a-4dba-ad12-abe3bdc51428",
         "up42-system:asset_id": "50350687-93d5-4367-ae89-1daaa09dce17",
         "up42-system:metadata_version": "0.0.5",
         "up42-system:workspace_id": "a917e589-1187-402f-8bf8-38937d6fe713"
        },
        {
         "assets": {},
         "description": "High-resolution 1.5m SPOT images acquired daily on a global basis. The datasets are available starting from 2012.",
         "extent": {
          "spatial": {
           "bbox": [
            [
             13.3745,
             52.50025,
             13.381361111166,
             52.504333333366
            ]
           ]
          },
          "temporal": {
           "interval": [
            [
             "2021-05-31T09:51:52.100000Z",
             "2021-05-31T09:51:52.100000Z"
            ]
           ]
          }
         },
         "id": "1486698e-280e-4b3b-bf9f-078ba402711a",
         "keywords": [
          "Airbus",
          "SPOT"
         ],
         "license": "proprietary",
         "links": [
          {
           "href": "https://api.up42.com/v2/assets/stac/collections/1486698e-280e-4b3b-bf9f-078ba402711a",
           "rel": "self",
           "type": "application/json"
          },
          {
           "href": "https://api.up42.com/v2/assets/stac/",
           "rel": "parent",
           "type": "application/json"
          },
          {
           "href": "https://api.up42.com/v2/assets/stac/collections/1486698e-280e-4b3b-bf9f-078ba402711a/items",
           "rel": "items",
           "type": "application/geo+json"
          },
          {
           "href": "https://api.up42.com/v2/assets/stac/",
           "rel": "root",
           "type": "application/json"
          }
         ],
         "providers": [
          {
           "name": "AIRBUS DS GEO",
           "roles": [
            "producer"
           ],
           "url": "http://www.geo-airbusds.com/"
          },
          {
           "name": "AIRBUS DS GEO",
           "roles": [
            "processor"
           ],
           "url": "http://www.geo-airbusds.com/"
          }
         ],
         "stac_extensions": [
          "https://api.up42.com/stac-extensions/up42-product/v1.0.0/schema.json",
          "https://api.up42.com/stac-extensions/up42-system/v1.0.0/schema.json"
         ],
         "stac_version": "1.0.0",
         "summaries": {},
         "title": "ORT_SPOT7_20210531_095152300_000",
         "type": "Collection",
         "up42-product:data_type": "raster",
         "up42-product:modality": "multispectral",
         "up42-system:account_id": "3c86279b-610a-4dba-ad12-abe3bdc51428",
         "up42-system:asset_id": "10d5e67a-5318-4737-b7b7-c5cfdaf51891",
         "up42-system:metadata_version": "0.0.5",
         "up42-system:workspace_id": "a917e589-1187-402f-8bf8-38937d6fe713"
        },
        {
         "assets": {},
         "description": "High-resolution 1.5m SPOT images acquired daily on a global basis. The datasets are available starting from 2012.",
         "extent": {
          "spatial": {
           "bbox": [
            [
             13.309,
             52.408055555556,
             13.328888889048,
             52.422486111227
            ]
           ]
          },
          "temporal": {
           "interval": [
            [
             "2022-06-24T09:59:07.500000Z",
             "2022-06-24T09:59:07.500000Z"
            ]
           ]
          }
         },
         "id": "fc3f8148-abcb-45d5-81be-4ca14e41de81",
         "keywords": [
          "Airbus",
          "SPOT"
         ],
         "license": "proprietary",
         "links": [
          {
           "href": "https://api.up42.com/v2/assets/stac/collections/fc3f8148-abcb-45d5-81be-4ca14e41de81",
           "rel": "self",
           "type": "application/json"
          },
          {
           "href": "https://api.up42.com/v2/assets/stac/",
           "rel": "parent",
           "type": "application/json"
          },
          {
           "href": "https://api.up42.com/v2/assets/stac/collections/fc3f8148-abcb-45d5-81be-4ca14e41de81/items",
           "rel": "items",
           "type": "application/geo+json"
          },
          {
           "href": "https://api.up42.com/v2/assets/stac/",
           "rel": "root",
           "type": "application/json"
          }
         ],
         "providers": [
          {
           "name": "AIRBUS DS GEO",
           "roles": [
            "producer"
           ],
           "url": "http://www.geo-airbusds.com/"
          },
          {
           "name": "AIRBUS DS GEO",
           "roles": [
            "processor"
           ],
           "url": "http://www.geo-airbusds.com/"
          }
         ],
         "stac_extensions": [
          "https://api.up42.com/stac-extensions/up42-system/v1.0.0/schema.json",
          "https://api.up42.com/stac-extensions/up42-product/v1.0.0/schema.json"
         ],
         "stac_version": "1.0.0",
         "summaries": {},
         "title": "ORT_SPOT6_20220624_095907600_000",
         "type": "Collection",
         "up42-product:data_type": "raster",
         "up42-product:modality": "multispectral",
         "up42-system:account_id": "3c86279b-610a-4dba-ad12-abe3bdc51428",
         "up42-system:asset_id": "9000a83c-23cf-4b78-b3e9-000fd6066662",
         "up42-system:metadata_version": "0.0.5",
         "up42-system:workspace_id": "a917e589-1187-402f-8bf8-38937d6fe713"
        },
        {
         "assets": {},
         "description": "High-resolution 1.5m SPOT images acquired daily on a global basis. The datasets are available starting from 2012.",
         "extent": {
          "spatial": {
           "bbox": [
            [
             13.3745,
             52.50025,
             13.381361111166,
             52.504333333366
            ]
           ]
          },
          "temporal": {
           "interval": [
            [
             "2021-05-31T09:51:52.100000Z",
             "2021-05-31T09:51:52.100000Z"
            ]
           ]
          }
         },
         "id": "51b98bba-3825-43f7-922e-60b8d93cd969",
         "keywords": [
          "Airbus",
          "SPOT"
         ],
         "license": "proprietary",
         "links": [
          {
           "href": "https://api.up42.com/v2/assets/stac/collections/51b98bba-3825-43f7-922e-60b8d93cd969",
           "rel": "self",
           "type": "application/json"
          },
          {
           "href": "https://api.up42.com/v2/assets/stac/",
           "rel": "parent",
           "type": "application/json"
          },
          {
           "href": "https://api.up42.com/v2/assets/stac/collections/51b98bba-3825-43f7-922e-60b8d93cd969/items",
           "rel": "items",
           "type": "application/geo+json"
          },
          {
           "href": "https://api.up42.com/v2/assets/stac/",
           "rel": "root",
           "type": "application/json"
          }
         ],
         "providers": [
          {
           "name": "AIRBUS DS GEO",
           "roles": [
            "producer"
           ],
           "url": "http://www.geo-airbusds.com/"
          },
          {
           "name": "AIRBUS DS GEO",
           "roles": [
            "processor"
           ],
           "url": "http://www.geo-airbusds.com/"
          }
         ],
         "stac_extensions": [
          "https://api.up42.com/stac-extensions/up42-system/v1.0.0/schema.json",
          "https://api.up42.com/stac-extensions/up42-product/v1.0.0/schema.json"
         ],
         "stac_version": "1.0.0",
         "summaries": {},
         "title": "ORT_SPOT7_20210531_095152300_000",
         "type": "Collection",
         "up42-product:data_type": "raster",
         "up42-product:modality": "multispectral",
         "up42-system:account_id": "3c86279b-610a-4dba-ad12-abe3bdc51428",
         "up42-system:asset_id": "2cce84e6-e9d5-4485-a4b2-66deed4ea557",
         "up42-system:metadata_version": "0.0.5",
         "up42-system:workspace_id": "a917e589-1187-402f-8bf8-38937d6fe713"
        },
        {
         "assets": {},
         "description": "High-resolution 1.5m SPOT images acquired daily on a global basis. The datasets are available starting from 2012.",
         "extent": {
          "spatial": {
           "bbox": [
            [
             13.309,
             52.408055555556,
             13.328888889048,
             52.422486111227
            ]
           ]
          },
          "temporal": {
           "interval": [
            [
             "2022-06-24T09:59:07.500000Z",
             "2022-06-24T09:59:07.500000Z"
            ]
           ]
          }
         },
         "id": "ab984c55-d07b-4aac-992d-44243a77c55c",
         "keywords": [
          "Airbus",
          "SPOT"
         ],
         "license": "proprietary",
         "links": [
          {
           "href": "https://api.up42.com/v2/assets/stac/collections/ab984c55-d07b-4aac-992d-44243a77c55c",
           "rel": "self",
           "type": "application/json"
          },
          {
           "href": "https://api.up42.com/v2/assets/stac/",
           "rel": "parent",
           "type": "application/json"
          },
          {
           "href": "https://api.up42.com/v2/assets/stac/collections/ab984c55-d07b-4aac-992d-44243a77c55c/items",
           "rel": "items",
           "type": "application/geo+json"
          },
          {
           "href": "https://api.up42.com/v2/assets/stac/",
           "rel": "root",
           "type": "application/json"
          }
         ],
         "providers": [
          {
           "name": "AIRBUS DS GEO",
           "roles": [
            "producer"
           ],
           "url": "http://www.geo-airbusds.com/"
          },
          {
           "name": "AIRBUS DS GEO",
           "roles": [
            "processor"
           ],
           "url": "http://www.geo-airbusds.com/"
          }
         ],
         "stac_extensions": [
          "https://api.up42.com/stac-extensions/up42-product/v1.0.0/schema.json",
          "https://api.up42.com/stac-extensions/up42-system/v1.0.0/schema.json"
         ],
         "stac_version": "1.0.0",
         "summaries": {},
         "title": "ORT_SPOT6_20220624_095907600_000",
         "type": "Collection",
         "up42-product:data_type": "raster",
         "up42-product:modality": "multispectral",
         "up42-system:account_id": "3c86279b-610a-4dba-ad12-abe3bdc51428",
         "up42-system:asset_id": "ee3029bc-c89f-4ff0-b23d-2c5c885d37ec",
         "up42-system:metadata_version": "0.0.5",
         "up42-system:workspace_id": "a917e589-1187-402f-8bf8-38937d6fe713"
        }
       ],
       "links": [
        {
         "href": "https://api.up42.com/v2/assets/stac/",
         "rel": "root",
         "type": "application/json"
        },
        {
         "href": "https://api.up42.com/v2/assets/stac/",
         "rel": "parent",
         "type": "application/json"
        },
        {
         "href": "https://api.up42.com/v2/assets/stac/collections",
         "rel": "self",
         "type": "application/json"
        },
        {
         "href": "https://api.up42.com/v2/assets/stac/collections?token=next:ab984c55-d07b-4aac-992d-44243a77c55c",
         "method": "GET",
         "rel": "next",
         "type": "application/json"
        }
       ]
      },
      "text/plain": [
       "<IPython.core.display.JSON object>"
      ]
     },
     "execution_count": 6,
     "metadata": {
      "application/json": {
       "expanded": false,
       "root": "root"
      }
     },
     "output_type": "execute_result"
    }
   ],
   "source": [
    "first_collection = httpx.get(up42_asset_stac_url(\"/collections\"), auth=client_auth).json()\n",
    "ppjson(first_collection)"
   ]
  },
  {
   "cell_type": "markdown",
   "id": "97b2a454-db2e-4227-a85c-9e2f3ba8537f",
   "metadata": {},
   "source": [
    "Each collection represents a set of assets. These assets can be\n",
    "multiple, e.g., a triple of images for a tri-stereo optical satellite\n",
    "acquisition. The list of collections is **paginated**, by default **10**\n",
    "items are returned and we get a link with the `next` relationship\n",
    "attribute that tells us how to get the next page of items. In this case:"
   ]
  },
  {
   "cell_type": "code",
   "execution_count": 7,
   "id": "c01cd63d-f93a-405c-9b8e-207914b41fb1",
   "metadata": {},
   "outputs": [
    {
     "data": {
      "text/plain": [
       "'https://api.up42.com/v2/assets/stac/collections?token=next:ab984c55-d07b-4aac-992d-44243a77c55c'"
      ]
     },
     "execution_count": 7,
     "metadata": {},
     "output_type": "execute_result"
    }
   ],
   "source": [
    "next(filter(lambda e: e.get(\"rel\") == \"next\", first_collection[\"links\"])).get(\"href\")"
   ]
  },
  {
   "cell_type": "markdown",
   "id": "8a1e12fb-31e3-43cd-8c16-fb2209532def",
   "metadata": {},
   "source": [
    "But what if we want to have more than 10 items? Is there a way to do it?\n",
    "\n",
    "The answer is yes. In fact there is a query parameter `limit` that has a\n",
    "default value of 10 that we can set. Let’s ask for the first 20\n",
    "collections."
   ]
  },
  {
   "cell_type": "code",
   "execution_count": 8,
   "id": "2c4ec405-8211-439f-8eb4-dc1207429021",
   "metadata": {},
   "outputs": [
    {
     "data": {
      "application/json": {
       "collections": [
        {
         "assets": {},
         "description": "High-resolution 1.5m SPOT images acquired daily on a global basis. The datasets are available starting from 2012.",
         "extent": {
          "spatial": {
           "bbox": [
            [
             13.351,
             52.523611111111,
             13.35725000005,
             52.526763888914
            ]
           ]
          },
          "temporal": {
           "interval": [
            [
             "2021-05-31T09:51:52.100000Z",
             "2021-05-31T09:51:52.100000Z"
            ]
           ]
          }
         },
         "id": "0c6a851f-9780-488b-ae79-47fa5c7eab68",
         "keywords": [
          "Airbus",
          "SPOT"
         ],
         "license": "proprietary",
         "links": [
          {
           "href": "https://api.up42.com/v2/assets/stac/collections/0c6a851f-9780-488b-ae79-47fa5c7eab68",
           "rel": "self",
           "type": "application/json"
          },
          {
           "href": "https://api.up42.com/v2/assets/stac/",
           "rel": "parent",
           "type": "application/json"
          },
          {
           "href": "https://api.up42.com/v2/assets/stac/collections/0c6a851f-9780-488b-ae79-47fa5c7eab68/items",
           "rel": "items",
           "type": "application/geo+json"
          },
          {
           "href": "https://api.up42.com/v2/assets/stac/",
           "rel": "root",
           "type": "application/json"
          }
         ],
         "providers": [
          {
           "name": "AIRBUS DS GEO",
           "roles": [
            "producer"
           ],
           "url": "http://www.geo-airbusds.com/"
          },
          {
           "name": "AIRBUS DS GEO",
           "roles": [
            "processor"
           ],
           "url": "http://www.geo-airbusds.com/"
          }
         ],
         "stac_extensions": [
          "https://api.up42.com/stac-extensions/up42-system/v1.0.0/schema.json",
          "https://api.up42.com/stac-extensions/up42-product/v1.0.0/schema.json"
         ],
         "stac_version": "1.0.0",
         "summaries": {},
         "title": "ORT_SPOT7_20210531_095152300_000",
         "type": "Collection",
         "up42-product:data_type": "raster",
         "up42-product:modality": "multispectral",
         "up42-system:account_id": "3c86279b-610a-4dba-ad12-abe3bdc51428",
         "up42-system:asset_id": "048c8a94-eaaf-47fa-9789-b5b930404ddf",
         "up42-system:metadata_version": "0.0.5",
         "up42-system:workspace_id": "8710989c-fe75-46d8-9cbe-49e54bf70350"
        },
        {
         "assets": {},
         "description": "Very high-resolution 30cm Pleiades Neo images acquired bidaily on a global basis. The datasets are available starting from November 2021.",
         "extent": {
          "spatial": {
           "bbox": [
            [
             54.31793246860514,
             17.019094292371896,
             54.45325584020295,
             17.088556590348343
            ]
           ]
          },
          "temporal": {
           "interval": [
            [
             "2023-04-07T06:56:15Z",
             "2023-04-07T06:56:15Z"
            ]
           ]
          }
         },
         "id": "4ecf5965-3fa0-4e9b-a822-ad74a5dd18a4",
         "keywords": [
          "Airbus",
          "PléiadesNeo"
         ],
         "license": "proprietary",
         "links": [
          {
           "href": "https://api.up42.com/v2/assets/stac/collections/4ecf5965-3fa0-4e9b-a822-ad74a5dd18a4",
           "rel": "self",
           "type": "application/json"
          },
          {
           "href": "https://api.up42.com/v2/assets/stac/",
           "rel": "parent",
           "type": "application/json"
          },
          {
           "href": "https://api.up42.com/v2/assets/stac/collections/4ecf5965-3fa0-4e9b-a822-ad74a5dd18a4/items",
           "rel": "items",
           "type": "application/geo+json"
          },
          {
           "href": "https://api.up42.com/v2/assets/stac/",
           "rel": "root",
           "type": "application/json"
          }
         ],
         "providers": [
          {
           "name": "AIRBUS DS GEO",
           "roles": [
            "producer"
           ],
           "url": "http://www.geo-airbusds.com/"
          },
          {
           "name": "AIRBUS DS GEO",
           "roles": [
            "processor"
           ],
           "url": "http://www.geo-airbusds.com/"
          }
         ],
         "stac_extensions": [
          "https://api.up42.com/stac-extensions/up42-product/v1.0.0/schema.json",
          "https://api.up42.com/stac-extensions/up42-system/v1.0.0/schema.json",
          "https://api.up42.com/stac-extensions/up42-order/v1.0.0/schema.json"
         ],
         "stac_version": "1.0.0",
         "summaries": {},
         "title": "PNEO4_202304070656155_PAN_SEN",
         "type": "Collection",
         "up42-order:id": "d7574551-aa40-4214-8c38-d1741a983192",
         "up42-order:status": "BEING_FULFILLED",
         "up42-product:collection_name": "pneo-tasking",
         "up42-product:data_type": "raster",
         "up42-product:modality": "multispectral",
         "up42-product:product_id": "07c33a51-94b9-4509-84df-e9c13ea92b84",
         "up42-system:account_id": "3c86279b-610a-4dba-ad12-abe3bdc51428",
         "up42-system:asset_id": "405527cf-1a7e-428f-85d0-8f19cfdb0d5b",
         "up42-system:metadata_version": "0.0.5",
         "up42-system:source": "TASKING",
         "up42-system:workspace_id": "313ba781-8aee-4585-b045-77eafa1fb592"
        },
        {
         "assets": {},
         "description": "Very high-resolution 30cm Pleiades Neo images acquired bidaily on a global basis. The datasets are available starting from November 2021.",
         "extent": {
          "spatial": {
           "bbox": [
            [
             54.205398908250345,
             17.01098855638842,
             54.34225242252421,
             17.136973752039395
            ]
           ]
          },
          "temporal": {
           "interval": [
            [
             "2023-03-15T07:03:47Z",
             "2023-03-15T07:03:47Z"
            ]
           ]
          }
         },
         "id": "f9ab4697-8bd4-4284-870c-58472a31f909",
         "keywords": [
          "Airbus",
          "PléiadesNeo"
         ],
         "license": "proprietary",
         "links": [
          {
           "href": "https://api.up42.com/v2/assets/stac/collections/f9ab4697-8bd4-4284-870c-58472a31f909",
           "rel": "self",
           "type": "application/json"
          },
          {
           "href": "https://api.up42.com/v2/assets/stac/",
           "rel": "parent",
           "type": "application/json"
          },
          {
           "href": "https://api.up42.com/v2/assets/stac/collections/f9ab4697-8bd4-4284-870c-58472a31f909/items",
           "rel": "items",
           "type": "application/geo+json"
          },
          {
           "href": "https://api.up42.com/v2/assets/stac/",
           "rel": "root",
           "type": "application/json"
          }
         ],
         "providers": [
          {
           "name": "AIRBUS DS GEO",
           "roles": [
            "producer"
           ],
           "url": "http://www.geo-airbusds.com/"
          },
          {
           "name": "AIRBUS DS GEO",
           "roles": [
            "processor"
           ],
           "url": "http://www.geo-airbusds.com/"
          }
         ],
         "stac_extensions": [
          "https://api.up42.com/stac-extensions/up42-system/v1.0.0/schema.json",
          "https://api.up42.com/stac-extensions/up42-order/v1.0.0/schema.json",
          "https://api.up42.com/stac-extensions/up42-product/v1.0.0/schema.json"
         ],
         "stac_version": "1.0.0",
         "summaries": {},
         "title": "PNEO3_202303150703480_PAN_SEN",
         "type": "Collection",
         "up42-order:id": "d7574551-aa40-4214-8c38-d1741a983192",
         "up42-order:status": "BEING_FULFILLED",
         "up42-product:collection_name": "pneo-tasking",
         "up42-product:data_type": "raster",
         "up42-product:modality": "multispectral",
         "up42-product:product_id": "07c33a51-94b9-4509-84df-e9c13ea92b84",
         "up42-system:account_id": "3c86279b-610a-4dba-ad12-abe3bdc51428",
         "up42-system:asset_id": "7652f727-c071-4f06-a8d2-31ee15681403",
         "up42-system:metadata_version": "0.0.5",
         "up42-system:source": "TASKING",
         "up42-system:workspace_id": "313ba781-8aee-4585-b045-77eafa1fb592"
        },
        {
         "assets": {},
         "description": "Very high-resolution 30cm Pleiades Neo images acquired bidaily on a global basis. The datasets are available starting from November 2021.",
         "extent": {
          "spatial": {
           "bbox": [
            [
             54.09102449711633,
             16.9951895173228,
             54.22532839880994,
             17.156656996877444
            ]
           ]
          },
          "temporal": {
           "interval": [
            [
             "2023-04-10T07:03:40.400000Z",
             "2023-04-10T07:03:40.400000Z"
            ]
           ]
          }
         },
         "id": "772816ae-be60-4e89-b35a-0b7ec1d8db82",
         "keywords": [
          "Airbus",
          "PléiadesNeo"
         ],
         "license": "proprietary",
         "links": [
          {
           "href": "https://api.up42.com/v2/assets/stac/collections/772816ae-be60-4e89-b35a-0b7ec1d8db82",
           "rel": "self",
           "type": "application/json"
          },
          {
           "href": "https://api.up42.com/v2/assets/stac/",
           "rel": "parent",
           "type": "application/json"
          },
          {
           "href": "https://api.up42.com/v2/assets/stac/collections/772816ae-be60-4e89-b35a-0b7ec1d8db82/items",
           "rel": "items",
           "type": "application/geo+json"
          },
          {
           "href": "https://api.up42.com/v2/assets/stac/",
           "rel": "root",
           "type": "application/json"
          }
         ],
         "providers": [
          {
           "name": "AIRBUS DS GEO",
           "roles": [
            "producer"
           ],
           "url": "http://www.geo-airbusds.com/"
          },
          {
           "name": "AIRBUS DS GEO",
           "roles": [
            "processor"
           ],
           "url": "http://www.geo-airbusds.com/"
          }
         ],
         "stac_extensions": [
          "https://api.up42.com/stac-extensions/up42-system/v1.0.0/schema.json",
          "https://api.up42.com/stac-extensions/up42-order/v1.0.0/schema.json",
          "https://api.up42.com/stac-extensions/up42-product/v1.0.0/schema.json"
         ],
         "stac_version": "1.0.0",
         "summaries": {},
         "title": "PNEO3_202304100703416_PAN_SEN",
         "type": "Collection",
         "up42-order:id": "d7574551-aa40-4214-8c38-d1741a983192",
         "up42-order:status": "BEING_FULFILLED",
         "up42-product:collection_name": "pneo-tasking",
         "up42-product:data_type": "raster",
         "up42-product:modality": "multispectral",
         "up42-product:product_id": "07c33a51-94b9-4509-84df-e9c13ea92b84",
         "up42-system:account_id": "3c86279b-610a-4dba-ad12-abe3bdc51428",
         "up42-system:asset_id": "d20acd73-4327-47b8-95ad-e5628f4376ff",
         "up42-system:metadata_version": "0.0.5",
         "up42-system:source": "TASKING",
         "up42-system:workspace_id": "313ba781-8aee-4585-b045-77eafa1fb592"
        },
        {
         "assets": {},
         "description": "Very high-resolution 30cm Pleiades Neo images acquired bidaily on a global basis. The datasets are available starting from November 2021.",
         "extent": {
          "spatial": {
           "bbox": [
            [
             -9.423687389795216,
             38.69123683111964,
             -9.415284316365145,
             38.69608402308488
            ]
           ]
          },
          "temporal": {
           "interval": [
            [
             "2023-01-27T11:45:45.200000Z",
             "2023-01-27T11:45:45.200000Z"
            ]
           ]
          }
         },
         "id": "36a2cd2f-e4d9-49b5-897c-4cda35dcdbef",
         "keywords": [
          "Airbus",
          "PléiadesNeo"
         ],
         "license": "proprietary",
         "links": [
          {
           "href": "https://api.up42.com/v2/assets/stac/collections/36a2cd2f-e4d9-49b5-897c-4cda35dcdbef",
           "rel": "self",
           "type": "application/json"
          },
          {
           "href": "https://api.up42.com/v2/assets/stac/",
           "rel": "parent",
           "type": "application/json"
          },
          {
           "href": "https://api.up42.com/v2/assets/stac/collections/36a2cd2f-e4d9-49b5-897c-4cda35dcdbef/items",
           "rel": "items",
           "type": "application/geo+json"
          },
          {
           "href": "https://api.up42.com/v2/assets/stac/",
           "rel": "root",
           "type": "application/json"
          }
         ],
         "providers": [
          {
           "name": "AIRBUS DS GEO",
           "roles": [
            "producer"
           ],
           "url": "http://www.geo-airbusds.com/"
          },
          {
           "name": "AIRBUS DS GEO",
           "roles": [
            "processor"
           ],
           "url": "http://www.geo-airbusds.com/"
          }
         ],
         "stac_extensions": [
          "https://api.up42.com/stac-extensions/up42-product/v1.0.0/schema.json",
          "https://api.up42.com/stac-extensions/up42-system/v1.0.0/schema.json",
          "https://api.up42.com/stac-extensions/up42-order/v1.0.0/schema.json"
         ],
         "stac_version": "1.0.0",
         "summaries": {},
         "title": "PNEO3_202301271145452_PMS-FS_ORT",
         "type": "Collection",
         "up42-order:host_id": "390bbfcc-4066-4853-bacc-f6e6c4f35bd5",
         "up42-order:id": "53b9a6c5-5707-47a3-8bbc-d23d3f38d2ed",
         "up42-order:status": "FULFILLED",
         "up42-product:collection_name": "pneo",
         "up42-product:data_type": "raster",
         "up42-product:modality": "multispectral",
         "up42-product:product_id": "17745de8-6e7d-4751-99cd-3f8e9e9d290e",
         "up42-system:account_id": "3c86279b-610a-4dba-ad12-abe3bdc51428",
         "up42-system:asset_id": "519917e7-d6a0-467d-8128-26577710ce8b",
         "up42-system:metadata_version": "0.0.5",
         "up42-system:source": "ARCHIVE",
         "up42-system:workspace_id": "d39fe05a-400c-44f6-b770-86990f64b004"
        },
        {
         "assets": {},
         "description": "High-resolution 1.5m SPOT images acquired daily on a global basis. The datasets are available starting from 2012.",
         "extent": {
          "spatial": {
           "bbox": [
            [
             13.309,
             52.408055555556,
             13.328888889048,
             52.422486111227
            ]
           ]
          },
          "temporal": {
           "interval": [
            [
             "2022-06-24T09:59:07.500000Z",
             "2022-06-24T09:59:07.500000Z"
            ]
           ]
          }
         },
         "id": "b2c38fed-194a-40a1-8e41-8da3b12b3afe",
         "keywords": [
          "Airbus",
          "SPOT"
         ],
         "license": "proprietary",
         "links": [
          {
           "href": "https://api.up42.com/v2/assets/stac/collections/b2c38fed-194a-40a1-8e41-8da3b12b3afe",
           "rel": "self",
           "type": "application/json"
          },
          {
           "href": "https://api.up42.com/v2/assets/stac/",
           "rel": "parent",
           "type": "application/json"
          },
          {
           "href": "https://api.up42.com/v2/assets/stac/collections/b2c38fed-194a-40a1-8e41-8da3b12b3afe/items",
           "rel": "items",
           "type": "application/geo+json"
          },
          {
           "href": "https://api.up42.com/v2/assets/stac/",
           "rel": "root",
           "type": "application/json"
          }
         ],
         "providers": [
          {
           "name": "AIRBUS DS GEO",
           "roles": [
            "producer"
           ],
           "url": "http://www.geo-airbusds.com/"
          },
          {
           "name": "AIRBUS DS GEO",
           "roles": [
            "processor"
           ],
           "url": "http://www.geo-airbusds.com/"
          }
         ],
         "stac_extensions": [
          "https://api.up42.com/stac-extensions/up42-product/v1.0.0/schema.json",
          "https://api.up42.com/stac-extensions/up42-system/v1.0.0/schema.json"
         ],
         "stac_version": "1.0.0",
         "summaries": {},
         "title": "ORT_SPOT6_20220624_095907600_000",
         "type": "Collection",
         "up42-product:data_type": "raster",
         "up42-product:modality": "multispectral",
         "up42-system:account_id": "3c86279b-610a-4dba-ad12-abe3bdc51428",
         "up42-system:asset_id": "50350687-93d5-4367-ae89-1daaa09dce17",
         "up42-system:metadata_version": "0.0.5",
         "up42-system:workspace_id": "a917e589-1187-402f-8bf8-38937d6fe713"
        },
        {
         "assets": {},
         "description": "High-resolution 1.5m SPOT images acquired daily on a global basis. The datasets are available starting from 2012.",
         "extent": {
          "spatial": {
           "bbox": [
            [
             13.3745,
             52.50025,
             13.381361111166,
             52.504333333366
            ]
           ]
          },
          "temporal": {
           "interval": [
            [
             "2021-05-31T09:51:52.100000Z",
             "2021-05-31T09:51:52.100000Z"
            ]
           ]
          }
         },
         "id": "1486698e-280e-4b3b-bf9f-078ba402711a",
         "keywords": [
          "Airbus",
          "SPOT"
         ],
         "license": "proprietary",
         "links": [
          {
           "href": "https://api.up42.com/v2/assets/stac/collections/1486698e-280e-4b3b-bf9f-078ba402711a",
           "rel": "self",
           "type": "application/json"
          },
          {
           "href": "https://api.up42.com/v2/assets/stac/",
           "rel": "parent",
           "type": "application/json"
          },
          {
           "href": "https://api.up42.com/v2/assets/stac/collections/1486698e-280e-4b3b-bf9f-078ba402711a/items",
           "rel": "items",
           "type": "application/geo+json"
          },
          {
           "href": "https://api.up42.com/v2/assets/stac/",
           "rel": "root",
           "type": "application/json"
          }
         ],
         "providers": [
          {
           "name": "AIRBUS DS GEO",
           "roles": [
            "producer"
           ],
           "url": "http://www.geo-airbusds.com/"
          },
          {
           "name": "AIRBUS DS GEO",
           "roles": [
            "processor"
           ],
           "url": "http://www.geo-airbusds.com/"
          }
         ],
         "stac_extensions": [
          "https://api.up42.com/stac-extensions/up42-product/v1.0.0/schema.json",
          "https://api.up42.com/stac-extensions/up42-system/v1.0.0/schema.json"
         ],
         "stac_version": "1.0.0",
         "summaries": {},
         "title": "ORT_SPOT7_20210531_095152300_000",
         "type": "Collection",
         "up42-product:data_type": "raster",
         "up42-product:modality": "multispectral",
         "up42-system:account_id": "3c86279b-610a-4dba-ad12-abe3bdc51428",
         "up42-system:asset_id": "10d5e67a-5318-4737-b7b7-c5cfdaf51891",
         "up42-system:metadata_version": "0.0.5",
         "up42-system:workspace_id": "a917e589-1187-402f-8bf8-38937d6fe713"
        },
        {
         "assets": {},
         "description": "High-resolution 1.5m SPOT images acquired daily on a global basis. The datasets are available starting from 2012.",
         "extent": {
          "spatial": {
           "bbox": [
            [
             13.309,
             52.408055555556,
             13.328888889048,
             52.422486111227
            ]
           ]
          },
          "temporal": {
           "interval": [
            [
             "2022-06-24T09:59:07.500000Z",
             "2022-06-24T09:59:07.500000Z"
            ]
           ]
          }
         },
         "id": "fc3f8148-abcb-45d5-81be-4ca14e41de81",
         "keywords": [
          "Airbus",
          "SPOT"
         ],
         "license": "proprietary",
         "links": [
          {
           "href": "https://api.up42.com/v2/assets/stac/collections/fc3f8148-abcb-45d5-81be-4ca14e41de81",
           "rel": "self",
           "type": "application/json"
          },
          {
           "href": "https://api.up42.com/v2/assets/stac/",
           "rel": "parent",
           "type": "application/json"
          },
          {
           "href": "https://api.up42.com/v2/assets/stac/collections/fc3f8148-abcb-45d5-81be-4ca14e41de81/items",
           "rel": "items",
           "type": "application/geo+json"
          },
          {
           "href": "https://api.up42.com/v2/assets/stac/",
           "rel": "root",
           "type": "application/json"
          }
         ],
         "providers": [
          {
           "name": "AIRBUS DS GEO",
           "roles": [
            "producer"
           ],
           "url": "http://www.geo-airbusds.com/"
          },
          {
           "name": "AIRBUS DS GEO",
           "roles": [
            "processor"
           ],
           "url": "http://www.geo-airbusds.com/"
          }
         ],
         "stac_extensions": [
          "https://api.up42.com/stac-extensions/up42-system/v1.0.0/schema.json",
          "https://api.up42.com/stac-extensions/up42-product/v1.0.0/schema.json"
         ],
         "stac_version": "1.0.0",
         "summaries": {},
         "title": "ORT_SPOT6_20220624_095907600_000",
         "type": "Collection",
         "up42-product:data_type": "raster",
         "up42-product:modality": "multispectral",
         "up42-system:account_id": "3c86279b-610a-4dba-ad12-abe3bdc51428",
         "up42-system:asset_id": "9000a83c-23cf-4b78-b3e9-000fd6066662",
         "up42-system:metadata_version": "0.0.5",
         "up42-system:workspace_id": "a917e589-1187-402f-8bf8-38937d6fe713"
        },
        {
         "assets": {},
         "description": "High-resolution 1.5m SPOT images acquired daily on a global basis. The datasets are available starting from 2012.",
         "extent": {
          "spatial": {
           "bbox": [
            [
             13.3745,
             52.50025,
             13.381361111166,
             52.504333333366
            ]
           ]
          },
          "temporal": {
           "interval": [
            [
             "2021-05-31T09:51:52.100000Z",
             "2021-05-31T09:51:52.100000Z"
            ]
           ]
          }
         },
         "id": "51b98bba-3825-43f7-922e-60b8d93cd969",
         "keywords": [
          "Airbus",
          "SPOT"
         ],
         "license": "proprietary",
         "links": [
          {
           "href": "https://api.up42.com/v2/assets/stac/collections/51b98bba-3825-43f7-922e-60b8d93cd969",
           "rel": "self",
           "type": "application/json"
          },
          {
           "href": "https://api.up42.com/v2/assets/stac/",
           "rel": "parent",
           "type": "application/json"
          },
          {
           "href": "https://api.up42.com/v2/assets/stac/collections/51b98bba-3825-43f7-922e-60b8d93cd969/items",
           "rel": "items",
           "type": "application/geo+json"
          },
          {
           "href": "https://api.up42.com/v2/assets/stac/",
           "rel": "root",
           "type": "application/json"
          }
         ],
         "providers": [
          {
           "name": "AIRBUS DS GEO",
           "roles": [
            "producer"
           ],
           "url": "http://www.geo-airbusds.com/"
          },
          {
           "name": "AIRBUS DS GEO",
           "roles": [
            "processor"
           ],
           "url": "http://www.geo-airbusds.com/"
          }
         ],
         "stac_extensions": [
          "https://api.up42.com/stac-extensions/up42-system/v1.0.0/schema.json",
          "https://api.up42.com/stac-extensions/up42-product/v1.0.0/schema.json"
         ],
         "stac_version": "1.0.0",
         "summaries": {},
         "title": "ORT_SPOT7_20210531_095152300_000",
         "type": "Collection",
         "up42-product:data_type": "raster",
         "up42-product:modality": "multispectral",
         "up42-system:account_id": "3c86279b-610a-4dba-ad12-abe3bdc51428",
         "up42-system:asset_id": "2cce84e6-e9d5-4485-a4b2-66deed4ea557",
         "up42-system:metadata_version": "0.0.5",
         "up42-system:workspace_id": "a917e589-1187-402f-8bf8-38937d6fe713"
        },
        {
         "assets": {},
         "description": "High-resolution 1.5m SPOT images acquired daily on a global basis. The datasets are available starting from 2012.",
         "extent": {
          "spatial": {
           "bbox": [
            [
             13.309,
             52.408055555556,
             13.328888889048,
             52.422486111227
            ]
           ]
          },
          "temporal": {
           "interval": [
            [
             "2022-06-24T09:59:07.500000Z",
             "2022-06-24T09:59:07.500000Z"
            ]
           ]
          }
         },
         "id": "ab984c55-d07b-4aac-992d-44243a77c55c",
         "keywords": [
          "Airbus",
          "SPOT"
         ],
         "license": "proprietary",
         "links": [
          {
           "href": "https://api.up42.com/v2/assets/stac/collections/ab984c55-d07b-4aac-992d-44243a77c55c",
           "rel": "self",
           "type": "application/json"
          },
          {
           "href": "https://api.up42.com/v2/assets/stac/",
           "rel": "parent",
           "type": "application/json"
          },
          {
           "href": "https://api.up42.com/v2/assets/stac/collections/ab984c55-d07b-4aac-992d-44243a77c55c/items",
           "rel": "items",
           "type": "application/geo+json"
          },
          {
           "href": "https://api.up42.com/v2/assets/stac/",
           "rel": "root",
           "type": "application/json"
          }
         ],
         "providers": [
          {
           "name": "AIRBUS DS GEO",
           "roles": [
            "producer"
           ],
           "url": "http://www.geo-airbusds.com/"
          },
          {
           "name": "AIRBUS DS GEO",
           "roles": [
            "processor"
           ],
           "url": "http://www.geo-airbusds.com/"
          }
         ],
         "stac_extensions": [
          "https://api.up42.com/stac-extensions/up42-product/v1.0.0/schema.json",
          "https://api.up42.com/stac-extensions/up42-system/v1.0.0/schema.json"
         ],
         "stac_version": "1.0.0",
         "summaries": {},
         "title": "ORT_SPOT6_20220624_095907600_000",
         "type": "Collection",
         "up42-product:data_type": "raster",
         "up42-product:modality": "multispectral",
         "up42-system:account_id": "3c86279b-610a-4dba-ad12-abe3bdc51428",
         "up42-system:asset_id": "ee3029bc-c89f-4ff0-b23d-2c5c885d37ec",
         "up42-system:metadata_version": "0.0.5",
         "up42-system:workspace_id": "a917e589-1187-402f-8bf8-38937d6fe713"
        },
        {
         "assets": {},
         "description": "High-resolution 1.5m SPOT images acquired daily on a global basis. The datasets are available starting from 2012.",
         "extent": {
          "spatial": {
           "bbox": [
            [
             13.309,
             52.408055555556,
             13.328888889048,
             52.422486111227
            ]
           ]
          },
          "temporal": {
           "interval": [
            [
             "2022-06-24T09:59:07.500000Z",
             "2022-06-24T09:59:07.500000Z"
            ]
           ]
          }
         },
         "id": "8bf93a31-ee07-42b6-a0f3-0ddb35e6e1a9",
         "keywords": [
          "Airbus",
          "SPOT"
         ],
         "license": "proprietary",
         "links": [
          {
           "href": "https://api.up42.com/v2/assets/stac/collections/8bf93a31-ee07-42b6-a0f3-0ddb35e6e1a9",
           "rel": "self",
           "type": "application/json"
          },
          {
           "href": "https://api.up42.com/v2/assets/stac/",
           "rel": "parent",
           "type": "application/json"
          },
          {
           "href": "https://api.up42.com/v2/assets/stac/collections/8bf93a31-ee07-42b6-a0f3-0ddb35e6e1a9/items",
           "rel": "items",
           "type": "application/geo+json"
          },
          {
           "href": "https://api.up42.com/v2/assets/stac/",
           "rel": "root",
           "type": "application/json"
          }
         ],
         "providers": [
          {
           "name": "AIRBUS DS GEO",
           "roles": [
            "producer"
           ],
           "url": "http://www.geo-airbusds.com/"
          },
          {
           "name": "AIRBUS DS GEO",
           "roles": [
            "processor"
           ],
           "url": "http://www.geo-airbusds.com/"
          }
         ],
         "stac_extensions": [
          "https://api.up42.com/stac-extensions/up42-system/v1.0.0/schema.json",
          "https://api.up42.com/stac-extensions/up42-product/v1.0.0/schema.json"
         ],
         "stac_version": "1.0.0",
         "summaries": {},
         "title": "ORT_SPOT6_20220624_095907600_000",
         "type": "Collection",
         "up42-product:data_type": "raster",
         "up42-product:modality": "multispectral",
         "up42-system:account_id": "3c86279b-610a-4dba-ad12-abe3bdc51428",
         "up42-system:asset_id": "336fc6e2-f939-4b67-9f93-cd809c59fdd1",
         "up42-system:metadata_version": "0.0.5",
         "up42-system:workspace_id": "a917e589-1187-402f-8bf8-38937d6fe713"
        },
        {
         "assets": {},
         "description": "High-resolution 1.5m SPOT images acquired daily on a global basis. The datasets are available starting from 2012.",
         "extent": {
          "spatial": {
           "bbox": [
            [
             13.351,
             52.523611111111,
             13.35725000005,
             52.526763888914
            ]
           ]
          },
          "temporal": {
           "interval": [
            [
             "2021-05-31T09:51:52.100000Z",
             "2021-05-31T09:51:52.100000Z"
            ]
           ]
          }
         },
         "id": "6ac91ecc-2a54-4113-91da-cd4f1ff3495f",
         "keywords": [
          "Airbus",
          "SPOT"
         ],
         "license": "proprietary",
         "links": [
          {
           "href": "https://api.up42.com/v2/assets/stac/collections/6ac91ecc-2a54-4113-91da-cd4f1ff3495f",
           "rel": "self",
           "type": "application/json"
          },
          {
           "href": "https://api.up42.com/v2/assets/stac/",
           "rel": "parent",
           "type": "application/json"
          },
          {
           "href": "https://api.up42.com/v2/assets/stac/collections/6ac91ecc-2a54-4113-91da-cd4f1ff3495f/items",
           "rel": "items",
           "type": "application/geo+json"
          },
          {
           "href": "https://api.up42.com/v2/assets/stac/",
           "rel": "root",
           "type": "application/json"
          }
         ],
         "providers": [
          {
           "name": "AIRBUS DS GEO",
           "roles": [
            "producer"
           ],
           "url": "http://www.geo-airbusds.com/"
          },
          {
           "name": "AIRBUS DS GEO",
           "roles": [
            "processor"
           ],
           "url": "http://www.geo-airbusds.com/"
          }
         ],
         "stac_extensions": [
          "https://api.up42.com/stac-extensions/up42-system/v1.0.0/schema.json",
          "https://api.up42.com/stac-extensions/up42-product/v1.0.0/schema.json"
         ],
         "stac_version": "1.0.0",
         "summaries": {},
         "title": "ORT_SPOT7_20210531_095152300_000",
         "type": "Collection",
         "up42-product:data_type": "raster",
         "up42-product:modality": "multispectral",
         "up42-system:account_id": "3c86279b-610a-4dba-ad12-abe3bdc51428",
         "up42-system:asset_id": "d3020318-18e3-40ac-9d69-313c69d105b4",
         "up42-system:metadata_version": "0.0.5",
         "up42-system:workspace_id": "8710989c-fe75-46d8-9cbe-49e54bf70350"
        },
        {
         "assets": {},
         "description": "High-resolution 1.5m SPOT images acquired daily on a global basis. The datasets are available starting from 2012.",
         "extent": {
          "spatial": {
           "bbox": [
            [
             -83.52355016590174,
             35.5733113658621,
             -83.49817564416058,
             35.59282425847006
            ]
           ]
          },
          "temporal": {
           "interval": [
            [
             "2023-02-19T15:56:36.400000Z",
             "2023-02-19T15:56:36.400000Z"
            ]
           ]
          }
         },
         "id": "a78f6336-125a-4911-b28a-59dad82ce4c4",
         "keywords": [
          "Airbus",
          "SPOT"
         ],
         "license": "proprietary",
         "links": [
          {
           "href": "https://api.up42.com/v2/assets/stac/collections/a78f6336-125a-4911-b28a-59dad82ce4c4",
           "rel": "self",
           "type": "application/json"
          },
          {
           "href": "https://api.up42.com/v2/assets/stac/",
           "rel": "parent",
           "type": "application/json"
          },
          {
           "href": "https://api.up42.com/v2/assets/stac/collections/a78f6336-125a-4911-b28a-59dad82ce4c4/items",
           "rel": "items",
           "type": "application/geo+json"
          },
          {
           "href": "https://api.up42.com/v2/assets/stac/",
           "rel": "root",
           "type": "application/json"
          }
         ],
         "providers": [
          {
           "name": "AIRBUS DS GEO",
           "roles": [
            "producer"
           ],
           "url": "http://www.geo-airbusds.com/"
          },
          {
           "name": "AIRBUS DS GEO",
           "roles": [
            "processor"
           ],
           "url": "http://www.geo-airbusds.com/"
          }
         ],
         "stac_extensions": [
          "https://api.up42.com/stac-extensions/up42-system/v1.0.0/schema.json",
          "https://api.up42.com/stac-extensions/up42-order/v1.0.0/schema.json",
          "https://api.up42.com/stac-extensions/up42-product/v1.0.0/schema.json"
         ],
         "stac_version": "1.0.0",
         "summaries": {},
         "title": "ORT_SPOT6_20230219_155642000_000",
         "type": "Collection",
         "up42-order:host_id": "b39779d2-022f-4d75-9979-034edc8e4852",
         "up42-order:id": "ab11b74b-e967-44d9-9ec6-88a2be27ac6a",
         "up42-order:status": "FULFILLED",
         "up42-product:collection_name": "spot",
         "up42-product:data_type": "raster",
         "up42-product:modality": "multispectral",
         "up42-product:product_id": "b1f8c48e-d16b-44c4-a1bb-5e8a24892e69",
         "up42-system:account_id": "3c86279b-610a-4dba-ad12-abe3bdc51428",
         "up42-system:asset_id": "76d9059d-1254-425b-a7f9-de89c9a8374d",
         "up42-system:metadata_version": "0.0.5",
         "up42-system:source": "ARCHIVE",
         "up42-system:workspace_id": "6b085587-9e16-43ad-8a7a-215a01b4c350"
        },
        {
         "assets": {},
         "description": "High-resolution 1.5m SPOT images acquired daily on a global basis. The datasets are available starting from 2012.",
         "extent": {
          "spatial": {
           "bbox": [
            [
             -46.26076445028713,
             -23.38782949896065,
             -46.24418247453778,
             -23.376741862033033
            ]
           ]
          },
          "temporal": {
           "interval": [
            [
             "2022-10-26T12:46:51Z",
             "2022-10-26T12:46:51Z"
            ]
           ]
          }
         },
         "id": "4eb8a146-69cf-4c68-8af8-3f17beec7748",
         "keywords": [
          "Airbus",
          "SPOT"
         ],
         "license": "proprietary",
         "links": [
          {
           "href": "https://api.up42.com/v2/assets/stac/collections/4eb8a146-69cf-4c68-8af8-3f17beec7748",
           "rel": "self",
           "type": "application/json"
          },
          {
           "href": "https://api.up42.com/v2/assets/stac/",
           "rel": "parent",
           "type": "application/json"
          },
          {
           "href": "https://api.up42.com/v2/assets/stac/collections/4eb8a146-69cf-4c68-8af8-3f17beec7748/items",
           "rel": "items",
           "type": "application/geo+json"
          },
          {
           "href": "https://api.up42.com/v2/assets/stac/",
           "rel": "root",
           "type": "application/json"
          }
         ],
         "providers": [
          {
           "name": "AIRBUS DS GEO",
           "roles": [
            "producer"
           ],
           "url": "http://www.geo-airbusds.com/"
          },
          {
           "name": "AIRBUS DS GEO",
           "roles": [
            "processor"
           ],
           "url": "http://www.geo-airbusds.com/"
          }
         ],
         "stac_extensions": [
          "https://api.up42.com/stac-extensions/up42-system/v1.0.0/schema.json",
          "https://api.up42.com/stac-extensions/up42-product/v1.0.0/schema.json",
          "https://api.up42.com/stac-extensions/up42-order/v1.0.0/schema.json"
         ],
         "stac_version": "1.0.0",
         "summaries": {},
         "title": "ORT_SPOT6_20221026_124652400_000",
         "type": "Collection",
         "up42-order:host_id": "580510f5-fadd-4eca-8de4-61e9c38bb28e",
         "up42-order:id": "e1a5e754-b978-4df8-8ccb-65174f5d7833",
         "up42-order:status": "FULFILLED",
         "up42-product:collection_name": "spot",
         "up42-product:data_type": "raster",
         "up42-product:modality": "multispectral",
         "up42-product:product_id": "b1f8c48e-d16b-44c4-a1bb-5e8a24892e69",
         "up42-system:account_id": "3c86279b-610a-4dba-ad12-abe3bdc51428",
         "up42-system:asset_id": "03d0f478-43c0-4fce-8e1b-b7a661823f7f",
         "up42-system:metadata_version": "0.0.5",
         "up42-system:source": "ARCHIVE",
         "up42-system:workspace_id": "9f5e3e64-18e0-4746-a1c4-067dc93bfa57"
        },
        {
         "assets": {},
         "description": "High-resolution 1.5m SPOT images acquired daily on a global basis. The datasets are available starting from 2012.",
         "extent": {
          "spatial": {
           "bbox": [
            [
             13.227002548373273,
             52.49609204030118,
             13.235246575087949,
             52.5004082146848
            ]
           ]
          },
          "temporal": {
           "interval": [
            [
             "2021-05-31T09:51:52.100000Z",
             "2021-05-31T09:51:52.100000Z"
            ]
           ]
          }
         },
         "id": "14adc20c-5663-4f13-a5a7-9350fde67008",
         "keywords": [
          "Airbus",
          "SPOT"
         ],
         "license": "proprietary",
         "links": [
          {
           "href": "https://api.up42.com/v2/assets/stac/collections/14adc20c-5663-4f13-a5a7-9350fde67008",
           "rel": "self",
           "type": "application/json"
          },
          {
           "href": "https://api.up42.com/v2/assets/stac/",
           "rel": "parent",
           "type": "application/json"
          },
          {
           "href": "https://api.up42.com/v2/assets/stac/collections/14adc20c-5663-4f13-a5a7-9350fde67008/items",
           "rel": "items",
           "type": "application/geo+json"
          },
          {
           "href": "https://api.up42.com/v2/assets/stac/",
           "rel": "root",
           "type": "application/json"
          }
         ],
         "providers": [
          {
           "name": "AIRBUS DS GEO",
           "roles": [
            "producer"
           ],
           "url": "http://www.geo-airbusds.com/"
          },
          {
           "name": "AIRBUS DS GEO",
           "roles": [
            "processor"
           ],
           "url": "http://www.geo-airbusds.com/"
          }
         ],
         "stac_extensions": [
          "https://api.up42.com/stac-extensions/up42-system/v1.0.0/schema.json",
          "https://api.up42.com/stac-extensions/up42-product/v1.0.0/schema.json",
          "https://api.up42.com/stac-extensions/up42-order/v1.0.0/schema.json"
         ],
         "stac_version": "1.0.0",
         "summaries": {},
         "title": "ORT_SPOT7_20210531_095152300_000",
         "type": "Collection",
         "up42-order:host_id": "1fcf27f6-45ab-4f03-a6ab-0d423fc7b0b3",
         "up42-order:id": "205754e4-e3e6-4a75-b941-bafc61966990",
         "up42-order:status": "FULFILLED",
         "up42-product:collection_name": "spot",
         "up42-product:data_type": "raster",
         "up42-product:modality": "multispectral",
         "up42-product:product_id": "b1f8c48e-d16b-44c4-a1bb-5e8a24892e69",
         "up42-system:account_id": "3c86279b-610a-4dba-ad12-abe3bdc51428",
         "up42-system:asset_id": "edeb6300-eb9a-4d8e-943d-11a5f3757824",
         "up42-system:metadata_version": "0.0.5",
         "up42-system:source": "ARCHIVE",
         "up42-system:workspace_id": "6b085587-9e16-43ad-8a7a-215a01b4c350"
        },
        {
         "assets": {},
         "description": "High-resolution 1.5m SPOT images acquired daily on a global basis. The datasets are available starting from 2012.",
         "extent": {
          "spatial": {
           "bbox": [
            [
             -46.118142424951515,
             -23.592918133980437,
             -46.114131321394964,
             -23.589217967622364
            ]
           ]
          },
          "temporal": {
           "interval": [
            [
             "2021-08-09T12:53:14.200000Z",
             "2021-08-09T12:53:14.200000Z"
            ]
           ]
          }
         },
         "id": "a65fb699-73aa-4e7f-9f1d-4840449a8374",
         "keywords": [
          "Airbus",
          "SPOT"
         ],
         "license": "proprietary",
         "links": [
          {
           "href": "https://api.up42.com/v2/assets/stac/collections/a65fb699-73aa-4e7f-9f1d-4840449a8374",
           "rel": "self",
           "type": "application/json"
          },
          {
           "href": "https://api.up42.com/v2/assets/stac/",
           "rel": "parent",
           "type": "application/json"
          },
          {
           "href": "https://api.up42.com/v2/assets/stac/collections/a65fb699-73aa-4e7f-9f1d-4840449a8374/items",
           "rel": "items",
           "type": "application/geo+json"
          },
          {
           "href": "https://api.up42.com/v2/assets/stac/",
           "rel": "root",
           "type": "application/json"
          }
         ],
         "providers": [
          {
           "name": "AIRBUS DS GEO",
           "roles": [
            "producer"
           ],
           "url": "http://www.geo-airbusds.com/"
          },
          {
           "name": "AIRBUS DS GEO",
           "roles": [
            "processor"
           ],
           "url": "http://www.geo-airbusds.com/"
          }
         ],
         "stac_extensions": [
          "https://api.up42.com/stac-extensions/up42-user/v1.0.0/schema.json",
          "https://api.up42.com/stac-extensions/up42-system/v1.0.0/schema.json",
          "https://api.up42.com/stac-extensions/up42-order/v1.0.0/schema.json",
          "https://api.up42.com/stac-extensions/up42-product/v1.0.0/schema.json"
         ],
         "stac_version": "1.0.0",
         "summaries": {},
         "title": "ORT_SPOT7_20210809_125314400_000",
         "type": "Collection",
         "up42-order:host_id": "60f66f24-c0e5-49a4-a68f-09bdf9ac93b3",
         "up42-order:id": "5769d012-b4fa-4eda-a346-a4b9e05490e9",
         "up42-order:status": "FULFILLED",
         "up42-product:collection_name": "spot",
         "up42-product:data_type": "raster",
         "up42-product:modality": "multispectral",
         "up42-product:product_id": "b1f8c48e-d16b-44c4-a1bb-5e8a24892e69",
         "up42-system:account_id": "3c86279b-610a-4dba-ad12-abe3bdc51428",
         "up42-system:asset_id": "791f8eb4-b25e-40b6-928d-11537d01115a",
         "up42-system:metadata_version": "0.0.5",
         "up42-system:source": "ARCHIVE",
         "up42-system:workspace_id": "9f5e3e64-18e0-4746-a1c4-067dc93bfa57",
         "up42-user:tags": [
          "analytics",
          "onboarding"
         ],
         "up42-user:title": "Guarulhos/Onboarding"
        },
        {
         "assets": {},
         "description": "High-resolution 1.5m SPOT images acquired daily on a global basis. The datasets are available starting from 2012.",
         "extent": {
          "spatial": {
           "bbox": [
            [
             -70.83587135025898,
             -33.80405407937686,
             -70.82863154812313,
             -33.79679434643283
            ]
           ]
          },
          "temporal": {
           "interval": [
            [
             "2022-10-14T14:19:23Z",
             "2022-10-14T14:19:23Z"
            ]
           ]
          }
         },
         "id": "5e9fa951-1f97-4826-a1d6-98f993141b01",
         "keywords": [
          "Airbus",
          "SPOT"
         ],
         "license": "proprietary",
         "links": [
          {
           "href": "https://api.up42.com/v2/assets/stac/collections/5e9fa951-1f97-4826-a1d6-98f993141b01",
           "rel": "self",
           "type": "application/json"
          },
          {
           "href": "https://api.up42.com/v2/assets/stac/",
           "rel": "parent",
           "type": "application/json"
          },
          {
           "href": "https://api.up42.com/v2/assets/stac/collections/5e9fa951-1f97-4826-a1d6-98f993141b01/items",
           "rel": "items",
           "type": "application/geo+json"
          },
          {
           "href": "https://api.up42.com/v2/assets/stac/",
           "rel": "root",
           "type": "application/json"
          }
         ],
         "providers": [
          {
           "name": "AIRBUS DS GEO",
           "roles": [
            "producer"
           ],
           "url": "http://www.geo-airbusds.com/"
          },
          {
           "name": "AIRBUS DS GEO",
           "roles": [
            "processor"
           ],
           "url": "http://www.geo-airbusds.com/"
          }
         ],
         "stac_extensions": [
          "https://api.up42.com/stac-extensions/up42-user/v1.0.0/schema.json",
          "https://api.up42.com/stac-extensions/up42-system/v1.0.0/schema.json",
          "https://api.up42.com/stac-extensions/up42-order/v1.0.0/schema.json",
          "https://api.up42.com/stac-extensions/up42-product/v1.0.0/schema.json"
         ],
         "stac_version": "1.0.0",
         "summaries": {},
         "title": "ORT_SPOT6_20221014_141923100_000",
         "type": "Collection",
         "up42-order:host_id": "a787a677-76fd-41a6-928d-44e739d88e34",
         "up42-order:id": "d7172674-afdb-46bb-9c32-d7f7063a0847",
         "up42-order:status": "FULFILLED",
         "up42-product:collection_name": "spot",
         "up42-product:data_type": "raster",
         "up42-product:modality": "multispectral",
         "up42-product:product_id": "b1f8c48e-d16b-44c4-a1bb-5e8a24892e69",
         "up42-system:account_id": "3c86279b-610a-4dba-ad12-abe3bdc51428",
         "up42-system:asset_id": "507e3b34-6df1-4284-8f7b-5ebee31cb24e",
         "up42-system:metadata_version": "0.0.5",
         "up42-system:source": "ARCHIVE",
         "up42-system:workspace_id": "fe60cb09-d493-453f-a0df-ee23d91f56b5",
         "up42-user:tags": [
          "NDVI",
          "Analytics"
         ],
         "up42-user:title": "Onboarding image"
        },
        {
         "assets": {},
         "description": "High-resolution 1.5m SPOT images acquired daily on a global basis. The datasets are available starting from 2012.",
         "extent": {
          "spatial": {
           "bbox": [
            [
             13.309,
             52.4080555555556,
             13.3288888888889,
             52.4224861111112
            ]
           ]
          },
          "temporal": {
           "interval": [
            [
             "2022-06-24T09:59:07.500000Z",
             "2022-06-24T09:59:07.500000Z"
            ]
           ]
          }
         },
         "id": "3c2389a5-bf27-497a-88b4-18ab474aff8b",
         "keywords": [
          "Airbus",
          "SPOT"
         ],
         "license": "proprietary",
         "links": [
          {
           "href": "https://api.up42.com/v2/assets/stac/collections/3c2389a5-bf27-497a-88b4-18ab474aff8b",
           "rel": "self",
           "type": "application/json"
          },
          {
           "href": "https://api.up42.com/v2/assets/stac/",
           "rel": "parent",
           "type": "application/json"
          },
          {
           "href": "https://api.up42.com/v2/assets/stac/collections/3c2389a5-bf27-497a-88b4-18ab474aff8b/items",
           "rel": "items",
           "type": "application/geo+json"
          },
          {
           "href": "https://api.up42.com/v2/assets/stac/",
           "rel": "root",
           "type": "application/json"
          }
         ],
         "providers": [
          {
           "name": "AIRBUS DS GEO",
           "roles": [
            "producer"
           ],
           "url": "http://www.geo-airbusds.com/"
          },
          {
           "name": "AIRBUS DS GEO",
           "roles": [
            "processor"
           ],
           "url": "http://www.geo-airbusds.com/"
          }
         ],
         "stac_extensions": [
          "https://api.up42.com/stac-extensions/up42-system/v1.0.0/schema.json",
          "https://api.up42.com/stac-extensions/up42-product/v1.0.0/schema.json"
         ],
         "stac_version": "1.0.0",
         "summaries": {},
         "title": "ORT_SPOT6_20220624_095907600_000",
         "type": "Collection",
         "up42-product:data_type": "raster",
         "up42-product:modality": "multispectral",
         "up42-system:account_id": "3c86279b-610a-4dba-ad12-abe3bdc51428",
         "up42-system:asset_id": "94873f2c-6ce4-44af-9cf7-16657214de2d",
         "up42-system:metadata_version": "0.0.5",
         "up42-system:workspace_id": "a917e589-1187-402f-8bf8-38937d6fe713"
        },
        {
         "assets": {},
         "description": "High-resolution 1.5m SPOT images acquired daily on a global basis. The datasets are available starting from 2012.",
         "extent": {
          "spatial": {
           "bbox": [
            [
             13.309,
             52.4080555555556,
             13.3288888888889,
             52.4224861111112
            ]
           ]
          },
          "temporal": {
           "interval": [
            [
             "2022-06-24T09:59:07.500000Z",
             "2022-06-24T09:59:07.500000Z"
            ]
           ]
          }
         },
         "id": "5b0ecf52-b798-46d5-9278-85481030ecfe",
         "keywords": [
          "Airbus",
          "SPOT"
         ],
         "license": "proprietary",
         "links": [
          {
           "href": "https://api.up42.com/v2/assets/stac/collections/5b0ecf52-b798-46d5-9278-85481030ecfe",
           "rel": "self",
           "type": "application/json"
          },
          {
           "href": "https://api.up42.com/v2/assets/stac/",
           "rel": "parent",
           "type": "application/json"
          },
          {
           "href": "https://api.up42.com/v2/assets/stac/collections/5b0ecf52-b798-46d5-9278-85481030ecfe/items",
           "rel": "items",
           "type": "application/geo+json"
          },
          {
           "href": "https://api.up42.com/v2/assets/stac/",
           "rel": "root",
           "type": "application/json"
          }
         ],
         "providers": [
          {
           "name": "AIRBUS DS GEO",
           "roles": [
            "producer"
           ],
           "url": "http://www.geo-airbusds.com/"
          },
          {
           "name": "AIRBUS DS GEO",
           "roles": [
            "processor"
           ],
           "url": "http://www.geo-airbusds.com/"
          }
         ],
         "stac_extensions": [
          "https://api.up42.com/stac-extensions/up42-system/v1.0.0/schema.json",
          "https://api.up42.com/stac-extensions/up42-product/v1.0.0/schema.json"
         ],
         "stac_version": "1.0.0",
         "summaries": {},
         "title": "ORT_SPOT6_20220624_095907600_000",
         "type": "Collection",
         "up42-product:data_type": "raster",
         "up42-product:modality": "multispectral",
         "up42-system:account_id": "3c86279b-610a-4dba-ad12-abe3bdc51428",
         "up42-system:asset_id": "184794de-4d42-43a7-aa9e-8eea12d61fac",
         "up42-system:metadata_version": "0.0.5",
         "up42-system:workspace_id": "a917e589-1187-402f-8bf8-38937d6fe713"
        },
        {
         "assets": {},
         "description": "High-resolution 1.5m SPOT images acquired daily on a global basis. The datasets are available starting from 2012.",
         "extent": {
          "spatial": {
           "bbox": [
            [
             13.351,
             52.5236111111111,
             13.35725,
             52.5267638888889
            ]
           ]
          },
          "temporal": {
           "interval": [
            [
             "2021-05-31T09:51:52.100000Z",
             "2021-05-31T09:51:52.100000Z"
            ]
           ]
          }
         },
         "id": "ec92e0c9-e5e9-46c1-85af-ff2a8a0b4eba",
         "keywords": [
          "Airbus",
          "SPOT"
         ],
         "license": "proprietary",
         "links": [
          {
           "href": "https://api.up42.com/v2/assets/stac/collections/ec92e0c9-e5e9-46c1-85af-ff2a8a0b4eba",
           "rel": "self",
           "type": "application/json"
          },
          {
           "href": "https://api.up42.com/v2/assets/stac/",
           "rel": "parent",
           "type": "application/json"
          },
          {
           "href": "https://api.up42.com/v2/assets/stac/collections/ec92e0c9-e5e9-46c1-85af-ff2a8a0b4eba/items",
           "rel": "items",
           "type": "application/geo+json"
          },
          {
           "href": "https://api.up42.com/v2/assets/stac/",
           "rel": "root",
           "type": "application/json"
          }
         ],
         "providers": [
          {
           "name": "AIRBUS DS GEO",
           "roles": [
            "producer"
           ],
           "url": "http://www.geo-airbusds.com/"
          },
          {
           "name": "AIRBUS DS GEO",
           "roles": [
            "processor"
           ],
           "url": "http://www.geo-airbusds.com/"
          }
         ],
         "stac_extensions": [
          "https://api.up42.com/stac-extensions/up42-system/v1.0.0/schema.json",
          "https://api.up42.com/stac-extensions/up42-product/v1.0.0/schema.json"
         ],
         "stac_version": "1.0.0",
         "summaries": {},
         "title": "ORT_SPOT7_20210531_095152300_000",
         "type": "Collection",
         "up42-product:data_type": "raster",
         "up42-product:modality": "multispectral",
         "up42-system:account_id": "3c86279b-610a-4dba-ad12-abe3bdc51428",
         "up42-system:asset_id": "ae0732cd-fc1d-4c32-93b9-89860172b359",
         "up42-system:metadata_version": "0.0.5",
         "up42-system:workspace_id": "8710989c-fe75-46d8-9cbe-49e54bf70350"
        }
       ],
       "links": [
        {
         "href": "https://api.up42.com/v2/assets/stac/",
         "rel": "root",
         "type": "application/json"
        },
        {
         "href": "https://api.up42.com/v2/assets/stac/",
         "rel": "parent",
         "type": "application/json"
        },
        {
         "href": "https://api.up42.com/v2/assets/stac/collections",
         "rel": "self",
         "type": "application/json"
        },
        {
         "href": "https://api.up42.com/v2/assets/stac/collections?limit=20&token=next:ec92e0c9-e5e9-46c1-85af-ff2a8a0b4eba",
         "method": "GET",
         "rel": "next",
         "type": "application/json"
        }
       ]
      },
      "text/plain": [
       "<IPython.core.display.JSON object>"
      ]
     },
     "execution_count": 8,
     "metadata": {
      "application/json": {
       "expanded": false,
       "root": "root"
      }
     },
     "output_type": "execute_result"
    }
   ],
   "source": [
    "ppjson(httpx.get(up42_asset_stac_url(\"/collections\" + \"?limit=20\"), auth=client_auth).json())"
   ]
  },
  {
   "cell_type": "markdown",
   "id": "57c769ee-f25d-4eb9-b3a0-db466f12d224",
   "metadata": {},
   "source": [
    "### Constraining it to a given workspace\n",
    "\n",
    "By default you can view **all** assets in your\n",
    "[account](https://docs.up42.com/getting-started/account). If you want to\n",
    "constrain it just to your\n",
    "[**workspace**](https://docs.up42.com/getting-started/account/workspaces),\n",
    "then you can pass it as a **query string** argument: `workspace_id`. In\n",
    "this case I have my workspace ID stored in the `api_credentials`\n",
    "dictionary that I have loaded for authenticating with the UP42 API. Of\n",
    "course you can set this argument to any workspace ID within your\n",
    "account."
   ]
  },
  {
   "cell_type": "code",
   "execution_count": 9,
   "id": "cd5e7a4c-7861-4449-b892-1129959bb3cb",
   "metadata": {},
   "outputs": [
    {
     "data": {
      "text/plain": [
       "'d39fe05a-400c-44f6-b770-86990f64b004'"
      ]
     },
     "execution_count": 9,
     "metadata": {},
     "output_type": "execute_result"
    }
   ],
   "source": [
    "api_credentials[\"workspace_id\"]"
   ]
  },
  {
   "cell_type": "code",
   "execution_count": 10,
   "id": "e0cc075d-b6b1-4b0e-82eb-f9639321b041",
   "metadata": {},
   "outputs": [
    {
     "data": {
      "application/json": {
       "collections": [
        {
         "assets": {},
         "description": "Very high-resolution 30cm Pleiades Neo images acquired bidaily on a global basis. The datasets are available starting from November 2021.",
         "extent": {
          "spatial": {
           "bbox": [
            [
             -9.423687389795216,
             38.69123683111964,
             -9.415284316365145,
             38.69608402308488
            ]
           ]
          },
          "temporal": {
           "interval": [
            [
             "2023-01-27T11:45:45.200000Z",
             "2023-01-27T11:45:45.200000Z"
            ]
           ]
          }
         },
         "id": "36a2cd2f-e4d9-49b5-897c-4cda35dcdbef",
         "keywords": [
          "Airbus",
          "PléiadesNeo"
         ],
         "license": "proprietary",
         "links": [
          {
           "href": "https://api.up42.com/v2/assets/stac/collections/36a2cd2f-e4d9-49b5-897c-4cda35dcdbef",
           "rel": "self",
           "type": "application/json"
          },
          {
           "href": "https://api.up42.com/v2/assets/stac/",
           "rel": "parent",
           "type": "application/json"
          },
          {
           "href": "https://api.up42.com/v2/assets/stac/collections/36a2cd2f-e4d9-49b5-897c-4cda35dcdbef/items",
           "rel": "items",
           "type": "application/geo+json"
          },
          {
           "href": "https://api.up42.com/v2/assets/stac/",
           "rel": "root",
           "type": "application/json"
          }
         ],
         "providers": [
          {
           "name": "AIRBUS DS GEO",
           "roles": [
            "producer"
           ],
           "url": "http://www.geo-airbusds.com/"
          },
          {
           "name": "AIRBUS DS GEO",
           "roles": [
            "processor"
           ],
           "url": "http://www.geo-airbusds.com/"
          }
         ],
         "stac_extensions": [
          "https://api.up42.com/stac-extensions/up42-product/v1.0.0/schema.json",
          "https://api.up42.com/stac-extensions/up42-system/v1.0.0/schema.json",
          "https://api.up42.com/stac-extensions/up42-order/v1.0.0/schema.json"
         ],
         "stac_version": "1.0.0",
         "summaries": {},
         "title": "PNEO3_202301271145452_PMS-FS_ORT",
         "type": "Collection",
         "up42-order:host_id": "390bbfcc-4066-4853-bacc-f6e6c4f35bd5",
         "up42-order:id": "53b9a6c5-5707-47a3-8bbc-d23d3f38d2ed",
         "up42-order:status": "FULFILLED",
         "up42-product:collection_name": "pneo",
         "up42-product:data_type": "raster",
         "up42-product:modality": "multispectral",
         "up42-product:product_id": "17745de8-6e7d-4751-99cd-3f8e9e9d290e",
         "up42-system:account_id": "3c86279b-610a-4dba-ad12-abe3bdc51428",
         "up42-system:asset_id": "519917e7-d6a0-467d-8128-26577710ce8b",
         "up42-system:metadata_version": "0.0.5",
         "up42-system:source": "ARCHIVE",
         "up42-system:workspace_id": "d39fe05a-400c-44f6-b770-86990f64b004"
        },
        {
         "assets": {},
         "description": "Very high-resolution 30cm Pleiades Neo images acquired bidaily on a global basis. The datasets are available starting from November 2021.",
         "extent": {
          "spatial": {
           "bbox": [
            [
             -36.0392325684,
             -6.24436643267,
             -35.9972216858,
             -6.19679710409
            ]
           ]
          },
          "temporal": {
           "interval": [
            [
             "2022-03-01T13:01:29.700000Z",
             "2022-03-01T13:01:29.700000Z"
            ]
           ]
          }
         },
         "id": "bd7454d3-7e39-4c55-9aff-f3dbd362c195",
         "keywords": [
          "Airbus",
          "PléiadesNeo"
         ],
         "license": "proprietary",
         "links": [
          {
           "href": "https://api.up42.com/v2/assets/stac/collections/bd7454d3-7e39-4c55-9aff-f3dbd362c195",
           "rel": "self",
           "type": "application/json"
          },
          {
           "href": "https://api.up42.com/v2/assets/stac/",
           "rel": "parent",
           "type": "application/json"
          },
          {
           "href": "https://api.up42.com/v2/assets/stac/collections/bd7454d3-7e39-4c55-9aff-f3dbd362c195/items",
           "rel": "items",
           "type": "application/geo+json"
          },
          {
           "href": "https://api.up42.com/v2/assets/stac/",
           "rel": "root",
           "type": "application/json"
          }
         ],
         "providers": [
          {
           "name": "AIRBUS DS GEO",
           "roles": [
            "producer"
           ],
           "url": "http://www.geo-airbusds.com/"
          },
          {
           "name": "AIRBUS DS GEO",
           "roles": [
            "processor"
           ],
           "url": "http://www.geo-airbusds.com/"
          }
         ],
         "stac_extensions": [
          "https://api.up42.com/stac-extensions/up42-system/v1.0.0/schema.json",
          "https://api.up42.com/stac-extensions/up42-product/v1.0.0/schema.json"
         ],
         "stac_version": "1.0.0",
         "summaries": {},
         "title": "PNEO4_202203011301300_PAN_SEN",
         "type": "Collection",
         "up42-product:data_type": "raster",
         "up42-product:modality": "multispectral",
         "up42-system:account_id": "3c86279b-610a-4dba-ad12-abe3bdc51428",
         "up42-system:asset_id": "92abea3e-b7e1-4204-8b10-cc611c5da1bd",
         "up42-system:metadata_version": "0.0.5",
         "up42-system:workspace_id": "d39fe05a-400c-44f6-b770-86990f64b004"
        },
        {
         "assets": {},
         "description": "Very high-resolution 30cm Pleiades Neo images acquired bidaily on a global basis. The datasets are available starting from November 2021.",
         "extent": {
          "spatial": {
           "bbox": [
            [
             -105.688177430157,
             39.8314529999345,
             -105.549208429895,
             39.9427092002621
            ]
           ]
          },
          "temporal": {
           "interval": [
            [
             "2022-06-09T18:03:03.400000Z",
             "2022-06-09T18:03:03.400000Z"
            ]
           ]
          }
         },
         "id": "a5301a3b-8433-4c28-b15f-fee832694901",
         "keywords": [
          "Airbus",
          "PléiadesNeo"
         ],
         "license": "proprietary",
         "links": [
          {
           "href": "https://api.up42.com/v2/assets/stac/collections/a5301a3b-8433-4c28-b15f-fee832694901",
           "rel": "self",
           "type": "application/json"
          },
          {
           "href": "https://api.up42.com/v2/assets/stac/",
           "rel": "parent",
           "type": "application/json"
          },
          {
           "href": "https://api.up42.com/v2/assets/stac/collections/a5301a3b-8433-4c28-b15f-fee832694901/items",
           "rel": "items",
           "type": "application/geo+json"
          },
          {
           "href": "https://api.up42.com/v2/assets/stac/",
           "rel": "root",
           "type": "application/json"
          }
         ],
         "providers": [
          {
           "name": "AIRBUS DS GEO",
           "roles": [
            "producer"
           ],
           "url": "http://www.geo-airbusds.com/"
          },
          {
           "name": "AIRBUS DS GEO",
           "roles": [
            "processor"
           ],
           "url": "http://www.geo-airbusds.com/"
          }
         ],
         "stac_extensions": [
          "https://api.up42.com/stac-extensions/up42-system/v1.0.0/schema.json",
          "https://api.up42.com/stac-extensions/up42-order/v1.0.0/schema.json",
          "https://api.up42.com/stac-extensions/up42-product/v1.0.0/schema.json"
         ],
         "stac_version": "1.0.0",
         "summaries": {},
         "title": "PNEO4_202206091803043_PAN_ORT",
         "type": "Collection",
         "up42-order:id": "cab7ee49-5cec-4635-b274-f43007f21c34",
         "up42-order:status": "FULFILLED",
         "up42-product:data_type": "raster",
         "up42-product:modality": "multispectral",
         "up42-system:account_id": "3c86279b-610a-4dba-ad12-abe3bdc51428",
         "up42-system:asset_id": "4d62774a-64f2-4a24-ba3c-ca74e1b7d322",
         "up42-system:metadata_version": "0.0.4",
         "up42-system:source": "ARCHIVE",
         "up42-system:workspace_id": "d39fe05a-400c-44f6-b770-86990f64b004"
        },
        {
         "assets": {},
         "description": "Very high-resolution 30cm Pleiades Neo images acquired bidaily on a global basis. The datasets are available starting from November 2021.",
         "extent": {
          "spatial": {
           "bbox": [
            [
             150.863216797,
             -24.1998250772,
             151.016551603,
             -24.0245617151
            ]
           ]
          },
          "temporal": {
           "interval": [
            [
             "2022-07-27T00:04:41Z",
             "2022-07-27T00:04:41Z"
            ]
           ]
          }
         },
         "id": "9939ebcc-0c65-41dd-a765-2bade07c26a5",
         "keywords": [
          "Airbus",
          "PléiadesNeo"
         ],
         "license": "proprietary",
         "links": [
          {
           "href": "https://api.up42.com/v2/assets/stac/collections/9939ebcc-0c65-41dd-a765-2bade07c26a5",
           "rel": "self",
           "type": "application/json"
          },
          {
           "href": "https://api.up42.com/v2/assets/stac/",
           "rel": "parent",
           "type": "application/json"
          },
          {
           "href": "https://api.up42.com/v2/assets/stac/collections/9939ebcc-0c65-41dd-a765-2bade07c26a5/items",
           "rel": "items",
           "type": "application/geo+json"
          },
          {
           "href": "https://api.up42.com/v2/assets/stac/",
           "rel": "root",
           "type": "application/json"
          }
         ],
         "providers": [
          {
           "name": "AIRBUS DS GEO",
           "roles": [
            "producer"
           ],
           "url": "http://www.geo-airbusds.com/"
          },
          {
           "name": "AIRBUS DS GEO",
           "roles": [
            "processor"
           ],
           "url": "http://www.geo-airbusds.com/"
          }
         ],
         "stac_extensions": [
          "https://api.up42.com/stac-extensions/up42-system/v1.0.0/schema.json",
          "https://api.up42.com/stac-extensions/up42-product/v1.0.0/schema.json"
         ],
         "stac_version": "1.0.0",
         "summaries": {},
         "title": "PNEO3_202207270004423_PAN_SEN",
         "type": "Collection",
         "up42-product:data_type": "raster",
         "up42-product:modality": "multispectral",
         "up42-system:account_id": "3c86279b-610a-4dba-ad12-abe3bdc51428",
         "up42-system:asset_id": "332ee124-5590-4aab-a7a5-a41732cab5ea",
         "up42-system:metadata_version": "0.0.4",
         "up42-system:workspace_id": "d39fe05a-400c-44f6-b770-86990f64b004"
        },
        {
         "assets": {},
         "description": "Very high-resolution 30cm Pleiades Neo images acquired bidaily on a global basis. The datasets are available starting from November 2021.",
         "extent": {
          "spatial": {
           "bbox": [
            [
             150.86353563,
             -24.2082958383,
             151.016744216,
             -23.9288290646
            ]
           ]
          },
          "temporal": {
           "interval": [
            [
             "2022-07-27T00:04:39.600000Z",
             "2022-07-27T00:04:39.600000Z"
            ]
           ]
          }
         },
         "id": "98a339ad-c5a5-4dec-a89f-90dffd9a4c8d",
         "keywords": [
          "Airbus",
          "PléiadesNeo"
         ],
         "license": "proprietary",
         "links": [
          {
           "href": "https://api.up42.com/v2/assets/stac/collections/98a339ad-c5a5-4dec-a89f-90dffd9a4c8d",
           "rel": "self",
           "type": "application/json"
          },
          {
           "href": "https://api.up42.com/v2/assets/stac/",
           "rel": "parent",
           "type": "application/json"
          },
          {
           "href": "https://api.up42.com/v2/assets/stac/collections/98a339ad-c5a5-4dec-a89f-90dffd9a4c8d/items",
           "rel": "items",
           "type": "application/geo+json"
          },
          {
           "href": "https://api.up42.com/v2/assets/stac/",
           "rel": "root",
           "type": "application/json"
          }
         ],
         "providers": [
          {
           "name": "AIRBUS DS GEO",
           "roles": [
            "producer"
           ],
           "url": "http://www.geo-airbusds.com/"
          },
          {
           "name": "AIRBUS DS GEO",
           "roles": [
            "processor"
           ],
           "url": "http://www.geo-airbusds.com/"
          }
         ],
         "stac_extensions": [
          "https://api.up42.com/stac-extensions/up42-product/v1.0.0/schema.json",
          "https://api.up42.com/stac-extensions/up42-system/v1.0.0/schema.json"
         ],
         "stac_version": "1.0.0",
         "summaries": {},
         "title": "PNEO3_202207270004416_PAN_SEN",
         "type": "Collection",
         "up42-product:data_type": "raster",
         "up42-product:modality": "multispectral",
         "up42-system:account_id": "3c86279b-610a-4dba-ad12-abe3bdc51428",
         "up42-system:asset_id": "27377a7e-256f-476f-ae36-d471dd2c825f",
         "up42-system:metadata_version": "0.0.4",
         "up42-system:workspace_id": "d39fe05a-400c-44f6-b770-86990f64b004"
        },
        {
         "assets": {},
         "description": "Very high-resolution 30cm Pleiades Neo images acquired bidaily on a global basis. The datasets are available starting from November 2021.",
         "extent": {
          "spatial": {
           "bbox": [
            [
             150.859428257,
             -24.193855284,
             151.020460761,
             -24.0311120027
            ]
           ]
          },
          "temporal": {
           "interval": [
            [
             "2022-07-27T00:04:10.100000Z",
             "2022-07-27T00:04:10.100000Z"
            ]
           ]
          }
         },
         "id": "64a0059b-1a3d-4213-a7c6-00efc0db66f9",
         "keywords": [
          "Airbus",
          "PléiadesNeo"
         ],
         "license": "proprietary",
         "links": [
          {
           "href": "https://api.up42.com/v2/assets/stac/collections/64a0059b-1a3d-4213-a7c6-00efc0db66f9",
           "rel": "self",
           "type": "application/json"
          },
          {
           "href": "https://api.up42.com/v2/assets/stac/",
           "rel": "parent",
           "type": "application/json"
          },
          {
           "href": "https://api.up42.com/v2/assets/stac/collections/64a0059b-1a3d-4213-a7c6-00efc0db66f9/items",
           "rel": "items",
           "type": "application/geo+json"
          },
          {
           "href": "https://api.up42.com/v2/assets/stac/",
           "rel": "root",
           "type": "application/json"
          }
         ],
         "providers": [
          {
           "name": "AIRBUS DS GEO",
           "roles": [
            "producer"
           ],
           "url": "http://www.geo-airbusds.com/"
          },
          {
           "name": "AIRBUS DS GEO",
           "roles": [
            "processor"
           ],
           "url": "http://www.geo-airbusds.com/"
          }
         ],
         "stac_extensions": [
          "https://api.up42.com/stac-extensions/up42-product/v1.0.0/schema.json",
          "https://api.up42.com/stac-extensions/up42-system/v1.0.0/schema.json"
         ],
         "stac_version": "1.0.0",
         "summaries": {},
         "title": "PNEO3_202207270004113_PAN_SEN",
         "type": "Collection",
         "up42-product:data_type": "raster",
         "up42-product:modality": "multispectral",
         "up42-system:account_id": "3c86279b-610a-4dba-ad12-abe3bdc51428",
         "up42-system:asset_id": "13481c61-57dc-4b50-9bf0-41848f36c50d",
         "up42-system:metadata_version": "0.0.4",
         "up42-system:workspace_id": "d39fe05a-400c-44f6-b770-86990f64b004"
        },
        {
         "assets": {},
         "description": "Very high-resolution 30cm Pleiades Neo images acquired bidaily on a global basis. The datasets are available starting from November 2021.",
         "extent": {
          "spatial": {
           "bbox": [
            [
             150.863532335,
             -24.2082879539,
             151.016833932,
             -23.928920342
            ]
           ]
          },
          "temporal": {
           "interval": [
            [
             "2022-07-27T00:04:39.600000Z",
             "2022-07-27T00:04:39.600000Z"
            ]
           ]
          }
         },
         "id": "da65f6fe-b41e-4938-8539-a25d0a9da7a3",
         "keywords": [
          "Airbus",
          "PléiadesNeo"
         ],
         "license": "proprietary",
         "links": [
          {
           "href": "https://api.up42.com/v2/assets/stac/collections/da65f6fe-b41e-4938-8539-a25d0a9da7a3",
           "rel": "self",
           "type": "application/json"
          },
          {
           "href": "https://api.up42.com/v2/assets/stac/",
           "rel": "parent",
           "type": "application/json"
          },
          {
           "href": "https://api.up42.com/v2/assets/stac/collections/da65f6fe-b41e-4938-8539-a25d0a9da7a3/items",
           "rel": "items",
           "type": "application/geo+json"
          },
          {
           "href": "https://api.up42.com/v2/assets/stac/",
           "rel": "root",
           "type": "application/json"
          }
         ],
         "providers": [
          {
           "name": "AIRBUS DS GEO",
           "roles": [
            "producer"
           ],
           "url": "http://www.geo-airbusds.com/"
          },
          {
           "name": "AIRBUS DS GEO",
           "roles": [
            "processor"
           ],
           "url": "http://www.geo-airbusds.com/"
          }
         ],
         "stac_extensions": [
          "https://api.up42.com/stac-extensions/up42-system/v1.0.0/schema.json",
          "https://api.up42.com/stac-extensions/up42-product/v1.0.0/schema.json"
         ],
         "stac_version": "1.0.0",
         "summaries": {},
         "title": "PNEO3_202207270004416_PAN_SEN",
         "type": "Collection",
         "up42-product:data_type": "raster",
         "up42-product:modality": "multispectral",
         "up42-system:account_id": "3c86279b-610a-4dba-ad12-abe3bdc51428",
         "up42-system:asset_id": "ab2a1132-ff56-4087-b59f-66619a56d5de",
         "up42-system:metadata_version": "0.0.4",
         "up42-system:workspace_id": "d39fe05a-400c-44f6-b770-86990f64b004"
        },
        {
         "assets": {},
         "description": "Very high-resolution 30cm Pleiades Neo images acquired bidaily on a global basis. The datasets are available starting from November 2021.",
         "extent": {
          "spatial": {
           "bbox": [
            [
             150.859160849,
             -24.2112617425,
             151.020613262,
             -24.0320209238
            ]
           ]
          },
          "temporal": {
           "interval": [
            [
             "2022-07-27T00:04:10.200000Z",
             "2022-07-27T00:04:10.200000Z"
            ]
           ]
          }
         },
         "id": "554e0670-53e2-43dd-89f2-ff9635b262af",
         "keywords": [
          "Airbus",
          "PléiadesNeo"
         ],
         "license": "proprietary",
         "links": [
          {
           "href": "https://api.up42.com/v2/assets/stac/collections/554e0670-53e2-43dd-89f2-ff9635b262af",
           "rel": "self",
           "type": "application/json"
          },
          {
           "href": "https://api.up42.com/v2/assets/stac/",
           "rel": "parent",
           "type": "application/json"
          },
          {
           "href": "https://api.up42.com/v2/assets/stac/collections/554e0670-53e2-43dd-89f2-ff9635b262af/items",
           "rel": "items",
           "type": "application/geo+json"
          },
          {
           "href": "https://api.up42.com/v2/assets/stac/",
           "rel": "root",
           "type": "application/json"
          }
         ],
         "providers": [
          {
           "name": "AIRBUS DS GEO",
           "roles": [
            "producer"
           ],
           "url": "http://www.geo-airbusds.com/"
          },
          {
           "name": "AIRBUS DS GEO",
           "roles": [
            "processor"
           ],
           "url": "http://www.geo-airbusds.com/"
          }
         ],
         "stac_extensions": [
          "https://api.up42.com/stac-extensions/up42-system/v1.0.0/schema.json",
          "https://api.up42.com/stac-extensions/up42-product/v1.0.0/schema.json"
         ],
         "stac_version": "1.0.0",
         "summaries": {},
         "title": "PNEO3_202207270004114_PAN_SEN",
         "type": "Collection",
         "up42-product:data_type": "raster",
         "up42-product:modality": "multispectral",
         "up42-system:account_id": "3c86279b-610a-4dba-ad12-abe3bdc51428",
         "up42-system:asset_id": "fc84f7ed-4019-42d0-baa1-16a53dc63b7f",
         "up42-system:metadata_version": "0.0.4",
         "up42-system:workspace_id": "d39fe05a-400c-44f6-b770-86990f64b004"
        },
        {
         "assets": {},
         "description": "Very high-resolution 50cm Pleiades images acquired daily on a global basis. The datasets are available starting from 2012.",
         "extent": {
          "spatial": {
           "bbox": [
            [
             3.09636805555556,
             47.7050763888871,
             3.1974236111118,
             47.7743541666667
            ]
           ]
          },
          "temporal": {
           "interval": [
            [
             "2019-08-30T10:45:03.800000Z",
             "2019-08-30T10:45:03.800000Z"
            ]
           ]
          }
         },
         "id": "76138f12-c7d3-4b78-9b39-0a32634a346e",
         "keywords": [
          "Airbus",
          "Pléiades"
         ],
         "license": "proprietary",
         "links": [
          {
           "href": "https://api.up42.com/v2/assets/stac/collections/76138f12-c7d3-4b78-9b39-0a32634a346e",
           "rel": "self",
           "type": "application/json"
          },
          {
           "href": "https://api.up42.com/v2/assets/stac/",
           "rel": "parent",
           "type": "application/json"
          },
          {
           "href": "https://api.up42.com/v2/assets/stac/collections/76138f12-c7d3-4b78-9b39-0a32634a346e/items",
           "rel": "items",
           "type": "application/geo+json"
          },
          {
           "href": "https://api.up42.com/v2/assets/stac/",
           "rel": "root",
           "type": "application/json"
          }
         ],
         "providers": [
          {
           "name": "AIRBUS DS GEO",
           "roles": [
            "producer"
           ],
           "url": "http://www.geo-airbusds.com"
          },
          {
           "name": "AIRBUS DS GEO",
           "roles": [
            "processor"
           ],
           "url": "http://www.geo-airbusds.com"
          }
         ],
         "stac_extensions": [
          "https://api.up42.com/stac-extensions/up42-system/v1.0.0/schema.json",
          "https://api.up42.com/stac-extensions/up42-product/v1.0.0/schema.json"
         ],
         "stac_version": "1.0.0",
         "summaries": {},
         "title": "DS_PHR1A_201908301044268_FR1_PX_E003N47_0221_04822",
         "type": "Collection",
         "up42-product:data_type": "raster",
         "up42-product:modality": "multispectral",
         "up42-system:account_id": "3c86279b-610a-4dba-ad12-abe3bdc51428",
         "up42-system:asset_id": "b374430a-3b5e-47f2-aa9c-e04388d0edef",
         "up42-system:metadata_version": "0.0.4",
         "up42-system:workspace_id": "d39fe05a-400c-44f6-b770-86990f64b004"
        },
        {
         "assets": {},
         "description": "Very high-resolution 30cm Pleiades Neo images acquired bidaily on a global basis. The datasets are available starting from November 2021.",
         "extent": {
          "spatial": {
           "bbox": [
            [
             20.20664077154385,
             67.84421138189992,
             20.26901388475906,
             67.86710709184203
            ]
           ]
          },
          "temporal": {
           "interval": [
            [
             "2022-05-20T10:03:33.400000Z",
             "2022-05-20T10:03:33.400000Z"
            ]
           ]
          }
         },
         "id": "a8809066-58ea-47a2-b0b7-882fe7033009",
         "keywords": [
          "Airbus",
          "PléiadesNeo"
         ],
         "license": "proprietary",
         "links": [
          {
           "href": "https://api.up42.com/v2/assets/stac/collections/a8809066-58ea-47a2-b0b7-882fe7033009",
           "rel": "self",
           "type": "application/json"
          },
          {
           "href": "https://api.up42.com/v2/assets/stac/",
           "rel": "parent",
           "type": "application/json"
          },
          {
           "href": "https://api.up42.com/v2/assets/stac/collections/a8809066-58ea-47a2-b0b7-882fe7033009/items",
           "rel": "items",
           "type": "application/geo+json"
          },
          {
           "href": "https://api.up42.com/v2/assets/stac/",
           "rel": "root",
           "type": "application/json"
          }
         ],
         "providers": [
          {
           "name": "AIRBUS DS GEO",
           "roles": [
            "producer"
           ],
           "url": "http://www.geo-airbusds.com/"
          },
          {
           "name": "AIRBUS DS GEO",
           "roles": [
            "processor"
           ],
           "url": "http://www.geo-airbusds.com/"
          }
         ],
         "stac_extensions": [
          "https://api.up42.com/stac-extensions/up42-order/v1.0.0/schema.json",
          "https://api.up42.com/stac-extensions/up42-product/v1.0.0/schema.json",
          "https://api.up42.com/stac-extensions/up42-system/v1.0.0/schema.json"
         ],
         "stac_version": "1.0.0",
         "summaries": {},
         "title": "PNEO4_202205201003335_PMS-FS_ORT",
         "type": "Collection",
         "up42-order:id": "55b607b6-d4ff-431e-b81a-bf65539406e9",
         "up42-order:status": "FULFILLED",
         "up42-product:collection_name": "pneo",
         "up42-product:data_type": "raster",
         "up42-product:modality": "multispectral",
         "up42-product:product_id": "17745de8-6e7d-4751-99cd-3f8e9e9d290e",
         "up42-system:account_id": "3c86279b-610a-4dba-ad12-abe3bdc51428",
         "up42-system:asset_id": "34016dc1-10c3-4f7f-8274-4850b608cf49",
         "up42-system:metadata_version": "0.0.4",
         "up42-system:source": "ARCHIVE",
         "up42-system:workspace_id": "d39fe05a-400c-44f6-b770-86990f64b004"
        }
       ],
       "links": [
        {
         "href": "https://api.up42.com/v2/assets/stac/",
         "rel": "root",
         "type": "application/json"
        },
        {
         "href": "https://api.up42.com/v2/assets/stac/",
         "rel": "parent",
         "type": "application/json"
        },
        {
         "href": "https://api.up42.com/v2/assets/stac/collections",
         "rel": "self",
         "type": "application/json"
        },
        {
         "href": "https://api.up42.com/v2/assets/stac/collections?workspace_id=d39fe05a-400c-44f6-b770-86990f64b004&token=next:a8809066-58ea-47a2-b0b7-882fe7033009",
         "method": "GET",
         "rel": "next",
         "type": "application/json"
        }
       ]
      },
      "text/plain": [
       "<IPython.core.display.JSON object>"
      ]
     },
     "execution_count": 10,
     "metadata": {
      "application/json": {
       "expanded": false,
       "root": "root"
      }
     },
     "output_type": "execute_result"
    }
   ],
   "source": [
    "my_first_colls = httpx.get(\n",
    "    up42_asset_stac_url(\"/collections\" + f\"?workspace_id={api_credentials['workspace_id']}\"),\n",
    "    auth=client_auth).json()\n",
    "\n",
    "ppjson(my_first_colls)"
   ]
  },
  {
   "cell_type": "markdown",
   "id": "f77e34b3-a867-4c7c-a934-7aac5b97319c",
   "metadata": {},
   "source": [
    "As you can see now the `up42-system:workspace_id` field is scoped to my\n",
    "workspace, from which I got the first 10 collections. The ordering is by\n",
    "descending chronological order of the `createdAt` field. This field is\n",
    "part of the [STAC\n",
    "extensions](https://docs.up42.com/developers/api-assets/stac-extensions)\n",
    "we defined.\n",
    "\n",
    "### What is a collection for the UP42 asset service?\n",
    "\n",
    "Before we proceed, let us install a package that makes traversing\n",
    "dictionaries easier to do."
   ]
  },
  {
   "cell_type": "code",
   "execution_count": 11,
   "id": "e62758ff-9f6b-493b-affa-48477bf539a9",
   "metadata": {},
   "outputs": [
    {
     "name": "stdout",
     "output_type": "stream",
     "text": [
      "Requirement already satisfied: toolz in /Users/appa/.virtualenvs/httpx-notebooks/lib/python3.11/site-packages (0.12.0)\n",
      "Note: you may need to restart the kernel to use updated packages.\n"
     ]
    }
   ],
   "source": [
    "%pip install toolz"
   ]
  },
  {
   "cell_type": "code",
   "execution_count": 12,
   "id": "569ed542-a352-403b-a591-c5aa2b5f1542",
   "metadata": {},
   "outputs": [],
   "source": [
    "from toolz.dicttoolz import get_in"
   ]
  },
  {
   "cell_type": "markdown",
   "id": "b5f9c620-ebb2-45a7-a27b-aff71f23fae3",
   "metadata": {},
   "source": [
    "Let us now look inside a given collection. The first item given by the\n",
    "entry with index `0` of the `collections` list is:"
   ]
  },
  {
   "cell_type": "code",
   "execution_count": 13,
   "id": "c77e7da9-951f-4fd9-a450-95ffe23df5ff",
   "metadata": {},
   "outputs": [
    {
     "data": {
      "application/json": {
       "assets": {},
       "description": "Very high-resolution 30cm Pleiades Neo images acquired bidaily on a global basis. The datasets are available starting from November 2021.",
       "extent": {
        "spatial": {
         "bbox": [
          [
           -9.423687389795216,
           38.69123683111964,
           -9.415284316365145,
           38.69608402308488
          ]
         ]
        },
        "temporal": {
         "interval": [
          [
           "2023-01-27T11:45:45.200000Z",
           "2023-01-27T11:45:45.200000Z"
          ]
         ]
        }
       },
       "id": "36a2cd2f-e4d9-49b5-897c-4cda35dcdbef",
       "keywords": [
        "Airbus",
        "PléiadesNeo"
       ],
       "license": "proprietary",
       "links": [
        {
         "href": "https://api.up42.com/v2/assets/stac/collections/36a2cd2f-e4d9-49b5-897c-4cda35dcdbef",
         "rel": "self",
         "type": "application/json"
        },
        {
         "href": "https://api.up42.com/v2/assets/stac/",
         "rel": "parent",
         "type": "application/json"
        },
        {
         "href": "https://api.up42.com/v2/assets/stac/collections/36a2cd2f-e4d9-49b5-897c-4cda35dcdbef/items",
         "rel": "items",
         "type": "application/geo+json"
        },
        {
         "href": "https://api.up42.com/v2/assets/stac/",
         "rel": "root",
         "type": "application/json"
        }
       ],
       "providers": [
        {
         "name": "AIRBUS DS GEO",
         "roles": [
          "producer"
         ],
         "url": "http://www.geo-airbusds.com/"
        },
        {
         "name": "AIRBUS DS GEO",
         "roles": [
          "processor"
         ],
         "url": "http://www.geo-airbusds.com/"
        }
       ],
       "stac_extensions": [
        "https://api.up42.com/stac-extensions/up42-product/v1.0.0/schema.json",
        "https://api.up42.com/stac-extensions/up42-system/v1.0.0/schema.json",
        "https://api.up42.com/stac-extensions/up42-order/v1.0.0/schema.json"
       ],
       "stac_version": "1.0.0",
       "summaries": {},
       "title": "PNEO3_202301271145452_PMS-FS_ORT",
       "type": "Collection",
       "up42-order:host_id": "390bbfcc-4066-4853-bacc-f6e6c4f35bd5",
       "up42-order:id": "53b9a6c5-5707-47a3-8bbc-d23d3f38d2ed",
       "up42-order:status": "FULFILLED",
       "up42-product:collection_name": "pneo",
       "up42-product:data_type": "raster",
       "up42-product:modality": "multispectral",
       "up42-product:product_id": "17745de8-6e7d-4751-99cd-3f8e9e9d290e",
       "up42-system:account_id": "3c86279b-610a-4dba-ad12-abe3bdc51428",
       "up42-system:asset_id": "519917e7-d6a0-467d-8128-26577710ce8b",
       "up42-system:metadata_version": "0.0.5",
       "up42-system:source": "ARCHIVE",
       "up42-system:workspace_id": "d39fe05a-400c-44f6-b770-86990f64b004"
      },
      "text/plain": [
       "<IPython.core.display.JSON object>"
      ]
     },
     "execution_count": 13,
     "metadata": {
      "application/json": {
       "expanded": true,
       "root": "root"
      }
     },
     "output_type": "execute_result"
    }
   ],
   "source": [
    "ppjson(get_in([\"collections\", 0], my_first_colls), expand=True)"
   ]
  },
  {
   "cell_type": "markdown",
   "id": "71ce4ced-0070-4a3e-8a73-3435d340a9c9",
   "metadata": {},
   "source": [
    "We get, among others:\n",
    "\n",
    "-   The STAC collection properties relative to:\n",
    "    -   spatial and temporal extents - the geometry envelope and the\n",
    "        temporal envelope — in this case a single date.\n",
    "-   the collection ID.\n",
    "-   STAC extensions - specific to UP42 with links to the respective\n",
    "    [JSON Schema](https://json-schema.org/).\n",
    "\n",
    "One of the big benefits of using STAC is that by adhering to\n",
    "[HATEOAS](https://en.wikipedia.org/wiki/HATEOAShttps://en.wikipedia.org/wiki/HATEOAS)\n",
    "it allows us to more easily explore an archive.\n",
    "\n",
    "## Inspecting STAC items\n",
    "\n",
    "Inspecting STAC items requires a STAC collection ID. We can either use\n",
    "the ID field or just use the `links` field with the `items` relationship\n",
    "and extract the URL in the `href` field."
   ]
  },
  {
   "cell_type": "code",
   "execution_count": 14,
   "id": "2bcab460-9d96-43a0-8f98-ec49a8395e44",
   "metadata": {},
   "outputs": [
    {
     "data": {
      "text/plain": [
       "'https://api.up42.com/v2/assets/stac/collections/bd7454d3-7e39-4c55-9aff-f3dbd362c195/items'"
      ]
     },
     "execution_count": 14,
     "metadata": {},
     "output_type": "execute_result"
    }
   ],
   "source": [
    "my_first_coll_url = next(filter(lambda e: e.get(\"rel\") == \"items\",\n",
    "                                get_in([\"collections\", 1, \"links\"], my_first_colls)))[\"href\"]\n",
    "my_first_coll_url"
   ]
  },
  {
   "cell_type": "code",
   "execution_count": 15,
   "id": "c1c6aada-69de-43b4-acf8-f9fbef210861",
   "metadata": {},
   "outputs": [
    {
     "data": {
      "application/json": {
       "features": [
        {
         "assets": {
          "data": {
           "description": "Storage Data",
           "href": "https://api.up42.com/v2/assets/92abea3e-b7e1-4204-8b10-cc611c5da1bd",
           "roles": [
            "data"
           ],
           "title": "Data",
           "type": "application/zip"
          }
         },
         "bbox": [
          -36.0392325684,
          -6.24436643267,
          -35.9972216858,
          -6.19679710409
         ],
         "collection": "bd7454d3-7e39-4c55-9aff-f3dbd362c195",
         "geometry": {
          "coordinates": [
           [
            [
             -36.0392325684,
             -6.19959884357
            ],
            [
             -35.9975404153,
             -6.19679710409
            ],
            [
             -35.9972216858,
             -6.2416896393
            ],
            [
             -36.0390613043,
             -6.24436643267
            ],
            [
             -36.0392325684,
             -6.19959884357
            ]
           ]
          ],
          "type": "Polygon"
         },
         "id": "167125ac-d7f4-44d5-b7a4-7c67c3730826",
         "links": [
          {
           "href": "https://api.up42.com/v2/assets/stac/collections/bd7454d3-7e39-4c55-9aff-f3dbd362c195/items/167125ac-d7f4-44d5-b7a4-7c67c3730826",
           "rel": "self",
           "type": "application/geo+json"
          },
          {
           "href": "https://api.up42.com/v2/assets/stac/collections/bd7454d3-7e39-4c55-9aff-f3dbd362c195",
           "rel": "parent",
           "type": "application/json"
          },
          {
           "href": "https://api.up42.com/v2/assets/stac/collections/bd7454d3-7e39-4c55-9aff-f3dbd362c195",
           "rel": "collection",
           "type": "application/json"
          },
          {
           "href": "https://api.up42.com/v2/assets/stac/",
           "rel": "root",
           "type": "application/json"
          }
         ],
         "properties": {
          "constellation": "PNEO",
          "datetime": "2022-03-01T13:01:29.700000+00:00",
          "end_datetime": "2022-03-01T13:01:29.700000+00:00",
          "eo:cloud_cover": 0,
          "gsd": 0.3656197339296341,
          "platform": "PNEO-4",
          "proj:epsg": null,
          "start_datetime": "2022-03-01T13:01:29.700000+00:00",
          "title": "PNEO4_202203011301300_PAN_SEN_R1C1",
          "up42-product:data_type": "raster",
          "up42-product:modality": "multispectral",
          "up42-system:account_id": "3c86279b-610a-4dba-ad12-abe3bdc51428",
          "up42-system:asset_id": "92abea3e-b7e1-4204-8b10-cc611c5da1bd",
          "up42-system:metadata_version": "0.0.5",
          "up42-system:workspace_id": "d39fe05a-400c-44f6-b770-86990f64b004",
          "view:azimuth": 254.54050912419873,
          "view:incidence_angle": 29.888618077250204,
          "view:sun_azimuth": 95.83586309859096,
          "view:sun_elevation": 66.327687348278
         },
         "stac_extensions": [
          "https://stac-extensions.github.io/eo/v1.0.0/schema.json",
          "https://api.up42.com/stac-extensions/up42-system/v1.0.0/schema.json",
          "https://api.up42.com/stac-extensions/up42-product/v1.0.0/schema.json",
          "https://stac-extensions.github.io/view/v1.0.0/schema.json",
          "https://stac-extensions.github.io/projection/v1.0.0/schema.json"
         ],
         "stac_version": "1.0.0",
         "type": "Feature"
        }
       ],
       "links": [
        {
         "href": "https://api.up42.com/v2/assets/stac/",
         "rel": "root",
         "type": "application/json"
        },
        {
         "href": "https://api.up42.com/v2/assets/stac/collections/bd7454d3-7e39-4c55-9aff-f3dbd362c195",
         "rel": "parent",
         "type": "application/json"
        },
        {
         "href": "https://api.up42.com/v2/assets/stac/collections/bd7454d3-7e39-4c55-9aff-f3dbd362c195/items",
         "rel": "self",
         "type": "application/json"
        }
       ],
       "type": "FeatureCollection"
      },
      "text/plain": [
       "<IPython.core.display.JSON object>"
      ]
     },
     "execution_count": 15,
     "metadata": {
      "application/json": {
       "expanded": true,
       "root": "root"
      }
     },
     "output_type": "execute_result"
    }
   ],
   "source": [
    "my_first_assets = httpx.get(my_first_coll_url, auth=client_auth).json()\n",
    "ppjson(my_first_assets, expand=True)"
   ]
  },
  {
   "cell_type": "markdown",
   "id": "ef5c3c7b-273b-430b-837a-76c3464e634a",
   "metadata": {},
   "source": [
    "In this case there is only one asset. But it may occur that there are\n",
    "multiple assets inside a collection. For example a pair of assets for\n",
    "stereo, and a triple of assets for a tri-stereo image. For further\n",
    "information on the STAC implementation for the asset service please\n",
    "consult the relevant\n",
    "[documentation](https://docs.up42.com/developers/api-assets/stac-about).\n",
    "\n",
    "## Listing a specific STAC item\n",
    "\n",
    "In this case there is only one asset, but it is instructive to see how\n",
    "you can obtain a specific item from a collection. For that we need the\n",
    "asset ID, given above as the feature ID, however it is more expedient to\n",
    "use the URL of the link with the `self` relationship given for the first\n",
    "(and unique, in this case) feature."
   ]
  },
  {
   "cell_type": "code",
   "execution_count": 16,
   "id": "11e55001-c30c-4c80-ad60-faabf2389037",
   "metadata": {},
   "outputs": [
    {
     "data": {
      "text/plain": [
       "'https://api.up42.com/v2/assets/stac/collections/bd7454d3-7e39-4c55-9aff-f3dbd362c195/items/167125ac-d7f4-44d5-b7a4-7c67c3730826'"
      ]
     },
     "execution_count": 16,
     "metadata": {},
     "output_type": "execute_result"
    }
   ],
   "source": [
    "my_first_asset_url = next(filter(lambda e: e.get(\"rel\") == \"self\",\n",
    "                                 get_in([\"features\", 0, \"links\"], my_first_assets)))[\"href\"]\n",
    "my_first_asset_url"
   ]
  },
  {
   "cell_type": "code",
   "execution_count": 17,
   "id": "72434c97-198e-4de4-8afa-70ca1e65aea0",
   "metadata": {},
   "outputs": [
    {
     "data": {
      "application/json": {
       "assets": {
        "data": {
         "description": "Storage Data",
         "href": "https://api.up42.com/v2/assets/92abea3e-b7e1-4204-8b10-cc611c5da1bd",
         "roles": [
          "data"
         ],
         "title": "Data",
         "type": "application/zip"
        }
       },
       "bbox": [
        -36.0392325684,
        -6.24436643267,
        -35.9972216858,
        -6.19679710409
       ],
       "collection": "bd7454d3-7e39-4c55-9aff-f3dbd362c195",
       "geometry": {
        "coordinates": [
         [
          [
           -36.0392325684,
           -6.19959884357
          ],
          [
           -35.9975404153,
           -6.19679710409
          ],
          [
           -35.9972216858,
           -6.2416896393
          ],
          [
           -36.0390613043,
           -6.24436643267
          ],
          [
           -36.0392325684,
           -6.19959884357
          ]
         ]
        ],
        "type": "Polygon"
       },
       "id": "167125ac-d7f4-44d5-b7a4-7c67c3730826",
       "links": [
        {
         "href": "https://api.up42.com/v2/assets/stac/collections/bd7454d3-7e39-4c55-9aff-f3dbd362c195/items/167125ac-d7f4-44d5-b7a4-7c67c3730826",
         "rel": "self",
         "type": "application/geo+json"
        },
        {
         "href": "https://api.up42.com/v2/assets/stac/collections/bd7454d3-7e39-4c55-9aff-f3dbd362c195",
         "rel": "parent",
         "type": "application/json"
        },
        {
         "href": "https://api.up42.com/v2/assets/stac/collections/bd7454d3-7e39-4c55-9aff-f3dbd362c195",
         "rel": "collection",
         "type": "application/json"
        },
        {
         "href": "https://api.up42.com/v2/assets/stac/",
         "rel": "root",
         "type": "application/json"
        }
       ],
       "properties": {
        "constellation": "PNEO",
        "datetime": "2022-03-01T13:01:29.700000+00:00",
        "end_datetime": "2022-03-01T13:01:29.700000+00:00",
        "eo:cloud_cover": 0,
        "gsd": 0.3656197339296341,
        "platform": "PNEO-4",
        "proj:epsg": null,
        "start_datetime": "2022-03-01T13:01:29.700000+00:00",
        "title": "PNEO4_202203011301300_PAN_SEN_R1C1",
        "up42-product:data_type": "raster",
        "up42-product:modality": "multispectral",
        "up42-system:account_id": "3c86279b-610a-4dba-ad12-abe3bdc51428",
        "up42-system:asset_id": "92abea3e-b7e1-4204-8b10-cc611c5da1bd",
        "up42-system:metadata_version": "0.0.5",
        "up42-system:workspace_id": "d39fe05a-400c-44f6-b770-86990f64b004",
        "view:azimuth": 254.54050912419873,
        "view:incidence_angle": 29.888618077250204,
        "view:sun_azimuth": 95.83586309859096,
        "view:sun_elevation": 66.327687348278
       },
       "stac_extensions": [
        "https://stac-extensions.github.io/eo/v1.0.0/schema.json",
        "https://api.up42.com/stac-extensions/up42-system/v1.0.0/schema.json",
        "https://api.up42.com/stac-extensions/up42-product/v1.0.0/schema.json",
        "https://stac-extensions.github.io/view/v1.0.0/schema.json",
        "https://stac-extensions.github.io/projection/v1.0.0/schema.json"
       ],
       "stac_version": "1.0.0",
       "type": "Feature"
      },
      "text/plain": [
       "<IPython.core.display.JSON object>"
      ]
     },
     "execution_count": 17,
     "metadata": {
      "application/json": {
       "expanded": true,
       "root": "root"
      }
     },
     "output_type": "execute_result"
    }
   ],
   "source": [
    "ppjson(httpx.get(my_first_asset_url, auth=client_auth).json(), expand=True)"
   ]
  },
  {
   "cell_type": "markdown",
   "id": "d34f60c0-e9a5-4fec-ab09-12488995ddf5",
   "metadata": {},
   "source": [
    "## Search for assets across collections\n",
    "\n",
    "One of the most important aspects of the asset STAC service is that it\n",
    "provides a unified interface to search for data. It relies on the [STAC\n",
    "Item Search](https://api.stacspec.org/v1.0.0-rc.1/item-search/)\n",
    "specification.\n",
    "\n",
    "The UP42 Asset service implements the [full featured\n",
    "filtering](https://api.stacspec.org/v1.0.0-rc.1/item-search/#tag/Item-Search/operation/postItemSearch).\n",
    "It relies on the [STAC filter\n",
    "API](https://github.com/stac-api-extensions/filter/blob/main/openapi.yaml).\n",
    "Simple search filters and\n",
    "[CQL2](https://docs.ogc.org/DRAFTS/21-065.html) based filters are\n",
    "supported.\n",
    "\n",
    "We can obtain the list of the possible CQL2 based filters with:"
   ]
  },
  {
   "cell_type": "code",
   "execution_count": 18,
   "id": "ea456540-7dd5-4492-9dc4-bd9a84aebcf8",
   "metadata": {},
   "outputs": [
    {
     "data": {
      "application/json": {
       "$id": "https://api.up42.com/v2/assets/stac/queryables",
       "$schema": "https://json-schema.org/draft/2019-09/schema",
       "description": "Queryables for searching STAC Storage.",
       "properties": {
        "asset_id": {
         "description": "UP42 Asset Id",
         "title": "asset_id",
         "type": "string"
        },
        "cloud_cover": {
         "description": "Cloud Coverage",
         "title": "cloud_cover",
         "type": "float"
        },
        "constellation": {
         "description": "Platform Constellation",
         "title": "constellation",
         "type": "string"
        },
        "datetime": {
         "description": "Date and time the feature was captured",
         "title": "datetime",
         "type": "timestamp"
        },
        "eo:cloud_cover": {
         "description": "Cloud Coverage",
         "title": "eo:cloud_cover",
         "type": "float"
        },
        "tags": {
         "description": "UP42 Asset Tags",
         "title": "tags",
         "type": "array"
        },
        "workspace_id": {
         "description": "UP42 Workspace Id",
         "title": "workspace_id",
         "type": "string"
        }
       },
       "title": "STAC Storage Queryables",
       "type": "object"
      },
      "text/plain": [
       "<IPython.core.display.JSON object>"
      ]
     },
     "execution_count": 18,
     "metadata": {
      "application/json": {
       "expanded": true,
       "root": "root"
      }
     },
     "output_type": "execute_result"
    }
   ],
   "source": [
    "ppjson(httpx.get(up42_asset_stac_url(\"/queryables\"), auth=client_auth).json(), expand=True)"
   ]
  },
  {
   "cell_type": "markdown",
   "id": "8d352148-d33b-4e17-a734-eb320e2c943b",
   "metadata": {},
   "source": [
    "Let us now search for all data that intersects a given geometry. In this\n",
    "case I want to know of all AOIs that contain a particular Point Of\n",
    "Interest (POI)."
   ]
  },
  {
   "cell_type": "code",
   "execution_count": 19,
   "id": "e10a16c7-310b-4928-943e-1ed09fe1281b",
   "metadata": {},
   "outputs": [
    {
     "data": {
      "text/plain": [
       "{\"coordinates\": [-8.98691, 38.469947], \"type\": \"Point\"}"
      ]
     },
     "execution_count": 19,
     "metadata": {},
     "output_type": "execute_result"
    }
   ],
   "source": [
    "from geojson import Point, Polygon, MultiPolygon, FeatureCollection, Feature\n",
    "\n",
    "my_first_poi = Point((-8.986910071109419,38.46994674758601))\n",
    "my_first_poi"
   ]
  },
  {
   "cell_type": "markdown",
   "id": "398dcc61-67e6-4ccd-8dad-1755fcbef6fa",
   "metadata": {},
   "source": [
    "We need now to build a request body, since the search is done with a\n",
    "POST request."
   ]
  },
  {
   "cell_type": "code",
   "execution_count": 20,
   "id": "df98a178-0fed-4ec6-bde3-136f37d5a9f8",
   "metadata": {},
   "outputs": [
    {
     "data": {
      "text/plain": [
       "{'intersects': {\"coordinates\": [-8.98691, 38.469947], \"type\": \"Point\"}}"
      ]
     },
     "execution_count": 20,
     "metadata": {},
     "output_type": "execute_result"
    }
   ],
   "source": [
    "req_body_poi = dict(intersects = my_first_poi)\n",
    "req_body_poi"
   ]
  },
  {
   "cell_type": "markdown",
   "id": "a03d0f3a-587b-49b8-bda9-48dcff19336f",
   "metadata": {},
   "source": [
    "Creating a convenience function."
   ]
  },
  {
   "cell_type": "code",
   "execution_count": 21,
   "id": "19efd4de-b844-4d9d-bff1-9799199ef3e9",
   "metadata": {},
   "outputs": [],
   "source": [
    "def search_item(req_body:dict) -> httpx.Response:\n",
    "    \"\"\"Searches for a STAC item according to the given criteria.\"\"\"\n",
    "    return httpx.post(up42_asset_stac_url(\"/search\"),\n",
    "                      headers={\"content-type\":\"application/json\"},\n",
    "                      auth=client_auth,\n",
    "                      json=req_body)"
   ]
  },
  {
   "cell_type": "code",
   "execution_count": 22,
   "id": "ad252123-2696-4c71-822e-4d943b325e50",
   "metadata": {},
   "outputs": [
    {
     "data": {
      "application/json": {
       "features": [
        {
         "assets": {
          "data": {
           "description": "Storage Data",
           "href": "https://api.up42.com/v2/assets/630bd8cd-c4c2-4619-9a88-5b3421ffd1de",
           "roles": [
            "data"
           ],
           "title": "Data",
           "type": "application/zip"
          }
         },
         "bbox": [
          -8.992222054150913,
          38.46552423989927,
          -8.968630844922524,
          38.483829164081016
         ],
         "collection": "e3e8ecde-6328-4bb2-bf06-eeffcfcc0978",
         "geometry": {
          "coordinates": [
           [
            [
             -8.970516192795307,
             38.483829164081016
            ],
            [
             -8.969003136298957,
             38.48288700320683
            ],
            [
             -8.968630844922524,
             38.482111858604256
            ],
            [
             -8.968642327826503,
             38.48207130696972
            ],
            [
             -8.969565423041054,
             38.48174711275871
            ],
            [
             -8.969348067535785,
             38.48060251189329
            ],
            [
             -8.97187629060627,
             38.480166056393756
            ],
            [
             -8.97708711322504,
             38.4802663253012
            ],
            [
             -8.981352415160988,
             38.47907747662965
            ],
            [
             -8.981432678381337,
             38.479041440729354
            ],
            [
             -8.984712266276473,
             38.47600481509272
            ],
            [
             -8.982695061218294,
             38.473814577442
            ],
            [
             -8.986891621124045,
             38.469791186640876
            ],
            [
             -8.990422699558534,
             38.46709688704083
            ],
            [
             -8.990164996618832,
             38.46552423989927
            ],
            [
             -8.991964631241645,
             38.4656190050795
            ],
            [
             -8.992222054150913,
             38.47016566713853
            ],
            [
             -8.989779464974129,
             38.47637035954537
            ],
            [
             -8.981065183212577,
             38.4814115801504
            ],
            [
             -8.970516192795307,
             38.483829164081016
            ]
           ]
          ],
          "type": "Polygon"
         },
         "id": "fe7d6485-1ecd-4151-b027-79a107557d48",
         "links": [
          {
           "href": "https://api.up42.com/v2/assets/stac/collections/e3e8ecde-6328-4bb2-bf06-eeffcfcc0978/items/fe7d6485-1ecd-4151-b027-79a107557d48",
           "rel": "self",
           "type": "application/geo+json"
          },
          {
           "href": "https://api.up42.com/v2/assets/stac/collections/e3e8ecde-6328-4bb2-bf06-eeffcfcc0978",
           "rel": "parent",
           "type": "application/json"
          },
          {
           "href": "https://api.up42.com/v2/assets/stac/collections/e3e8ecde-6328-4bb2-bf06-eeffcfcc0978",
           "rel": "collection",
           "type": "application/json"
          },
          {
           "href": "https://api.up42.com/v2/assets/stac/",
           "rel": "root",
           "type": "application/json"
          }
         ],
         "properties": {
          "constellation": "PHR",
          "datetime": "2022-03-18T11:24:06+00:00",
          "end_datetime": "2022-03-18T11:24:06+00:00",
          "eo:cloud_cover": 0,
          "gsd": 0.7562325080525973,
          "platform": "PHR-1B",
          "proj:epsg": 32629,
          "start_datetime": "2022-03-18T11:24:06+00:00",
          "title": "DS_PHR1B_202203181123290_FR1_PX_W009N38_0119_07844_R1C1",
          "up42-order:host_id": "9372ed63-982a-4003-9f90-e7a2fe10aab3",
          "up42-order:id": "8a2c9bc2-7878-45e6-92b4-81fa33d2fd9f",
          "up42-order:status": "FULFILLED",
          "up42-product:collection_name": "phr",
          "up42-product:data_type": "raster",
          "up42-product:modality": "multispectral",
          "up42-product:product_id": "4f1b2f62-98df-4c74-81f4-5dce45deee99",
          "up42-system:account_id": "3c86279b-610a-4dba-ad12-abe3bdc51428",
          "up42-system:asset_id": "630bd8cd-c4c2-4619-9a88-5b3421ffd1de",
          "up42-system:metadata_version": "0.0.4",
          "up42-system:source": "ARCHIVE",
          "up42-system:workspace_id": "d39fe05a-400c-44f6-b770-86990f64b004",
          "view:azimuth": 179.08569011330297,
          "view:incidence_angle": 18.141957311334412,
          "view:sun_azimuth": 150.26387457509006,
          "view:sun_elevation": 46.60727885283659
         },
         "stac_extensions": [
          "https://stac-extensions.github.io/view/v1.0.0/schema.json",
          "https://api.up42.com/stac-extensions/up42-system/v1.0.0/schema.json",
          "https://api.up42.com/stac-extensions/up42-order/v1.0.0/schema.json",
          "https://stac-extensions.github.io/eo/v1.0.0/schema.json",
          "https://stac-extensions.github.io/projection/v1.0.0/schema.json",
          "https://api.up42.com/stac-extensions/up42-product/v1.0.0/schema.json"
         ],
         "stac_version": "1.0.0",
         "type": "Feature"
        },
        {
         "assets": {
          "data": {
           "description": "Storage Data",
           "href": "https://api.up42.com/v2/assets/828b2da8-b322-4e19-9abc-3917e0e36986",
           "roles": [
            "data"
           ],
           "title": "Data",
           "type": "application/zip"
          }
         },
         "bbox": [
          -8.992222054150913,
          38.46552423989927,
          -8.968630844922524,
          38.483829164081016
         ],
         "collection": "fcb6de6f-7c47-4d59-bc7c-ec83d5af4d09",
         "geometry": {
          "coordinates": [
           [
            [
             -8.970516192795307,
             38.483829164081016
            ],
            [
             -8.969003136298957,
             38.48288700320683
            ],
            [
             -8.968630844922524,
             38.482111858604256
            ],
            [
             -8.968642327826503,
             38.48207130696972
            ],
            [
             -8.969565423041054,
             38.48174711275871
            ],
            [
             -8.969348067535785,
             38.48060251189329
            ],
            [
             -8.97187629060627,
             38.480166056393756
            ],
            [
             -8.97708711322504,
             38.4802663253012
            ],
            [
             -8.981352415160988,
             38.47907747662965
            ],
            [
             -8.981432678381337,
             38.479041440729354
            ],
            [
             -8.984712266276473,
             38.47600481509272
            ],
            [
             -8.982695061218294,
             38.473814577442
            ],
            [
             -8.986891621124045,
             38.469791186640876
            ],
            [
             -8.990422699558534,
             38.46709688704083
            ],
            [
             -8.990164996618832,
             38.46552423989927
            ],
            [
             -8.991964631241645,
             38.4656190050795
            ],
            [
             -8.992222054150913,
             38.47016566713853
            ],
            [
             -8.989779464974129,
             38.47637035954537
            ],
            [
             -8.981065183212577,
             38.4814115801504
            ],
            [
             -8.970516192795307,
             38.483829164081016
            ]
           ]
          ],
          "type": "Polygon"
         },
         "id": "36ecf578-eb19-4c7d-8ba2-c85d23b9af86",
         "links": [
          {
           "href": "https://api.up42.com/v2/assets/stac/collections/fcb6de6f-7c47-4d59-bc7c-ec83d5af4d09/items/36ecf578-eb19-4c7d-8ba2-c85d23b9af86",
           "rel": "self",
           "type": "application/geo+json"
          },
          {
           "href": "https://api.up42.com/v2/assets/stac/collections/fcb6de6f-7c47-4d59-bc7c-ec83d5af4d09",
           "rel": "parent",
           "type": "application/json"
          },
          {
           "href": "https://api.up42.com/v2/assets/stac/collections/fcb6de6f-7c47-4d59-bc7c-ec83d5af4d09",
           "rel": "collection",
           "type": "application/json"
          },
          {
           "href": "https://api.up42.com/v2/assets/stac/",
           "rel": "root",
           "type": "application/json"
          }
         ],
         "properties": {
          "constellation": "PHR",
          "datetime": "2022-03-18T11:24:06+00:00",
          "end_datetime": "2022-03-18T11:24:06+00:00",
          "eo:cloud_cover": 0,
          "gsd": 0.7562325080525973,
          "platform": "PHR-1B",
          "proj:epsg": 32629,
          "start_datetime": "2022-03-18T11:24:06+00:00",
          "title": "DS_PHR1B_202203181123290_FR1_PX_W009N38_0119_07844_R1C1",
          "up42-order:host_id": "d0c1f983-05dc-4bc9-8eba-f9f55a91d7b5",
          "up42-order:id": "d373da26-8a90-4c08-a745-a0dbf2857639",
          "up42-order:status": "FULFILLED",
          "up42-product:collection_name": "phr",
          "up42-product:data_type": "raster",
          "up42-product:modality": "multispectral",
          "up42-product:product_id": "4f1b2f62-98df-4c74-81f4-5dce45deee99",
          "up42-system:account_id": "3c86279b-610a-4dba-ad12-abe3bdc51428",
          "up42-system:asset_id": "828b2da8-b322-4e19-9abc-3917e0e36986",
          "up42-system:metadata_version": "0.0.4",
          "up42-system:source": "ARCHIVE",
          "up42-system:workspace_id": "d39fe05a-400c-44f6-b770-86990f64b004",
          "view:azimuth": 179.08569011330297,
          "view:incidence_angle": 18.141957311334412,
          "view:sun_azimuth": 150.26387457509006,
          "view:sun_elevation": 46.60727885283659
         },
         "stac_extensions": [
          "https://api.up42.com/stac-extensions/up42-system/v1.0.0/schema.json",
          "https://api.up42.com/stac-extensions/up42-order/v1.0.0/schema.json",
          "https://stac-extensions.github.io/eo/v1.0.0/schema.json",
          "https://stac-extensions.github.io/view/v1.0.0/schema.json",
          "https://api.up42.com/stac-extensions/up42-product/v1.0.0/schema.json",
          "https://stac-extensions.github.io/projection/v1.0.0/schema.json"
         ],
         "stac_version": "1.0.0",
         "type": "Feature"
        },
        {
         "assets": {
          "data": {
           "description": "Storage Data",
           "href": "https://api.up42.com/v2/assets/f5080d5d-cb90-4cb5-9caf-b1e870865967",
           "roles": [
            "data"
           ],
           "title": "Data",
           "type": "application/zip"
          }
         },
         "bbox": [
          -8.992222054150913,
          38.46552423989927,
          -8.968630844922524,
          38.483829164081016
         ],
         "collection": "8e113462-23cd-4516-bb70-fb6c63ba0cf4",
         "geometry": {
          "coordinates": [
           [
            [
             -8.970516192795307,
             38.483829164081016
            ],
            [
             -8.969003136298957,
             38.48288700320683
            ],
            [
             -8.968630844922524,
             38.482111858604256
            ],
            [
             -8.968642327826503,
             38.48207130696972
            ],
            [
             -8.969565423041054,
             38.48174711275871
            ],
            [
             -8.969348067535785,
             38.48060251189329
            ],
            [
             -8.97187629060627,
             38.480166056393756
            ],
            [
             -8.97708711322504,
             38.4802663253012
            ],
            [
             -8.981352415160988,
             38.47907747662965
            ],
            [
             -8.981432678381337,
             38.479041440729354
            ],
            [
             -8.984712266276473,
             38.47600481509272
            ],
            [
             -8.982695061218294,
             38.473814577442
            ],
            [
             -8.986891621124045,
             38.469791186640876
            ],
            [
             -8.990422699558534,
             38.46709688704083
            ],
            [
             -8.990164996618832,
             38.46552423989927
            ],
            [
             -8.991964631241645,
             38.4656190050795
            ],
            [
             -8.992222054150913,
             38.47016566713853
            ],
            [
             -8.989779464974129,
             38.47637035954537
            ],
            [
             -8.981065183212577,
             38.4814115801504
            ],
            [
             -8.970516192795307,
             38.483829164081016
            ]
           ]
          ],
          "type": "Polygon"
         },
         "id": "bd5ad586-4f1e-4228-9e63-9206fbe297fe",
         "links": [
          {
           "href": "https://api.up42.com/v2/assets/stac/collections/8e113462-23cd-4516-bb70-fb6c63ba0cf4/items/bd5ad586-4f1e-4228-9e63-9206fbe297fe",
           "rel": "self",
           "type": "application/geo+json"
          },
          {
           "href": "https://api.up42.com/v2/assets/stac/collections/8e113462-23cd-4516-bb70-fb6c63ba0cf4",
           "rel": "parent",
           "type": "application/json"
          },
          {
           "href": "https://api.up42.com/v2/assets/stac/collections/8e113462-23cd-4516-bb70-fb6c63ba0cf4",
           "rel": "collection",
           "type": "application/json"
          },
          {
           "href": "https://api.up42.com/v2/assets/stac/",
           "rel": "root",
           "type": "application/json"
          }
         ],
         "properties": {
          "constellation": "PHR",
          "datetime": "2022-09-09T11:28:49.600000+00:00",
          "end_datetime": "2022-09-09T11:28:49.600000+00:00",
          "eo:cloud_cover": 0,
          "gsd": 0.7138816774061343,
          "platform": "PHR-1B",
          "proj:epsg": 32629,
          "start_datetime": "2022-09-09T11:28:49.600000+00:00",
          "title": "DS_PHR1B_202209091128126_FR1_PX_W009N38_0111_01724_R1C1",
          "up42-order:host_id": "4d27e173-c628-4935-a583-37a68ac904cb",
          "up42-order:id": "f3b4d9fd-7504-49dc-8d13-abc56d021d16",
          "up42-order:status": "FULFILLED",
          "up42-product:collection_name": "phr",
          "up42-product:data_type": "raster",
          "up42-product:modality": "multispectral",
          "up42-product:product_id": "647780db-5a06-4b61-b525-577a8b68bb54",
          "up42-system:account_id": "3c86279b-610a-4dba-ad12-abe3bdc51428",
          "up42-system:asset_id": "f5080d5d-cb90-4cb5-9caf-b1e870865967",
          "up42-system:metadata_version": "0.0.4",
          "up42-system:source": "ARCHIVE",
          "up42-system:workspace_id": "d39fe05a-400c-44f6-b770-86990f64b004",
          "view:azimuth": 179.99787147104942,
          "view:incidence_angle": 8.344681400691485,
          "view:sun_azimuth": 152.20823252306252,
          "view:sun_elevation": 53.6725392907585
         },
         "stac_extensions": [
          "https://stac-extensions.github.io/view/v1.0.0/schema.json",
          "https://api.up42.com/stac-extensions/up42-system/v1.0.0/schema.json",
          "https://api.up42.com/stac-extensions/up42-order/v1.0.0/schema.json",
          "https://stac-extensions.github.io/eo/v1.0.0/schema.json",
          "https://stac-extensions.github.io/projection/v1.0.0/schema.json",
          "https://api.up42.com/stac-extensions/up42-product/v1.0.0/schema.json"
         ],
         "stac_version": "1.0.0",
         "type": "Feature"
        },
        {
         "assets": {
          "data": {
           "description": "Storage Data",
           "href": "https://api.up42.com/v2/assets/fa438b5e-0903-4787-8958-45a376dd9b04",
           "roles": [
            "data"
           ],
           "title": "Data",
           "type": "application/zip"
          }
         },
         "bbox": [
          -8.992222054150913,
          38.46552423989927,
          -8.968630844922524,
          38.483829164081016
         ],
         "collection": "5b6b32b9-41fc-4f68-9f56-40dcbdbd4263",
         "geometry": {
          "coordinates": [
           [
            [
             -8.970516192795307,
             38.483829164081016
            ],
            [
             -8.969003136298957,
             38.48288700320683
            ],
            [
             -8.968630844922524,
             38.482111858604256
            ],
            [
             -8.968642327826503,
             38.48207130696972
            ],
            [
             -8.969565423041054,
             38.48174711275871
            ],
            [
             -8.969348067535785,
             38.48060251189329
            ],
            [
             -8.97187629060627,
             38.480166056393756
            ],
            [
             -8.97708711322504,
             38.4802663253012
            ],
            [
             -8.981352415160988,
             38.47907747662965
            ],
            [
             -8.981432678381337,
             38.479041440729354
            ],
            [
             -8.984712266276473,
             38.47600481509272
            ],
            [
             -8.982695061218294,
             38.473814577442
            ],
            [
             -8.986891621124045,
             38.469791186640876
            ],
            [
             -8.990422699558534,
             38.46709688704083
            ],
            [
             -8.990164996618832,
             38.46552423989927
            ],
            [
             -8.991964631241645,
             38.4656190050795
            ],
            [
             -8.992222054150913,
             38.47016566713853
            ],
            [
             -8.989779464974129,
             38.47637035954537
            ],
            [
             -8.981065183212577,
             38.4814115801504
            ],
            [
             -8.970516192795307,
             38.483829164081016
            ]
           ]
          ],
          "type": "Polygon"
         },
         "id": "538091f8-4be7-404b-9936-97274be89fb3",
         "links": [
          {
           "href": "https://api.up42.com/v2/assets/stac/collections/5b6b32b9-41fc-4f68-9f56-40dcbdbd4263/items/538091f8-4be7-404b-9936-97274be89fb3",
           "rel": "self",
           "type": "application/geo+json"
          },
          {
           "href": "https://api.up42.com/v2/assets/stac/collections/5b6b32b9-41fc-4f68-9f56-40dcbdbd4263",
           "rel": "parent",
           "type": "application/json"
          },
          {
           "href": "https://api.up42.com/v2/assets/stac/collections/5b6b32b9-41fc-4f68-9f56-40dcbdbd4263",
           "rel": "collection",
           "type": "application/json"
          },
          {
           "href": "https://api.up42.com/v2/assets/stac/",
           "rel": "root",
           "type": "application/json"
          }
         ],
         "properties": {
          "constellation": "PHR",
          "datetime": "2022-03-18T11:24:06+00:00",
          "end_datetime": "2022-03-18T11:24:06+00:00",
          "eo:cloud_cover": 0,
          "gsd": 0.7562330339024197,
          "platform": "PHR-1B",
          "proj:epsg": 32629,
          "start_datetime": "2022-03-18T11:24:06+00:00",
          "title": "DS_PHR1B_202203181123290_FR1_PX_W009N38_0119_07844_R1C1",
          "up42-order:host_id": "dd866675-8c25-4766-8397-5ef8bc5cd2a5",
          "up42-order:id": "92ceac2c-a89f-4e66-9a8d-b20f336d8799",
          "up42-order:status": "FULFILLED",
          "up42-product:collection_name": "phr",
          "up42-product:data_type": "raster",
          "up42-product:modality": "multispectral",
          "up42-product:product_id": "4f1b2f62-98df-4c74-81f4-5dce45deee99",
          "up42-system:account_id": "3c86279b-610a-4dba-ad12-abe3bdc51428",
          "up42-system:asset_id": "fa438b5e-0903-4787-8958-45a376dd9b04",
          "up42-system:metadata_version": "0.0.4",
          "up42-system:source": "ARCHIVE",
          "up42-system:workspace_id": "d39fe05a-400c-44f6-b770-86990f64b004",
          "view:azimuth": 179.08567245519995,
          "view:incidence_angle": 18.141937286841305,
          "view:sun_azimuth": 150.26387449687402,
          "view:sun_elevation": 46.60727883013983
         },
         "stac_extensions": [
          "https://api.up42.com/stac-extensions/up42-order/v1.0.0/schema.json",
          "https://stac-extensions.github.io/eo/v1.0.0/schema.json",
          "https://api.up42.com/stac-extensions/up42-system/v1.0.0/schema.json",
          "https://stac-extensions.github.io/view/v1.0.0/schema.json",
          "https://stac-extensions.github.io/projection/v1.0.0/schema.json",
          "https://api.up42.com/stac-extensions/up42-product/v1.0.0/schema.json"
         ],
         "stac_version": "1.0.0",
         "type": "Feature"
        },
        {
         "assets": {
          "data": {
           "description": "Storage Data",
           "href": "https://api.up42.com/v2/assets/666191ca-0f28-4f49-9bae-597865187eb1",
           "roles": [
            "data"
           ],
           "title": "Data",
           "type": "application/zip"
          }
         },
         "bbox": [
          -8.992222054150913,
          38.46552423989927,
          -8.968630844922524,
          38.483829164081016
         ],
         "collection": "ab966c6c-72c7-4bbe-8d97-51832e0b3f6a",
         "geometry": {
          "coordinates": [
           [
            [
             -8.970516192795307,
             38.483829164081016
            ],
            [
             -8.969003136298957,
             38.48288700320683
            ],
            [
             -8.968630844922524,
             38.482111858604256
            ],
            [
             -8.968642327826503,
             38.48207130696972
            ],
            [
             -8.969565423041054,
             38.48174711275871
            ],
            [
             -8.969348067535785,
             38.48060251189329
            ],
            [
             -8.97187629060627,
             38.480166056393756
            ],
            [
             -8.97708711322504,
             38.4802663253012
            ],
            [
             -8.981352415160988,
             38.47907747662965
            ],
            [
             -8.981432678381337,
             38.479041440729354
            ],
            [
             -8.984712266276473,
             38.47600481509272
            ],
            [
             -8.982695061218294,
             38.473814577442
            ],
            [
             -8.986891621124045,
             38.469791186640876
            ],
            [
             -8.990422699558534,
             38.46709688704083
            ],
            [
             -8.990164996618832,
             38.46552423989927
            ],
            [
             -8.991964631241645,
             38.4656190050795
            ],
            [
             -8.992222054150913,
             38.47016566713853
            ],
            [
             -8.989779464974129,
             38.47637035954537
            ],
            [
             -8.981065183212577,
             38.4814115801504
            ],
            [
             -8.970516192795307,
             38.483829164081016
            ]
           ]
          ],
          "type": "Polygon"
         },
         "id": "466f5541-7298-46fd-ac69-7aeb34273867",
         "links": [
          {
           "href": "https://api.up42.com/v2/assets/stac/collections/ab966c6c-72c7-4bbe-8d97-51832e0b3f6a/items/466f5541-7298-46fd-ac69-7aeb34273867",
           "rel": "self",
           "type": "application/geo+json"
          },
          {
           "href": "https://api.up42.com/v2/assets/stac/collections/ab966c6c-72c7-4bbe-8d97-51832e0b3f6a",
           "rel": "parent",
           "type": "application/json"
          },
          {
           "href": "https://api.up42.com/v2/assets/stac/collections/ab966c6c-72c7-4bbe-8d97-51832e0b3f6a",
           "rel": "collection",
           "type": "application/json"
          },
          {
           "href": "https://api.up42.com/v2/assets/stac/",
           "rel": "root",
           "type": "application/json"
          }
         ],
         "properties": {
          "constellation": "PHR",
          "datetime": "2022-03-18T11:24:06+00:00",
          "end_datetime": "2022-03-18T11:24:06+00:00",
          "eo:cloud_cover": 0,
          "gsd": 0.7562325080525973,
          "platform": "PHR-1B",
          "proj:epsg": 32629,
          "start_datetime": "2022-03-18T11:24:06+00:00",
          "title": "DS_PHR1B_202203181123290_FR1_PX_W009N38_0119_07844_R1C1",
          "up42-order:host_id": "82660486-7908-4eba-a79d-386305cd4941",
          "up42-order:id": "694b65c8-6d3d-4aa8-b5d9-f42d525b5477",
          "up42-order:status": "FULFILLED",
          "up42-product:collection_name": "phr",
          "up42-product:data_type": "raster",
          "up42-product:modality": "multispectral",
          "up42-product:product_id": "4f1b2f62-98df-4c74-81f4-5dce45deee99",
          "up42-system:account_id": "3c86279b-610a-4dba-ad12-abe3bdc51428",
          "up42-system:asset_id": "666191ca-0f28-4f49-9bae-597865187eb1",
          "up42-system:metadata_version": "0.0.4",
          "up42-system:source": "ARCHIVE",
          "up42-system:workspace_id": "d39fe05a-400c-44f6-b770-86990f64b004",
          "view:azimuth": 179.08569011330297,
          "view:incidence_angle": 18.141957311334412,
          "view:sun_azimuth": 150.26387457509006,
          "view:sun_elevation": 46.60727885283659
         },
         "stac_extensions": [
          "https://stac-extensions.github.io/projection/v1.0.0/schema.json",
          "https://api.up42.com/stac-extensions/up42-system/v1.0.0/schema.json",
          "https://stac-extensions.github.io/view/v1.0.0/schema.json",
          "https://stac-extensions.github.io/eo/v1.0.0/schema.json",
          "https://api.up42.com/stac-extensions/up42-order/v1.0.0/schema.json",
          "https://api.up42.com/stac-extensions/up42-product/v1.0.0/schema.json"
         ],
         "stac_version": "1.0.0",
         "type": "Feature"
        },
        {
         "assets": {
          "data": {
           "description": "Storage Data",
           "href": "https://api.up42.com/v2/assets/696f6b22-523a-4f57-a6a3-16efa5b1edb5",
           "roles": [
            "data"
           ],
           "title": "Data",
           "type": "application/zip"
          }
         },
         "bbox": [
          -8.992222054150913,
          38.46552423989927,
          -8.968630844922524,
          38.483829164081016
         ],
         "collection": "2a1dfd20-deaf-4ce7-bc67-63c69ae55e7e",
         "geometry": {
          "coordinates": [
           [
            [
             -8.970516192795307,
             38.483829164081016
            ],
            [
             -8.969003136298957,
             38.48288700320683
            ],
            [
             -8.968630844922524,
             38.482111858604256
            ],
            [
             -8.968642327826503,
             38.48207130696972
            ],
            [
             -8.969565423041054,
             38.48174711275871
            ],
            [
             -8.969348067535785,
             38.48060251189329
            ],
            [
             -8.97187629060627,
             38.480166056393756
            ],
            [
             -8.97708711322504,
             38.4802663253012
            ],
            [
             -8.981352415160988,
             38.47907747662965
            ],
            [
             -8.981432678381337,
             38.479041440729354
            ],
            [
             -8.984712266276473,
             38.47600481509272
            ],
            [
             -8.982695061218294,
             38.473814577442
            ],
            [
             -8.986891621124045,
             38.469791186640876
            ],
            [
             -8.990422699558534,
             38.46709688704083
            ],
            [
             -8.990164996618832,
             38.46552423989927
            ],
            [
             -8.991964631241645,
             38.4656190050795
            ],
            [
             -8.992222054150913,
             38.47016566713853
            ],
            [
             -8.989779464974129,
             38.47637035954537
            ],
            [
             -8.981065183212577,
             38.4814115801504
            ],
            [
             -8.970516192795307,
             38.483829164081016
            ]
           ]
          ],
          "type": "Polygon"
         },
         "id": "c6148201-7f57-47d2-81b3-08024cf3fcac",
         "links": [
          {
           "href": "https://api.up42.com/v2/assets/stac/collections/2a1dfd20-deaf-4ce7-bc67-63c69ae55e7e/items/c6148201-7f57-47d2-81b3-08024cf3fcac",
           "rel": "self",
           "type": "application/geo+json"
          },
          {
           "href": "https://api.up42.com/v2/assets/stac/collections/2a1dfd20-deaf-4ce7-bc67-63c69ae55e7e",
           "rel": "parent",
           "type": "application/json"
          },
          {
           "href": "https://api.up42.com/v2/assets/stac/collections/2a1dfd20-deaf-4ce7-bc67-63c69ae55e7e",
           "rel": "collection",
           "type": "application/json"
          },
          {
           "href": "https://api.up42.com/v2/assets/stac/",
           "rel": "root",
           "type": "application/json"
          }
         ],
         "properties": {
          "constellation": "PHR",
          "datetime": "2022-03-18T11:24:06+00:00",
          "end_datetime": "2022-03-18T11:24:06+00:00",
          "eo:cloud_cover": 0,
          "gsd": 0.7562325080525973,
          "platform": "PHR-1B",
          "proj:epsg": 32629,
          "start_datetime": "2022-03-18T11:24:06+00:00",
          "title": "DS_PHR1B_202203181123290_FR1_PX_W009N38_0119_07844_R1C1",
          "up42-order:host_id": "89df2d1f-8b91-46c9-b89c-5457606066a4",
          "up42-order:id": "d28a249c-489b-4409-b939-dceb57d5b919",
          "up42-order:status": "FULFILLED",
          "up42-product:collection_name": "phr",
          "up42-product:data_type": "raster",
          "up42-product:modality": "multispectral",
          "up42-product:product_id": "4f1b2f62-98df-4c74-81f4-5dce45deee99",
          "up42-system:account_id": "3c86279b-610a-4dba-ad12-abe3bdc51428",
          "up42-system:asset_id": "696f6b22-523a-4f57-a6a3-16efa5b1edb5",
          "up42-system:metadata_version": "0.0.4",
          "up42-system:source": "ARCHIVE",
          "up42-system:workspace_id": "d39fe05a-400c-44f6-b770-86990f64b004",
          "view:azimuth": 179.08569011330297,
          "view:incidence_angle": 18.141957311334412,
          "view:sun_azimuth": 150.26387457509006,
          "view:sun_elevation": 46.60727885283659
         },
         "stac_extensions": [
          "https://stac-extensions.github.io/view/v1.0.0/schema.json",
          "https://api.up42.com/stac-extensions/up42-system/v1.0.0/schema.json",
          "https://api.up42.com/stac-extensions/up42-order/v1.0.0/schema.json",
          "https://stac-extensions.github.io/eo/v1.0.0/schema.json",
          "https://stac-extensions.github.io/projection/v1.0.0/schema.json",
          "https://api.up42.com/stac-extensions/up42-product/v1.0.0/schema.json"
         ],
         "stac_version": "1.0.0",
         "type": "Feature"
        }
       ],
       "links": [
        {
         "href": "https://api.up42.com/v2/assets/stac/",
         "rel": "root",
         "type": "application/json"
        },
        {
         "href": "https://api.up42.com/v2/assets/stac/",
         "rel": "parent",
         "type": "application/json"
        },
        {
         "href": "https://api.up42.com/v2/assets/stac/search",
         "rel": "self",
         "type": "application/json"
        }
       ],
       "type": "FeatureCollection"
      },
      "text/plain": [
       "<IPython.core.display.JSON object>"
      ]
     },
     "execution_count": 22,
     "metadata": {
      "application/json": {
       "expanded": false,
       "root": "root"
      }
     },
     "output_type": "execute_result"
    }
   ],
   "source": [
    "search_results = search_item(req_body_poi).json()\n",
    "ppjson(search_results)"
   ]
  },
  {
   "cell_type": "markdown",
   "id": "164b183e-4cec-4165-b7d1-2aa06518807b",
   "metadata": {},
   "source": [
    "Now that we have the assets that intersect the point we have given\n",
    "`my_first_poi` let us draw a map centered on the point and add a marker\n",
    "placed on it.\n",
    "\n",
    "## Visualizing the collection\n",
    "\n",
    "First we need to install\n",
    "[ipyleaflet](https://ipyleaflet.readthedocs.io/en/latest/)."
   ]
  },
  {
   "cell_type": "code",
   "execution_count": 23,
   "id": "6f6bcc3d-dc2b-4871-a8b8-f64666c4aee3",
   "metadata": {},
   "outputs": [
    {
     "name": "stdout",
     "output_type": "stream",
     "text": [
      "Requirement already satisfied: ipyleaflet in /Users/appa/.virtualenvs/httpx-notebooks/lib/python3.11/site-packages (0.17.2)\n",
      "Requirement already satisfied: ipywidgets<9,>=7.6.0 in /Users/appa/.virtualenvs/httpx-notebooks/lib/python3.11/site-packages (from ipyleaflet) (8.0.4)\n",
      "Requirement already satisfied: traittypes<3,>=0.2.1 in /Users/appa/.virtualenvs/httpx-notebooks/lib/python3.11/site-packages (from ipyleaflet) (0.2.1)\n",
      "Requirement already satisfied: xyzservices>=2021.8.1 in /Users/appa/.virtualenvs/httpx-notebooks/lib/python3.11/site-packages (from ipyleaflet) (2023.2.0)\n",
      "Requirement already satisfied: branca>=0.5.0 in /Users/appa/.virtualenvs/httpx-notebooks/lib/python3.11/site-packages (from ipyleaflet) (0.6.0)\n",
      "Requirement already satisfied: jinja2 in /Users/appa/.virtualenvs/httpx-notebooks/lib/python3.11/site-packages (from branca>=0.5.0->ipyleaflet) (3.1.2)\n",
      "Requirement already satisfied: ipykernel>=4.5.1 in /Users/appa/.virtualenvs/httpx-notebooks/lib/python3.11/site-packages (from ipywidgets<9,>=7.6.0->ipyleaflet) (6.21.2)\n",
      "Requirement already satisfied: ipython>=6.1.0 in /Users/appa/.virtualenvs/httpx-notebooks/lib/python3.11/site-packages (from ipywidgets<9,>=7.6.0->ipyleaflet) (8.10.0)\n",
      "Requirement already satisfied: traitlets>=4.3.1 in /Users/appa/.virtualenvs/httpx-notebooks/lib/python3.11/site-packages (from ipywidgets<9,>=7.6.0->ipyleaflet) (5.9.0)\n",
      "Requirement already satisfied: widgetsnbextension~=4.0 in /Users/appa/.virtualenvs/httpx-notebooks/lib/python3.11/site-packages (from ipywidgets<9,>=7.6.0->ipyleaflet) (4.0.5)\n",
      "Requirement already satisfied: jupyterlab-widgets~=3.0 in /Users/appa/.virtualenvs/httpx-notebooks/lib/python3.11/site-packages (from ipywidgets<9,>=7.6.0->ipyleaflet) (3.0.5)\n",
      "Requirement already satisfied: appnope in /Users/appa/.virtualenvs/httpx-notebooks/lib/python3.11/site-packages (from ipykernel>=4.5.1->ipywidgets<9,>=7.6.0->ipyleaflet) (0.1.3)\n",
      "Requirement already satisfied: comm>=0.1.1 in /Users/appa/.virtualenvs/httpx-notebooks/lib/python3.11/site-packages (from ipykernel>=4.5.1->ipywidgets<9,>=7.6.0->ipyleaflet) (0.1.2)\n",
      "Requirement already satisfied: debugpy>=1.6.5 in /Users/appa/.virtualenvs/httpx-notebooks/lib/python3.11/site-packages (from ipykernel>=4.5.1->ipywidgets<9,>=7.6.0->ipyleaflet) (1.6.6)\n",
      "Requirement already satisfied: jupyter-client>=6.1.12 in /Users/appa/.virtualenvs/httpx-notebooks/lib/python3.11/site-packages (from ipykernel>=4.5.1->ipywidgets<9,>=7.6.0->ipyleaflet) (8.0.3)\n",
      "Requirement already satisfied: jupyter-core!=5.0.*,>=4.12 in /Users/appa/.virtualenvs/httpx-notebooks/lib/python3.11/site-packages (from ipykernel>=4.5.1->ipywidgets<9,>=7.6.0->ipyleaflet) (5.2.0)\n",
      "Requirement already satisfied: matplotlib-inline>=0.1 in /Users/appa/.virtualenvs/httpx-notebooks/lib/python3.11/site-packages (from ipykernel>=4.5.1->ipywidgets<9,>=7.6.0->ipyleaflet) (0.1.6)\n",
      "Requirement already satisfied: nest-asyncio in /Users/appa/.virtualenvs/httpx-notebooks/lib/python3.11/site-packages (from ipykernel>=4.5.1->ipywidgets<9,>=7.6.0->ipyleaflet) (1.5.6)\n",
      "Requirement already satisfied: packaging in /Users/appa/.virtualenvs/httpx-notebooks/lib/python3.11/site-packages (from ipykernel>=4.5.1->ipywidgets<9,>=7.6.0->ipyleaflet) (23.0)\n",
      "Requirement already satisfied: psutil in /Users/appa/.virtualenvs/httpx-notebooks/lib/python3.11/site-packages (from ipykernel>=4.5.1->ipywidgets<9,>=7.6.0->ipyleaflet) (5.9.4)\n",
      "Requirement already satisfied: pyzmq>=20 in /Users/appa/.virtualenvs/httpx-notebooks/lib/python3.11/site-packages (from ipykernel>=4.5.1->ipywidgets<9,>=7.6.0->ipyleaflet) (25.0.0)\n",
      "Requirement already satisfied: tornado>=6.1 in /Users/appa/.virtualenvs/httpx-notebooks/lib/python3.11/site-packages (from ipykernel>=4.5.1->ipywidgets<9,>=7.6.0->ipyleaflet) (6.2)\n",
      "Requirement already satisfied: backcall in /Users/appa/.virtualenvs/httpx-notebooks/lib/python3.11/site-packages (from ipython>=6.1.0->ipywidgets<9,>=7.6.0->ipyleaflet) (0.2.0)\n",
      "Requirement already satisfied: decorator in /Users/appa/.virtualenvs/httpx-notebooks/lib/python3.11/site-packages (from ipython>=6.1.0->ipywidgets<9,>=7.6.0->ipyleaflet) (5.1.1)\n",
      "Requirement already satisfied: jedi>=0.16 in /Users/appa/.virtualenvs/httpx-notebooks/lib/python3.11/site-packages (from ipython>=6.1.0->ipywidgets<9,>=7.6.0->ipyleaflet) (0.18.2)\n",
      "Requirement already satisfied: pickleshare in /Users/appa/.virtualenvs/httpx-notebooks/lib/python3.11/site-packages (from ipython>=6.1.0->ipywidgets<9,>=7.6.0->ipyleaflet) (0.7.5)\n",
      "Requirement already satisfied: prompt-toolkit<3.1.0,>=3.0.30 in /Users/appa/.virtualenvs/httpx-notebooks/lib/python3.11/site-packages (from ipython>=6.1.0->ipywidgets<9,>=7.6.0->ipyleaflet) (3.0.36)\n",
      "Requirement already satisfied: pygments>=2.4.0 in /Users/appa/.virtualenvs/httpx-notebooks/lib/python3.11/site-packages (from ipython>=6.1.0->ipywidgets<9,>=7.6.0->ipyleaflet) (2.14.0)\n",
      "Requirement already satisfied: stack-data in /Users/appa/.virtualenvs/httpx-notebooks/lib/python3.11/site-packages (from ipython>=6.1.0->ipywidgets<9,>=7.6.0->ipyleaflet) (0.6.2)\n",
      "Requirement already satisfied: pexpect>4.3 in /Users/appa/.virtualenvs/httpx-notebooks/lib/python3.11/site-packages (from ipython>=6.1.0->ipywidgets<9,>=7.6.0->ipyleaflet) (4.8.0)\n",
      "Requirement already satisfied: MarkupSafe>=2.0 in /Users/appa/.virtualenvs/httpx-notebooks/lib/python3.11/site-packages (from jinja2->branca>=0.5.0->ipyleaflet) (2.1.2)\n",
      "Requirement already satisfied: parso<0.9.0,>=0.8.0 in /Users/appa/.virtualenvs/httpx-notebooks/lib/python3.11/site-packages (from jedi>=0.16->ipython>=6.1.0->ipywidgets<9,>=7.6.0->ipyleaflet) (0.8.3)\n",
      "Requirement already satisfied: python-dateutil>=2.8.2 in /Users/appa/.virtualenvs/httpx-notebooks/lib/python3.11/site-packages (from jupyter-client>=6.1.12->ipykernel>=4.5.1->ipywidgets<9,>=7.6.0->ipyleaflet) (2.8.2)\n",
      "Requirement already satisfied: platformdirs>=2.5 in /Users/appa/.virtualenvs/httpx-notebooks/lib/python3.11/site-packages (from jupyter-core!=5.0.*,>=4.12->ipykernel>=4.5.1->ipywidgets<9,>=7.6.0->ipyleaflet) (3.0.0)\n",
      "Requirement already satisfied: ptyprocess>=0.5 in /Users/appa/.virtualenvs/httpx-notebooks/lib/python3.11/site-packages (from pexpect>4.3->ipython>=6.1.0->ipywidgets<9,>=7.6.0->ipyleaflet) (0.7.0)\n",
      "Requirement already satisfied: wcwidth in /Users/appa/.virtualenvs/httpx-notebooks/lib/python3.11/site-packages (from prompt-toolkit<3.1.0,>=3.0.30->ipython>=6.1.0->ipywidgets<9,>=7.6.0->ipyleaflet) (0.2.6)\n",
      "Requirement already satisfied: executing>=1.2.0 in /Users/appa/.virtualenvs/httpx-notebooks/lib/python3.11/site-packages (from stack-data->ipython>=6.1.0->ipywidgets<9,>=7.6.0->ipyleaflet) (1.2.0)\n",
      "Requirement already satisfied: asttokens>=2.1.0 in /Users/appa/.virtualenvs/httpx-notebooks/lib/python3.11/site-packages (from stack-data->ipython>=6.1.0->ipywidgets<9,>=7.6.0->ipyleaflet) (2.2.1)\n",
      "Requirement already satisfied: pure-eval in /Users/appa/.virtualenvs/httpx-notebooks/lib/python3.11/site-packages (from stack-data->ipython>=6.1.0->ipywidgets<9,>=7.6.0->ipyleaflet) (0.2.2)\n",
      "Requirement already satisfied: six in /Users/appa/.virtualenvs/httpx-notebooks/lib/python3.11/site-packages (from asttokens>=2.1.0->stack-data->ipython>=6.1.0->ipywidgets<9,>=7.6.0->ipyleaflet) (1.16.0)\n",
      "Note: you may need to restart the kernel to use updated packages.\n"
     ]
    }
   ],
   "source": [
    "%pip install ipyleaflet"
   ]
  },
  {
   "cell_type": "markdown",
   "id": "31dd642c-363e-4f03-a74c-c1396e400866",
   "metadata": {},
   "source": [
    "Now importing the needed methods/functions from that module."
   ]
  },
  {
   "cell_type": "code",
   "execution_count": 24,
   "id": "34bb3318-9af4-46ba-b6ce-f9ab3ed4f48e",
   "metadata": {},
   "outputs": [],
   "source": [
    "from ipyleaflet import Map, GeoJSON, Marker, AwesomeIcon"
   ]
  },
  {
   "cell_type": "markdown",
   "id": "50fd6c54-1553-4b03-b7f7-797820aa30c3",
   "metadata": {},
   "source": [
    "We need to define a center for the map. The center is given in EPSG:4326\n",
    "(WGS84 datum) as (latitude, longitude). In the definition above of POI\n",
    "we have considered a cartesian coordinate order, where longitude\n",
    "corresponds to $x$ and latitude to $y$. So they need to be reversed:\n",
    "$(x, y) \\rightarrow (y, x)$. It also needs to be in the form of a tuple."
   ]
  },
  {
   "cell_type": "code",
   "execution_count": 25,
   "id": "82aa64be-3213-489b-8e6d-693d2cc83db8",
   "metadata": {},
   "outputs": [],
   "source": [
    "my_first_map_center = tuple(my_first_poi[\"coordinates\"][::-1])"
   ]
  },
  {
   "cell_type": "markdown",
   "id": "5afe27de-4805-4e98-9458-95b68c28879b",
   "metadata": {},
   "source": []
  },
  {
   "cell_type": "code",
   "execution_count": 26,
   "id": "e34d9735-f901-4728-807f-71556bdda803",
   "metadata": {},
   "outputs": [
    {
     "data": {
      "application/vnd.jupyter.widget-view+json": {
       "model_id": "9468fadf793b49fb85b06c65d5b2875d",
       "version_major": 2,
       "version_minor": 0
      },
      "text/plain": [
       "Map(center=[38.469947, -8.98691], controls=(ZoomControl(options=['position', 'zoom_in_text', 'zoom_in_title', …"
      ]
     },
     "execution_count": 26,
     "metadata": {},
     "output_type": "execute_result"
    }
   ],
   "source": [
    "mymap = Map(center=my_first_map_center, zoom=14)\n",
    "\n",
    "# Add the AOI to the map. First style it and then add it.\n",
    "aoi_layer = GeoJSON(\n",
    "    data=search_results,\n",
    "    style={\"opacity\": 1, \"dashArray\": \"9\", \"fillOpacity\": 0.5, \"weight\": 1},\n",
    "    hover_style={\"color\": \"yellow\", \"dashArray\": \"0\", \"fillOpacity\": 0.5},\n",
    ")\n",
    "# Add a marker layer at the center.\n",
    "marker_layer = Marker(location=my_first_map_center,\n",
    "                      draggable=False,\n",
    "                      icon=AwesomeIcon(name=\"close\",\n",
    "                                       color_marker=\"green\"))\n",
    "mymap.add_layer(aoi_layer)\n",
    "mymap.add_layer(marker_layer)\n",
    "mymap"
   ]
  },
  {
   "cell_type": "markdown",
   "id": "7aa43c1f-2543-469d-b5e7-5d46148a1670",
   "metadata": {},
   "source": [
    "## Complex searches\n",
    "\n",
    "We can do complex searches using the [Common Query Language version\n",
    "2](https://docs.ogc.org/DRAFTS/21-065.html) (CQL2) as defined in the\n",
    "STAC\n",
    "[specification](https://api.stacspec.org/v1.0.0-rc.1/item-search/#tag/Item-Search/operation/postItemSearch)\n",
    "for full-featured search of STAC items.\n",
    "\n",
    "To illustrate this we are going to perform a search for all assets that\n",
    "intersect a given geometry and we want those with a cloud cover below\n",
    "10%. Of course that the latter only makes sense for optical imagery.\n",
    "\n",
    "### Building the query\n",
    "\n",
    "We need to build the query. It is composed of two parts:\n",
    "\n",
    "1.  An `intersects` field set to the geometry we are using to compute\n",
    "    the intersections.\n",
    "2.  A CQL2 filter for obtaining only the assets where the cloud coverage\n",
    "    is below 10%.\n",
    "\n",
    "#### Intersection with the geometry\n",
    "\n",
    "We are going to read a GeoJSON file with the geometry."
   ]
  },
  {
   "cell_type": "code",
   "execution_count": 27,
   "id": "6e9c8d0f-f7ca-4bd3-a7f9-5a95a508ecbe",
   "metadata": {},
   "outputs": [],
   "source": [
    "path2geom = \"../examples/portugal_envelope.geojson\""
   ]
  },
  {
   "cell_type": "code",
   "execution_count": 28,
   "id": "3d12e169-2a65-41ec-9b27-8ad7ab15b2ef",
   "metadata": {},
   "outputs": [],
   "source": [
    "import json\n",
    "with open(path2geom, \"r\") as f:\n",
    "    geom_map = json.load(f)"
   ]
  },
  {
   "cell_type": "markdown",
   "id": "309fbf6b-b18a-46fc-9e81-054af5dbfab9",
   "metadata": {},
   "source": [
    "We want to draw a map of the geometry. We need to find the center. We\n",
    "can use [shapely](https://pypi.org/project/shapely/) for that."
   ]
  },
  {
   "cell_type": "code",
   "execution_count": 29,
   "id": "50888b6a-aa2a-4d32-b733-2770f12eeb17",
   "metadata": {},
   "outputs": [
    {
     "name": "stdout",
     "output_type": "stream",
     "text": [
      "Requirement already satisfied: shapely in /Users/appa/.virtualenvs/httpx-notebooks/lib/python3.11/site-packages (2.0.1)\n",
      "Requirement already satisfied: numpy>=1.14 in /Users/appa/.virtualenvs/httpx-notebooks/lib/python3.11/site-packages (from shapely) (1.24.2)\n",
      "Note: you may need to restart the kernel to use updated packages.\n"
     ]
    }
   ],
   "source": [
    "%pip install shapely"
   ]
  },
  {
   "cell_type": "code",
   "execution_count": 30,
   "id": "b954a17d-419a-4ed5-856c-76c5a1f546c5",
   "metadata": {},
   "outputs": [],
   "source": [
    "from shapely.geometry import shape, mapping"
   ]
  },
  {
   "cell_type": "markdown",
   "id": "df9ce597-ddb5-4e15-bdc1-8149ed099496",
   "metadata": {},
   "source": [
    "We need to extract the geonetry from the collection. Let us see first\n",
    "how many features there are."
   ]
  },
  {
   "cell_type": "code",
   "execution_count": 31,
   "id": "284eac17-9aa5-4285-aff7-506eb6b2cf94",
   "metadata": {},
   "outputs": [
    {
     "data": {
      "text/plain": [
       "1"
      ]
     },
     "execution_count": 31,
     "metadata": {},
     "output_type": "execute_result"
    }
   ],
   "source": [
    "len(get_in([\"features\"], geom_map))"
   ]
  },
  {
   "cell_type": "markdown",
   "id": "253d531e-a75d-4706-91dc-e947f7f9e480",
   "metadata": {},
   "source": [
    "Only one feature. So to extract the geometry we need only to extract the\n",
    "value for the key `[\"features\"][0][\"geometry\"]`."
   ]
  },
  {
   "cell_type": "code",
   "execution_count": 32,
   "id": "3863b905-f534-4a36-b57b-b1747f872dc6",
   "metadata": {},
   "outputs": [
    {
     "data": {
      "image/svg+xml": [
       "<svg xmlns=\"http://www.w3.org/2000/svg\" xmlns:xlink=\"http://www.w3.org/1999/xlink\" width=\"100.0\" height=\"100.0\" viewBox=\"-10.054203546622787 36.60863893688931 4.271113836884608 5.750372517339173\" preserveAspectRatio=\"xMinYMin meet\"><g transform=\"matrix(1,0,0,-1,0,78.96765039111779)\"><path fill-rule=\"evenodd\" fill=\"#66cc99\" stroke=\"#555555\" stroke-width=\"0.11500745034678346\" opacity=\"0.6\" d=\"M -9.52171458613654,36.853921776429516 L -7.1631974367996065,36.82161569679076 L -5.996066469639629,42.04883107989275 L -9.841226786721336,42.14603469432703 L -9.52171458613654,36.853921776429516 z\" /></g></svg>"
      ],
      "text/plain": [
       "<POLYGON ((-9.522 36.854, -7.163 36.822, -5.996 42.049, -9.841 42.146, -9.52...>"
      ]
     },
     "execution_count": 32,
     "metadata": {},
     "output_type": "execute_result"
    }
   ],
   "source": [
    "shape_geom_map = shape(get_in([\"features\", 0, \"geometry\"], geom_map))\n",
    "shape_geom_map"
   ]
  },
  {
   "cell_type": "markdown",
   "id": "d4ea51ff-46c9-4d5e-9843-2b0e03c404a9",
   "metadata": {},
   "source": [
    "The centroid is given by:"
   ]
  },
  {
   "cell_type": "code",
   "execution_count": 33,
   "id": "539fe806-bd9d-46a0-abe2-70366a845df3",
   "metadata": {},
   "outputs": [
    {
     "name": "stdout",
     "output_type": "stream",
     "text": [
      "POINT (-8.115254781697322 39.67809052275443)\n"
     ]
    }
   ],
   "source": [
    "intersect_map_center = shape_geom_map.centroid\n",
    "print(intersect_map_center)"
   ]
  },
  {
   "cell_type": "markdown",
   "id": "58a16086-980a-4f56-8482-045b2b710dee",
   "metadata": {},
   "source": [
    "Let us draw the map."
   ]
  },
  {
   "cell_type": "code",
   "execution_count": 34,
   "id": "69ce45a6-b3c7-4401-8156-da8eea5f21e9",
   "metadata": {},
   "outputs": [
    {
     "data": {
      "application/vnd.jupyter.widget-view+json": {
       "model_id": "8fd206b2c75c40b096bf4e612e269424",
       "version_major": 2,
       "version_minor": 0
      },
      "text/plain": [
       "Map(center=[39.67809052275443, -8.115254781697322], controls=(ZoomControl(options=['position', 'zoom_in_text',…"
      ]
     },
     "execution_count": 34,
     "metadata": {},
     "output_type": "execute_result"
    }
   ],
   "source": [
    "intersect_map = Map(center=(intersect_map_center.y, intersect_map_center.x), zoom=6)\n",
    "\n",
    "# Add the AOI to the map. First style it and then add it.\n",
    "intersect_layer = GeoJSON(\n",
    "    data=geom_map,\n",
    "    style={\"opacity\": 1, \"dashArray\": \"9\", \"fillOpacity\": 0.5, \"weight\": 1},\n",
    "    hover_style={\"color\": \"yellow\", \"dashArray\": \"0\", \"fillOpacity\": 0.5},\n",
    ")\n",
    "# Add a marker layer at the center.\n",
    "intersect_marker_layer = Marker(location=(intersect_map_center.y, intersect_map_center.x),\n",
    "                                draggable=False, icon=AwesomeIcon(name=\"close\",\n",
    "                                                                  color_marker=\"green\"))\n",
    "intersect_map.add_layer(intersect_layer)\n",
    "intersect_map.add_layer(intersect_marker_layer)\n",
    "intersect_map"
   ]
  },
  {
   "cell_type": "markdown",
   "id": "bace9582-df90-460b-b5c3-4fb212a37ecd",
   "metadata": {},
   "source": [
    "This is the geometry for which we want to look for intersecting assets.\n",
    "We can start to build the request body dictionary. We need to get the\n",
    "shapely geometry to be a simple dictionary and not a shapely type."
   ]
  },
  {
   "cell_type": "code",
   "execution_count": 35,
   "id": "5180f88d-6809-43df-abc9-19f713cfd5b8",
   "metadata": {},
   "outputs": [
    {
     "data": {
      "text/plain": [
       "shapely.geometry.polygon.Polygon"
      ]
     },
     "execution_count": 35,
     "metadata": {},
     "output_type": "execute_result"
    }
   ],
   "source": [
    "type(shape_geom_map)"
   ]
  },
  {
   "cell_type": "code",
   "execution_count": 36,
   "id": "49c1f8dd-21fc-473e-aea4-75763002e316",
   "metadata": {},
   "outputs": [
    {
     "data": {
      "text/plain": [
       "{'intersects': {'type': 'Polygon',\n",
       "  'coordinates': (((-9.52171458613654, 36.853921776429516),\n",
       "    (-7.1631974367996065, 36.82161569679076),\n",
       "    (-5.996066469639629, 42.04883107989275),\n",
       "    (-9.841226786721336, 42.14603469432703),\n",
       "    (-9.52171458613654, 36.853921776429516)),)}}"
      ]
     },
     "execution_count": 36,
     "metadata": {},
     "output_type": "execute_result"
    }
   ],
   "source": [
    "intersect_req_body = dict(intersects = mapping(shape_geom_map))\n",
    "intersect_req_body"
   ]
  },
  {
   "cell_type": "markdown",
   "id": "5bb1a03f-44f1-42bc-b724-d449fbb77e42",
   "metadata": {},
   "source": [
    "Now is the time to add the CQL2 filter. This is always something of the\n",
    "form: `<filter> <operator> <args>`. The arguments can be composed of\n",
    "other operators and args. In our case we want to limit all results to be\n",
    "with a cloud cover less than 10%. In its simplest form the arguments are\n",
    "logical clauses that must be satisfied. These clauses can be represented\n",
    "in JSON as an array of operands and operators. In this case, concretely:"
   ]
  },
  {
   "cell_type": "code",
   "execution_count": 37,
   "id": "cad611cd-393d-4d11-96aa-6cfe46db2906",
   "metadata": {},
   "outputs": [
    {
     "data": {
      "text/plain": [
       "{'filter': {'args': [{'property': 'eo:cloud_cover'}, 10], 'op': '<'}}"
      ]
     },
     "execution_count": 37,
     "metadata": {},
     "output_type": "execute_result"
    }
   ],
   "source": [
    "my_cloud_cover_dict = dict(filter=dict(args=[\n",
    "    dict(property=\"eo:cloud_cover\"), 10],\n",
    "    op=\"<\"))\n",
    "my_cloud_cover_dict"
   ]
  },
  {
   "cell_type": "markdown",
   "id": "e47e2d8b-8401-4931-a6ea-cf331d3f03da",
   "metadata": {},
   "source": [
    "The structure of CQL2 is basically a [syntax\n",
    "tree](https://en.wikipedia.org/wiki/Abstract_syntax_tree) with the nodes\n",
    "being the operators and the root being the node `filter`.\n",
    "\n",
    "Now we can update the request body with this filter."
   ]
  },
  {
   "cell_type": "code",
   "execution_count": 38,
   "id": "114332f7-9e1e-4cdd-abfb-2e81a908d461",
   "metadata": {},
   "outputs": [
    {
     "data": {
      "text/plain": [
       "{'intersects': {'type': 'Polygon',\n",
       "  'coordinates': (((-9.52171458613654, 36.853921776429516),\n",
       "    (-7.1631974367996065, 36.82161569679076),\n",
       "    (-5.996066469639629, 42.04883107989275),\n",
       "    (-9.841226786721336, 42.14603469432703),\n",
       "    (-9.52171458613654, 36.853921776429516)),)},\n",
       " 'filter': {'args': [{'property': 'eo:cloud_cover'}, 10], 'op': '<'}}"
      ]
     },
     "execution_count": 38,
     "metadata": {},
     "output_type": "execute_result"
    }
   ],
   "source": [
    "new_intersect_req_body = intersect_req_body | my_cloud_cover_dict\n",
    "new_intersect_req_body"
   ]
  },
  {
   "cell_type": "markdown",
   "id": "dc328550-7475-4946-a500-9f15f2d5f8e1",
   "metadata": {},
   "source": [
    "We can now perform the search:"
   ]
  },
  {
   "cell_type": "code",
   "execution_count": 39,
   "id": "7b7ed597-e70b-428b-93bf-97ea603e3e27",
   "metadata": {},
   "outputs": [
    {
     "data": {
      "application/json": {
       "features": [
        {
         "assets": {
          "data": {
           "description": "Storage Data",
           "href": "https://api.up42.com/v2/assets/279e056f-2a51-414f-b304-bdf3812b365f",
           "roles": [
            "data"
           ],
           "title": "Data",
           "type": "application/gzip"
          }
         },
         "bbox": [
          -9.32847222222222,
          38.6747777777778,
          -9.31731944444445,
          38.6822222222222
         ],
         "collection": "fc530e48-b5b3-4e84-b428-5c4cd8ebf738",
         "geometry": {
          "coordinates": [
           [
            [
             -9.32707870370371,
             38.6822222222222
            ],
            [
             -9.31731944444445,
             38.6807685185185
            ],
            [
             -9.31732870370371,
             38.6806481481482
            ],
            [
             -9.318625,
             38.6747777777778
            ],
            [
             -9.32847222222222,
             38.6760740740741
            ],
            [
             -9.32707870370371,
             38.6822222222222
            ]
           ]
          ],
          "type": "Polygon"
         },
         "id": "633df94f-e50a-4689-9e5f-dfb607f1af40",
         "links": [
          {
           "href": "https://api.up42.com/v2/assets/stac/collections/fc530e48-b5b3-4e84-b428-5c4cd8ebf738/items/633df94f-e50a-4689-9e5f-dfb607f1af40",
           "rel": "self",
           "type": "application/geo+json"
          },
          {
           "href": "https://api.up42.com/v2/assets/stac/collections/fc530e48-b5b3-4e84-b428-5c4cd8ebf738",
           "rel": "parent",
           "type": "application/json"
          },
          {
           "href": "https://api.up42.com/v2/assets/stac/collections/fc530e48-b5b3-4e84-b428-5c4cd8ebf738",
           "rel": "collection",
           "type": "application/json"
          },
          {
           "href": "https://api.up42.com/v2/assets/stac/",
           "rel": "root",
           "type": "application/json"
          }
         ],
         "properties": {
          "constellation": "PHR",
          "datetime": "2021-09-28T11:41:04+00:00",
          "end_datetime": "2021-09-28T11:41:04+00:00",
          "eo:cloud_cover": 0,
          "gsd": 0.777437200985593,
          "platform": "PHR-1A",
          "proj:epsg": 4326,
          "start_datetime": "2021-09-28T11:41:04+00:00",
          "title": "DS_PHR1A_202109281140270_FR1_PX_W010N38_0819_01689_R1C1",
          "up42-product:data_type": "raster",
          "up42-product:modality": "multispectral",
          "up42-system:account_id": "3c86279b-610a-4dba-ad12-abe3bdc51428",
          "up42-system:asset_id": "279e056f-2a51-414f-b304-bdf3812b365f",
          "up42-system:metadata_version": "0.0.4",
          "up42-system:workspace_id": "99ddadc6-07ba-436a-bd03-ca6bb6db7f54",
          "view:azimuth": 180.25411102791563,
          "view:incidence_angle": 21.31467044540548,
          "view:sun_azimuth": 162.49380788577156,
          "view:sun_elevation": 47.71000963146031
         },
         "stac_extensions": [
          "https://api.up42.com/stac-extensions/up42-system/v1.0.0/schema.json",
          "https://stac-extensions.github.io/eo/v1.0.0/schema.json",
          "https://stac-extensions.github.io/projection/v1.0.0/schema.json",
          "https://stac-extensions.github.io/view/v1.0.0/schema.json",
          "https://api.up42.com/stac-extensions/up42-product/v1.0.0/schema.json"
         ],
         "stac_version": "1.0.0",
         "type": "Feature"
        },
        {
         "assets": {
          "data": {
           "description": "Storage Data",
           "href": "https://api.up42.com/v2/assets/6cccf02d-ad53-4f18-a5cf-91a2d83d9127",
           "roles": [
            "data"
           ],
           "title": "Data",
           "type": "application/gzip"
          }
         },
         "bbox": [
          -9.32845833333334,
          38.6747777777778,
          -9.31731944444445,
          38.6822037037037
         ],
         "collection": "85772fe9-6a47-4b5a-b595-47e615a2dad7",
         "geometry": {
          "coordinates": [
           [
            [
             -9.32708333333334,
             38.6822037037037
            ],
            [
             -9.32688888888889,
             38.6821944444445
            ],
            [
             -9.31731944444445,
             38.6807685185185
            ],
            [
             -9.31732870370371,
             38.6806481481482
            ],
            [
             -9.318625,
             38.6747777777778
            ],
            [
             -9.32845833333334,
             38.6760694444445
            ],
            [
             -9.32845370370371,
             38.6761712962963
            ],
            [
             -9.32708333333334,
             38.6822037037037
            ]
           ]
          ],
          "type": "Polygon"
         },
         "id": "20de7e33-3517-46e6-817d-f982dfa94472",
         "links": [
          {
           "href": "https://api.up42.com/v2/assets/stac/collections/85772fe9-6a47-4b5a-b595-47e615a2dad7/items/20de7e33-3517-46e6-817d-f982dfa94472",
           "rel": "self",
           "type": "application/geo+json"
          },
          {
           "href": "https://api.up42.com/v2/assets/stac/collections/85772fe9-6a47-4b5a-b595-47e615a2dad7",
           "rel": "parent",
           "type": "application/json"
          },
          {
           "href": "https://api.up42.com/v2/assets/stac/collections/85772fe9-6a47-4b5a-b595-47e615a2dad7",
           "rel": "collection",
           "type": "application/json"
          },
          {
           "href": "https://api.up42.com/v2/assets/stac/",
           "rel": "root",
           "type": "application/json"
          }
         ],
         "properties": {
          "constellation": "PHR",
          "datetime": "2021-09-28T11:41:04+00:00",
          "end_datetime": "2021-09-28T11:41:04+00:00",
          "eo:cloud_cover": 0,
          "gsd": 0.7774531214913313,
          "platform": "PHR-1A",
          "proj:epsg": 4326,
          "start_datetime": "2021-09-28T11:41:04+00:00",
          "title": "DS_PHR1A_202109281140270_FR1_PX_W010N38_0819_01689_R1C1",
          "up42-product:data_type": "raster",
          "up42-product:modality": "multispectral",
          "up42-system:account_id": "3c86279b-610a-4dba-ad12-abe3bdc51428",
          "up42-system:asset_id": "6cccf02d-ad53-4f18-a5cf-91a2d83d9127",
          "up42-system:metadata_version": "0.0.4",
          "up42-system:workspace_id": "99ddadc6-07ba-436a-bd03-ca6bb6db7f54",
          "view:azimuth": 180.25410633660246,
          "view:incidence_angle": 21.31472384961182,
          "view:sun_azimuth": 162.49381906141997,
          "view:sun_elevation": 47.71002077752425
         },
         "stac_extensions": [
          "https://api.up42.com/stac-extensions/up42-system/v1.0.0/schema.json",
          "https://stac-extensions.github.io/eo/v1.0.0/schema.json",
          "https://stac-extensions.github.io/projection/v1.0.0/schema.json",
          "https://stac-extensions.github.io/view/v1.0.0/schema.json",
          "https://api.up42.com/stac-extensions/up42-product/v1.0.0/schema.json"
         ],
         "stac_version": "1.0.0",
         "type": "Feature"
        },
        {
         "assets": {
          "data": {
           "description": "Storage Data",
           "href": "https://api.up42.com/v2/assets/2e0e895c-9ef1-4bcf-9a51-c78a50f79b8f",
           "roles": [
            "data"
           ],
           "title": "Data",
           "type": "application/gzip"
          }
         },
         "bbox": [
          -9.32847222222223,
          38.6747777777778,
          -9.31734722222223,
          38.6822222222223
         ],
         "collection": "095214a8-9869-4c59-9f30-030e921dd73c",
         "geometry": {
          "coordinates": [
           [
            [
             -9.32708333333334,
             38.6822222222223
            ],
            [
             -9.31734722222223,
             38.6807777777778
            ],
            [
             -9.31734722222223,
             38.6805416666667
            ],
            [
             -9.31862500000001,
             38.6747777777778
            ],
            [
             -9.32847222222223,
             38.6760694444445
            ],
            [
             -9.32708333333334,
             38.6822222222223
            ]
           ]
          ],
          "type": "Polygon"
         },
         "id": "226273e9-b930-41fd-b501-32cd02705f30",
         "links": [
          {
           "href": "https://api.up42.com/v2/assets/stac/collections/095214a8-9869-4c59-9f30-030e921dd73c/items/226273e9-b930-41fd-b501-32cd02705f30",
           "rel": "self",
           "type": "application/geo+json"
          },
          {
           "href": "https://api.up42.com/v2/assets/stac/collections/095214a8-9869-4c59-9f30-030e921dd73c",
           "rel": "parent",
           "type": "application/json"
          },
          {
           "href": "https://api.up42.com/v2/assets/stac/collections/095214a8-9869-4c59-9f30-030e921dd73c",
           "rel": "collection",
           "type": "application/json"
          },
          {
           "href": "https://api.up42.com/v2/assets/stac/",
           "rel": "root",
           "type": "application/json"
          }
         ],
         "properties": {
          "constellation": "SPOT",
          "datetime": "2021-03-18T11:03:09.200000+00:00",
          "end_datetime": "2021-03-18T11:03:09.200000+00:00",
          "eo:cloud_cover": 0,
          "gsd": 2.2844800858818637,
          "platform": "SPOT-7",
          "proj:epsg": 4326,
          "start_datetime": "2021-03-18T11:03:09.200000+00:00",
          "title": "ORT_SPOT7_20210318_110309400_000_R1C1",
          "up42-product:data_type": "raster",
          "up42-product:modality": "multispectral",
          "up42-system:account_id": "3c86279b-610a-4dba-ad12-abe3bdc51428",
          "up42-system:asset_id": "2e0e895c-9ef1-4bcf-9a51-c78a50f79b8f",
          "up42-system:metadata_version": "0.0.4",
          "up42-system:workspace_id": "99ddadc6-07ba-436a-bd03-ca6bb6db7f54",
          "view:azimuth": 1.0298671980741014,
          "view:incidence_angle": 12.813277209275789,
          "view:sun_azimuth": 143.20802030283733,
          "view:sun_elevation": 44.14567890439622
         },
         "stac_extensions": [
          "https://api.up42.com/stac-extensions/up42-system/v1.0.0/schema.json",
          "https://stac-extensions.github.io/eo/v1.0.0/schema.json",
          "https://stac-extensions.github.io/view/v1.0.0/schema.json",
          "https://api.up42.com/stac-extensions/up42-product/v1.0.0/schema.json",
          "https://stac-extensions.github.io/projection/v1.0.0/schema.json"
         ],
         "stac_version": "1.0.0",
         "type": "Feature"
        },
        {
         "assets": {
          "data": {
           "description": "Storage Data",
           "href": "https://api.up42.com/v2/assets/f0bf776e-facc-4507-af97-0bbd3ee7cb02",
           "roles": [
            "data"
           ],
           "title": "Data",
           "type": "application/gzip"
          }
         },
         "bbox": [
          -9.32847222222223,
          38.6747777777778,
          -9.31734722222223,
          38.6822222222223
         ],
         "collection": "90aa8d54-fa27-4682-bf44-c39b83d88dc1",
         "geometry": {
          "coordinates": [
           [
            [
             -9.32708333333334,
             38.6822222222223
            ],
            [
             -9.31734722222223,
             38.6807777777778
            ],
            [
             -9.31734722222223,
             38.6805416666667
            ],
            [
             -9.31862500000001,
             38.6747777777778
            ],
            [
             -9.32847222222223,
             38.6760694444445
            ],
            [
             -9.32708333333334,
             38.6822222222223
            ]
           ]
          ],
          "type": "Polygon"
         },
         "id": "d8f20bf2-0dd9-4b00-a36f-7bf3f62c73a7",
         "links": [
          {
           "href": "https://api.up42.com/v2/assets/stac/collections/90aa8d54-fa27-4682-bf44-c39b83d88dc1/items/d8f20bf2-0dd9-4b00-a36f-7bf3f62c73a7",
           "rel": "self",
           "type": "application/geo+json"
          },
          {
           "href": "https://api.up42.com/v2/assets/stac/collections/90aa8d54-fa27-4682-bf44-c39b83d88dc1",
           "rel": "parent",
           "type": "application/json"
          },
          {
           "href": "https://api.up42.com/v2/assets/stac/collections/90aa8d54-fa27-4682-bf44-c39b83d88dc1",
           "rel": "collection",
           "type": "application/json"
          },
          {
           "href": "https://api.up42.com/v2/assets/stac/",
           "rel": "root",
           "type": "application/json"
          }
         ],
         "properties": {
          "constellation": "SPOT",
          "datetime": "2021-03-18T11:03:09.200000+00:00",
          "end_datetime": "2021-03-18T11:03:09.200000+00:00",
          "eo:cloud_cover": 0,
          "gsd": 2.2844800858818637,
          "platform": "SPOT-7",
          "proj:epsg": 4326,
          "start_datetime": "2021-03-18T11:03:09.200000+00:00",
          "title": "ORT_SPOT7_20210318_110309400_000_R1C1",
          "up42-product:data_type": "raster",
          "up42-product:modality": "multispectral",
          "up42-system:account_id": "3c86279b-610a-4dba-ad12-abe3bdc51428",
          "up42-system:asset_id": "f0bf776e-facc-4507-af97-0bbd3ee7cb02",
          "up42-system:metadata_version": "0.0.4",
          "up42-system:workspace_id": "99ddadc6-07ba-436a-bd03-ca6bb6db7f54",
          "view:azimuth": 1.0298671980741014,
          "view:incidence_angle": 12.813277209275789,
          "view:sun_azimuth": 143.20802030283733,
          "view:sun_elevation": 44.14567890439622
         },
         "stac_extensions": [
          "https://stac-extensions.github.io/eo/v1.0.0/schema.json",
          "https://api.up42.com/stac-extensions/up42-product/v1.0.0/schema.json",
          "https://stac-extensions.github.io/view/v1.0.0/schema.json",
          "https://stac-extensions.github.io/projection/v1.0.0/schema.json",
          "https://api.up42.com/stac-extensions/up42-system/v1.0.0/schema.json"
         ],
         "stac_version": "1.0.0",
         "type": "Feature"
        },
        {
         "assets": {
          "data": {
           "description": "Storage Data",
           "href": "https://api.up42.com/v2/assets/01290918-8d63-40ec-981c-0baa6123f81a",
           "roles": [
            "data"
           ],
           "title": "Data",
           "type": "application/gzip"
          }
         },
         "bbox": [
          -9.32847222222222,
          38.6747777777778,
          -9.31731944444445,
          38.6822222222222
         ],
         "collection": "6ec5f90c-c104-497c-bd27-21f12dad3773",
         "geometry": {
          "coordinates": [
           [
            [
             -9.32707870370371,
             38.6822222222222
            ],
            [
             -9.31731944444445,
             38.6807685185185
            ],
            [
             -9.31732870370371,
             38.6806481481482
            ],
            [
             -9.318625,
             38.6747777777778
            ],
            [
             -9.32847222222222,
             38.6760740740741
            ],
            [
             -9.32707870370371,
             38.6822222222222
            ]
           ]
          ],
          "type": "Polygon"
         },
         "id": "e2c80a55-9f03-49e5-b579-9c02ee6aa718",
         "links": [
          {
           "href": "https://api.up42.com/v2/assets/stac/collections/6ec5f90c-c104-497c-bd27-21f12dad3773/items/e2c80a55-9f03-49e5-b579-9c02ee6aa718",
           "rel": "self",
           "type": "application/geo+json"
          },
          {
           "href": "https://api.up42.com/v2/assets/stac/collections/6ec5f90c-c104-497c-bd27-21f12dad3773",
           "rel": "parent",
           "type": "application/json"
          },
          {
           "href": "https://api.up42.com/v2/assets/stac/collections/6ec5f90c-c104-497c-bd27-21f12dad3773",
           "rel": "collection",
           "type": "application/json"
          },
          {
           "href": "https://api.up42.com/v2/assets/stac/",
           "rel": "root",
           "type": "application/json"
          }
         ],
         "properties": {
          "constellation": "PHR",
          "datetime": "2021-09-28T11:41:04+00:00",
          "end_datetime": "2021-09-28T11:41:04+00:00",
          "eo:cloud_cover": 0,
          "gsd": 0.777437200985593,
          "platform": "PHR-1A",
          "proj:epsg": 4326,
          "start_datetime": "2021-09-28T11:41:04+00:00",
          "title": "DS_PHR1A_202109281140270_FR1_PX_W010N38_0819_01689_R1C1",
          "up42-product:data_type": "raster",
          "up42-product:modality": "multispectral",
          "up42-system:account_id": "3c86279b-610a-4dba-ad12-abe3bdc51428",
          "up42-system:asset_id": "01290918-8d63-40ec-981c-0baa6123f81a",
          "up42-system:metadata_version": "0.0.4",
          "up42-system:workspace_id": "99ddadc6-07ba-436a-bd03-ca6bb6db7f54",
          "view:azimuth": 180.25411102791563,
          "view:incidence_angle": 21.31467044540548,
          "view:sun_azimuth": 162.49380788577156,
          "view:sun_elevation": 47.71000963146031
         },
         "stac_extensions": [
          "https://api.up42.com/stac-extensions/up42-product/v1.0.0/schema.json",
          "https://stac-extensions.github.io/eo/v1.0.0/schema.json",
          "https://stac-extensions.github.io/projection/v1.0.0/schema.json",
          "https://api.up42.com/stac-extensions/up42-system/v1.0.0/schema.json",
          "https://stac-extensions.github.io/view/v1.0.0/schema.json"
         ],
         "stac_version": "1.0.0",
         "type": "Feature"
        },
        {
         "assets": {
          "data": {
           "description": "Storage Data",
           "href": "https://api.up42.com/v2/assets/54ff22a9-60be-41cd-a8de-7f0ed8e95356",
           "roles": [
            "data"
           ],
           "title": "Data",
           "type": "application/gzip"
          }
         },
         "bbox": [
          -9.32847222222222,
          38.6747777777778,
          -9.31731944444445,
          38.6822222222222
         ],
         "collection": "12f0a2da-41dc-4a0c-acff-11c5d85c39b7",
         "geometry": {
          "coordinates": [
           [
            [
             -9.32707870370371,
             38.6822222222222
            ],
            [
             -9.31731944444445,
             38.6807685185185
            ],
            [
             -9.31732870370371,
             38.6806481481482
            ],
            [
             -9.318625,
             38.6747777777778
            ],
            [
             -9.32847222222222,
             38.6760740740741
            ],
            [
             -9.32707870370371,
             38.6822222222222
            ]
           ]
          ],
          "type": "Polygon"
         },
         "id": "54115beb-2072-49db-a319-0157e1df1bdf",
         "links": [
          {
           "href": "https://api.up42.com/v2/assets/stac/collections/12f0a2da-41dc-4a0c-acff-11c5d85c39b7/items/54115beb-2072-49db-a319-0157e1df1bdf",
           "rel": "self",
           "type": "application/geo+json"
          },
          {
           "href": "https://api.up42.com/v2/assets/stac/collections/12f0a2da-41dc-4a0c-acff-11c5d85c39b7",
           "rel": "parent",
           "type": "application/json"
          },
          {
           "href": "https://api.up42.com/v2/assets/stac/collections/12f0a2da-41dc-4a0c-acff-11c5d85c39b7",
           "rel": "collection",
           "type": "application/json"
          },
          {
           "href": "https://api.up42.com/v2/assets/stac/",
           "rel": "root",
           "type": "application/json"
          }
         ],
         "properties": {
          "constellation": "PHR",
          "datetime": "2021-09-28T11:40:13.400000+00:00",
          "end_datetime": "2021-09-28T11:40:13.400000+00:00",
          "eo:cloud_cover": 0,
          "gsd": 0.7414565129976758,
          "platform": "PHR-1A",
          "proj:epsg": 4326,
          "start_datetime": "2021-09-28T11:40:13.400000+00:00",
          "title": "DS_PHR1A_202109281139364_FR1_PX_W010N38_0819_01650_R1C1",
          "up42-product:data_type": "raster",
          "up42-product:modality": "multispectral",
          "up42-system:account_id": "3c86279b-610a-4dba-ad12-abe3bdc51428",
          "up42-system:asset_id": "54ff22a9-60be-41cd-a8de-7f0ed8e95356",
          "up42-system:metadata_version": "0.0.4",
          "up42-system:workspace_id": "99ddadc6-07ba-436a-bd03-ca6bb6db7f54",
          "view:azimuth": 180.0482727388569,
          "view:incidence_angle": 15.489843325834618,
          "view:sun_azimuth": 162.18931589326013,
          "view:sun_elevation": 47.660241281314555
         },
         "stac_extensions": [
          "https://stac-extensions.github.io/projection/v1.0.0/schema.json",
          "https://stac-extensions.github.io/eo/v1.0.0/schema.json",
          "https://api.up42.com/stac-extensions/up42-product/v1.0.0/schema.json",
          "https://api.up42.com/stac-extensions/up42-system/v1.0.0/schema.json",
          "https://stac-extensions.github.io/view/v1.0.0/schema.json"
         ],
         "stac_version": "1.0.0",
         "type": "Feature"
        },
        {
         "assets": {
          "data": {
           "description": "Storage Data",
           "href": "https://api.up42.com/v2/assets/6eee2862-53fb-4826-bb3a-118447183e48",
           "roles": [
            "data"
           ],
           "title": "Data",
           "type": "application/gzip"
          }
         },
         "bbox": [
          -9.32847222222222,
          38.6747777777778,
          -9.31731944444445,
          38.6822222222222
         ],
         "collection": "753c9800-376f-45a5-99be-e858b8154a18",
         "geometry": {
          "coordinates": [
           [
            [
             -9.32707870370371,
             38.6822222222222
            ],
            [
             -9.31731944444445,
             38.6807685185185
            ],
            [
             -9.31732870370371,
             38.6806481481482
            ],
            [
             -9.318625,
             38.6747777777778
            ],
            [
             -9.32847222222222,
             38.6760740740741
            ],
            [
             -9.32707870370371,
             38.6822222222222
            ]
           ]
          ],
          "type": "Polygon"
         },
         "id": "b3e311c9-33a4-4d30-8db1-ffd0fecfc3ed",
         "links": [
          {
           "href": "https://api.up42.com/v2/assets/stac/collections/753c9800-376f-45a5-99be-e858b8154a18/items/b3e311c9-33a4-4d30-8db1-ffd0fecfc3ed",
           "rel": "self",
           "type": "application/geo+json"
          },
          {
           "href": "https://api.up42.com/v2/assets/stac/collections/753c9800-376f-45a5-99be-e858b8154a18",
           "rel": "parent",
           "type": "application/json"
          },
          {
           "href": "https://api.up42.com/v2/assets/stac/collections/753c9800-376f-45a5-99be-e858b8154a18",
           "rel": "collection",
           "type": "application/json"
          },
          {
           "href": "https://api.up42.com/v2/assets/stac/",
           "rel": "root",
           "type": "application/json"
          }
         ],
         "properties": {
          "constellation": "PHR",
          "datetime": "2021-09-28T11:41:04+00:00",
          "end_datetime": "2021-09-28T11:41:04+00:00",
          "eo:cloud_cover": 0,
          "gsd": 0.777437200985593,
          "platform": "PHR-1A",
          "proj:epsg": 4326,
          "start_datetime": "2021-09-28T11:41:04+00:00",
          "title": "DS_PHR1A_202109281140270_FR1_PX_W010N38_0819_01689_R1C1",
          "up42-product:data_type": "raster",
          "up42-product:modality": "multispectral",
          "up42-system:account_id": "3c86279b-610a-4dba-ad12-abe3bdc51428",
          "up42-system:asset_id": "6eee2862-53fb-4826-bb3a-118447183e48",
          "up42-system:metadata_version": "0.0.4",
          "up42-system:workspace_id": "99ddadc6-07ba-436a-bd03-ca6bb6db7f54",
          "view:azimuth": 180.25411102791563,
          "view:incidence_angle": 21.31467044540548,
          "view:sun_azimuth": 162.49380788577156,
          "view:sun_elevation": 47.71000963146031
         },
         "stac_extensions": [
          "https://api.up42.com/stac-extensions/up42-system/v1.0.0/schema.json",
          "https://stac-extensions.github.io/eo/v1.0.0/schema.json",
          "https://stac-extensions.github.io/view/v1.0.0/schema.json",
          "https://api.up42.com/stac-extensions/up42-product/v1.0.0/schema.json",
          "https://stac-extensions.github.io/projection/v1.0.0/schema.json"
         ],
         "stac_version": "1.0.0",
         "type": "Feature"
        },
        {
         "assets": {
          "data": {
           "description": "Storage Data",
           "href": "https://api.up42.com/v2/assets/56aeb881-0f64-4706-b66c-fd95406a2bb4",
           "roles": [
            "data"
           ],
           "title": "Data",
           "type": "application/gzip"
          }
         },
         "bbox": [
          -9.32847222222223,
          38.6747777777778,
          -9.31734722222223,
          38.6822222222223
         ],
         "collection": "aaa40ba7-7d65-4cb2-87bb-c306b8540222",
         "geometry": {
          "coordinates": [
           [
            [
             -9.32708333333334,
             38.6822222222223
            ],
            [
             -9.31734722222223,
             38.6807777777778
            ],
            [
             -9.31734722222223,
             38.6805416666667
            ],
            [
             -9.31862500000001,
             38.6747777777778
            ],
            [
             -9.32847222222223,
             38.6760694444445
            ],
            [
             -9.32708333333334,
             38.6822222222223
            ]
           ]
          ],
          "type": "Polygon"
         },
         "id": "e3108ee1-8831-4a3e-a165-bc9988be0510",
         "links": [
          {
           "href": "https://api.up42.com/v2/assets/stac/collections/aaa40ba7-7d65-4cb2-87bb-c306b8540222/items/e3108ee1-8831-4a3e-a165-bc9988be0510",
           "rel": "self",
           "type": "application/geo+json"
          },
          {
           "href": "https://api.up42.com/v2/assets/stac/collections/aaa40ba7-7d65-4cb2-87bb-c306b8540222",
           "rel": "parent",
           "type": "application/json"
          },
          {
           "href": "https://api.up42.com/v2/assets/stac/collections/aaa40ba7-7d65-4cb2-87bb-c306b8540222",
           "rel": "collection",
           "type": "application/json"
          },
          {
           "href": "https://api.up42.com/v2/assets/stac/",
           "rel": "root",
           "type": "application/json"
          }
         ],
         "properties": {
          "constellation": "SPOT",
          "datetime": "2021-03-18T11:03:09.200000+00:00",
          "end_datetime": "2021-03-18T11:03:09.200000+00:00",
          "eo:cloud_cover": 0,
          "gsd": 2.2844800858818637,
          "platform": "SPOT-7",
          "proj:epsg": 4326,
          "start_datetime": "2021-03-18T11:03:09.200000+00:00",
          "title": "ORT_SPOT7_20210318_110309400_000_R1C1",
          "up42-product:data_type": "raster",
          "up42-product:modality": "multispectral",
          "up42-system:account_id": "3c86279b-610a-4dba-ad12-abe3bdc51428",
          "up42-system:asset_id": "56aeb881-0f64-4706-b66c-fd95406a2bb4",
          "up42-system:metadata_version": "0.0.4",
          "up42-system:workspace_id": "99ddadc6-07ba-436a-bd03-ca6bb6db7f54",
          "view:azimuth": 1.0298671980741014,
          "view:incidence_angle": 12.813277209275789,
          "view:sun_azimuth": 143.20802030283733,
          "view:sun_elevation": 44.14567890439622
         },
         "stac_extensions": [
          "https://api.up42.com/stac-extensions/up42-system/v1.0.0/schema.json",
          "https://stac-extensions.github.io/eo/v1.0.0/schema.json",
          "https://stac-extensions.github.io/view/v1.0.0/schema.json",
          "https://api.up42.com/stac-extensions/up42-product/v1.0.0/schema.json",
          "https://stac-extensions.github.io/projection/v1.0.0/schema.json"
         ],
         "stac_version": "1.0.0",
         "type": "Feature"
        },
        {
         "assets": {
          "data": {
           "description": "Storage Data",
           "href": "https://api.up42.com/v2/assets/6d778aad-0c98-4955-af32-f22f6491e672",
           "roles": [
            "data"
           ],
           "title": "Data",
           "type": "application/gzip"
          }
         },
         "bbox": [
          -9.1665,
          38.7156203703704,
          -9.16198148148148,
          38.7211435185185
         ],
         "collection": "ce7ef972-fb49-4f93-b533-7c5979c8da96",
         "geometry": {
          "coordinates": [
           [
            [
             -9.1665,
             38.7211435185185
            ],
            [
             -9.16198148148148,
             38.7211435185185
            ],
            [
             -9.16198148148148,
             38.7156203703704
            ],
            [
             -9.1665,
             38.7156203703704
            ],
            [
             -9.1665,
             38.7211435185185
            ]
           ]
          ],
          "type": "Polygon"
         },
         "id": "32c6963c-bcfb-4f64-a7ac-8b3b2dd57822",
         "links": [
          {
           "href": "https://api.up42.com/v2/assets/stac/collections/ce7ef972-fb49-4f93-b533-7c5979c8da96/items/32c6963c-bcfb-4f64-a7ac-8b3b2dd57822",
           "rel": "self",
           "type": "application/geo+json"
          },
          {
           "href": "https://api.up42.com/v2/assets/stac/collections/ce7ef972-fb49-4f93-b533-7c5979c8da96",
           "rel": "parent",
           "type": "application/json"
          },
          {
           "href": "https://api.up42.com/v2/assets/stac/collections/ce7ef972-fb49-4f93-b533-7c5979c8da96",
           "rel": "collection",
           "type": "application/json"
          },
          {
           "href": "https://api.up42.com/v2/assets/stac/",
           "rel": "root",
           "type": "application/json"
          }
         ],
         "properties": {
          "constellation": "PHR",
          "datetime": "2021-09-21T11:44:41+00:00",
          "end_datetime": "2021-09-21T11:44:41+00:00",
          "eo:cloud_cover": 0,
          "gsd": 0.7889536364841426,
          "platform": "PHR-1A",
          "proj:epsg": 4326,
          "start_datetime": "2021-09-21T11:44:41+00:00",
          "title": "DS_PHR1A_202109211144040_FR1_PX_W010N38_1119_01765_R1C1",
          "up42-product:data_type": "raster",
          "up42-product:modality": "multispectral",
          "up42-system:account_id": "3c86279b-610a-4dba-ad12-abe3bdc51428",
          "up42-system:asset_id": "6d778aad-0c98-4955-af32-f22f6491e672",
          "up42-system:metadata_version": "0.0.4",
          "up42-system:workspace_id": "e873c077-1c3e-4d5b-b608-5ba5f33d1a0d",
          "view:azimuth": 180.24718940890145,
          "view:incidence_angle": 22.8389759428241,
          "view:sun_azimuth": 162.2016796746446,
          "view:sun_elevation": 50.42689764993392
         },
         "stac_extensions": [
          "https://stac-extensions.github.io/projection/v1.0.0/schema.json",
          "https://api.up42.com/stac-extensions/up42-system/v1.0.0/schema.json",
          "https://stac-extensions.github.io/view/v1.0.0/schema.json",
          "https://stac-extensions.github.io/eo/v1.0.0/schema.json",
          "https://api.up42.com/stac-extensions/up42-product/v1.0.0/schema.json"
         ],
         "stac_version": "1.0.0",
         "type": "Feature"
        },
        {
         "assets": {
          "data": {
           "description": "Storage Data",
           "href": "https://api.up42.com/v2/assets/f42cb7f6-1b8e-488e-88ae-d3b5cac6ac2b",
           "roles": [
            "data"
           ],
           "title": "Data",
           "type": "application/zip"
          }
         },
         "bbox": [
          -8.47497685185186,
          41.1353564814815,
          -8.45707407407408,
          41.144537037037
         ],
         "collection": "230d21f1-5046-48de-9447-2966375c5392",
         "geometry": {
          "coordinates": [
           [
            [
             -8.4570925925926,
             41.144537037037
            ],
            [
             -8.45707407407408,
             41.144537037037
            ],
            [
             -8.45707870370371,
             41.1444490740741
            ],
            [
             -8.45793055555556,
             41.1353564814815
            ],
            [
             -8.47497685185186,
             41.1367777777778
            ],
            [
             -8.47496296296297,
             41.1434027777778
            ],
            [
             -8.4570925925926,
             41.144537037037
            ]
           ]
          ],
          "type": "Polygon"
         },
         "id": "7999821e-89be-4eef-82f5-f28c9f7b9578",
         "links": [
          {
           "href": "https://api.up42.com/v2/assets/stac/collections/230d21f1-5046-48de-9447-2966375c5392/items/7999821e-89be-4eef-82f5-f28c9f7b9578",
           "rel": "self",
           "type": "application/geo+json"
          },
          {
           "href": "https://api.up42.com/v2/assets/stac/collections/230d21f1-5046-48de-9447-2966375c5392",
           "rel": "parent",
           "type": "application/json"
          },
          {
           "href": "https://api.up42.com/v2/assets/stac/collections/230d21f1-5046-48de-9447-2966375c5392",
           "rel": "collection",
           "type": "application/json"
          },
          {
           "href": "https://api.up42.com/v2/assets/stac/",
           "rel": "root",
           "type": "application/json"
          }
         ],
         "properties": {
          "constellation": "PHR",
          "datetime": "2022-03-18T11:23:50.400000+00:00",
          "end_datetime": "2022-03-18T11:23:50.400000+00:00",
          "eo:cloud_cover": 0,
          "gsd": 0.7508598649109901,
          "platform": "PHR-1B",
          "proj:epsg": 4326,
          "start_datetime": "2022-03-18T11:23:50.400000+00:00",
          "title": "DS_PHR1B_202203181123134_FR1_PX_W009N41_0804_03351_R1C1",
          "up42-order:host_id": "4d176606-3390-4e49-b6e7-9ecb05223bb1",
          "up42-order:id": "8521840e-a33f-48a4-ad6a-71eb348606de",
          "up42-order:status": "FULFILLED",
          "up42-product:collection_name": "phr",
          "up42-product:data_type": "raster",
          "up42-product:modality": "multispectral",
          "up42-product:product_id": "4f1b2f62-98df-4c74-81f4-5dce45deee99",
          "up42-system:account_id": "3c86279b-610a-4dba-ad12-abe3bdc51428",
          "up42-system:asset_id": "f42cb7f6-1b8e-488e-88ae-d3b5cac6ac2b",
          "up42-system:metadata_version": "0.0.4",
          "up42-system:source": "ARCHIVE",
          "up42-system:workspace_id": "e873c077-1c3e-4d5b-b608-5ba5f33d1a0d",
          "up42-user:title": "test",
          "view:azimuth": 179.82665089305692,
          "view:incidence_angle": 17.231733182408647,
          "view:sun_azimuth": 152.11995517635958,
          "view:sun_elevation": 44.42446009464118
         },
         "stac_extensions": [
          "https://api.up42.com/stac-extensions/up42-product/v1.0.0/schema.json",
          "https://stac-extensions.github.io/eo/v1.0.0/schema.json",
          "https://api.up42.com/stac-extensions/up42-user/v1.0.0/schema.json",
          "https://stac-extensions.github.io/projection/v1.0.0/schema.json",
          "https://api.up42.com/stac-extensions/up42-system/v1.0.0/schema.json",
          "https://api.up42.com/stac-extensions/up42-order/v1.0.0/schema.json",
          "https://stac-extensions.github.io/view/v1.0.0/schema.json"
         ],
         "stac_version": "1.0.0",
         "type": "Feature"
        }
       ],
       "links": [
        {
         "href": "https://api.up42.com/v2/assets/stac/",
         "rel": "root",
         "type": "application/json"
        },
        {
         "href": "https://api.up42.com/v2/assets/stac/",
         "rel": "parent",
         "type": "application/json"
        },
        {
         "href": "https://api.up42.com/v2/assets/stac/search",
         "rel": "self",
         "type": "application/json"
        },
        {
         "body": {
          "filter": {
           "args": [
            {
             "property": "eo:cloud_cover"
            },
            10
           ],
           "op": "<"
          },
          "intersects": {
           "coordinates": [
            [
             [
              -9.52171458613654,
              36.853921776429516
             ],
             [
              -7.1631974367996065,
              36.82161569679076
             ],
             [
              -5.996066469639629,
              42.04883107989275
             ],
             [
              -9.841226786721336,
              42.14603469432703
             ],
             [
              -9.52171458613654,
              36.853921776429516
             ]
            ]
           ],
           "type": "Polygon"
          },
          "token": "next:7999821e-89be-4eef-82f5-f28c9f7b9578"
         },
         "href": "https://api.up42.com/v2/assets/stac/search",
         "method": "POST",
         "rel": "next",
         "type": "application/json"
        }
       ],
       "type": "FeatureCollection"
      },
      "text/plain": [
       "<IPython.core.display.JSON object>"
      ]
     },
     "execution_count": 39,
     "metadata": {
      "application/json": {
       "expanded": false,
       "root": "root"
      }
     },
     "output_type": "execute_result"
    }
   ],
   "source": [
    "complex_search_results = search_item(new_intersect_req_body).json()\n",
    "ppjson(complex_search_results)"
   ]
  },
  {
   "cell_type": "markdown",
   "id": "56bea382-7286-4f1b-bbf4-e8d9c2e63b41",
   "metadata": {},
   "source": [
    "We have more than 10 results, since I want to have only the ones in my\n",
    "workspace I need to add my workspace as a CQL2 filter to the request."
   ]
  },
  {
   "cell_type": "code",
   "execution_count": 40,
   "id": "ae495c81-9b49-4205-8d96-5326c091542f",
   "metadata": {},
   "outputs": [
    {
     "data": {
      "text/plain": [
       "{'filter': {'args': [{'args': [{'property': 'eo:cloud_cover'}, 10], 'op': '<'},\n",
       "   {'args': [{'property': 'workspace_id'},\n",
       "     'd39fe05a-400c-44f6-b770-86990f64b004'],\n",
       "    'op': '='}],\n",
       "  'op': 'and'}}"
      ]
     },
     "execution_count": 40,
     "metadata": {},
     "output_type": "execute_result"
    }
   ],
   "source": [
    "cloud_cover_workspace_dict = dict(filter=\n",
    "     dict(args=[\n",
    "             dict(args=[dict(property=\"eo:cloud_cover\"), 10],\n",
    "                  op=\"<\"),\n",
    "             dict(args=[dict(property=\"workspace_id\"), api_credentials['workspace_id']],\n",
    "                  op=\"=\")],\n",
    "          op=\"and\")\n",
    "    )\n",
    "cloud_cover_workspace_dict"
   ]
  },
  {
   "cell_type": "markdown",
   "id": "606a7885-d248-46e9-933c-f1045e7e5fd4",
   "metadata": {},
   "source": [
    "Performing the search with the two filters (cloud cover and workspace\n",
    "ID):"
   ]
  },
  {
   "cell_type": "code",
   "execution_count": 41,
   "id": "a70420cc-7b9d-44bc-bec2-3408368fd42f",
   "metadata": {},
   "outputs": [
    {
     "data": {
      "application/json": {
       "features": [
        {
         "assets": {
          "data": {
           "description": "Storage Data",
           "href": "https://api.up42.com/v2/assets/630bd8cd-c4c2-4619-9a88-5b3421ffd1de",
           "roles": [
            "data"
           ],
           "title": "Data",
           "type": "application/zip"
          }
         },
         "bbox": [
          -8.992222054150913,
          38.46552423989927,
          -8.968630844922524,
          38.483829164081016
         ],
         "collection": "e3e8ecde-6328-4bb2-bf06-eeffcfcc0978",
         "geometry": {
          "coordinates": [
           [
            [
             -8.970516192795307,
             38.483829164081016
            ],
            [
             -8.969003136298957,
             38.48288700320683
            ],
            [
             -8.968630844922524,
             38.482111858604256
            ],
            [
             -8.968642327826503,
             38.48207130696972
            ],
            [
             -8.969565423041054,
             38.48174711275871
            ],
            [
             -8.969348067535785,
             38.48060251189329
            ],
            [
             -8.97187629060627,
             38.480166056393756
            ],
            [
             -8.97708711322504,
             38.4802663253012
            ],
            [
             -8.981352415160988,
             38.47907747662965
            ],
            [
             -8.981432678381337,
             38.479041440729354
            ],
            [
             -8.984712266276473,
             38.47600481509272
            ],
            [
             -8.982695061218294,
             38.473814577442
            ],
            [
             -8.986891621124045,
             38.469791186640876
            ],
            [
             -8.990422699558534,
             38.46709688704083
            ],
            [
             -8.990164996618832,
             38.46552423989927
            ],
            [
             -8.991964631241645,
             38.4656190050795
            ],
            [
             -8.992222054150913,
             38.47016566713853
            ],
            [
             -8.989779464974129,
             38.47637035954537
            ],
            [
             -8.981065183212577,
             38.4814115801504
            ],
            [
             -8.970516192795307,
             38.483829164081016
            ]
           ]
          ],
          "type": "Polygon"
         },
         "id": "fe7d6485-1ecd-4151-b027-79a107557d48",
         "links": [
          {
           "href": "https://api.up42.com/v2/assets/stac/collections/e3e8ecde-6328-4bb2-bf06-eeffcfcc0978/items/fe7d6485-1ecd-4151-b027-79a107557d48",
           "rel": "self",
           "type": "application/geo+json"
          },
          {
           "href": "https://api.up42.com/v2/assets/stac/collections/e3e8ecde-6328-4bb2-bf06-eeffcfcc0978",
           "rel": "parent",
           "type": "application/json"
          },
          {
           "href": "https://api.up42.com/v2/assets/stac/collections/e3e8ecde-6328-4bb2-bf06-eeffcfcc0978",
           "rel": "collection",
           "type": "application/json"
          },
          {
           "href": "https://api.up42.com/v2/assets/stac/",
           "rel": "root",
           "type": "application/json"
          }
         ],
         "properties": {
          "constellation": "PHR",
          "datetime": "2022-03-18T11:24:06+00:00",
          "end_datetime": "2022-03-18T11:24:06+00:00",
          "eo:cloud_cover": 0,
          "gsd": 0.7562325080525973,
          "platform": "PHR-1B",
          "proj:epsg": 32629,
          "start_datetime": "2022-03-18T11:24:06+00:00",
          "title": "DS_PHR1B_202203181123290_FR1_PX_W009N38_0119_07844_R1C1",
          "up42-order:host_id": "9372ed63-982a-4003-9f90-e7a2fe10aab3",
          "up42-order:id": "8a2c9bc2-7878-45e6-92b4-81fa33d2fd9f",
          "up42-order:status": "FULFILLED",
          "up42-product:collection_name": "phr",
          "up42-product:data_type": "raster",
          "up42-product:modality": "multispectral",
          "up42-product:product_id": "4f1b2f62-98df-4c74-81f4-5dce45deee99",
          "up42-system:account_id": "3c86279b-610a-4dba-ad12-abe3bdc51428",
          "up42-system:asset_id": "630bd8cd-c4c2-4619-9a88-5b3421ffd1de",
          "up42-system:metadata_version": "0.0.4",
          "up42-system:source": "ARCHIVE",
          "up42-system:workspace_id": "d39fe05a-400c-44f6-b770-86990f64b004",
          "view:azimuth": 179.08569011330297,
          "view:incidence_angle": 18.141957311334412,
          "view:sun_azimuth": 150.26387457509006,
          "view:sun_elevation": 46.60727885283659
         },
         "stac_extensions": [
          "https://stac-extensions.github.io/view/v1.0.0/schema.json",
          "https://api.up42.com/stac-extensions/up42-system/v1.0.0/schema.json",
          "https://api.up42.com/stac-extensions/up42-order/v1.0.0/schema.json",
          "https://stac-extensions.github.io/eo/v1.0.0/schema.json",
          "https://stac-extensions.github.io/projection/v1.0.0/schema.json",
          "https://api.up42.com/stac-extensions/up42-product/v1.0.0/schema.json"
         ],
         "stac_version": "1.0.0",
         "type": "Feature"
        },
        {
         "assets": {
          "data": {
           "description": "Storage Data",
           "href": "https://api.up42.com/v2/assets/828b2da8-b322-4e19-9abc-3917e0e36986",
           "roles": [
            "data"
           ],
           "title": "Data",
           "type": "application/zip"
          }
         },
         "bbox": [
          -8.992222054150913,
          38.46552423989927,
          -8.968630844922524,
          38.483829164081016
         ],
         "collection": "fcb6de6f-7c47-4d59-bc7c-ec83d5af4d09",
         "geometry": {
          "coordinates": [
           [
            [
             -8.970516192795307,
             38.483829164081016
            ],
            [
             -8.969003136298957,
             38.48288700320683
            ],
            [
             -8.968630844922524,
             38.482111858604256
            ],
            [
             -8.968642327826503,
             38.48207130696972
            ],
            [
             -8.969565423041054,
             38.48174711275871
            ],
            [
             -8.969348067535785,
             38.48060251189329
            ],
            [
             -8.97187629060627,
             38.480166056393756
            ],
            [
             -8.97708711322504,
             38.4802663253012
            ],
            [
             -8.981352415160988,
             38.47907747662965
            ],
            [
             -8.981432678381337,
             38.479041440729354
            ],
            [
             -8.984712266276473,
             38.47600481509272
            ],
            [
             -8.982695061218294,
             38.473814577442
            ],
            [
             -8.986891621124045,
             38.469791186640876
            ],
            [
             -8.990422699558534,
             38.46709688704083
            ],
            [
             -8.990164996618832,
             38.46552423989927
            ],
            [
             -8.991964631241645,
             38.4656190050795
            ],
            [
             -8.992222054150913,
             38.47016566713853
            ],
            [
             -8.989779464974129,
             38.47637035954537
            ],
            [
             -8.981065183212577,
             38.4814115801504
            ],
            [
             -8.970516192795307,
             38.483829164081016
            ]
           ]
          ],
          "type": "Polygon"
         },
         "id": "36ecf578-eb19-4c7d-8ba2-c85d23b9af86",
         "links": [
          {
           "href": "https://api.up42.com/v2/assets/stac/collections/fcb6de6f-7c47-4d59-bc7c-ec83d5af4d09/items/36ecf578-eb19-4c7d-8ba2-c85d23b9af86",
           "rel": "self",
           "type": "application/geo+json"
          },
          {
           "href": "https://api.up42.com/v2/assets/stac/collections/fcb6de6f-7c47-4d59-bc7c-ec83d5af4d09",
           "rel": "parent",
           "type": "application/json"
          },
          {
           "href": "https://api.up42.com/v2/assets/stac/collections/fcb6de6f-7c47-4d59-bc7c-ec83d5af4d09",
           "rel": "collection",
           "type": "application/json"
          },
          {
           "href": "https://api.up42.com/v2/assets/stac/",
           "rel": "root",
           "type": "application/json"
          }
         ],
         "properties": {
          "constellation": "PHR",
          "datetime": "2022-03-18T11:24:06+00:00",
          "end_datetime": "2022-03-18T11:24:06+00:00",
          "eo:cloud_cover": 0,
          "gsd": 0.7562325080525973,
          "platform": "PHR-1B",
          "proj:epsg": 32629,
          "start_datetime": "2022-03-18T11:24:06+00:00",
          "title": "DS_PHR1B_202203181123290_FR1_PX_W009N38_0119_07844_R1C1",
          "up42-order:host_id": "d0c1f983-05dc-4bc9-8eba-f9f55a91d7b5",
          "up42-order:id": "d373da26-8a90-4c08-a745-a0dbf2857639",
          "up42-order:status": "FULFILLED",
          "up42-product:collection_name": "phr",
          "up42-product:data_type": "raster",
          "up42-product:modality": "multispectral",
          "up42-product:product_id": "4f1b2f62-98df-4c74-81f4-5dce45deee99",
          "up42-system:account_id": "3c86279b-610a-4dba-ad12-abe3bdc51428",
          "up42-system:asset_id": "828b2da8-b322-4e19-9abc-3917e0e36986",
          "up42-system:metadata_version": "0.0.4",
          "up42-system:source": "ARCHIVE",
          "up42-system:workspace_id": "d39fe05a-400c-44f6-b770-86990f64b004",
          "view:azimuth": 179.08569011330297,
          "view:incidence_angle": 18.141957311334412,
          "view:sun_azimuth": 150.26387457509006,
          "view:sun_elevation": 46.60727885283659
         },
         "stac_extensions": [
          "https://api.up42.com/stac-extensions/up42-system/v1.0.0/schema.json",
          "https://api.up42.com/stac-extensions/up42-order/v1.0.0/schema.json",
          "https://stac-extensions.github.io/eo/v1.0.0/schema.json",
          "https://stac-extensions.github.io/view/v1.0.0/schema.json",
          "https://api.up42.com/stac-extensions/up42-product/v1.0.0/schema.json",
          "https://stac-extensions.github.io/projection/v1.0.0/schema.json"
         ],
         "stac_version": "1.0.0",
         "type": "Feature"
        },
        {
         "assets": {
          "data": {
           "description": "Storage Data",
           "href": "https://api.up42.com/v2/assets/f5080d5d-cb90-4cb5-9caf-b1e870865967",
           "roles": [
            "data"
           ],
           "title": "Data",
           "type": "application/zip"
          }
         },
         "bbox": [
          -8.992222054150913,
          38.46552423989927,
          -8.968630844922524,
          38.483829164081016
         ],
         "collection": "8e113462-23cd-4516-bb70-fb6c63ba0cf4",
         "geometry": {
          "coordinates": [
           [
            [
             -8.970516192795307,
             38.483829164081016
            ],
            [
             -8.969003136298957,
             38.48288700320683
            ],
            [
             -8.968630844922524,
             38.482111858604256
            ],
            [
             -8.968642327826503,
             38.48207130696972
            ],
            [
             -8.969565423041054,
             38.48174711275871
            ],
            [
             -8.969348067535785,
             38.48060251189329
            ],
            [
             -8.97187629060627,
             38.480166056393756
            ],
            [
             -8.97708711322504,
             38.4802663253012
            ],
            [
             -8.981352415160988,
             38.47907747662965
            ],
            [
             -8.981432678381337,
             38.479041440729354
            ],
            [
             -8.984712266276473,
             38.47600481509272
            ],
            [
             -8.982695061218294,
             38.473814577442
            ],
            [
             -8.986891621124045,
             38.469791186640876
            ],
            [
             -8.990422699558534,
             38.46709688704083
            ],
            [
             -8.990164996618832,
             38.46552423989927
            ],
            [
             -8.991964631241645,
             38.4656190050795
            ],
            [
             -8.992222054150913,
             38.47016566713853
            ],
            [
             -8.989779464974129,
             38.47637035954537
            ],
            [
             -8.981065183212577,
             38.4814115801504
            ],
            [
             -8.970516192795307,
             38.483829164081016
            ]
           ]
          ],
          "type": "Polygon"
         },
         "id": "bd5ad586-4f1e-4228-9e63-9206fbe297fe",
         "links": [
          {
           "href": "https://api.up42.com/v2/assets/stac/collections/8e113462-23cd-4516-bb70-fb6c63ba0cf4/items/bd5ad586-4f1e-4228-9e63-9206fbe297fe",
           "rel": "self",
           "type": "application/geo+json"
          },
          {
           "href": "https://api.up42.com/v2/assets/stac/collections/8e113462-23cd-4516-bb70-fb6c63ba0cf4",
           "rel": "parent",
           "type": "application/json"
          },
          {
           "href": "https://api.up42.com/v2/assets/stac/collections/8e113462-23cd-4516-bb70-fb6c63ba0cf4",
           "rel": "collection",
           "type": "application/json"
          },
          {
           "href": "https://api.up42.com/v2/assets/stac/",
           "rel": "root",
           "type": "application/json"
          }
         ],
         "properties": {
          "constellation": "PHR",
          "datetime": "2022-09-09T11:28:49.600000+00:00",
          "end_datetime": "2022-09-09T11:28:49.600000+00:00",
          "eo:cloud_cover": 0,
          "gsd": 0.7138816774061343,
          "platform": "PHR-1B",
          "proj:epsg": 32629,
          "start_datetime": "2022-09-09T11:28:49.600000+00:00",
          "title": "DS_PHR1B_202209091128126_FR1_PX_W009N38_0111_01724_R1C1",
          "up42-order:host_id": "4d27e173-c628-4935-a583-37a68ac904cb",
          "up42-order:id": "f3b4d9fd-7504-49dc-8d13-abc56d021d16",
          "up42-order:status": "FULFILLED",
          "up42-product:collection_name": "phr",
          "up42-product:data_type": "raster",
          "up42-product:modality": "multispectral",
          "up42-product:product_id": "647780db-5a06-4b61-b525-577a8b68bb54",
          "up42-system:account_id": "3c86279b-610a-4dba-ad12-abe3bdc51428",
          "up42-system:asset_id": "f5080d5d-cb90-4cb5-9caf-b1e870865967",
          "up42-system:metadata_version": "0.0.4",
          "up42-system:source": "ARCHIVE",
          "up42-system:workspace_id": "d39fe05a-400c-44f6-b770-86990f64b004",
          "view:azimuth": 179.99787147104942,
          "view:incidence_angle": 8.344681400691485,
          "view:sun_azimuth": 152.20823252306252,
          "view:sun_elevation": 53.6725392907585
         },
         "stac_extensions": [
          "https://stac-extensions.github.io/view/v1.0.0/schema.json",
          "https://api.up42.com/stac-extensions/up42-system/v1.0.0/schema.json",
          "https://api.up42.com/stac-extensions/up42-order/v1.0.0/schema.json",
          "https://stac-extensions.github.io/eo/v1.0.0/schema.json",
          "https://stac-extensions.github.io/projection/v1.0.0/schema.json",
          "https://api.up42.com/stac-extensions/up42-product/v1.0.0/schema.json"
         ],
         "stac_version": "1.0.0",
         "type": "Feature"
        },
        {
         "assets": {
          "data": {
           "description": "Storage Data",
           "href": "https://api.up42.com/v2/assets/fa438b5e-0903-4787-8958-45a376dd9b04",
           "roles": [
            "data"
           ],
           "title": "Data",
           "type": "application/zip"
          }
         },
         "bbox": [
          -8.992222054150913,
          38.46552423989927,
          -8.968630844922524,
          38.483829164081016
         ],
         "collection": "5b6b32b9-41fc-4f68-9f56-40dcbdbd4263",
         "geometry": {
          "coordinates": [
           [
            [
             -8.970516192795307,
             38.483829164081016
            ],
            [
             -8.969003136298957,
             38.48288700320683
            ],
            [
             -8.968630844922524,
             38.482111858604256
            ],
            [
             -8.968642327826503,
             38.48207130696972
            ],
            [
             -8.969565423041054,
             38.48174711275871
            ],
            [
             -8.969348067535785,
             38.48060251189329
            ],
            [
             -8.97187629060627,
             38.480166056393756
            ],
            [
             -8.97708711322504,
             38.4802663253012
            ],
            [
             -8.981352415160988,
             38.47907747662965
            ],
            [
             -8.981432678381337,
             38.479041440729354
            ],
            [
             -8.984712266276473,
             38.47600481509272
            ],
            [
             -8.982695061218294,
             38.473814577442
            ],
            [
             -8.986891621124045,
             38.469791186640876
            ],
            [
             -8.990422699558534,
             38.46709688704083
            ],
            [
             -8.990164996618832,
             38.46552423989927
            ],
            [
             -8.991964631241645,
             38.4656190050795
            ],
            [
             -8.992222054150913,
             38.47016566713853
            ],
            [
             -8.989779464974129,
             38.47637035954537
            ],
            [
             -8.981065183212577,
             38.4814115801504
            ],
            [
             -8.970516192795307,
             38.483829164081016
            ]
           ]
          ],
          "type": "Polygon"
         },
         "id": "538091f8-4be7-404b-9936-97274be89fb3",
         "links": [
          {
           "href": "https://api.up42.com/v2/assets/stac/collections/5b6b32b9-41fc-4f68-9f56-40dcbdbd4263/items/538091f8-4be7-404b-9936-97274be89fb3",
           "rel": "self",
           "type": "application/geo+json"
          },
          {
           "href": "https://api.up42.com/v2/assets/stac/collections/5b6b32b9-41fc-4f68-9f56-40dcbdbd4263",
           "rel": "parent",
           "type": "application/json"
          },
          {
           "href": "https://api.up42.com/v2/assets/stac/collections/5b6b32b9-41fc-4f68-9f56-40dcbdbd4263",
           "rel": "collection",
           "type": "application/json"
          },
          {
           "href": "https://api.up42.com/v2/assets/stac/",
           "rel": "root",
           "type": "application/json"
          }
         ],
         "properties": {
          "constellation": "PHR",
          "datetime": "2022-03-18T11:24:06+00:00",
          "end_datetime": "2022-03-18T11:24:06+00:00",
          "eo:cloud_cover": 0,
          "gsd": 0.7562330339024197,
          "platform": "PHR-1B",
          "proj:epsg": 32629,
          "start_datetime": "2022-03-18T11:24:06+00:00",
          "title": "DS_PHR1B_202203181123290_FR1_PX_W009N38_0119_07844_R1C1",
          "up42-order:host_id": "dd866675-8c25-4766-8397-5ef8bc5cd2a5",
          "up42-order:id": "92ceac2c-a89f-4e66-9a8d-b20f336d8799",
          "up42-order:status": "FULFILLED",
          "up42-product:collection_name": "phr",
          "up42-product:data_type": "raster",
          "up42-product:modality": "multispectral",
          "up42-product:product_id": "4f1b2f62-98df-4c74-81f4-5dce45deee99",
          "up42-system:account_id": "3c86279b-610a-4dba-ad12-abe3bdc51428",
          "up42-system:asset_id": "fa438b5e-0903-4787-8958-45a376dd9b04",
          "up42-system:metadata_version": "0.0.4",
          "up42-system:source": "ARCHIVE",
          "up42-system:workspace_id": "d39fe05a-400c-44f6-b770-86990f64b004",
          "view:azimuth": 179.08567245519995,
          "view:incidence_angle": 18.141937286841305,
          "view:sun_azimuth": 150.26387449687402,
          "view:sun_elevation": 46.60727883013983
         },
         "stac_extensions": [
          "https://api.up42.com/stac-extensions/up42-order/v1.0.0/schema.json",
          "https://stac-extensions.github.io/eo/v1.0.0/schema.json",
          "https://api.up42.com/stac-extensions/up42-system/v1.0.0/schema.json",
          "https://stac-extensions.github.io/view/v1.0.0/schema.json",
          "https://stac-extensions.github.io/projection/v1.0.0/schema.json",
          "https://api.up42.com/stac-extensions/up42-product/v1.0.0/schema.json"
         ],
         "stac_version": "1.0.0",
         "type": "Feature"
        },
        {
         "assets": {
          "data": {
           "description": "Storage Data",
           "href": "https://api.up42.com/v2/assets/666191ca-0f28-4f49-9bae-597865187eb1",
           "roles": [
            "data"
           ],
           "title": "Data",
           "type": "application/zip"
          }
         },
         "bbox": [
          -8.992222054150913,
          38.46552423989927,
          -8.968630844922524,
          38.483829164081016
         ],
         "collection": "ab966c6c-72c7-4bbe-8d97-51832e0b3f6a",
         "geometry": {
          "coordinates": [
           [
            [
             -8.970516192795307,
             38.483829164081016
            ],
            [
             -8.969003136298957,
             38.48288700320683
            ],
            [
             -8.968630844922524,
             38.482111858604256
            ],
            [
             -8.968642327826503,
             38.48207130696972
            ],
            [
             -8.969565423041054,
             38.48174711275871
            ],
            [
             -8.969348067535785,
             38.48060251189329
            ],
            [
             -8.97187629060627,
             38.480166056393756
            ],
            [
             -8.97708711322504,
             38.4802663253012
            ],
            [
             -8.981352415160988,
             38.47907747662965
            ],
            [
             -8.981432678381337,
             38.479041440729354
            ],
            [
             -8.984712266276473,
             38.47600481509272
            ],
            [
             -8.982695061218294,
             38.473814577442
            ],
            [
             -8.986891621124045,
             38.469791186640876
            ],
            [
             -8.990422699558534,
             38.46709688704083
            ],
            [
             -8.990164996618832,
             38.46552423989927
            ],
            [
             -8.991964631241645,
             38.4656190050795
            ],
            [
             -8.992222054150913,
             38.47016566713853
            ],
            [
             -8.989779464974129,
             38.47637035954537
            ],
            [
             -8.981065183212577,
             38.4814115801504
            ],
            [
             -8.970516192795307,
             38.483829164081016
            ]
           ]
          ],
          "type": "Polygon"
         },
         "id": "466f5541-7298-46fd-ac69-7aeb34273867",
         "links": [
          {
           "href": "https://api.up42.com/v2/assets/stac/collections/ab966c6c-72c7-4bbe-8d97-51832e0b3f6a/items/466f5541-7298-46fd-ac69-7aeb34273867",
           "rel": "self",
           "type": "application/geo+json"
          },
          {
           "href": "https://api.up42.com/v2/assets/stac/collections/ab966c6c-72c7-4bbe-8d97-51832e0b3f6a",
           "rel": "parent",
           "type": "application/json"
          },
          {
           "href": "https://api.up42.com/v2/assets/stac/collections/ab966c6c-72c7-4bbe-8d97-51832e0b3f6a",
           "rel": "collection",
           "type": "application/json"
          },
          {
           "href": "https://api.up42.com/v2/assets/stac/",
           "rel": "root",
           "type": "application/json"
          }
         ],
         "properties": {
          "constellation": "PHR",
          "datetime": "2022-03-18T11:24:06+00:00",
          "end_datetime": "2022-03-18T11:24:06+00:00",
          "eo:cloud_cover": 0,
          "gsd": 0.7562325080525973,
          "platform": "PHR-1B",
          "proj:epsg": 32629,
          "start_datetime": "2022-03-18T11:24:06+00:00",
          "title": "DS_PHR1B_202203181123290_FR1_PX_W009N38_0119_07844_R1C1",
          "up42-order:host_id": "82660486-7908-4eba-a79d-386305cd4941",
          "up42-order:id": "694b65c8-6d3d-4aa8-b5d9-f42d525b5477",
          "up42-order:status": "FULFILLED",
          "up42-product:collection_name": "phr",
          "up42-product:data_type": "raster",
          "up42-product:modality": "multispectral",
          "up42-product:product_id": "4f1b2f62-98df-4c74-81f4-5dce45deee99",
          "up42-system:account_id": "3c86279b-610a-4dba-ad12-abe3bdc51428",
          "up42-system:asset_id": "666191ca-0f28-4f49-9bae-597865187eb1",
          "up42-system:metadata_version": "0.0.4",
          "up42-system:source": "ARCHIVE",
          "up42-system:workspace_id": "d39fe05a-400c-44f6-b770-86990f64b004",
          "view:azimuth": 179.08569011330297,
          "view:incidence_angle": 18.141957311334412,
          "view:sun_azimuth": 150.26387457509006,
          "view:sun_elevation": 46.60727885283659
         },
         "stac_extensions": [
          "https://stac-extensions.github.io/projection/v1.0.0/schema.json",
          "https://api.up42.com/stac-extensions/up42-system/v1.0.0/schema.json",
          "https://stac-extensions.github.io/view/v1.0.0/schema.json",
          "https://stac-extensions.github.io/eo/v1.0.0/schema.json",
          "https://api.up42.com/stac-extensions/up42-order/v1.0.0/schema.json",
          "https://api.up42.com/stac-extensions/up42-product/v1.0.0/schema.json"
         ],
         "stac_version": "1.0.0",
         "type": "Feature"
        },
        {
         "assets": {
          "data": {
           "description": "Storage Data",
           "href": "https://api.up42.com/v2/assets/696f6b22-523a-4f57-a6a3-16efa5b1edb5",
           "roles": [
            "data"
           ],
           "title": "Data",
           "type": "application/zip"
          }
         },
         "bbox": [
          -8.992222054150913,
          38.46552423989927,
          -8.968630844922524,
          38.483829164081016
         ],
         "collection": "2a1dfd20-deaf-4ce7-bc67-63c69ae55e7e",
         "geometry": {
          "coordinates": [
           [
            [
             -8.970516192795307,
             38.483829164081016
            ],
            [
             -8.969003136298957,
             38.48288700320683
            ],
            [
             -8.968630844922524,
             38.482111858604256
            ],
            [
             -8.968642327826503,
             38.48207130696972
            ],
            [
             -8.969565423041054,
             38.48174711275871
            ],
            [
             -8.969348067535785,
             38.48060251189329
            ],
            [
             -8.97187629060627,
             38.480166056393756
            ],
            [
             -8.97708711322504,
             38.4802663253012
            ],
            [
             -8.981352415160988,
             38.47907747662965
            ],
            [
             -8.981432678381337,
             38.479041440729354
            ],
            [
             -8.984712266276473,
             38.47600481509272
            ],
            [
             -8.982695061218294,
             38.473814577442
            ],
            [
             -8.986891621124045,
             38.469791186640876
            ],
            [
             -8.990422699558534,
             38.46709688704083
            ],
            [
             -8.990164996618832,
             38.46552423989927
            ],
            [
             -8.991964631241645,
             38.4656190050795
            ],
            [
             -8.992222054150913,
             38.47016566713853
            ],
            [
             -8.989779464974129,
             38.47637035954537
            ],
            [
             -8.981065183212577,
             38.4814115801504
            ],
            [
             -8.970516192795307,
             38.483829164081016
            ]
           ]
          ],
          "type": "Polygon"
         },
         "id": "c6148201-7f57-47d2-81b3-08024cf3fcac",
         "links": [
          {
           "href": "https://api.up42.com/v2/assets/stac/collections/2a1dfd20-deaf-4ce7-bc67-63c69ae55e7e/items/c6148201-7f57-47d2-81b3-08024cf3fcac",
           "rel": "self",
           "type": "application/geo+json"
          },
          {
           "href": "https://api.up42.com/v2/assets/stac/collections/2a1dfd20-deaf-4ce7-bc67-63c69ae55e7e",
           "rel": "parent",
           "type": "application/json"
          },
          {
           "href": "https://api.up42.com/v2/assets/stac/collections/2a1dfd20-deaf-4ce7-bc67-63c69ae55e7e",
           "rel": "collection",
           "type": "application/json"
          },
          {
           "href": "https://api.up42.com/v2/assets/stac/",
           "rel": "root",
           "type": "application/json"
          }
         ],
         "properties": {
          "constellation": "PHR",
          "datetime": "2022-03-18T11:24:06+00:00",
          "end_datetime": "2022-03-18T11:24:06+00:00",
          "eo:cloud_cover": 0,
          "gsd": 0.7562325080525973,
          "platform": "PHR-1B",
          "proj:epsg": 32629,
          "start_datetime": "2022-03-18T11:24:06+00:00",
          "title": "DS_PHR1B_202203181123290_FR1_PX_W009N38_0119_07844_R1C1",
          "up42-order:host_id": "89df2d1f-8b91-46c9-b89c-5457606066a4",
          "up42-order:id": "d28a249c-489b-4409-b939-dceb57d5b919",
          "up42-order:status": "FULFILLED",
          "up42-product:collection_name": "phr",
          "up42-product:data_type": "raster",
          "up42-product:modality": "multispectral",
          "up42-product:product_id": "4f1b2f62-98df-4c74-81f4-5dce45deee99",
          "up42-system:account_id": "3c86279b-610a-4dba-ad12-abe3bdc51428",
          "up42-system:asset_id": "696f6b22-523a-4f57-a6a3-16efa5b1edb5",
          "up42-system:metadata_version": "0.0.4",
          "up42-system:source": "ARCHIVE",
          "up42-system:workspace_id": "d39fe05a-400c-44f6-b770-86990f64b004",
          "view:azimuth": 179.08569011330297,
          "view:incidence_angle": 18.141957311334412,
          "view:sun_azimuth": 150.26387457509006,
          "view:sun_elevation": 46.60727885283659
         },
         "stac_extensions": [
          "https://stac-extensions.github.io/view/v1.0.0/schema.json",
          "https://api.up42.com/stac-extensions/up42-system/v1.0.0/schema.json",
          "https://api.up42.com/stac-extensions/up42-order/v1.0.0/schema.json",
          "https://stac-extensions.github.io/eo/v1.0.0/schema.json",
          "https://stac-extensions.github.io/projection/v1.0.0/schema.json",
          "https://api.up42.com/stac-extensions/up42-product/v1.0.0/schema.json"
         ],
         "stac_version": "1.0.0",
         "type": "Feature"
        },
        {
         "assets": {
          "data": {
           "description": "Storage Data",
           "href": "https://api.up42.com/v2/assets/55dfa9f4-361f-44dd-b4c4-f1f05ad02cd3",
           "roles": [
            "data"
           ],
           "title": "Data",
           "type": "application/zip"
          }
         },
         "bbox": [
          -8.807642529925207,
          37.9650923749471,
          -8.799850410659893,
          38.06117540285824
         ],
         "collection": "00d34533-5d69-4d71-9808-8333792e81bd",
         "geometry": {
          "coordinates": [
           [
            [
             -8.802269703907804,
             37.971145510374924
            ],
            [
             -8.80358110587483,
             37.96822751683051
            ],
            [
             -8.80404100508623,
             37.96653385159878
            ],
            [
             -8.804272501828866,
             37.96510117956587
            ],
            [
             -8.804397754234571,
             37.9650923749471
            ],
            [
             -8.80471075382993,
             37.965119933773344
            ],
            [
             -8.80472210243735,
             37.965133472023076
            ],
            [
             -8.804479086284108,
             37.96662020342873
            ],
            [
             -8.80402486507613,
             37.96832289275351
            ],
            [
             -8.801911732924497,
             37.973015091066884
            ],
            [
             -8.802587810303788,
             37.975652508578825
            ],
            [
             -8.803077143018777,
             37.977884027158076
            ],
            [
             -8.80341799678388,
             37.98029555318818
            ],
            [
             -8.806009558430194,
             37.99935313294735
            ],
            [
             -8.807642529925207,
             38.0108111855282
            ],
            [
             -8.805369325441598,
             38.03257348790049
            ],
            [
             -8.805369182351892,
             38.03262756468795
            ],
            [
             -8.805453916688837,
             38.03290259645851
            ],
            [
             -8.806477643283884,
             38.033593767927734
            ],
            [
             -8.8065604154671,
             38.034616860937966
            ],
            [
             -8.806494920307166,
             38.03568928036138
            ],
            [
             -8.804231938868389,
             38.04248571222239
            ],
            [
             -8.800300779993394,
             38.06114011768673
            ],
            [
             -8.800295031368426,
             38.06115813350597
            ],
            [
             -8.799850410659893,
             38.06117540285824
            ],
            [
             -8.803816019115994,
             38.04246699325252
            ],
            [
             -8.804253376187258,
             38.040854426897845
            ],
            [
             -8.80606193350437,
             38.035675047680755
            ],
            [
             -8.806121844293402,
             38.03456206153903
            ],
            [
             -8.806027112831112,
             38.033755256547856
            ],
            [
             -8.805088718790222,
             38.03311379327174
            ],
            [
             -8.804913424105466,
             38.03261329009173
            ],
            [
             -8.807209488597126,
             38.01087356648187
            ],
            [
             -8.807192944314357,
             38.01066624332143
            ],
            [
             -8.806029937421055,
             38.0024265607364
            ],
            [
             -8.80265021403092,
             37.97786077936056
            ],
            [
             -8.801444970690213,
             37.97299627828781
            ],
            [
             -8.802269703907804,
             37.971145510374924
            ]
           ]
          ],
          "type": "Polygon"
         },
         "id": "5ae68f26-4f83-42b9-bed6-1f3f2ced9e29",
         "links": [
          {
           "href": "https://api.up42.com/v2/assets/stac/collections/00d34533-5d69-4d71-9808-8333792e81bd/items/5ae68f26-4f83-42b9-bed6-1f3f2ced9e29",
           "rel": "self",
           "type": "application/geo+json"
          },
          {
           "href": "https://api.up42.com/v2/assets/stac/collections/00d34533-5d69-4d71-9808-8333792e81bd",
           "rel": "parent",
           "type": "application/json"
          },
          {
           "href": "https://api.up42.com/v2/assets/stac/collections/00d34533-5d69-4d71-9808-8333792e81bd",
           "rel": "collection",
           "type": "application/json"
          },
          {
           "href": "https://api.up42.com/v2/assets/stac/",
           "rel": "root",
           "type": "application/json"
          }
         ],
         "properties": {
          "constellation": "PHR",
          "datetime": "2022-04-18T11:36:44.900000+00:00",
          "end_datetime": "2022-04-18T11:36:44.900000+00:00",
          "eo:cloud_cover": 0,
          "gsd": 0.7593376882942882,
          "platform": "PHR-1B",
          "proj:epsg": 32629,
          "start_datetime": "2022-04-18T11:36:44.900000+00:00",
          "title": "DS_PHR1B_202204181136079_FR1_PX_W009N37_0324_01783_R1C1",
          "up42-order:host_id": "cab98f86-2b91-4487-9a50-0f02ca2fb8ed",
          "up42-order:id": "c74c90a3-a8d1-4433-be51-78c4b84b76c9",
          "up42-order:status": "FULFILLED",
          "up42-product:collection_name": "phr",
          "up42-product:data_type": "raster",
          "up42-product:modality": "multispectral",
          "up42-product:product_id": "4f1b2f62-98df-4c74-81f4-5dce45deee99",
          "up42-system:account_id": "3c86279b-610a-4dba-ad12-abe3bdc51428",
          "up42-system:asset_id": "55dfa9f4-361f-44dd-b4c4-f1f05ad02cd3",
          "up42-system:metadata_version": "0.0.4",
          "up42-system:source": "ARCHIVE",
          "up42-system:workspace_id": "d39fe05a-400c-44f6-b770-86990f64b004",
          "view:azimuth": 179.9190797665755,
          "view:incidence_angle": 18.791437964465626,
          "view:sun_azimuth": 150.68128503948043,
          "view:sun_elevation": 59.97044901720295
         },
         "stac_extensions": [
          "https://stac-extensions.github.io/view/v1.0.0/schema.json",
          "https://api.up42.com/stac-extensions/up42-system/v1.0.0/schema.json",
          "https://api.up42.com/stac-extensions/up42-order/v1.0.0/schema.json",
          "https://stac-extensions.github.io/eo/v1.0.0/schema.json",
          "https://stac-extensions.github.io/projection/v1.0.0/schema.json",
          "https://api.up42.com/stac-extensions/up42-product/v1.0.0/schema.json"
         ],
         "stac_version": "1.0.0",
         "type": "Feature"
        }
       ],
       "links": [
        {
         "href": "https://api.up42.com/v2/assets/stac/",
         "rel": "root",
         "type": "application/json"
        },
        {
         "href": "https://api.up42.com/v2/assets/stac/",
         "rel": "parent",
         "type": "application/json"
        },
        {
         "href": "https://api.up42.com/v2/assets/stac/search",
         "rel": "self",
         "type": "application/json"
        }
       ],
       "type": "FeatureCollection"
      },
      "text/plain": [
       "<IPython.core.display.JSON object>"
      ]
     },
     "execution_count": 41,
     "metadata": {
      "application/json": {
       "expanded": false,
       "root": "root"
      }
     },
     "output_type": "execute_result"
    }
   ],
   "source": [
    "complex_search_results = search_item(intersect_req_body | cloud_cover_workspace_dict).json()\n",
    "ppjson(complex_search_results)"
   ]
  },
  {
   "cell_type": "markdown",
   "id": "13242d1e-8332-480b-b1f8-b66951685fc4",
   "metadata": {},
   "source": [
    "We have 7 results. Let us try to visualize the returned items on the\n",
    "map. We see that this is exactly the AOI we have above in\n",
    "@map-collection-point."
   ]
  },
  {
   "cell_type": "code",
   "execution_count": 42,
   "id": "4d7c97ac-59e2-4b40-8a25-668e349ecd10",
   "metadata": {},
   "outputs": [
    {
     "data": {
      "application/vnd.jupyter.widget-view+json": {
       "model_id": "8fd206b2c75c40b096bf4e612e269424",
       "version_major": 2,
       "version_minor": 0
      },
      "text/plain": [
       "Map(center=[39.67809052275443, -8.115254781697322], controls=(ZoomControl(options=['position', 'zoom_in_text',…"
      ]
     },
     "execution_count": 42,
     "metadata": {},
     "output_type": "execute_result"
    }
   ],
   "source": [
    "complex_search_results_layer = GeoJSON(data=complex_search_results,\n",
    "                                       style={\"color\":\"red\",  \"opacity\": 1,\n",
    "                                              \"dashArray\": \"9\", \"fillOpacity\": 0.5,\n",
    "                                              \"weight\": 1},\n",
    "    hover_style={\"color\": \"white\", \"dashArray\": \"0\", \"fillOpacity\": 0.5},\n",
    ")\n",
    "intersect_map.add_layer(complex_search_results_layer)\n",
    "intersect_map"
   ]
  },
  {
   "cell_type": "markdown",
   "id": "b02d81b7-cc13-4972-b178-958cedbd18d1",
   "metadata": {},
   "source": [
    "The features returned are too small to be easily detected without\n",
    "panning & zooming. To make it clearer we are going to recenter the map\n",
    "on the point of interest we introduced above and display only the\n",
    "returned features."
   ]
  },
  {
   "cell_type": "code",
   "execution_count": 43,
   "id": "a5ad784f-28d5-4849-8d0d-651e565b77bd",
   "metadata": {},
   "outputs": [
    {
     "data": {
      "application/vnd.jupyter.widget-view+json": {
       "model_id": "9123c8b0913b47549b39be2090822dd2",
       "version_major": 2,
       "version_minor": 0
      },
      "text/plain": [
       "Map(center=[38.469947, -8.98691], controls=(ZoomControl(options=['position', 'zoom_in_text', 'zoom_in_title', …"
      ]
     },
     "execution_count": 43,
     "metadata": {},
     "output_type": "execute_result"
    }
   ],
   "source": [
    "complex_search_results_map = Map(center=my_first_map_center, zoom=12)\n",
    "complex_search_results_map.add_layer(complex_search_results_layer)\n",
    "complex_search_results_map"
   ]
  },
  {
   "cell_type": "markdown",
   "id": "61261583-8856-4868-89db-850b45ece6ba",
   "metadata": {},
   "source": [
    "We can see clearly the returned features in this area.\n",
    "\n",
    "## Downloading the assets\n",
    "\n",
    "We can easily extract the assets ID for downloading."
   ]
  },
  {
   "cell_type": "code",
   "execution_count": 44,
   "id": "fb621139-6f87-40dd-8d91-c81ae794a65b",
   "metadata": {},
   "outputs": [
    {
     "data": {
      "text/plain": [
       "['630bd8cd-c4c2-4619-9a88-5b3421ffd1de',\n",
       " '828b2da8-b322-4e19-9abc-3917e0e36986',\n",
       " 'f5080d5d-cb90-4cb5-9caf-b1e870865967',\n",
       " 'fa438b5e-0903-4787-8958-45a376dd9b04',\n",
       " '666191ca-0f28-4f49-9bae-597865187eb1',\n",
       " '696f6b22-523a-4f57-a6a3-16efa5b1edb5',\n",
       " '55dfa9f4-361f-44dd-b4c4-f1f05ad02cd3']"
      ]
     },
     "execution_count": 44,
     "metadata": {},
     "output_type": "execute_result"
    }
   ],
   "source": [
    "complex_search_asset_ids = list(map(lambda e: get_in([\"properties\", \"up42-system:asset_id\"], e),\n",
    "                                    complex_search_results[\"features\"]))\n",
    "complex_search_asset_ids"
   ]
  },
  {
   "cell_type": "markdown",
   "id": "135a8fd6-63f1-4e48-b346-0f33080ed5e4",
   "metadata": {},
   "source": [
    "Let us create a convenience function for downloading the assets."
   ]
  },
  {
   "cell_type": "code",
   "execution_count": 45,
   "id": "16f075da-1aa5-4acc-9d80-d4ed52b17f7d",
   "metadata": {},
   "outputs": [],
   "source": [
    "def download_asset(asset_id:str) -> None:\n",
    "    \"\"\"Downloads an asset with the given ID.\"\"\"\n",
    "    with open(f\"asset_{asset_id}.zip\", 'wb') as output:\n",
    "        with httpx.stream(\"GET\",\n",
    "                          f\"https://api.up42.com/v2/assets/{asset_id}\",\n",
    "                          auth=client_auth) as r:\n",
    "            for data in r.iter_bytes():\n",
    "                output.write(data)"
   ]
  },
  {
   "cell_type": "markdown",
   "id": "c873c949-cac5-4bdb-893b-5c37b0d29742",
   "metadata": {},
   "source": [
    "We can iterate on the list of asset IDs."
   ]
  },
  {
   "cell_type": "code",
   "execution_count": 46,
   "id": "3a3db7da-a5ba-49dd-bd1b-d6648bfab573",
   "metadata": {},
   "outputs": [],
   "source": [
    "gen_assets = (download_asset(id) for id in complex_search_asset_ids)"
   ]
  },
  {
   "cell_type": "markdown",
   "id": "790676bd-bacd-49a1-8d3a-46e984e968d4",
   "metadata": {},
   "source": [
    "Uncomment the line below to download all assets listed above."
   ]
  },
  {
   "cell_type": "code",
   "execution_count": 47,
   "id": "3d621c1f-0079-4809-8bd3-8189953beeff",
   "metadata": {},
   "outputs": [],
   "source": [
    "# list(gen_assets)"
   ]
  },
  {
   "cell_type": "markdown",
   "id": "1dc5d157-aac0-4fe1-8a70-a9da234bcb9f",
   "metadata": {},
   "source": [
    "## Conclusions\n",
    "\n",
    "STAC offers a very efficient and natural way to search catalogs of\n",
    "geospatial assets. The current implementation on top of the UP42 storage\n",
    "provides a large degree of flexibility, making it easy to access assets\n",
    "using a multitude of search options. All assets are provided as\n",
    "hypermedia, making it very simple to manipulate.\n",
    "\n",
    "Go ahead and try the UP42 Spatial Asset Service API."
   ]
  }
 ],
 "metadata": {
  "kernelspec": {
   "display_name": "Python 3 (ipykernel)",
   "language": "python",
   "name": "python3"
  },
  "language_info": {
   "codemirror_mode": {
    "name": "ipython",
    "version": 3
   },
   "file_extension": ".py",
   "mimetype": "text/x-python",
   "name": "python",
   "nbconvert_exporter": "python",
   "pygments_lexer": "ipython3",
   "version": "3.11.2"
  },
  "widgets": {
   "application/vnd.jupyter.widget-state+json": {
    "state": {
     "07284fa453644f70a68b1f995e3fab9b": {
      "model_module": "jupyter-leaflet",
      "model_module_version": "^0.17",
      "model_name": "LeafletAwesomeIconModel",
      "state": {
       "_model_module": "jupyter-leaflet",
       "_model_module_version": "^0.17",
       "_model_name": "LeafletAwesomeIconModel",
       "_view_count": "",
       "_view_module": "jupyter-leaflet",
       "_view_module_version": "^0.17",
       "_view_name": "LeafletAwesomeIconView",
       "base": false,
       "bottom": false,
       "icon_color": "white",
       "marker_color": "blue",
       "name": "close",
       "options": [],
       "pane": "",
       "popup": "",
       "popup_max_height": "",
       "popup_max_width": "300",
       "popup_min_width": "50",
       "spin": false,
       "subitems": []
      }
     },
     "07e52c22c979442ea33a4869868f7ba5": {
      "model_module": "jupyter-leaflet",
      "model_module_version": "^0.17",
      "model_name": "LeafletZoomControlModel",
      "state": {
       "_model_module": "jupyter-leaflet",
       "_model_module_version": "^0.17",
       "_model_name": "LeafletZoomControlModel",
       "_view_count": "",
       "_view_module": "jupyter-leaflet",
       "_view_module_version": "^0.17",
       "_view_name": "LeafletZoomControlView",
       "options": [
        "position",
        "zoom_in_text",
        "zoom_in_title",
        "zoom_out_text",
        "zoom_out_title"
       ],
       "position": "topleft",
       "zoom_in_text": "+",
       "zoom_in_title": "Zoom in",
       "zoom_out_text": "-",
       "zoom_out_title": "Zoom out"
      }
     },
     "08f44d50ab324ef5aff788238a2a18bf": {
      "model_module": "jupyter-leaflet",
      "model_module_version": "^0.17",
      "model_name": "LeafletZoomControlModel",
      "state": {
       "_model_module": "jupyter-leaflet",
       "_model_module_version": "^0.17",
       "_model_name": "LeafletZoomControlModel",
       "_view_count": "",
       "_view_module": "jupyter-leaflet",
       "_view_module_version": "^0.17",
       "_view_name": "LeafletZoomControlView",
       "options": [
        "position",
        "zoom_in_text",
        "zoom_in_title",
        "zoom_out_text",
        "zoom_out_title"
       ],
       "position": "topleft",
       "zoom_in_text": "+",
       "zoom_in_title": "Zoom in",
       "zoom_out_text": "-",
       "zoom_out_title": "Zoom out"
      }
     },
     "0a852d306bf24e6a9811ce593f1cfd43": {
      "model_module": "jupyter-leaflet",
      "model_module_version": "^0.17",
      "model_name": "LeafletMapStyleModel",
      "state": {
       "_model_module": "jupyter-leaflet",
       "_model_module_version": "^0.17",
       "_model_name": "LeafletMapStyleModel",
       "_view_count": "",
       "_view_module": "@jupyter-widgets/base",
       "_view_module_version": "2.0.0",
       "_view_name": "StyleView",
       "cursor": "move"
      }
     },
     "103de9ab951749c4b0636bb00513ed07": {
      "model_module": "jupyter-leaflet",
      "model_module_version": "^0.17",
      "model_name": "LeafletAttributionControlModel",
      "state": {
       "_model_module": "jupyter-leaflet",
       "_model_module_version": "^0.17",
       "_model_name": "LeafletAttributionControlModel",
       "_view_count": "",
       "_view_module": "jupyter-leaflet",
       "_view_module_version": "^0.17",
       "_view_name": "LeafletAttributionControlView",
       "options": [
        "position",
        "prefix"
       ],
       "position": "bottomright",
       "prefix": "ipyleaflet"
      }
     },
     "1088b8befb314d42b85ce9f9d80fe8c4": {
      "model_module": "jupyter-leaflet",
      "model_module_version": "^0.17",
      "model_name": "LeafletTileLayerModel",
      "state": {
       "_model_module": "jupyter-leaflet",
       "_model_module_version": "^0.17",
       "_model_name": "LeafletTileLayerModel",
       "_view_count": "",
       "_view_module": "jupyter-leaflet",
       "_view_module_version": "^0.17",
       "_view_name": "LeafletTileLayerView",
       "attribution": "© OpenStreetMap contributors",
       "base": true,
       "bottom": true,
       "bounds": "",
       "detect_retina": false,
       "loading": false,
       "max_native_zoom": "",
       "max_zoom": "19",
       "min_native_zoom": "",
       "min_zoom": "1",
       "name": "OpenStreetMap.Mapnik",
       "no_wrap": false,
       "opacity": "1",
       "options": [
        "attribution",
        "bounds",
        "detect_retina",
        "max_native_zoom",
        "max_zoom",
        "min_native_zoom",
        "min_zoom",
        "no_wrap",
        "tile_size",
        "tms",
        "zoom_offset"
       ],
       "pane": "",
       "popup": "",
       "popup_max_height": "",
       "popup_max_width": "300",
       "popup_min_width": "50",
       "show_loading": false,
       "subitems": [],
       "tile_size": "256",
       "tms": false,
       "url": "https://tile.openstreetmap.org/{z}/{x}/{y}.png",
       "visible": true,
       "zoom_offset": "0"
      }
     },
     "11521e991e794038b3bccb5e1fe40fa7": {
      "model_module": "jupyter-leaflet",
      "model_module_version": "^0.17",
      "model_name": "LeafletMarkerModel",
      "state": {
       "_model_module": "jupyter-leaflet",
       "_model_module_version": "^0.17",
       "_model_name": "LeafletMarkerModel",
       "_view_count": "",
       "_view_module": "jupyter-leaflet",
       "_view_module_version": "^0.17",
       "_view_name": "LeafletMarkerView",
       "alt": "",
       "base": false,
       "bottom": false,
       "draggable": false,
       "icon": "IPY_MODEL_fdc0e4df18b64fff907c3b4a1644caee",
       "keyboard": true,
       "location": [
        "38.469947",
        "-8.98691"
       ],
       "name": "",
       "opacity": "1",
       "options": [
        "alt",
        "draggable",
        "keyboard",
        "rise_offset",
        "rise_on_hover",
        "rotation_angle",
        "rotation_origin",
        "title",
        "z_index_offset"
       ],
       "pane": "",
       "popup": "",
       "popup_max_height": "",
       "popup_max_width": "300",
       "popup_min_width": "50",
       "rise_offset": "250",
       "rise_on_hover": false,
       "rotation_angle": "0",
       "rotation_origin": "",
       "subitems": [],
       "title": "",
       "visible": true,
       "z_index_offset": "0"
      }
     },
     "1391650808f246408399c64699c4ce05": {
      "model_module": "jupyter-leaflet",
      "model_module_version": "^0.17",
      "model_name": "LeafletAttributionControlModel",
      "state": {
       "_model_module": "jupyter-leaflet",
       "_model_module_version": "^0.17",
       "_model_name": "LeafletAttributionControlModel",
       "_view_count": "",
       "_view_module": "jupyter-leaflet",
       "_view_module_version": "^0.17",
       "_view_name": "LeafletAttributionControlView",
       "options": [
        "position",
        "prefix"
       ],
       "position": "bottomright",
       "prefix": "ipyleaflet"
      }
     },
     "18de2b09f0d647cd89f79d0dc3c1bd38": {
      "model_module": "jupyter-leaflet",
      "model_module_version": "^0.17",
      "model_name": "LeafletAttributionControlModel",
      "state": {
       "_model_module": "jupyter-leaflet",
       "_model_module_version": "^0.17",
       "_model_name": "LeafletAttributionControlModel",
       "_view_count": "",
       "_view_module": "jupyter-leaflet",
       "_view_module_version": "^0.17",
       "_view_name": "LeafletAttributionControlView",
       "options": [
        "position",
        "prefix"
       ],
       "position": "bottomright",
       "prefix": "ipyleaflet"
      }
     },
     "1acbb937ce854993bff124bf05be20d0": {
      "model_module": "jupyter-leaflet",
      "model_module_version": "^0.17",
      "model_name": "LeafletMapModel",
      "state": {
       "_dom_classes": [],
       "_model_module": "jupyter-leaflet",
       "_model_module_version": "^0.17",
       "_model_name": "LeafletMapModel",
       "_view_count": "",
       "_view_module": "jupyter-leaflet",
       "_view_module_version": "^0.17",
       "_view_name": "LeafletMapView",
       "bottom": "0",
       "bounce_at_zoom_limits": true,
       "box_zoom": true,
       "center": [
        "39.67809052275443",
        "-8.115254781697322"
       ],
       "close_popup_on_click": true,
       "controls": [
        "IPY_MODEL_ebcae819069a476ba3b1f761664a8bb0",
        "IPY_MODEL_1391650808f246408399c64699c4ce05"
       ],
       "crs": {
        "custom": false,
        "name": "EPSG3857"
       },
       "default_style": "IPY_MODEL_73d87778e71f4af08d0231f1f1113369",
       "double_click_zoom": true,
       "dragging": true,
       "dragging_style": "IPY_MODEL_8d45aeb043b54dbdbfa9bb32d98c69a8",
       "east": "0",
       "fullscreen": false,
       "inertia": true,
       "inertia_deceleration": "3000",
       "inertia_max_speed": "1500",
       "interpolation": "bilinear",
       "keyboard": true,
       "keyboard_pan_offset": "80",
       "keyboard_zoom_offset": "1",
       "layers": [
        "IPY_MODEL_7111aeea22d8441cb0dfcb71a212cc3d",
        "IPY_MODEL_ed16e5e16c7447a4a9d75a5fa7943265",
        "IPY_MODEL_1eec06c93818420093847fffca837bba",
        "IPY_MODEL_7c9cff8d1a6f4b2daaa2e1aab2b1da06"
       ],
       "layout": "IPY_MODEL_b767b5d5fab94e9495ea4f0be7bf6919",
       "left": "9007199254740991",
       "max_zoom": "",
       "min_zoom": "",
       "modisdate": "2023-04-12",
       "north": "0",
       "options": [
        "bounce_at_zoom_limits",
        "box_zoom",
        "center",
        "close_popup_on_click",
        "double_click_zoom",
        "dragging",
        "fullscreen",
        "inertia",
        "inertia_deceleration",
        "inertia_max_speed",
        "interpolation",
        "keyboard",
        "keyboard_pan_offset",
        "keyboard_zoom_offset",
        "max_zoom",
        "min_zoom",
        "prefer_canvas",
        "scroll_wheel_zoom",
        "tap",
        "tap_tolerance",
        "touch_zoom",
        "world_copy_jump",
        "zoom",
        "zoom_animation_threshold",
        "zoom_delta",
        "zoom_snap"
       ],
       "panes": {},
       "prefer_canvas": false,
       "right": "0",
       "scroll_wheel_zoom": false,
       "south": "0",
       "style": "IPY_MODEL_34a756d5d47a47b3900dd99c5d29edf7",
       "tabbable": "",
       "tap": true,
       "tap_tolerance": "15",
       "tooltip": "",
       "top": "9007199254740991",
       "touch_zoom": true,
       "west": "0",
       "window_url": "",
       "world_copy_jump": false,
       "zoom": "6",
       "zoom_animation_threshold": "4",
       "zoom_delta": "1",
       "zoom_snap": "1"
      }
     },
     "1eec06c93818420093847fffca837bba": {
      "model_module": "jupyter-leaflet",
      "model_module_version": "^0.17",
      "model_name": "LeafletMarkerModel",
      "state": {
       "_model_module": "jupyter-leaflet",
       "_model_module_version": "^0.17",
       "_model_name": "LeafletMarkerModel",
       "_view_count": "",
       "_view_module": "jupyter-leaflet",
       "_view_module_version": "^0.17",
       "_view_name": "LeafletMarkerView",
       "alt": "",
       "base": false,
       "bottom": false,
       "draggable": false,
       "icon": "IPY_MODEL_07284fa453644f70a68b1f995e3fab9b",
       "keyboard": true,
       "location": [
        "39.67809052275443",
        "-8.115254781697322"
       ],
       "name": "",
       "opacity": "1",
       "options": [
        "alt",
        "draggable",
        "keyboard",
        "rise_offset",
        "rise_on_hover",
        "rotation_angle",
        "rotation_origin",
        "title",
        "z_index_offset"
       ],
       "pane": "",
       "popup": "",
       "popup_max_height": "",
       "popup_max_width": "300",
       "popup_min_width": "50",
       "rise_offset": "250",
       "rise_on_hover": false,
       "rotation_angle": "0",
       "rotation_origin": "",
       "subitems": [],
       "title": "",
       "visible": true,
       "z_index_offset": "0"
      }
     },
     "22d6850f170e452a8ec30b5ab696efc1": {
      "model_module": "jupyter-leaflet",
      "model_module_version": "^0.17",
      "model_name": "LeafletMapStyleModel",
      "state": {
       "_model_module": "jupyter-leaflet",
       "_model_module_version": "^0.17",
       "_model_name": "LeafletMapStyleModel",
       "_view_count": "",
       "_view_module": "@jupyter-widgets/base",
       "_view_module_version": "2.0.0",
       "_view_name": "StyleView",
       "cursor": "grab"
      }
     },
     "23c4f346de164ec289b89650a9e1c8ee": {
      "model_module": "jupyter-leaflet",
      "model_module_version": "^0.17",
      "model_name": "LeafletAttributionControlModel",
      "state": {
       "_model_module": "jupyter-leaflet",
       "_model_module_version": "^0.17",
       "_model_name": "LeafletAttributionControlModel",
       "_view_count": "",
       "_view_module": "jupyter-leaflet",
       "_view_module_version": "^0.17",
       "_view_name": "LeafletAttributionControlView",
       "options": [
        "position",
        "prefix"
       ],
       "position": "bottomright",
       "prefix": "ipyleaflet"
      }
     },
     "281934430a5342adb240806dc777b050": {
      "model_module": "jupyter-leaflet",
      "model_module_version": "^0.17",
      "model_name": "LeafletTileLayerModel",
      "state": {
       "_model_module": "jupyter-leaflet",
       "_model_module_version": "^0.17",
       "_model_name": "LeafletTileLayerModel",
       "_view_count": "",
       "_view_module": "jupyter-leaflet",
       "_view_module_version": "^0.17",
       "_view_name": "LeafletTileLayerView",
       "attribution": "© OpenStreetMap contributors",
       "base": true,
       "bottom": true,
       "bounds": "",
       "detect_retina": false,
       "loading": false,
       "max_native_zoom": "",
       "max_zoom": "19",
       "min_native_zoom": "",
       "min_zoom": "1",
       "name": "OpenStreetMap.Mapnik",
       "no_wrap": false,
       "opacity": "1",
       "options": [
        "attribution",
        "bounds",
        "detect_retina",
        "max_native_zoom",
        "max_zoom",
        "min_native_zoom",
        "min_zoom",
        "no_wrap",
        "tile_size",
        "tms",
        "zoom_offset"
       ],
       "pane": "",
       "popup": "",
       "popup_max_height": "",
       "popup_max_width": "300",
       "popup_min_width": "50",
       "show_loading": false,
       "subitems": [],
       "tile_size": "256",
       "tms": false,
       "url": "https://tile.openstreetmap.org/{z}/{x}/{y}.png",
       "visible": true,
       "zoom_offset": "0"
      }
     },
     "28efede0d17c4edf878602aa2cd84257": {
      "model_module": "jupyter-leaflet",
      "model_module_version": "^0.17",
      "model_name": "LeafletGeoJSONModel",
      "state": {
       "_model_module": "jupyter-leaflet",
       "_model_module_version": "^0.17",
       "_model_name": "LeafletGeoJSONModel",
       "_view_count": "",
       "_view_module": "jupyter-leaflet",
       "_view_module_version": "^0.17",
       "_view_name": "LeafletGeoJSONView",
       "base": false,
       "bottom": false,
       "data": {
        "features": [
         {
          "geometry": {
           "coordinates": [
            [
             [
              "-9.52171458613654",
              "36.853921776429516"
             ],
             [
              "-7.1631974367996065",
              "36.82161569679076"
             ],
             [
              "-5.996066469639629",
              "42.04883107989275"
             ],
             [
              "-9.841226786721336",
              "42.14603469432703"
             ],
             [
              "-9.52171458613654",
              "36.853921776429516"
             ]
            ]
           ],
           "type": "Polygon"
          },
          "properties": {
           "style": {
            "dashArray": "9",
            "fillOpacity": "0.5",
            "opacity": "1",
            "weight": "1"
           }
          },
          "type": "Feature"
         }
        ],
        "type": "FeatureCollection"
       },
       "hover_style": {
        "color": "yellow",
        "dashArray": "0",
        "fillOpacity": "0.5"
       },
       "layers": [],
       "name": "",
       "options": [],
       "pane": "",
       "point_style": {},
       "popup": "",
       "popup_max_height": "",
       "popup_max_width": "300",
       "popup_min_width": "50",
       "style": {
        "dashArray": "9",
        "fillOpacity": "0.5",
        "opacity": "1",
        "weight": "1"
       },
       "subitems": [],
       "visible": true
      }
     },
     "2e7c67bf67f44043b69dd48e69b3dd1a": {
      "model_module": "@jupyter-widgets/base",
      "model_module_version": "2.0.0",
      "model_name": "LayoutModel",
      "state": {
       "_model_module": "@jupyter-widgets/base",
       "_model_module_version": "2.0.0",
       "_model_name": "LayoutModel",
       "_view_count": "",
       "_view_module": "@jupyter-widgets/base",
       "_view_module_version": "2.0.0",
       "_view_name": "LayoutView",
       "align_content": "",
       "align_items": "",
       "align_self": "",
       "border_bottom": "",
       "border_left": "",
       "border_right": "",
       "border_top": "",
       "bottom": "",
       "display": "",
       "flex": "",
       "flex_flow": "",
       "grid_area": "",
       "grid_auto_columns": "",
       "grid_auto_flow": "",
       "grid_auto_rows": "",
       "grid_column": "",
       "grid_gap": "",
       "grid_row": "",
       "grid_template_areas": "",
       "grid_template_columns": "",
       "grid_template_rows": "",
       "height": "",
       "justify_content": "",
       "justify_items": "",
       "left": "",
       "margin": "",
       "max_height": "",
       "max_width": "",
       "min_height": "",
       "min_width": "",
       "object_fit": "",
       "object_position": "",
       "order": "",
       "overflow": "",
       "padding": "",
       "right": "",
       "top": "",
       "visibility": "",
       "width": ""
      }
     },
     "34a756d5d47a47b3900dd99c5d29edf7": {
      "model_module": "jupyter-leaflet",
      "model_module_version": "^0.17",
      "model_name": "LeafletMapStyleModel",
      "state": {
       "_model_module": "jupyter-leaflet",
       "_model_module_version": "^0.17",
       "_model_name": "LeafletMapStyleModel",
       "_view_count": "",
       "_view_module": "@jupyter-widgets/base",
       "_view_module_version": "2.0.0",
       "_view_name": "StyleView",
       "cursor": "grab"
      }
     },
     "34b5ada8711644ffbd84748d8b6128ad": {
      "model_module": "jupyter-leaflet",
      "model_module_version": "^0.17",
      "model_name": "LeafletMarkerModel",
      "state": {
       "_model_module": "jupyter-leaflet",
       "_model_module_version": "^0.17",
       "_model_name": "LeafletMarkerModel",
       "_view_count": "",
       "_view_module": "jupyter-leaflet",
       "_view_module_version": "^0.17",
       "_view_name": "LeafletMarkerView",
       "alt": "",
       "base": false,
       "bottom": false,
       "draggable": false,
       "icon": "IPY_MODEL_4e078402e67e4f05ad6f2188d12fd9a2",
       "keyboard": true,
       "location": [
        "38.469947",
        "-8.98691"
       ],
       "name": "",
       "opacity": "1",
       "options": [
        "alt",
        "draggable",
        "keyboard",
        "rise_offset",
        "rise_on_hover",
        "rotation_angle",
        "rotation_origin",
        "title",
        "z_index_offset"
       ],
       "pane": "",
       "popup": "",
       "popup_max_height": "",
       "popup_max_width": "300",
       "popup_min_width": "50",
       "rise_offset": "250",
       "rise_on_hover": false,
       "rotation_angle": "0",
       "rotation_origin": "",
       "subitems": [],
       "title": "",
       "visible": true,
       "z_index_offset": "0"
      }
     },
     "4da7156e082d49609dc46314102b7b8c": {
      "model_module": "@jupyter-widgets/base",
      "model_module_version": "2.0.0",
      "model_name": "LayoutModel",
      "state": {
       "_model_module": "@jupyter-widgets/base",
       "_model_module_version": "2.0.0",
       "_model_name": "LayoutModel",
       "_view_count": "",
       "_view_module": "@jupyter-widgets/base",
       "_view_module_version": "2.0.0",
       "_view_name": "LayoutView",
       "align_content": "",
       "align_items": "",
       "align_self": "",
       "border_bottom": "",
       "border_left": "",
       "border_right": "",
       "border_top": "",
       "bottom": "",
       "display": "",
       "flex": "",
       "flex_flow": "",
       "grid_area": "",
       "grid_auto_columns": "",
       "grid_auto_flow": "",
       "grid_auto_rows": "",
       "grid_column": "",
       "grid_gap": "",
       "grid_row": "",
       "grid_template_areas": "",
       "grid_template_columns": "",
       "grid_template_rows": "",
       "height": "",
       "justify_content": "",
       "justify_items": "",
       "left": "",
       "margin": "",
       "max_height": "",
       "max_width": "",
       "min_height": "",
       "min_width": "",
       "object_fit": "",
       "object_position": "",
       "order": "",
       "overflow": "",
       "padding": "",
       "right": "",
       "top": "",
       "visibility": "",
       "width": ""
      }
     },
     "4e078402e67e4f05ad6f2188d12fd9a2": {
      "model_module": "jupyter-leaflet",
      "model_module_version": "^0.17",
      "model_name": "LeafletAwesomeIconModel",
      "state": {
       "_model_module": "jupyter-leaflet",
       "_model_module_version": "^0.17",
       "_model_name": "LeafletAwesomeIconModel",
       "_view_count": "",
       "_view_module": "jupyter-leaflet",
       "_view_module_version": "^0.17",
       "_view_name": "LeafletAwesomeIconView",
       "base": false,
       "bottom": false,
       "icon_color": "white",
       "marker_color": "blue",
       "name": "close",
       "options": [],
       "pane": "",
       "popup": "",
       "popup_max_height": "",
       "popup_max_width": "300",
       "popup_min_width": "50",
       "spin": false,
       "subitems": []
      }
     },
     "513b7d46aabb4d7d933121c20b800ce0": {
      "model_module": "jupyter-leaflet",
      "model_module_version": "^0.17",
      "model_name": "LeafletMapModel",
      "state": {
       "_dom_classes": [],
       "_model_module": "jupyter-leaflet",
       "_model_module_version": "^0.17",
       "_model_name": "LeafletMapModel",
       "_view_count": "",
       "_view_module": "jupyter-leaflet",
       "_view_module_version": "^0.17",
       "_view_name": "LeafletMapView",
       "bottom": "0",
       "bounce_at_zoom_limits": true,
       "box_zoom": true,
       "center": [
        "38.469947",
        "-8.98691"
       ],
       "close_popup_on_click": true,
       "controls": [
        "IPY_MODEL_6e2e39b0e3274753853402c9690b02d1",
        "IPY_MODEL_103de9ab951749c4b0636bb00513ed07"
       ],
       "crs": {
        "custom": false,
        "name": "EPSG3857"
       },
       "default_style": "IPY_MODEL_bcded1d36b764bc0b16bc16383488c91",
       "double_click_zoom": true,
       "dragging": true,
       "dragging_style": "IPY_MODEL_59e626710b004a5881b2e8a08bdefaff",
       "east": "0",
       "fullscreen": false,
       "inertia": true,
       "inertia_deceleration": "3000",
       "inertia_max_speed": "1500",
       "interpolation": "bilinear",
       "keyboard": true,
       "keyboard_pan_offset": "80",
       "keyboard_zoom_offset": "1",
       "layers": [
        "IPY_MODEL_281934430a5342adb240806dc777b050",
        "IPY_MODEL_bc817a94023a4fd180830f9d666c8087",
        "IPY_MODEL_34b5ada8711644ffbd84748d8b6128ad"
       ],
       "layout": "IPY_MODEL_a89188c60a10492abb7a935620ae660f",
       "left": "9007199254740991",
       "max_zoom": "",
       "min_zoom": "",
       "modisdate": "2023-04-12",
       "north": "0",
       "options": [
        "bounce_at_zoom_limits",
        "box_zoom",
        "center",
        "close_popup_on_click",
        "double_click_zoom",
        "dragging",
        "fullscreen",
        "inertia",
        "inertia_deceleration",
        "inertia_max_speed",
        "interpolation",
        "keyboard",
        "keyboard_pan_offset",
        "keyboard_zoom_offset",
        "max_zoom",
        "min_zoom",
        "prefer_canvas",
        "scroll_wheel_zoom",
        "tap",
        "tap_tolerance",
        "touch_zoom",
        "world_copy_jump",
        "zoom",
        "zoom_animation_threshold",
        "zoom_delta",
        "zoom_snap"
       ],
       "panes": {},
       "prefer_canvas": false,
       "right": "0",
       "scroll_wheel_zoom": false,
       "south": "0",
       "style": "IPY_MODEL_b0d2937141024a63af0d975a20af7b16",
       "tabbable": "",
       "tap": true,
       "tap_tolerance": "15",
       "tooltip": "",
       "top": "9007199254740991",
       "touch_zoom": true,
       "west": "0",
       "window_url": "",
       "world_copy_jump": false,
       "zoom": "14",
       "zoom_animation_threshold": "4",
       "zoom_delta": "1",
       "zoom_snap": "1"
      }
     },
     "59e626710b004a5881b2e8a08bdefaff": {
      "model_module": "jupyter-leaflet",
      "model_module_version": "^0.17",
      "model_name": "LeafletMapStyleModel",
      "state": {
       "_model_module": "jupyter-leaflet",
       "_model_module_version": "^0.17",
       "_model_name": "LeafletMapStyleModel",
       "_view_count": "",
       "_view_module": "@jupyter-widgets/base",
       "_view_module_version": "2.0.0",
       "_view_name": "StyleView",
       "cursor": "move"
      }
     },
     "5a5b4b63696a466c9dfd693589f2af2d": {
      "model_module": "jupyter-leaflet",
      "model_module_version": "^0.17",
      "model_name": "LeafletGeoJSONModel",
      "state": {
       "_model_module": "jupyter-leaflet",
       "_model_module_version": "^0.17",
       "_model_name": "LeafletGeoJSONModel",
       "_view_count": "",
       "_view_module": "jupyter-leaflet",
       "_view_module_version": "^0.17",
       "_view_name": "LeafletGeoJSONView",
       "base": false,
       "bottom": false,
       "data": {
        "features": [
         {
          "assets": {
           "data": {
            "description": "Storage Data",
            "href": "https://api.up42.com/v2/assets/630bd8cd-c4c2-4619-9a88-5b3421ffd1de",
            "roles": [
             "data"
            ],
            "title": "Data",
            "type": "application/zip"
           }
          },
          "bbox": [
           "-8.992222054150913",
           "38.46552423989927",
           "-8.968630844922524",
           "38.483829164081016"
          ],
          "collection": "e3e8ecde-6328-4bb2-bf06-eeffcfcc0978",
          "geometry": {
           "coordinates": [
            [
             [
              "-8.970516192795307",
              "38.483829164081016"
             ],
             [
              "-8.969003136298957",
              "38.48288700320683"
             ],
             [
              "-8.968630844922524",
              "38.482111858604256"
             ],
             [
              "-8.968642327826503",
              "38.48207130696972"
             ],
             [
              "-8.969565423041054",
              "38.48174711275871"
             ],
             [
              "-8.969348067535785",
              "38.48060251189329"
             ],
             [
              "-8.97187629060627",
              "38.480166056393756"
             ],
             [
              "-8.97708711322504",
              "38.4802663253012"
             ],
             [
              "-8.981352415160988",
              "38.47907747662965"
             ],
             [
              "-8.981432678381337",
              "38.479041440729354"
             ],
             [
              "-8.984712266276473",
              "38.47600481509272"
             ],
             [
              "-8.982695061218294",
              "38.473814577442"
             ],
             [
              "-8.986891621124045",
              "38.469791186640876"
             ],
             [
              "-8.990422699558534",
              "38.46709688704083"
             ],
             [
              "-8.990164996618832",
              "38.46552423989927"
             ],
             [
              "-8.991964631241645",
              "38.4656190050795"
             ],
             [
              "-8.992222054150913",
              "38.47016566713853"
             ],
             [
              "-8.989779464974129",
              "38.47637035954537"
             ],
             [
              "-8.981065183212577",
              "38.4814115801504"
             ],
             [
              "-8.970516192795307",
              "38.483829164081016"
             ]
            ]
           ],
           "type": "Polygon"
          },
          "id": "fe7d6485-1ecd-4151-b027-79a107557d48",
          "links": [
           {
            "href": "https://api.up42.com/v2/assets/stac/collections/e3e8ecde-6328-4bb2-bf06-eeffcfcc0978/items/fe7d6485-1ecd-4151-b027-79a107557d48",
            "rel": "self",
            "type": "application/geo+json"
           },
           {
            "href": "https://api.up42.com/v2/assets/stac/collections/e3e8ecde-6328-4bb2-bf06-eeffcfcc0978",
            "rel": "parent",
            "type": "application/json"
           },
           {
            "href": "https://api.up42.com/v2/assets/stac/collections/e3e8ecde-6328-4bb2-bf06-eeffcfcc0978",
            "rel": "collection",
            "type": "application/json"
           },
           {
            "href": "https://api.up42.com/v2/assets/stac/",
            "rel": "root",
            "type": "application/json"
           }
          ],
          "properties": {
           "constellation": "PHR",
           "datetime": "2022-03-18T11:24:06+00:00",
           "end_datetime": "2022-03-18T11:24:06+00:00",
           "eo:cloud_cover": "0",
           "gsd": "0.7562325080525973",
           "platform": "PHR-1B",
           "proj:epsg": "32629",
           "start_datetime": "2022-03-18T11:24:06+00:00",
           "style": {
            "color": "red",
            "dashArray": "9",
            "fillOpacity": "0.5",
            "opacity": "1",
            "weight": "1"
           },
           "title": "DS_PHR1B_202203181123290_FR1_PX_W009N38_0119_07844_R1C1",
           "up42-order:host_id": "9372ed63-982a-4003-9f90-e7a2fe10aab3",
           "up42-order:id": "8a2c9bc2-7878-45e6-92b4-81fa33d2fd9f",
           "up42-order:status": "FULFILLED",
           "up42-product:collection_name": "phr",
           "up42-product:data_type": "raster",
           "up42-product:modality": "multispectral",
           "up42-product:product_id": "4f1b2f62-98df-4c74-81f4-5dce45deee99",
           "up42-system:account_id": "3c86279b-610a-4dba-ad12-abe3bdc51428",
           "up42-system:asset_id": "630bd8cd-c4c2-4619-9a88-5b3421ffd1de",
           "up42-system:metadata_version": "0.0.4",
           "up42-system:source": "ARCHIVE",
           "up42-system:workspace_id": "d39fe05a-400c-44f6-b770-86990f64b004",
           "view:azimuth": "179.08569011330297",
           "view:incidence_angle": "18.141957311334412",
           "view:sun_azimuth": "150.26387457509006",
           "view:sun_elevation": "46.60727885283659"
          },
          "stac_extensions": [
           "https://stac-extensions.github.io/view/v1.0.0/schema.json",
           "https://api.up42.com/stac-extensions/up42-system/v1.0.0/schema.json",
           "https://api.up42.com/stac-extensions/up42-order/v1.0.0/schema.json",
           "https://stac-extensions.github.io/eo/v1.0.0/schema.json",
           "https://stac-extensions.github.io/projection/v1.0.0/schema.json",
           "https://api.up42.com/stac-extensions/up42-product/v1.0.0/schema.json"
          ],
          "stac_version": "1.0.0",
          "type": "Feature"
         },
         {
          "assets": {
           "data": {
            "description": "Storage Data",
            "href": "https://api.up42.com/v2/assets/828b2da8-b322-4e19-9abc-3917e0e36986",
            "roles": [
             "data"
            ],
            "title": "Data",
            "type": "application/zip"
           }
          },
          "bbox": [
           "-8.992222054150913",
           "38.46552423989927",
           "-8.968630844922524",
           "38.483829164081016"
          ],
          "collection": "fcb6de6f-7c47-4d59-bc7c-ec83d5af4d09",
          "geometry": {
           "coordinates": [
            [
             [
              "-8.970516192795307",
              "38.483829164081016"
             ],
             [
              "-8.969003136298957",
              "38.48288700320683"
             ],
             [
              "-8.968630844922524",
              "38.482111858604256"
             ],
             [
              "-8.968642327826503",
              "38.48207130696972"
             ],
             [
              "-8.969565423041054",
              "38.48174711275871"
             ],
             [
              "-8.969348067535785",
              "38.48060251189329"
             ],
             [
              "-8.97187629060627",
              "38.480166056393756"
             ],
             [
              "-8.97708711322504",
              "38.4802663253012"
             ],
             [
              "-8.981352415160988",
              "38.47907747662965"
             ],
             [
              "-8.981432678381337",
              "38.479041440729354"
             ],
             [
              "-8.984712266276473",
              "38.47600481509272"
             ],
             [
              "-8.982695061218294",
              "38.473814577442"
             ],
             [
              "-8.986891621124045",
              "38.469791186640876"
             ],
             [
              "-8.990422699558534",
              "38.46709688704083"
             ],
             [
              "-8.990164996618832",
              "38.46552423989927"
             ],
             [
              "-8.991964631241645",
              "38.4656190050795"
             ],
             [
              "-8.992222054150913",
              "38.47016566713853"
             ],
             [
              "-8.989779464974129",
              "38.47637035954537"
             ],
             [
              "-8.981065183212577",
              "38.4814115801504"
             ],
             [
              "-8.970516192795307",
              "38.483829164081016"
             ]
            ]
           ],
           "type": "Polygon"
          },
          "id": "36ecf578-eb19-4c7d-8ba2-c85d23b9af86",
          "links": [
           {
            "href": "https://api.up42.com/v2/assets/stac/collections/fcb6de6f-7c47-4d59-bc7c-ec83d5af4d09/items/36ecf578-eb19-4c7d-8ba2-c85d23b9af86",
            "rel": "self",
            "type": "application/geo+json"
           },
           {
            "href": "https://api.up42.com/v2/assets/stac/collections/fcb6de6f-7c47-4d59-bc7c-ec83d5af4d09",
            "rel": "parent",
            "type": "application/json"
           },
           {
            "href": "https://api.up42.com/v2/assets/stac/collections/fcb6de6f-7c47-4d59-bc7c-ec83d5af4d09",
            "rel": "collection",
            "type": "application/json"
           },
           {
            "href": "https://api.up42.com/v2/assets/stac/",
            "rel": "root",
            "type": "application/json"
           }
          ],
          "properties": {
           "constellation": "PHR",
           "datetime": "2022-03-18T11:24:06+00:00",
           "end_datetime": "2022-03-18T11:24:06+00:00",
           "eo:cloud_cover": "0",
           "gsd": "0.7562325080525973",
           "platform": "PHR-1B",
           "proj:epsg": "32629",
           "start_datetime": "2022-03-18T11:24:06+00:00",
           "style": {
            "color": "red",
            "dashArray": "9",
            "fillOpacity": "0.5",
            "opacity": "1",
            "weight": "1"
           },
           "title": "DS_PHR1B_202203181123290_FR1_PX_W009N38_0119_07844_R1C1",
           "up42-order:host_id": "d0c1f983-05dc-4bc9-8eba-f9f55a91d7b5",
           "up42-order:id": "d373da26-8a90-4c08-a745-a0dbf2857639",
           "up42-order:status": "FULFILLED",
           "up42-product:collection_name": "phr",
           "up42-product:data_type": "raster",
           "up42-product:modality": "multispectral",
           "up42-product:product_id": "4f1b2f62-98df-4c74-81f4-5dce45deee99",
           "up42-system:account_id": "3c86279b-610a-4dba-ad12-abe3bdc51428",
           "up42-system:asset_id": "828b2da8-b322-4e19-9abc-3917e0e36986",
           "up42-system:metadata_version": "0.0.4",
           "up42-system:source": "ARCHIVE",
           "up42-system:workspace_id": "d39fe05a-400c-44f6-b770-86990f64b004",
           "view:azimuth": "179.08569011330297",
           "view:incidence_angle": "18.141957311334412",
           "view:sun_azimuth": "150.26387457509006",
           "view:sun_elevation": "46.60727885283659"
          },
          "stac_extensions": [
           "https://api.up42.com/stac-extensions/up42-system/v1.0.0/schema.json",
           "https://api.up42.com/stac-extensions/up42-order/v1.0.0/schema.json",
           "https://stac-extensions.github.io/eo/v1.0.0/schema.json",
           "https://stac-extensions.github.io/view/v1.0.0/schema.json",
           "https://api.up42.com/stac-extensions/up42-product/v1.0.0/schema.json",
           "https://stac-extensions.github.io/projection/v1.0.0/schema.json"
          ],
          "stac_version": "1.0.0",
          "type": "Feature"
         },
         {
          "assets": {
           "data": {
            "description": "Storage Data",
            "href": "https://api.up42.com/v2/assets/f5080d5d-cb90-4cb5-9caf-b1e870865967",
            "roles": [
             "data"
            ],
            "title": "Data",
            "type": "application/zip"
           }
          },
          "bbox": [
           "-8.992222054150913",
           "38.46552423989927",
           "-8.968630844922524",
           "38.483829164081016"
          ],
          "collection": "8e113462-23cd-4516-bb70-fb6c63ba0cf4",
          "geometry": {
           "coordinates": [
            [
             [
              "-8.970516192795307",
              "38.483829164081016"
             ],
             [
              "-8.969003136298957",
              "38.48288700320683"
             ],
             [
              "-8.968630844922524",
              "38.482111858604256"
             ],
             [
              "-8.968642327826503",
              "38.48207130696972"
             ],
             [
              "-8.969565423041054",
              "38.48174711275871"
             ],
             [
              "-8.969348067535785",
              "38.48060251189329"
             ],
             [
              "-8.97187629060627",
              "38.480166056393756"
             ],
             [
              "-8.97708711322504",
              "38.4802663253012"
             ],
             [
              "-8.981352415160988",
              "38.47907747662965"
             ],
             [
              "-8.981432678381337",
              "38.479041440729354"
             ],
             [
              "-8.984712266276473",
              "38.47600481509272"
             ],
             [
              "-8.982695061218294",
              "38.473814577442"
             ],
             [
              "-8.986891621124045",
              "38.469791186640876"
             ],
             [
              "-8.990422699558534",
              "38.46709688704083"
             ],
             [
              "-8.990164996618832",
              "38.46552423989927"
             ],
             [
              "-8.991964631241645",
              "38.4656190050795"
             ],
             [
              "-8.992222054150913",
              "38.47016566713853"
             ],
             [
              "-8.989779464974129",
              "38.47637035954537"
             ],
             [
              "-8.981065183212577",
              "38.4814115801504"
             ],
             [
              "-8.970516192795307",
              "38.483829164081016"
             ]
            ]
           ],
           "type": "Polygon"
          },
          "id": "bd5ad586-4f1e-4228-9e63-9206fbe297fe",
          "links": [
           {
            "href": "https://api.up42.com/v2/assets/stac/collections/8e113462-23cd-4516-bb70-fb6c63ba0cf4/items/bd5ad586-4f1e-4228-9e63-9206fbe297fe",
            "rel": "self",
            "type": "application/geo+json"
           },
           {
            "href": "https://api.up42.com/v2/assets/stac/collections/8e113462-23cd-4516-bb70-fb6c63ba0cf4",
            "rel": "parent",
            "type": "application/json"
           },
           {
            "href": "https://api.up42.com/v2/assets/stac/collections/8e113462-23cd-4516-bb70-fb6c63ba0cf4",
            "rel": "collection",
            "type": "application/json"
           },
           {
            "href": "https://api.up42.com/v2/assets/stac/",
            "rel": "root",
            "type": "application/json"
           }
          ],
          "properties": {
           "constellation": "PHR",
           "datetime": "2022-09-09T11:28:49.600000+00:00",
           "end_datetime": "2022-09-09T11:28:49.600000+00:00",
           "eo:cloud_cover": "0",
           "gsd": "0.7138816774061343",
           "platform": "PHR-1B",
           "proj:epsg": "32629",
           "start_datetime": "2022-09-09T11:28:49.600000+00:00",
           "style": {
            "color": "red",
            "dashArray": "9",
            "fillOpacity": "0.5",
            "opacity": "1",
            "weight": "1"
           },
           "title": "DS_PHR1B_202209091128126_FR1_PX_W009N38_0111_01724_R1C1",
           "up42-order:host_id": "4d27e173-c628-4935-a583-37a68ac904cb",
           "up42-order:id": "f3b4d9fd-7504-49dc-8d13-abc56d021d16",
           "up42-order:status": "FULFILLED",
           "up42-product:collection_name": "phr",
           "up42-product:data_type": "raster",
           "up42-product:modality": "multispectral",
           "up42-product:product_id": "647780db-5a06-4b61-b525-577a8b68bb54",
           "up42-system:account_id": "3c86279b-610a-4dba-ad12-abe3bdc51428",
           "up42-system:asset_id": "f5080d5d-cb90-4cb5-9caf-b1e870865967",
           "up42-system:metadata_version": "0.0.4",
           "up42-system:source": "ARCHIVE",
           "up42-system:workspace_id": "d39fe05a-400c-44f6-b770-86990f64b004",
           "view:azimuth": "179.99787147104942",
           "view:incidence_angle": "8.344681400691485",
           "view:sun_azimuth": "152.20823252306252",
           "view:sun_elevation": "53.6725392907585"
          },
          "stac_extensions": [
           "https://stac-extensions.github.io/view/v1.0.0/schema.json",
           "https://api.up42.com/stac-extensions/up42-system/v1.0.0/schema.json",
           "https://api.up42.com/stac-extensions/up42-order/v1.0.0/schema.json",
           "https://stac-extensions.github.io/eo/v1.0.0/schema.json",
           "https://stac-extensions.github.io/projection/v1.0.0/schema.json",
           "https://api.up42.com/stac-extensions/up42-product/v1.0.0/schema.json"
          ],
          "stac_version": "1.0.0",
          "type": "Feature"
         },
         {
          "assets": {
           "data": {
            "description": "Storage Data",
            "href": "https://api.up42.com/v2/assets/fa438b5e-0903-4787-8958-45a376dd9b04",
            "roles": [
             "data"
            ],
            "title": "Data",
            "type": "application/zip"
           }
          },
          "bbox": [
           "-8.992222054150913",
           "38.46552423989927",
           "-8.968630844922524",
           "38.483829164081016"
          ],
          "collection": "5b6b32b9-41fc-4f68-9f56-40dcbdbd4263",
          "geometry": {
           "coordinates": [
            [
             [
              "-8.970516192795307",
              "38.483829164081016"
             ],
             [
              "-8.969003136298957",
              "38.48288700320683"
             ],
             [
              "-8.968630844922524",
              "38.482111858604256"
             ],
             [
              "-8.968642327826503",
              "38.48207130696972"
             ],
             [
              "-8.969565423041054",
              "38.48174711275871"
             ],
             [
              "-8.969348067535785",
              "38.48060251189329"
             ],
             [
              "-8.97187629060627",
              "38.480166056393756"
             ],
             [
              "-8.97708711322504",
              "38.4802663253012"
             ],
             [
              "-8.981352415160988",
              "38.47907747662965"
             ],
             [
              "-8.981432678381337",
              "38.479041440729354"
             ],
             [
              "-8.984712266276473",
              "38.47600481509272"
             ],
             [
              "-8.982695061218294",
              "38.473814577442"
             ],
             [
              "-8.986891621124045",
              "38.469791186640876"
             ],
             [
              "-8.990422699558534",
              "38.46709688704083"
             ],
             [
              "-8.990164996618832",
              "38.46552423989927"
             ],
             [
              "-8.991964631241645",
              "38.4656190050795"
             ],
             [
              "-8.992222054150913",
              "38.47016566713853"
             ],
             [
              "-8.989779464974129",
              "38.47637035954537"
             ],
             [
              "-8.981065183212577",
              "38.4814115801504"
             ],
             [
              "-8.970516192795307",
              "38.483829164081016"
             ]
            ]
           ],
           "type": "Polygon"
          },
          "id": "538091f8-4be7-404b-9936-97274be89fb3",
          "links": [
           {
            "href": "https://api.up42.com/v2/assets/stac/collections/5b6b32b9-41fc-4f68-9f56-40dcbdbd4263/items/538091f8-4be7-404b-9936-97274be89fb3",
            "rel": "self",
            "type": "application/geo+json"
           },
           {
            "href": "https://api.up42.com/v2/assets/stac/collections/5b6b32b9-41fc-4f68-9f56-40dcbdbd4263",
            "rel": "parent",
            "type": "application/json"
           },
           {
            "href": "https://api.up42.com/v2/assets/stac/collections/5b6b32b9-41fc-4f68-9f56-40dcbdbd4263",
            "rel": "collection",
            "type": "application/json"
           },
           {
            "href": "https://api.up42.com/v2/assets/stac/",
            "rel": "root",
            "type": "application/json"
           }
          ],
          "properties": {
           "constellation": "PHR",
           "datetime": "2022-03-18T11:24:06+00:00",
           "end_datetime": "2022-03-18T11:24:06+00:00",
           "eo:cloud_cover": "0",
           "gsd": "0.7562330339024197",
           "platform": "PHR-1B",
           "proj:epsg": "32629",
           "start_datetime": "2022-03-18T11:24:06+00:00",
           "style": {
            "color": "red",
            "dashArray": "9",
            "fillOpacity": "0.5",
            "opacity": "1",
            "weight": "1"
           },
           "title": "DS_PHR1B_202203181123290_FR1_PX_W009N38_0119_07844_R1C1",
           "up42-order:host_id": "dd866675-8c25-4766-8397-5ef8bc5cd2a5",
           "up42-order:id": "92ceac2c-a89f-4e66-9a8d-b20f336d8799",
           "up42-order:status": "FULFILLED",
           "up42-product:collection_name": "phr",
           "up42-product:data_type": "raster",
           "up42-product:modality": "multispectral",
           "up42-product:product_id": "4f1b2f62-98df-4c74-81f4-5dce45deee99",
           "up42-system:account_id": "3c86279b-610a-4dba-ad12-abe3bdc51428",
           "up42-system:asset_id": "fa438b5e-0903-4787-8958-45a376dd9b04",
           "up42-system:metadata_version": "0.0.4",
           "up42-system:source": "ARCHIVE",
           "up42-system:workspace_id": "d39fe05a-400c-44f6-b770-86990f64b004",
           "view:azimuth": "179.08567245519995",
           "view:incidence_angle": "18.141937286841305",
           "view:sun_azimuth": "150.26387449687402",
           "view:sun_elevation": "46.60727883013983"
          },
          "stac_extensions": [
           "https://api.up42.com/stac-extensions/up42-order/v1.0.0/schema.json",
           "https://stac-extensions.github.io/eo/v1.0.0/schema.json",
           "https://api.up42.com/stac-extensions/up42-system/v1.0.0/schema.json",
           "https://stac-extensions.github.io/view/v1.0.0/schema.json",
           "https://stac-extensions.github.io/projection/v1.0.0/schema.json",
           "https://api.up42.com/stac-extensions/up42-product/v1.0.0/schema.json"
          ],
          "stac_version": "1.0.0",
          "type": "Feature"
         },
         {
          "assets": {
           "data": {
            "description": "Storage Data",
            "href": "https://api.up42.com/v2/assets/666191ca-0f28-4f49-9bae-597865187eb1",
            "roles": [
             "data"
            ],
            "title": "Data",
            "type": "application/zip"
           }
          },
          "bbox": [
           "-8.992222054150913",
           "38.46552423989927",
           "-8.968630844922524",
           "38.483829164081016"
          ],
          "collection": "ab966c6c-72c7-4bbe-8d97-51832e0b3f6a",
          "geometry": {
           "coordinates": [
            [
             [
              "-8.970516192795307",
              "38.483829164081016"
             ],
             [
              "-8.969003136298957",
              "38.48288700320683"
             ],
             [
              "-8.968630844922524",
              "38.482111858604256"
             ],
             [
              "-8.968642327826503",
              "38.48207130696972"
             ],
             [
              "-8.969565423041054",
              "38.48174711275871"
             ],
             [
              "-8.969348067535785",
              "38.48060251189329"
             ],
             [
              "-8.97187629060627",
              "38.480166056393756"
             ],
             [
              "-8.97708711322504",
              "38.4802663253012"
             ],
             [
              "-8.981352415160988",
              "38.47907747662965"
             ],
             [
              "-8.981432678381337",
              "38.479041440729354"
             ],
             [
              "-8.984712266276473",
              "38.47600481509272"
             ],
             [
              "-8.982695061218294",
              "38.473814577442"
             ],
             [
              "-8.986891621124045",
              "38.469791186640876"
             ],
             [
              "-8.990422699558534",
              "38.46709688704083"
             ],
             [
              "-8.990164996618832",
              "38.46552423989927"
             ],
             [
              "-8.991964631241645",
              "38.4656190050795"
             ],
             [
              "-8.992222054150913",
              "38.47016566713853"
             ],
             [
              "-8.989779464974129",
              "38.47637035954537"
             ],
             [
              "-8.981065183212577",
              "38.4814115801504"
             ],
             [
              "-8.970516192795307",
              "38.483829164081016"
             ]
            ]
           ],
           "type": "Polygon"
          },
          "id": "466f5541-7298-46fd-ac69-7aeb34273867",
          "links": [
           {
            "href": "https://api.up42.com/v2/assets/stac/collections/ab966c6c-72c7-4bbe-8d97-51832e0b3f6a/items/466f5541-7298-46fd-ac69-7aeb34273867",
            "rel": "self",
            "type": "application/geo+json"
           },
           {
            "href": "https://api.up42.com/v2/assets/stac/collections/ab966c6c-72c7-4bbe-8d97-51832e0b3f6a",
            "rel": "parent",
            "type": "application/json"
           },
           {
            "href": "https://api.up42.com/v2/assets/stac/collections/ab966c6c-72c7-4bbe-8d97-51832e0b3f6a",
            "rel": "collection",
            "type": "application/json"
           },
           {
            "href": "https://api.up42.com/v2/assets/stac/",
            "rel": "root",
            "type": "application/json"
           }
          ],
          "properties": {
           "constellation": "PHR",
           "datetime": "2022-03-18T11:24:06+00:00",
           "end_datetime": "2022-03-18T11:24:06+00:00",
           "eo:cloud_cover": "0",
           "gsd": "0.7562325080525973",
           "platform": "PHR-1B",
           "proj:epsg": "32629",
           "start_datetime": "2022-03-18T11:24:06+00:00",
           "style": {
            "color": "red",
            "dashArray": "9",
            "fillOpacity": "0.5",
            "opacity": "1",
            "weight": "1"
           },
           "title": "DS_PHR1B_202203181123290_FR1_PX_W009N38_0119_07844_R1C1",
           "up42-order:host_id": "82660486-7908-4eba-a79d-386305cd4941",
           "up42-order:id": "694b65c8-6d3d-4aa8-b5d9-f42d525b5477",
           "up42-order:status": "FULFILLED",
           "up42-product:collection_name": "phr",
           "up42-product:data_type": "raster",
           "up42-product:modality": "multispectral",
           "up42-product:product_id": "4f1b2f62-98df-4c74-81f4-5dce45deee99",
           "up42-system:account_id": "3c86279b-610a-4dba-ad12-abe3bdc51428",
           "up42-system:asset_id": "666191ca-0f28-4f49-9bae-597865187eb1",
           "up42-system:metadata_version": "0.0.4",
           "up42-system:source": "ARCHIVE",
           "up42-system:workspace_id": "d39fe05a-400c-44f6-b770-86990f64b004",
           "view:azimuth": "179.08569011330297",
           "view:incidence_angle": "18.141957311334412",
           "view:sun_azimuth": "150.26387457509006",
           "view:sun_elevation": "46.60727885283659"
          },
          "stac_extensions": [
           "https://stac-extensions.github.io/projection/v1.0.0/schema.json",
           "https://api.up42.com/stac-extensions/up42-system/v1.0.0/schema.json",
           "https://stac-extensions.github.io/view/v1.0.0/schema.json",
           "https://stac-extensions.github.io/eo/v1.0.0/schema.json",
           "https://api.up42.com/stac-extensions/up42-order/v1.0.0/schema.json",
           "https://api.up42.com/stac-extensions/up42-product/v1.0.0/schema.json"
          ],
          "stac_version": "1.0.0",
          "type": "Feature"
         },
         {
          "assets": {
           "data": {
            "description": "Storage Data",
            "href": "https://api.up42.com/v2/assets/696f6b22-523a-4f57-a6a3-16efa5b1edb5",
            "roles": [
             "data"
            ],
            "title": "Data",
            "type": "application/zip"
           }
          },
          "bbox": [
           "-8.992222054150913",
           "38.46552423989927",
           "-8.968630844922524",
           "38.483829164081016"
          ],
          "collection": "2a1dfd20-deaf-4ce7-bc67-63c69ae55e7e",
          "geometry": {
           "coordinates": [
            [
             [
              "-8.970516192795307",
              "38.483829164081016"
             ],
             [
              "-8.969003136298957",
              "38.48288700320683"
             ],
             [
              "-8.968630844922524",
              "38.482111858604256"
             ],
             [
              "-8.968642327826503",
              "38.48207130696972"
             ],
             [
              "-8.969565423041054",
              "38.48174711275871"
             ],
             [
              "-8.969348067535785",
              "38.48060251189329"
             ],
             [
              "-8.97187629060627",
              "38.480166056393756"
             ],
             [
              "-8.97708711322504",
              "38.4802663253012"
             ],
             [
              "-8.981352415160988",
              "38.47907747662965"
             ],
             [
              "-8.981432678381337",
              "38.479041440729354"
             ],
             [
              "-8.984712266276473",
              "38.47600481509272"
             ],
             [
              "-8.982695061218294",
              "38.473814577442"
             ],
             [
              "-8.986891621124045",
              "38.469791186640876"
             ],
             [
              "-8.990422699558534",
              "38.46709688704083"
             ],
             [
              "-8.990164996618832",
              "38.46552423989927"
             ],
             [
              "-8.991964631241645",
              "38.4656190050795"
             ],
             [
              "-8.992222054150913",
              "38.47016566713853"
             ],
             [
              "-8.989779464974129",
              "38.47637035954537"
             ],
             [
              "-8.981065183212577",
              "38.4814115801504"
             ],
             [
              "-8.970516192795307",
              "38.483829164081016"
             ]
            ]
           ],
           "type": "Polygon"
          },
          "id": "c6148201-7f57-47d2-81b3-08024cf3fcac",
          "links": [
           {
            "href": "https://api.up42.com/v2/assets/stac/collections/2a1dfd20-deaf-4ce7-bc67-63c69ae55e7e/items/c6148201-7f57-47d2-81b3-08024cf3fcac",
            "rel": "self",
            "type": "application/geo+json"
           },
           {
            "href": "https://api.up42.com/v2/assets/stac/collections/2a1dfd20-deaf-4ce7-bc67-63c69ae55e7e",
            "rel": "parent",
            "type": "application/json"
           },
           {
            "href": "https://api.up42.com/v2/assets/stac/collections/2a1dfd20-deaf-4ce7-bc67-63c69ae55e7e",
            "rel": "collection",
            "type": "application/json"
           },
           {
            "href": "https://api.up42.com/v2/assets/stac/",
            "rel": "root",
            "type": "application/json"
           }
          ],
          "properties": {
           "constellation": "PHR",
           "datetime": "2022-03-18T11:24:06+00:00",
           "end_datetime": "2022-03-18T11:24:06+00:00",
           "eo:cloud_cover": "0",
           "gsd": "0.7562325080525973",
           "platform": "PHR-1B",
           "proj:epsg": "32629",
           "start_datetime": "2022-03-18T11:24:06+00:00",
           "style": {
            "color": "red",
            "dashArray": "9",
            "fillOpacity": "0.5",
            "opacity": "1",
            "weight": "1"
           },
           "title": "DS_PHR1B_202203181123290_FR1_PX_W009N38_0119_07844_R1C1",
           "up42-order:host_id": "89df2d1f-8b91-46c9-b89c-5457606066a4",
           "up42-order:id": "d28a249c-489b-4409-b939-dceb57d5b919",
           "up42-order:status": "FULFILLED",
           "up42-product:collection_name": "phr",
           "up42-product:data_type": "raster",
           "up42-product:modality": "multispectral",
           "up42-product:product_id": "4f1b2f62-98df-4c74-81f4-5dce45deee99",
           "up42-system:account_id": "3c86279b-610a-4dba-ad12-abe3bdc51428",
           "up42-system:asset_id": "696f6b22-523a-4f57-a6a3-16efa5b1edb5",
           "up42-system:metadata_version": "0.0.4",
           "up42-system:source": "ARCHIVE",
           "up42-system:workspace_id": "d39fe05a-400c-44f6-b770-86990f64b004",
           "view:azimuth": "179.08569011330297",
           "view:incidence_angle": "18.141957311334412",
           "view:sun_azimuth": "150.26387457509006",
           "view:sun_elevation": "46.60727885283659"
          },
          "stac_extensions": [
           "https://stac-extensions.github.io/view/v1.0.0/schema.json",
           "https://api.up42.com/stac-extensions/up42-system/v1.0.0/schema.json",
           "https://api.up42.com/stac-extensions/up42-order/v1.0.0/schema.json",
           "https://stac-extensions.github.io/eo/v1.0.0/schema.json",
           "https://stac-extensions.github.io/projection/v1.0.0/schema.json",
           "https://api.up42.com/stac-extensions/up42-product/v1.0.0/schema.json"
          ],
          "stac_version": "1.0.0",
          "type": "Feature"
         },
         {
          "assets": {
           "data": {
            "description": "Storage Data",
            "href": "https://api.up42.com/v2/assets/55dfa9f4-361f-44dd-b4c4-f1f05ad02cd3",
            "roles": [
             "data"
            ],
            "title": "Data",
            "type": "application/zip"
           }
          },
          "bbox": [
           "-8.807642529925207",
           "37.9650923749471",
           "-8.799850410659893",
           "38.06117540285824"
          ],
          "collection": "00d34533-5d69-4d71-9808-8333792e81bd",
          "geometry": {
           "coordinates": [
            [
             [
              "-8.802269703907804",
              "37.971145510374924"
             ],
             [
              "-8.80358110587483",
              "37.96822751683051"
             ],
             [
              "-8.80404100508623",
              "37.96653385159878"
             ],
             [
              "-8.804272501828866",
              "37.96510117956587"
             ],
             [
              "-8.804397754234571",
              "37.9650923749471"
             ],
             [
              "-8.80471075382993",
              "37.965119933773344"
             ],
             [
              "-8.80472210243735",
              "37.965133472023076"
             ],
             [
              "-8.804479086284108",
              "37.96662020342873"
             ],
             [
              "-8.80402486507613",
              "37.96832289275351"
             ],
             [
              "-8.801911732924497",
              "37.973015091066884"
             ],
             [
              "-8.802587810303788",
              "37.975652508578825"
             ],
             [
              "-8.803077143018777",
              "37.977884027158076"
             ],
             [
              "-8.80341799678388",
              "37.98029555318818"
             ],
             [
              "-8.806009558430194",
              "37.99935313294735"
             ],
             [
              "-8.807642529925207",
              "38.0108111855282"
             ],
             [
              "-8.805369325441598",
              "38.03257348790049"
             ],
             [
              "-8.805369182351892",
              "38.03262756468795"
             ],
             [
              "-8.805453916688837",
              "38.03290259645851"
             ],
             [
              "-8.806477643283884",
              "38.033593767927734"
             ],
             [
              "-8.8065604154671",
              "38.034616860937966"
             ],
             [
              "-8.806494920307166",
              "38.03568928036138"
             ],
             [
              "-8.804231938868389",
              "38.04248571222239"
             ],
             [
              "-8.800300779993394",
              "38.06114011768673"
             ],
             [
              "-8.800295031368426",
              "38.06115813350597"
             ],
             [
              "-8.799850410659893",
              "38.06117540285824"
             ],
             [
              "-8.803816019115994",
              "38.04246699325252"
             ],
             [
              "-8.804253376187258",
              "38.040854426897845"
             ],
             [
              "-8.80606193350437",
              "38.035675047680755"
             ],
             [
              "-8.806121844293402",
              "38.03456206153903"
             ],
             [
              "-8.806027112831112",
              "38.033755256547856"
             ],
             [
              "-8.805088718790222",
              "38.03311379327174"
             ],
             [
              "-8.804913424105466",
              "38.03261329009173"
             ],
             [
              "-8.807209488597126",
              "38.01087356648187"
             ],
             [
              "-8.807192944314357",
              "38.01066624332143"
             ],
             [
              "-8.806029937421055",
              "38.0024265607364"
             ],
             [
              "-8.80265021403092",
              "37.97786077936056"
             ],
             [
              "-8.801444970690213",
              "37.97299627828781"
             ],
             [
              "-8.802269703907804",
              "37.971145510374924"
             ]
            ]
           ],
           "type": "Polygon"
          },
          "id": "5ae68f26-4f83-42b9-bed6-1f3f2ced9e29",
          "links": [
           {
            "href": "https://api.up42.com/v2/assets/stac/collections/00d34533-5d69-4d71-9808-8333792e81bd/items/5ae68f26-4f83-42b9-bed6-1f3f2ced9e29",
            "rel": "self",
            "type": "application/geo+json"
           },
           {
            "href": "https://api.up42.com/v2/assets/stac/collections/00d34533-5d69-4d71-9808-8333792e81bd",
            "rel": "parent",
            "type": "application/json"
           },
           {
            "href": "https://api.up42.com/v2/assets/stac/collections/00d34533-5d69-4d71-9808-8333792e81bd",
            "rel": "collection",
            "type": "application/json"
           },
           {
            "href": "https://api.up42.com/v2/assets/stac/",
            "rel": "root",
            "type": "application/json"
           }
          ],
          "properties": {
           "constellation": "PHR",
           "datetime": "2022-04-18T11:36:44.900000+00:00",
           "end_datetime": "2022-04-18T11:36:44.900000+00:00",
           "eo:cloud_cover": "0",
           "gsd": "0.7593376882942882",
           "platform": "PHR-1B",
           "proj:epsg": "32629",
           "start_datetime": "2022-04-18T11:36:44.900000+00:00",
           "style": {
            "color": "red",
            "dashArray": "9",
            "fillOpacity": "0.5",
            "opacity": "1",
            "weight": "1"
           },
           "title": "DS_PHR1B_202204181136079_FR1_PX_W009N37_0324_01783_R1C1",
           "up42-order:host_id": "cab98f86-2b91-4487-9a50-0f02ca2fb8ed",
           "up42-order:id": "c74c90a3-a8d1-4433-be51-78c4b84b76c9",
           "up42-order:status": "FULFILLED",
           "up42-product:collection_name": "phr",
           "up42-product:data_type": "raster",
           "up42-product:modality": "multispectral",
           "up42-product:product_id": "4f1b2f62-98df-4c74-81f4-5dce45deee99",
           "up42-system:account_id": "3c86279b-610a-4dba-ad12-abe3bdc51428",
           "up42-system:asset_id": "55dfa9f4-361f-44dd-b4c4-f1f05ad02cd3",
           "up42-system:metadata_version": "0.0.4",
           "up42-system:source": "ARCHIVE",
           "up42-system:workspace_id": "d39fe05a-400c-44f6-b770-86990f64b004",
           "view:azimuth": "179.9190797665755",
           "view:incidence_angle": "18.791437964465626",
           "view:sun_azimuth": "150.68128503948043",
           "view:sun_elevation": "59.97044901720295"
          },
          "stac_extensions": [
           "https://stac-extensions.github.io/view/v1.0.0/schema.json",
           "https://api.up42.com/stac-extensions/up42-system/v1.0.0/schema.json",
           "https://api.up42.com/stac-extensions/up42-order/v1.0.0/schema.json",
           "https://stac-extensions.github.io/eo/v1.0.0/schema.json",
           "https://stac-extensions.github.io/projection/v1.0.0/schema.json",
           "https://api.up42.com/stac-extensions/up42-product/v1.0.0/schema.json"
          ],
          "stac_version": "1.0.0",
          "type": "Feature"
         }
        ],
        "links": [
         {
          "href": "https://api.up42.com/v2/assets/stac/",
          "rel": "root",
          "type": "application/json"
         },
         {
          "href": "https://api.up42.com/v2/assets/stac/",
          "rel": "parent",
          "type": "application/json"
         },
         {
          "href": "https://api.up42.com/v2/assets/stac/search",
          "rel": "self",
          "type": "application/json"
         }
        ],
        "type": "FeatureCollection"
       },
       "hover_style": {
        "color": "white",
        "dashArray": "0",
        "fillOpacity": "0.5"
       },
       "layers": [],
       "name": "",
       "options": [],
       "pane": "",
       "point_style": {},
       "popup": "",
       "popup_max_height": "",
       "popup_max_width": "300",
       "popup_min_width": "50",
       "style": {
        "color": "red",
        "dashArray": "9",
        "fillOpacity": "0.5",
        "opacity": "1",
        "weight": "1"
       },
       "subitems": [],
       "visible": true
      }
     },
     "5dc7f5b1516c4b0fa2a53ed008f8f142": {
      "model_module": "jupyter-leaflet",
      "model_module_version": "^0.17",
      "model_name": "LeafletMapStyleModel",
      "state": {
       "_model_module": "jupyter-leaflet",
       "_model_module_version": "^0.17",
       "_model_name": "LeafletMapStyleModel",
       "_view_count": "",
       "_view_module": "@jupyter-widgets/base",
       "_view_module_version": "2.0.0",
       "_view_name": "StyleView",
       "cursor": "grab"
      }
     },
     "657536d5d135466480bb8d6c7d5885f1": {
      "model_module": "@jupyter-widgets/base",
      "model_module_version": "2.0.0",
      "model_name": "LayoutModel",
      "state": {
       "_model_module": "@jupyter-widgets/base",
       "_model_module_version": "2.0.0",
       "_model_name": "LayoutModel",
       "_view_count": "",
       "_view_module": "@jupyter-widgets/base",
       "_view_module_version": "2.0.0",
       "_view_name": "LayoutView",
       "align_content": "",
       "align_items": "",
       "align_self": "",
       "border_bottom": "",
       "border_left": "",
       "border_right": "",
       "border_top": "",
       "bottom": "",
       "display": "",
       "flex": "",
       "flex_flow": "",
       "grid_area": "",
       "grid_auto_columns": "",
       "grid_auto_flow": "",
       "grid_auto_rows": "",
       "grid_column": "",
       "grid_gap": "",
       "grid_row": "",
       "grid_template_areas": "",
       "grid_template_columns": "",
       "grid_template_rows": "",
       "height": "",
       "justify_content": "",
       "justify_items": "",
       "left": "",
       "margin": "",
       "max_height": "",
       "max_width": "",
       "min_height": "",
       "min_width": "",
       "object_fit": "",
       "object_position": "",
       "order": "",
       "overflow": "",
       "padding": "",
       "right": "",
       "top": "",
       "visibility": "",
       "width": ""
      }
     },
     "6ddc0f36c64d4415bcd1de3b6d28007e": {
      "model_module": "jupyter-leaflet",
      "model_module_version": "^0.17",
      "model_name": "LeafletMapModel",
      "state": {
       "_dom_classes": [],
       "_model_module": "jupyter-leaflet",
       "_model_module_version": "^0.17",
       "_model_name": "LeafletMapModel",
       "_view_count": "",
       "_view_module": "jupyter-leaflet",
       "_view_module_version": "^0.17",
       "_view_name": "LeafletMapView",
       "bottom": "0",
       "bounce_at_zoom_limits": true,
       "box_zoom": true,
       "center": [
        "38.469947",
        "-8.98691"
       ],
       "close_popup_on_click": true,
       "controls": [
        "IPY_MODEL_07e52c22c979442ea33a4869868f7ba5",
        "IPY_MODEL_23c4f346de164ec289b89650a9e1c8ee"
       ],
       "crs": {
        "custom": false,
        "name": "EPSG3857"
       },
       "default_style": "IPY_MODEL_bee875a5f79a4cbc85785380166510a6",
       "double_click_zoom": true,
       "dragging": true,
       "dragging_style": "IPY_MODEL_a1c738643307430ba82dee9dabcd2bf2",
       "east": "0",
       "fullscreen": false,
       "inertia": true,
       "inertia_deceleration": "3000",
       "inertia_max_speed": "1500",
       "interpolation": "bilinear",
       "keyboard": true,
       "keyboard_pan_offset": "80",
       "keyboard_zoom_offset": "1",
       "layers": [
        "IPY_MODEL_6effe8b74b6843399ed2d6800ec9a88f",
        "IPY_MODEL_5a5b4b63696a466c9dfd693589f2af2d"
       ],
       "layout": "IPY_MODEL_2e7c67bf67f44043b69dd48e69b3dd1a",
       "left": "9007199254740991",
       "max_zoom": "",
       "min_zoom": "",
       "modisdate": "2023-04-12",
       "north": "0",
       "options": [
        "bounce_at_zoom_limits",
        "box_zoom",
        "center",
        "close_popup_on_click",
        "double_click_zoom",
        "dragging",
        "fullscreen",
        "inertia",
        "inertia_deceleration",
        "inertia_max_speed",
        "interpolation",
        "keyboard",
        "keyboard_pan_offset",
        "keyboard_zoom_offset",
        "max_zoom",
        "min_zoom",
        "prefer_canvas",
        "scroll_wheel_zoom",
        "tap",
        "tap_tolerance",
        "touch_zoom",
        "world_copy_jump",
        "zoom",
        "zoom_animation_threshold",
        "zoom_delta",
        "zoom_snap"
       ],
       "panes": {},
       "prefer_canvas": false,
       "right": "0",
       "scroll_wheel_zoom": false,
       "south": "0",
       "style": "IPY_MODEL_9b810fc13d9644d7864c837f908f945a",
       "tabbable": "",
       "tap": true,
       "tap_tolerance": "15",
       "tooltip": "",
       "top": "9007199254740991",
       "touch_zoom": true,
       "west": "0",
       "window_url": "",
       "world_copy_jump": false,
       "zoom": "12",
       "zoom_animation_threshold": "4",
       "zoom_delta": "1",
       "zoom_snap": "1"
      }
     },
     "6e2e39b0e3274753853402c9690b02d1": {
      "model_module": "jupyter-leaflet",
      "model_module_version": "^0.17",
      "model_name": "LeafletZoomControlModel",
      "state": {
       "_model_module": "jupyter-leaflet",
       "_model_module_version": "^0.17",
       "_model_name": "LeafletZoomControlModel",
       "_view_count": "",
       "_view_module": "jupyter-leaflet",
       "_view_module_version": "^0.17",
       "_view_name": "LeafletZoomControlView",
       "options": [
        "position",
        "zoom_in_text",
        "zoom_in_title",
        "zoom_out_text",
        "zoom_out_title"
       ],
       "position": "topleft",
       "zoom_in_text": "+",
       "zoom_in_title": "Zoom in",
       "zoom_out_text": "-",
       "zoom_out_title": "Zoom out"
      }
     },
     "6effe8b74b6843399ed2d6800ec9a88f": {
      "model_module": "jupyter-leaflet",
      "model_module_version": "^0.17",
      "model_name": "LeafletTileLayerModel",
      "state": {
       "_model_module": "jupyter-leaflet",
       "_model_module_version": "^0.17",
       "_model_name": "LeafletTileLayerModel",
       "_view_count": "",
       "_view_module": "jupyter-leaflet",
       "_view_module_version": "^0.17",
       "_view_name": "LeafletTileLayerView",
       "attribution": "© OpenStreetMap contributors",
       "base": true,
       "bottom": true,
       "bounds": "",
       "detect_retina": false,
       "loading": false,
       "max_native_zoom": "",
       "max_zoom": "19",
       "min_native_zoom": "",
       "min_zoom": "1",
       "name": "OpenStreetMap.Mapnik",
       "no_wrap": false,
       "opacity": "1",
       "options": [
        "attribution",
        "bounds",
        "detect_retina",
        "max_native_zoom",
        "max_zoom",
        "min_native_zoom",
        "min_zoom",
        "no_wrap",
        "tile_size",
        "tms",
        "zoom_offset"
       ],
       "pane": "",
       "popup": "",
       "popup_max_height": "",
       "popup_max_width": "300",
       "popup_min_width": "50",
       "show_loading": false,
       "subitems": [],
       "tile_size": "256",
       "tms": false,
       "url": "https://tile.openstreetmap.org/{z}/{x}/{y}.png",
       "visible": true,
       "zoom_offset": "0"
      }
     },
     "7104cf5f64ba461ab3ef22e3a5ef2fcd": {
      "model_module": "jupyter-leaflet",
      "model_module_version": "^0.17",
      "model_name": "LeafletMapStyleModel",
      "state": {
       "_model_module": "jupyter-leaflet",
       "_model_module_version": "^0.17",
       "_model_name": "LeafletMapStyleModel",
       "_view_count": "",
       "_view_module": "@jupyter-widgets/base",
       "_view_module_version": "2.0.0",
       "_view_name": "StyleView",
       "cursor": "move"
      }
     },
     "7111aeea22d8441cb0dfcb71a212cc3d": {
      "model_module": "jupyter-leaflet",
      "model_module_version": "^0.17",
      "model_name": "LeafletTileLayerModel",
      "state": {
       "_model_module": "jupyter-leaflet",
       "_model_module_version": "^0.17",
       "_model_name": "LeafletTileLayerModel",
       "_view_count": "",
       "_view_module": "jupyter-leaflet",
       "_view_module_version": "^0.17",
       "_view_name": "LeafletTileLayerView",
       "attribution": "© OpenStreetMap contributors",
       "base": true,
       "bottom": true,
       "bounds": "",
       "detect_retina": false,
       "loading": false,
       "max_native_zoom": "",
       "max_zoom": "19",
       "min_native_zoom": "",
       "min_zoom": "1",
       "name": "OpenStreetMap.Mapnik",
       "no_wrap": false,
       "opacity": "1",
       "options": [
        "attribution",
        "bounds",
        "detect_retina",
        "max_native_zoom",
        "max_zoom",
        "min_native_zoom",
        "min_zoom",
        "no_wrap",
        "tile_size",
        "tms",
        "zoom_offset"
       ],
       "pane": "",
       "popup": "",
       "popup_max_height": "",
       "popup_max_width": "300",
       "popup_min_width": "50",
       "show_loading": false,
       "subitems": [],
       "tile_size": "256",
       "tms": false,
       "url": "https://tile.openstreetmap.org/{z}/{x}/{y}.png",
       "visible": true,
       "zoom_offset": "0"
      }
     },
     "73d87778e71f4af08d0231f1f1113369": {
      "model_module": "jupyter-leaflet",
      "model_module_version": "^0.17",
      "model_name": "LeafletMapStyleModel",
      "state": {
       "_model_module": "jupyter-leaflet",
       "_model_module_version": "^0.17",
       "_model_name": "LeafletMapStyleModel",
       "_view_count": "",
       "_view_module": "@jupyter-widgets/base",
       "_view_module_version": "2.0.0",
       "_view_name": "StyleView",
       "cursor": "grab"
      }
     },
     "7c9cff8d1a6f4b2daaa2e1aab2b1da06": {
      "model_module": "jupyter-leaflet",
      "model_module_version": "^0.17",
      "model_name": "LeafletGeoJSONModel",
      "state": {
       "_model_module": "jupyter-leaflet",
       "_model_module_version": "^0.17",
       "_model_name": "LeafletGeoJSONModel",
       "_view_count": "",
       "_view_module": "jupyter-leaflet",
       "_view_module_version": "^0.17",
       "_view_name": "LeafletGeoJSONView",
       "base": false,
       "bottom": false,
       "data": {
        "features": [
         {
          "assets": {
           "data": {
            "description": "Storage Data",
            "href": "https://api.up42.com/v2/assets/630bd8cd-c4c2-4619-9a88-5b3421ffd1de",
            "roles": [
             "data"
            ],
            "title": "Data",
            "type": "application/zip"
           }
          },
          "bbox": [
           "-8.992222054150913",
           "38.46552423989927",
           "-8.968630844922524",
           "38.483829164081016"
          ],
          "collection": "e3e8ecde-6328-4bb2-bf06-eeffcfcc0978",
          "geometry": {
           "coordinates": [
            [
             [
              "-8.970516192795307",
              "38.483829164081016"
             ],
             [
              "-8.969003136298957",
              "38.48288700320683"
             ],
             [
              "-8.968630844922524",
              "38.482111858604256"
             ],
             [
              "-8.968642327826503",
              "38.48207130696972"
             ],
             [
              "-8.969565423041054",
              "38.48174711275871"
             ],
             [
              "-8.969348067535785",
              "38.48060251189329"
             ],
             [
              "-8.97187629060627",
              "38.480166056393756"
             ],
             [
              "-8.97708711322504",
              "38.4802663253012"
             ],
             [
              "-8.981352415160988",
              "38.47907747662965"
             ],
             [
              "-8.981432678381337",
              "38.479041440729354"
             ],
             [
              "-8.984712266276473",
              "38.47600481509272"
             ],
             [
              "-8.982695061218294",
              "38.473814577442"
             ],
             [
              "-8.986891621124045",
              "38.469791186640876"
             ],
             [
              "-8.990422699558534",
              "38.46709688704083"
             ],
             [
              "-8.990164996618832",
              "38.46552423989927"
             ],
             [
              "-8.991964631241645",
              "38.4656190050795"
             ],
             [
              "-8.992222054150913",
              "38.47016566713853"
             ],
             [
              "-8.989779464974129",
              "38.47637035954537"
             ],
             [
              "-8.981065183212577",
              "38.4814115801504"
             ],
             [
              "-8.970516192795307",
              "38.483829164081016"
             ]
            ]
           ],
           "type": "Polygon"
          },
          "id": "fe7d6485-1ecd-4151-b027-79a107557d48",
          "links": [
           {
            "href": "https://api.up42.com/v2/assets/stac/collections/e3e8ecde-6328-4bb2-bf06-eeffcfcc0978/items/fe7d6485-1ecd-4151-b027-79a107557d48",
            "rel": "self",
            "type": "application/geo+json"
           },
           {
            "href": "https://api.up42.com/v2/assets/stac/collections/e3e8ecde-6328-4bb2-bf06-eeffcfcc0978",
            "rel": "parent",
            "type": "application/json"
           },
           {
            "href": "https://api.up42.com/v2/assets/stac/collections/e3e8ecde-6328-4bb2-bf06-eeffcfcc0978",
            "rel": "collection",
            "type": "application/json"
           },
           {
            "href": "https://api.up42.com/v2/assets/stac/",
            "rel": "root",
            "type": "application/json"
           }
          ],
          "properties": {
           "constellation": "PHR",
           "datetime": "2022-03-18T11:24:06+00:00",
           "end_datetime": "2022-03-18T11:24:06+00:00",
           "eo:cloud_cover": "0",
           "gsd": "0.7562325080525973",
           "platform": "PHR-1B",
           "proj:epsg": "32629",
           "start_datetime": "2022-03-18T11:24:06+00:00",
           "style": {
            "color": "red",
            "dashArray": "9",
            "fillOpacity": "0.5",
            "opacity": "1",
            "weight": "1"
           },
           "title": "DS_PHR1B_202203181123290_FR1_PX_W009N38_0119_07844_R1C1",
           "up42-order:host_id": "9372ed63-982a-4003-9f90-e7a2fe10aab3",
           "up42-order:id": "8a2c9bc2-7878-45e6-92b4-81fa33d2fd9f",
           "up42-order:status": "FULFILLED",
           "up42-product:collection_name": "phr",
           "up42-product:data_type": "raster",
           "up42-product:modality": "multispectral",
           "up42-product:product_id": "4f1b2f62-98df-4c74-81f4-5dce45deee99",
           "up42-system:account_id": "3c86279b-610a-4dba-ad12-abe3bdc51428",
           "up42-system:asset_id": "630bd8cd-c4c2-4619-9a88-5b3421ffd1de",
           "up42-system:metadata_version": "0.0.4",
           "up42-system:source": "ARCHIVE",
           "up42-system:workspace_id": "d39fe05a-400c-44f6-b770-86990f64b004",
           "view:azimuth": "179.08569011330297",
           "view:incidence_angle": "18.141957311334412",
           "view:sun_azimuth": "150.26387457509006",
           "view:sun_elevation": "46.60727885283659"
          },
          "stac_extensions": [
           "https://stac-extensions.github.io/view/v1.0.0/schema.json",
           "https://api.up42.com/stac-extensions/up42-system/v1.0.0/schema.json",
           "https://api.up42.com/stac-extensions/up42-order/v1.0.0/schema.json",
           "https://stac-extensions.github.io/eo/v1.0.0/schema.json",
           "https://stac-extensions.github.io/projection/v1.0.0/schema.json",
           "https://api.up42.com/stac-extensions/up42-product/v1.0.0/schema.json"
          ],
          "stac_version": "1.0.0",
          "type": "Feature"
         },
         {
          "assets": {
           "data": {
            "description": "Storage Data",
            "href": "https://api.up42.com/v2/assets/828b2da8-b322-4e19-9abc-3917e0e36986",
            "roles": [
             "data"
            ],
            "title": "Data",
            "type": "application/zip"
           }
          },
          "bbox": [
           "-8.992222054150913",
           "38.46552423989927",
           "-8.968630844922524",
           "38.483829164081016"
          ],
          "collection": "fcb6de6f-7c47-4d59-bc7c-ec83d5af4d09",
          "geometry": {
           "coordinates": [
            [
             [
              "-8.970516192795307",
              "38.483829164081016"
             ],
             [
              "-8.969003136298957",
              "38.48288700320683"
             ],
             [
              "-8.968630844922524",
              "38.482111858604256"
             ],
             [
              "-8.968642327826503",
              "38.48207130696972"
             ],
             [
              "-8.969565423041054",
              "38.48174711275871"
             ],
             [
              "-8.969348067535785",
              "38.48060251189329"
             ],
             [
              "-8.97187629060627",
              "38.480166056393756"
             ],
             [
              "-8.97708711322504",
              "38.4802663253012"
             ],
             [
              "-8.981352415160988",
              "38.47907747662965"
             ],
             [
              "-8.981432678381337",
              "38.479041440729354"
             ],
             [
              "-8.984712266276473",
              "38.47600481509272"
             ],
             [
              "-8.982695061218294",
              "38.473814577442"
             ],
             [
              "-8.986891621124045",
              "38.469791186640876"
             ],
             [
              "-8.990422699558534",
              "38.46709688704083"
             ],
             [
              "-8.990164996618832",
              "38.46552423989927"
             ],
             [
              "-8.991964631241645",
              "38.4656190050795"
             ],
             [
              "-8.992222054150913",
              "38.47016566713853"
             ],
             [
              "-8.989779464974129",
              "38.47637035954537"
             ],
             [
              "-8.981065183212577",
              "38.4814115801504"
             ],
             [
              "-8.970516192795307",
              "38.483829164081016"
             ]
            ]
           ],
           "type": "Polygon"
          },
          "id": "36ecf578-eb19-4c7d-8ba2-c85d23b9af86",
          "links": [
           {
            "href": "https://api.up42.com/v2/assets/stac/collections/fcb6de6f-7c47-4d59-bc7c-ec83d5af4d09/items/36ecf578-eb19-4c7d-8ba2-c85d23b9af86",
            "rel": "self",
            "type": "application/geo+json"
           },
           {
            "href": "https://api.up42.com/v2/assets/stac/collections/fcb6de6f-7c47-4d59-bc7c-ec83d5af4d09",
            "rel": "parent",
            "type": "application/json"
           },
           {
            "href": "https://api.up42.com/v2/assets/stac/collections/fcb6de6f-7c47-4d59-bc7c-ec83d5af4d09",
            "rel": "collection",
            "type": "application/json"
           },
           {
            "href": "https://api.up42.com/v2/assets/stac/",
            "rel": "root",
            "type": "application/json"
           }
          ],
          "properties": {
           "constellation": "PHR",
           "datetime": "2022-03-18T11:24:06+00:00",
           "end_datetime": "2022-03-18T11:24:06+00:00",
           "eo:cloud_cover": "0",
           "gsd": "0.7562325080525973",
           "platform": "PHR-1B",
           "proj:epsg": "32629",
           "start_datetime": "2022-03-18T11:24:06+00:00",
           "style": {
            "color": "red",
            "dashArray": "9",
            "fillOpacity": "0.5",
            "opacity": "1",
            "weight": "1"
           },
           "title": "DS_PHR1B_202203181123290_FR1_PX_W009N38_0119_07844_R1C1",
           "up42-order:host_id": "d0c1f983-05dc-4bc9-8eba-f9f55a91d7b5",
           "up42-order:id": "d373da26-8a90-4c08-a745-a0dbf2857639",
           "up42-order:status": "FULFILLED",
           "up42-product:collection_name": "phr",
           "up42-product:data_type": "raster",
           "up42-product:modality": "multispectral",
           "up42-product:product_id": "4f1b2f62-98df-4c74-81f4-5dce45deee99",
           "up42-system:account_id": "3c86279b-610a-4dba-ad12-abe3bdc51428",
           "up42-system:asset_id": "828b2da8-b322-4e19-9abc-3917e0e36986",
           "up42-system:metadata_version": "0.0.4",
           "up42-system:source": "ARCHIVE",
           "up42-system:workspace_id": "d39fe05a-400c-44f6-b770-86990f64b004",
           "view:azimuth": "179.08569011330297",
           "view:incidence_angle": "18.141957311334412",
           "view:sun_azimuth": "150.26387457509006",
           "view:sun_elevation": "46.60727885283659"
          },
          "stac_extensions": [
           "https://api.up42.com/stac-extensions/up42-system/v1.0.0/schema.json",
           "https://api.up42.com/stac-extensions/up42-order/v1.0.0/schema.json",
           "https://stac-extensions.github.io/eo/v1.0.0/schema.json",
           "https://stac-extensions.github.io/view/v1.0.0/schema.json",
           "https://api.up42.com/stac-extensions/up42-product/v1.0.0/schema.json",
           "https://stac-extensions.github.io/projection/v1.0.0/schema.json"
          ],
          "stac_version": "1.0.0",
          "type": "Feature"
         },
         {
          "assets": {
           "data": {
            "description": "Storage Data",
            "href": "https://api.up42.com/v2/assets/f5080d5d-cb90-4cb5-9caf-b1e870865967",
            "roles": [
             "data"
            ],
            "title": "Data",
            "type": "application/zip"
           }
          },
          "bbox": [
           "-8.992222054150913",
           "38.46552423989927",
           "-8.968630844922524",
           "38.483829164081016"
          ],
          "collection": "8e113462-23cd-4516-bb70-fb6c63ba0cf4",
          "geometry": {
           "coordinates": [
            [
             [
              "-8.970516192795307",
              "38.483829164081016"
             ],
             [
              "-8.969003136298957",
              "38.48288700320683"
             ],
             [
              "-8.968630844922524",
              "38.482111858604256"
             ],
             [
              "-8.968642327826503",
              "38.48207130696972"
             ],
             [
              "-8.969565423041054",
              "38.48174711275871"
             ],
             [
              "-8.969348067535785",
              "38.48060251189329"
             ],
             [
              "-8.97187629060627",
              "38.480166056393756"
             ],
             [
              "-8.97708711322504",
              "38.4802663253012"
             ],
             [
              "-8.981352415160988",
              "38.47907747662965"
             ],
             [
              "-8.981432678381337",
              "38.479041440729354"
             ],
             [
              "-8.984712266276473",
              "38.47600481509272"
             ],
             [
              "-8.982695061218294",
              "38.473814577442"
             ],
             [
              "-8.986891621124045",
              "38.469791186640876"
             ],
             [
              "-8.990422699558534",
              "38.46709688704083"
             ],
             [
              "-8.990164996618832",
              "38.46552423989927"
             ],
             [
              "-8.991964631241645",
              "38.4656190050795"
             ],
             [
              "-8.992222054150913",
              "38.47016566713853"
             ],
             [
              "-8.989779464974129",
              "38.47637035954537"
             ],
             [
              "-8.981065183212577",
              "38.4814115801504"
             ],
             [
              "-8.970516192795307",
              "38.483829164081016"
             ]
            ]
           ],
           "type": "Polygon"
          },
          "id": "bd5ad586-4f1e-4228-9e63-9206fbe297fe",
          "links": [
           {
            "href": "https://api.up42.com/v2/assets/stac/collections/8e113462-23cd-4516-bb70-fb6c63ba0cf4/items/bd5ad586-4f1e-4228-9e63-9206fbe297fe",
            "rel": "self",
            "type": "application/geo+json"
           },
           {
            "href": "https://api.up42.com/v2/assets/stac/collections/8e113462-23cd-4516-bb70-fb6c63ba0cf4",
            "rel": "parent",
            "type": "application/json"
           },
           {
            "href": "https://api.up42.com/v2/assets/stac/collections/8e113462-23cd-4516-bb70-fb6c63ba0cf4",
            "rel": "collection",
            "type": "application/json"
           },
           {
            "href": "https://api.up42.com/v2/assets/stac/",
            "rel": "root",
            "type": "application/json"
           }
          ],
          "properties": {
           "constellation": "PHR",
           "datetime": "2022-09-09T11:28:49.600000+00:00",
           "end_datetime": "2022-09-09T11:28:49.600000+00:00",
           "eo:cloud_cover": "0",
           "gsd": "0.7138816774061343",
           "platform": "PHR-1B",
           "proj:epsg": "32629",
           "start_datetime": "2022-09-09T11:28:49.600000+00:00",
           "style": {
            "color": "red",
            "dashArray": "9",
            "fillOpacity": "0.5",
            "opacity": "1",
            "weight": "1"
           },
           "title": "DS_PHR1B_202209091128126_FR1_PX_W009N38_0111_01724_R1C1",
           "up42-order:host_id": "4d27e173-c628-4935-a583-37a68ac904cb",
           "up42-order:id": "f3b4d9fd-7504-49dc-8d13-abc56d021d16",
           "up42-order:status": "FULFILLED",
           "up42-product:collection_name": "phr",
           "up42-product:data_type": "raster",
           "up42-product:modality": "multispectral",
           "up42-product:product_id": "647780db-5a06-4b61-b525-577a8b68bb54",
           "up42-system:account_id": "3c86279b-610a-4dba-ad12-abe3bdc51428",
           "up42-system:asset_id": "f5080d5d-cb90-4cb5-9caf-b1e870865967",
           "up42-system:metadata_version": "0.0.4",
           "up42-system:source": "ARCHIVE",
           "up42-system:workspace_id": "d39fe05a-400c-44f6-b770-86990f64b004",
           "view:azimuth": "179.99787147104942",
           "view:incidence_angle": "8.344681400691485",
           "view:sun_azimuth": "152.20823252306252",
           "view:sun_elevation": "53.6725392907585"
          },
          "stac_extensions": [
           "https://stac-extensions.github.io/view/v1.0.0/schema.json",
           "https://api.up42.com/stac-extensions/up42-system/v1.0.0/schema.json",
           "https://api.up42.com/stac-extensions/up42-order/v1.0.0/schema.json",
           "https://stac-extensions.github.io/eo/v1.0.0/schema.json",
           "https://stac-extensions.github.io/projection/v1.0.0/schema.json",
           "https://api.up42.com/stac-extensions/up42-product/v1.0.0/schema.json"
          ],
          "stac_version": "1.0.0",
          "type": "Feature"
         },
         {
          "assets": {
           "data": {
            "description": "Storage Data",
            "href": "https://api.up42.com/v2/assets/fa438b5e-0903-4787-8958-45a376dd9b04",
            "roles": [
             "data"
            ],
            "title": "Data",
            "type": "application/zip"
           }
          },
          "bbox": [
           "-8.992222054150913",
           "38.46552423989927",
           "-8.968630844922524",
           "38.483829164081016"
          ],
          "collection": "5b6b32b9-41fc-4f68-9f56-40dcbdbd4263",
          "geometry": {
           "coordinates": [
            [
             [
              "-8.970516192795307",
              "38.483829164081016"
             ],
             [
              "-8.969003136298957",
              "38.48288700320683"
             ],
             [
              "-8.968630844922524",
              "38.482111858604256"
             ],
             [
              "-8.968642327826503",
              "38.48207130696972"
             ],
             [
              "-8.969565423041054",
              "38.48174711275871"
             ],
             [
              "-8.969348067535785",
              "38.48060251189329"
             ],
             [
              "-8.97187629060627",
              "38.480166056393756"
             ],
             [
              "-8.97708711322504",
              "38.4802663253012"
             ],
             [
              "-8.981352415160988",
              "38.47907747662965"
             ],
             [
              "-8.981432678381337",
              "38.479041440729354"
             ],
             [
              "-8.984712266276473",
              "38.47600481509272"
             ],
             [
              "-8.982695061218294",
              "38.473814577442"
             ],
             [
              "-8.986891621124045",
              "38.469791186640876"
             ],
             [
              "-8.990422699558534",
              "38.46709688704083"
             ],
             [
              "-8.990164996618832",
              "38.46552423989927"
             ],
             [
              "-8.991964631241645",
              "38.4656190050795"
             ],
             [
              "-8.992222054150913",
              "38.47016566713853"
             ],
             [
              "-8.989779464974129",
              "38.47637035954537"
             ],
             [
              "-8.981065183212577",
              "38.4814115801504"
             ],
             [
              "-8.970516192795307",
              "38.483829164081016"
             ]
            ]
           ],
           "type": "Polygon"
          },
          "id": "538091f8-4be7-404b-9936-97274be89fb3",
          "links": [
           {
            "href": "https://api.up42.com/v2/assets/stac/collections/5b6b32b9-41fc-4f68-9f56-40dcbdbd4263/items/538091f8-4be7-404b-9936-97274be89fb3",
            "rel": "self",
            "type": "application/geo+json"
           },
           {
            "href": "https://api.up42.com/v2/assets/stac/collections/5b6b32b9-41fc-4f68-9f56-40dcbdbd4263",
            "rel": "parent",
            "type": "application/json"
           },
           {
            "href": "https://api.up42.com/v2/assets/stac/collections/5b6b32b9-41fc-4f68-9f56-40dcbdbd4263",
            "rel": "collection",
            "type": "application/json"
           },
           {
            "href": "https://api.up42.com/v2/assets/stac/",
            "rel": "root",
            "type": "application/json"
           }
          ],
          "properties": {
           "constellation": "PHR",
           "datetime": "2022-03-18T11:24:06+00:00",
           "end_datetime": "2022-03-18T11:24:06+00:00",
           "eo:cloud_cover": "0",
           "gsd": "0.7562330339024197",
           "platform": "PHR-1B",
           "proj:epsg": "32629",
           "start_datetime": "2022-03-18T11:24:06+00:00",
           "style": {
            "color": "red",
            "dashArray": "9",
            "fillOpacity": "0.5",
            "opacity": "1",
            "weight": "1"
           },
           "title": "DS_PHR1B_202203181123290_FR1_PX_W009N38_0119_07844_R1C1",
           "up42-order:host_id": "dd866675-8c25-4766-8397-5ef8bc5cd2a5",
           "up42-order:id": "92ceac2c-a89f-4e66-9a8d-b20f336d8799",
           "up42-order:status": "FULFILLED",
           "up42-product:collection_name": "phr",
           "up42-product:data_type": "raster",
           "up42-product:modality": "multispectral",
           "up42-product:product_id": "4f1b2f62-98df-4c74-81f4-5dce45deee99",
           "up42-system:account_id": "3c86279b-610a-4dba-ad12-abe3bdc51428",
           "up42-system:asset_id": "fa438b5e-0903-4787-8958-45a376dd9b04",
           "up42-system:metadata_version": "0.0.4",
           "up42-system:source": "ARCHIVE",
           "up42-system:workspace_id": "d39fe05a-400c-44f6-b770-86990f64b004",
           "view:azimuth": "179.08567245519995",
           "view:incidence_angle": "18.141937286841305",
           "view:sun_azimuth": "150.26387449687402",
           "view:sun_elevation": "46.60727883013983"
          },
          "stac_extensions": [
           "https://api.up42.com/stac-extensions/up42-order/v1.0.0/schema.json",
           "https://stac-extensions.github.io/eo/v1.0.0/schema.json",
           "https://api.up42.com/stac-extensions/up42-system/v1.0.0/schema.json",
           "https://stac-extensions.github.io/view/v1.0.0/schema.json",
           "https://stac-extensions.github.io/projection/v1.0.0/schema.json",
           "https://api.up42.com/stac-extensions/up42-product/v1.0.0/schema.json"
          ],
          "stac_version": "1.0.0",
          "type": "Feature"
         },
         {
          "assets": {
           "data": {
            "description": "Storage Data",
            "href": "https://api.up42.com/v2/assets/666191ca-0f28-4f49-9bae-597865187eb1",
            "roles": [
             "data"
            ],
            "title": "Data",
            "type": "application/zip"
           }
          },
          "bbox": [
           "-8.992222054150913",
           "38.46552423989927",
           "-8.968630844922524",
           "38.483829164081016"
          ],
          "collection": "ab966c6c-72c7-4bbe-8d97-51832e0b3f6a",
          "geometry": {
           "coordinates": [
            [
             [
              "-8.970516192795307",
              "38.483829164081016"
             ],
             [
              "-8.969003136298957",
              "38.48288700320683"
             ],
             [
              "-8.968630844922524",
              "38.482111858604256"
             ],
             [
              "-8.968642327826503",
              "38.48207130696972"
             ],
             [
              "-8.969565423041054",
              "38.48174711275871"
             ],
             [
              "-8.969348067535785",
              "38.48060251189329"
             ],
             [
              "-8.97187629060627",
              "38.480166056393756"
             ],
             [
              "-8.97708711322504",
              "38.4802663253012"
             ],
             [
              "-8.981352415160988",
              "38.47907747662965"
             ],
             [
              "-8.981432678381337",
              "38.479041440729354"
             ],
             [
              "-8.984712266276473",
              "38.47600481509272"
             ],
             [
              "-8.982695061218294",
              "38.473814577442"
             ],
             [
              "-8.986891621124045",
              "38.469791186640876"
             ],
             [
              "-8.990422699558534",
              "38.46709688704083"
             ],
             [
              "-8.990164996618832",
              "38.46552423989927"
             ],
             [
              "-8.991964631241645",
              "38.4656190050795"
             ],
             [
              "-8.992222054150913",
              "38.47016566713853"
             ],
             [
              "-8.989779464974129",
              "38.47637035954537"
             ],
             [
              "-8.981065183212577",
              "38.4814115801504"
             ],
             [
              "-8.970516192795307",
              "38.483829164081016"
             ]
            ]
           ],
           "type": "Polygon"
          },
          "id": "466f5541-7298-46fd-ac69-7aeb34273867",
          "links": [
           {
            "href": "https://api.up42.com/v2/assets/stac/collections/ab966c6c-72c7-4bbe-8d97-51832e0b3f6a/items/466f5541-7298-46fd-ac69-7aeb34273867",
            "rel": "self",
            "type": "application/geo+json"
           },
           {
            "href": "https://api.up42.com/v2/assets/stac/collections/ab966c6c-72c7-4bbe-8d97-51832e0b3f6a",
            "rel": "parent",
            "type": "application/json"
           },
           {
            "href": "https://api.up42.com/v2/assets/stac/collections/ab966c6c-72c7-4bbe-8d97-51832e0b3f6a",
            "rel": "collection",
            "type": "application/json"
           },
           {
            "href": "https://api.up42.com/v2/assets/stac/",
            "rel": "root",
            "type": "application/json"
           }
          ],
          "properties": {
           "constellation": "PHR",
           "datetime": "2022-03-18T11:24:06+00:00",
           "end_datetime": "2022-03-18T11:24:06+00:00",
           "eo:cloud_cover": "0",
           "gsd": "0.7562325080525973",
           "platform": "PHR-1B",
           "proj:epsg": "32629",
           "start_datetime": "2022-03-18T11:24:06+00:00",
           "style": {
            "color": "red",
            "dashArray": "9",
            "fillOpacity": "0.5",
            "opacity": "1",
            "weight": "1"
           },
           "title": "DS_PHR1B_202203181123290_FR1_PX_W009N38_0119_07844_R1C1",
           "up42-order:host_id": "82660486-7908-4eba-a79d-386305cd4941",
           "up42-order:id": "694b65c8-6d3d-4aa8-b5d9-f42d525b5477",
           "up42-order:status": "FULFILLED",
           "up42-product:collection_name": "phr",
           "up42-product:data_type": "raster",
           "up42-product:modality": "multispectral",
           "up42-product:product_id": "4f1b2f62-98df-4c74-81f4-5dce45deee99",
           "up42-system:account_id": "3c86279b-610a-4dba-ad12-abe3bdc51428",
           "up42-system:asset_id": "666191ca-0f28-4f49-9bae-597865187eb1",
           "up42-system:metadata_version": "0.0.4",
           "up42-system:source": "ARCHIVE",
           "up42-system:workspace_id": "d39fe05a-400c-44f6-b770-86990f64b004",
           "view:azimuth": "179.08569011330297",
           "view:incidence_angle": "18.141957311334412",
           "view:sun_azimuth": "150.26387457509006",
           "view:sun_elevation": "46.60727885283659"
          },
          "stac_extensions": [
           "https://stac-extensions.github.io/projection/v1.0.0/schema.json",
           "https://api.up42.com/stac-extensions/up42-system/v1.0.0/schema.json",
           "https://stac-extensions.github.io/view/v1.0.0/schema.json",
           "https://stac-extensions.github.io/eo/v1.0.0/schema.json",
           "https://api.up42.com/stac-extensions/up42-order/v1.0.0/schema.json",
           "https://api.up42.com/stac-extensions/up42-product/v1.0.0/schema.json"
          ],
          "stac_version": "1.0.0",
          "type": "Feature"
         },
         {
          "assets": {
           "data": {
            "description": "Storage Data",
            "href": "https://api.up42.com/v2/assets/696f6b22-523a-4f57-a6a3-16efa5b1edb5",
            "roles": [
             "data"
            ],
            "title": "Data",
            "type": "application/zip"
           }
          },
          "bbox": [
           "-8.992222054150913",
           "38.46552423989927",
           "-8.968630844922524",
           "38.483829164081016"
          ],
          "collection": "2a1dfd20-deaf-4ce7-bc67-63c69ae55e7e",
          "geometry": {
           "coordinates": [
            [
             [
              "-8.970516192795307",
              "38.483829164081016"
             ],
             [
              "-8.969003136298957",
              "38.48288700320683"
             ],
             [
              "-8.968630844922524",
              "38.482111858604256"
             ],
             [
              "-8.968642327826503",
              "38.48207130696972"
             ],
             [
              "-8.969565423041054",
              "38.48174711275871"
             ],
             [
              "-8.969348067535785",
              "38.48060251189329"
             ],
             [
              "-8.97187629060627",
              "38.480166056393756"
             ],
             [
              "-8.97708711322504",
              "38.4802663253012"
             ],
             [
              "-8.981352415160988",
              "38.47907747662965"
             ],
             [
              "-8.981432678381337",
              "38.479041440729354"
             ],
             [
              "-8.984712266276473",
              "38.47600481509272"
             ],
             [
              "-8.982695061218294",
              "38.473814577442"
             ],
             [
              "-8.986891621124045",
              "38.469791186640876"
             ],
             [
              "-8.990422699558534",
              "38.46709688704083"
             ],
             [
              "-8.990164996618832",
              "38.46552423989927"
             ],
             [
              "-8.991964631241645",
              "38.4656190050795"
             ],
             [
              "-8.992222054150913",
              "38.47016566713853"
             ],
             [
              "-8.989779464974129",
              "38.47637035954537"
             ],
             [
              "-8.981065183212577",
              "38.4814115801504"
             ],
             [
              "-8.970516192795307",
              "38.483829164081016"
             ]
            ]
           ],
           "type": "Polygon"
          },
          "id": "c6148201-7f57-47d2-81b3-08024cf3fcac",
          "links": [
           {
            "href": "https://api.up42.com/v2/assets/stac/collections/2a1dfd20-deaf-4ce7-bc67-63c69ae55e7e/items/c6148201-7f57-47d2-81b3-08024cf3fcac",
            "rel": "self",
            "type": "application/geo+json"
           },
           {
            "href": "https://api.up42.com/v2/assets/stac/collections/2a1dfd20-deaf-4ce7-bc67-63c69ae55e7e",
            "rel": "parent",
            "type": "application/json"
           },
           {
            "href": "https://api.up42.com/v2/assets/stac/collections/2a1dfd20-deaf-4ce7-bc67-63c69ae55e7e",
            "rel": "collection",
            "type": "application/json"
           },
           {
            "href": "https://api.up42.com/v2/assets/stac/",
            "rel": "root",
            "type": "application/json"
           }
          ],
          "properties": {
           "constellation": "PHR",
           "datetime": "2022-03-18T11:24:06+00:00",
           "end_datetime": "2022-03-18T11:24:06+00:00",
           "eo:cloud_cover": "0",
           "gsd": "0.7562325080525973",
           "platform": "PHR-1B",
           "proj:epsg": "32629",
           "start_datetime": "2022-03-18T11:24:06+00:00",
           "style": {
            "color": "red",
            "dashArray": "9",
            "fillOpacity": "0.5",
            "opacity": "1",
            "weight": "1"
           },
           "title": "DS_PHR1B_202203181123290_FR1_PX_W009N38_0119_07844_R1C1",
           "up42-order:host_id": "89df2d1f-8b91-46c9-b89c-5457606066a4",
           "up42-order:id": "d28a249c-489b-4409-b939-dceb57d5b919",
           "up42-order:status": "FULFILLED",
           "up42-product:collection_name": "phr",
           "up42-product:data_type": "raster",
           "up42-product:modality": "multispectral",
           "up42-product:product_id": "4f1b2f62-98df-4c74-81f4-5dce45deee99",
           "up42-system:account_id": "3c86279b-610a-4dba-ad12-abe3bdc51428",
           "up42-system:asset_id": "696f6b22-523a-4f57-a6a3-16efa5b1edb5",
           "up42-system:metadata_version": "0.0.4",
           "up42-system:source": "ARCHIVE",
           "up42-system:workspace_id": "d39fe05a-400c-44f6-b770-86990f64b004",
           "view:azimuth": "179.08569011330297",
           "view:incidence_angle": "18.141957311334412",
           "view:sun_azimuth": "150.26387457509006",
           "view:sun_elevation": "46.60727885283659"
          },
          "stac_extensions": [
           "https://stac-extensions.github.io/view/v1.0.0/schema.json",
           "https://api.up42.com/stac-extensions/up42-system/v1.0.0/schema.json",
           "https://api.up42.com/stac-extensions/up42-order/v1.0.0/schema.json",
           "https://stac-extensions.github.io/eo/v1.0.0/schema.json",
           "https://stac-extensions.github.io/projection/v1.0.0/schema.json",
           "https://api.up42.com/stac-extensions/up42-product/v1.0.0/schema.json"
          ],
          "stac_version": "1.0.0",
          "type": "Feature"
         },
         {
          "assets": {
           "data": {
            "description": "Storage Data",
            "href": "https://api.up42.com/v2/assets/55dfa9f4-361f-44dd-b4c4-f1f05ad02cd3",
            "roles": [
             "data"
            ],
            "title": "Data",
            "type": "application/zip"
           }
          },
          "bbox": [
           "-8.807642529925207",
           "37.9650923749471",
           "-8.799850410659893",
           "38.06117540285824"
          ],
          "collection": "00d34533-5d69-4d71-9808-8333792e81bd",
          "geometry": {
           "coordinates": [
            [
             [
              "-8.802269703907804",
              "37.971145510374924"
             ],
             [
              "-8.80358110587483",
              "37.96822751683051"
             ],
             [
              "-8.80404100508623",
              "37.96653385159878"
             ],
             [
              "-8.804272501828866",
              "37.96510117956587"
             ],
             [
              "-8.804397754234571",
              "37.9650923749471"
             ],
             [
              "-8.80471075382993",
              "37.965119933773344"
             ],
             [
              "-8.80472210243735",
              "37.965133472023076"
             ],
             [
              "-8.804479086284108",
              "37.96662020342873"
             ],
             [
              "-8.80402486507613",
              "37.96832289275351"
             ],
             [
              "-8.801911732924497",
              "37.973015091066884"
             ],
             [
              "-8.802587810303788",
              "37.975652508578825"
             ],
             [
              "-8.803077143018777",
              "37.977884027158076"
             ],
             [
              "-8.80341799678388",
              "37.98029555318818"
             ],
             [
              "-8.806009558430194",
              "37.99935313294735"
             ],
             [
              "-8.807642529925207",
              "38.0108111855282"
             ],
             [
              "-8.805369325441598",
              "38.03257348790049"
             ],
             [
              "-8.805369182351892",
              "38.03262756468795"
             ],
             [
              "-8.805453916688837",
              "38.03290259645851"
             ],
             [
              "-8.806477643283884",
              "38.033593767927734"
             ],
             [
              "-8.8065604154671",
              "38.034616860937966"
             ],
             [
              "-8.806494920307166",
              "38.03568928036138"
             ],
             [
              "-8.804231938868389",
              "38.04248571222239"
             ],
             [
              "-8.800300779993394",
              "38.06114011768673"
             ],
             [
              "-8.800295031368426",
              "38.06115813350597"
             ],
             [
              "-8.799850410659893",
              "38.06117540285824"
             ],
             [
              "-8.803816019115994",
              "38.04246699325252"
             ],
             [
              "-8.804253376187258",
              "38.040854426897845"
             ],
             [
              "-8.80606193350437",
              "38.035675047680755"
             ],
             [
              "-8.806121844293402",
              "38.03456206153903"
             ],
             [
              "-8.806027112831112",
              "38.033755256547856"
             ],
             [
              "-8.805088718790222",
              "38.03311379327174"
             ],
             [
              "-8.804913424105466",
              "38.03261329009173"
             ],
             [
              "-8.807209488597126",
              "38.01087356648187"
             ],
             [
              "-8.807192944314357",
              "38.01066624332143"
             ],
             [
              "-8.806029937421055",
              "38.0024265607364"
             ],
             [
              "-8.80265021403092",
              "37.97786077936056"
             ],
             [
              "-8.801444970690213",
              "37.97299627828781"
             ],
             [
              "-8.802269703907804",
              "37.971145510374924"
             ]
            ]
           ],
           "type": "Polygon"
          },
          "id": "5ae68f26-4f83-42b9-bed6-1f3f2ced9e29",
          "links": [
           {
            "href": "https://api.up42.com/v2/assets/stac/collections/00d34533-5d69-4d71-9808-8333792e81bd/items/5ae68f26-4f83-42b9-bed6-1f3f2ced9e29",
            "rel": "self",
            "type": "application/geo+json"
           },
           {
            "href": "https://api.up42.com/v2/assets/stac/collections/00d34533-5d69-4d71-9808-8333792e81bd",
            "rel": "parent",
            "type": "application/json"
           },
           {
            "href": "https://api.up42.com/v2/assets/stac/collections/00d34533-5d69-4d71-9808-8333792e81bd",
            "rel": "collection",
            "type": "application/json"
           },
           {
            "href": "https://api.up42.com/v2/assets/stac/",
            "rel": "root",
            "type": "application/json"
           }
          ],
          "properties": {
           "constellation": "PHR",
           "datetime": "2022-04-18T11:36:44.900000+00:00",
           "end_datetime": "2022-04-18T11:36:44.900000+00:00",
           "eo:cloud_cover": "0",
           "gsd": "0.7593376882942882",
           "platform": "PHR-1B",
           "proj:epsg": "32629",
           "start_datetime": "2022-04-18T11:36:44.900000+00:00",
           "style": {
            "color": "red",
            "dashArray": "9",
            "fillOpacity": "0.5",
            "opacity": "1",
            "weight": "1"
           },
           "title": "DS_PHR1B_202204181136079_FR1_PX_W009N37_0324_01783_R1C1",
           "up42-order:host_id": "cab98f86-2b91-4487-9a50-0f02ca2fb8ed",
           "up42-order:id": "c74c90a3-a8d1-4433-be51-78c4b84b76c9",
           "up42-order:status": "FULFILLED",
           "up42-product:collection_name": "phr",
           "up42-product:data_type": "raster",
           "up42-product:modality": "multispectral",
           "up42-product:product_id": "4f1b2f62-98df-4c74-81f4-5dce45deee99",
           "up42-system:account_id": "3c86279b-610a-4dba-ad12-abe3bdc51428",
           "up42-system:asset_id": "55dfa9f4-361f-44dd-b4c4-f1f05ad02cd3",
           "up42-system:metadata_version": "0.0.4",
           "up42-system:source": "ARCHIVE",
           "up42-system:workspace_id": "d39fe05a-400c-44f6-b770-86990f64b004",
           "view:azimuth": "179.9190797665755",
           "view:incidence_angle": "18.791437964465626",
           "view:sun_azimuth": "150.68128503948043",
           "view:sun_elevation": "59.97044901720295"
          },
          "stac_extensions": [
           "https://stac-extensions.github.io/view/v1.0.0/schema.json",
           "https://api.up42.com/stac-extensions/up42-system/v1.0.0/schema.json",
           "https://api.up42.com/stac-extensions/up42-order/v1.0.0/schema.json",
           "https://stac-extensions.github.io/eo/v1.0.0/schema.json",
           "https://stac-extensions.github.io/projection/v1.0.0/schema.json",
           "https://api.up42.com/stac-extensions/up42-product/v1.0.0/schema.json"
          ],
          "stac_version": "1.0.0",
          "type": "Feature"
         }
        ],
        "links": [
         {
          "href": "https://api.up42.com/v2/assets/stac/",
          "rel": "root",
          "type": "application/json"
         },
         {
          "href": "https://api.up42.com/v2/assets/stac/",
          "rel": "parent",
          "type": "application/json"
         },
         {
          "href": "https://api.up42.com/v2/assets/stac/search",
          "rel": "self",
          "type": "application/json"
         }
        ],
        "type": "FeatureCollection"
       },
       "hover_style": {
        "color": "white",
        "dashArray": "0",
        "fillOpacity": "0.5"
       },
       "layers": [],
       "name": "",
       "options": [],
       "pane": "",
       "point_style": {},
       "popup": "",
       "popup_max_height": "",
       "popup_max_width": "300",
       "popup_min_width": "50",
       "style": {
        "color": "red",
        "dashArray": "9",
        "fillOpacity": "0.5",
        "opacity": "1",
        "weight": "1"
       },
       "subitems": [],
       "visible": true
      }
     },
     "820d42ed0b7e42a7ac25ea7bc19b9656": {
      "model_module": "jupyter-leaflet",
      "model_module_version": "^0.17",
      "model_name": "LeafletMapModel",
      "state": {
       "_dom_classes": [],
       "_model_module": "jupyter-leaflet",
       "_model_module_version": "^0.17",
       "_model_name": "LeafletMapModel",
       "_view_count": "",
       "_view_module": "jupyter-leaflet",
       "_view_module_version": "^0.17",
       "_view_name": "LeafletMapView",
       "bottom": "0",
       "bounce_at_zoom_limits": true,
       "box_zoom": true,
       "center": [
        "38.469947",
        "-8.98691"
       ],
       "close_popup_on_click": true,
       "controls": [
        "IPY_MODEL_c36029b98eb443138a9aca75392e6ac7",
        "IPY_MODEL_b1b083f9cbef4e4c9549e4bd3af72259"
       ],
       "crs": {
        "custom": false,
        "name": "EPSG3857"
       },
       "default_style": "IPY_MODEL_94fa84923cea4167b86a9bad81652adf",
       "double_click_zoom": true,
       "dragging": true,
       "dragging_style": "IPY_MODEL_eeb1485e96ed4193b81187de4fa33e1d",
       "east": "0",
       "fullscreen": false,
       "inertia": true,
       "inertia_deceleration": "3000",
       "inertia_max_speed": "1500",
       "interpolation": "bilinear",
       "keyboard": true,
       "keyboard_pan_offset": "80",
       "keyboard_zoom_offset": "1",
       "layers": [
        "IPY_MODEL_85401d32b5e3478a888f225c5713549e",
        "IPY_MODEL_7c9cff8d1a6f4b2daaa2e1aab2b1da06"
       ],
       "layout": "IPY_MODEL_657536d5d135466480bb8d6c7d5885f1",
       "left": "9007199254740991",
       "max_zoom": "",
       "min_zoom": "",
       "modisdate": "2023-04-12",
       "north": "0",
       "options": [
        "bounce_at_zoom_limits",
        "box_zoom",
        "center",
        "close_popup_on_click",
        "double_click_zoom",
        "dragging",
        "fullscreen",
        "inertia",
        "inertia_deceleration",
        "inertia_max_speed",
        "interpolation",
        "keyboard",
        "keyboard_pan_offset",
        "keyboard_zoom_offset",
        "max_zoom",
        "min_zoom",
        "prefer_canvas",
        "scroll_wheel_zoom",
        "tap",
        "tap_tolerance",
        "touch_zoom",
        "world_copy_jump",
        "zoom",
        "zoom_animation_threshold",
        "zoom_delta",
        "zoom_snap"
       ],
       "panes": {},
       "prefer_canvas": false,
       "right": "0",
       "scroll_wheel_zoom": false,
       "south": "0",
       "style": "IPY_MODEL_910d1c1ab1cf4a818e198e3745f6b5ea",
       "tabbable": "",
       "tap": true,
       "tap_tolerance": "15",
       "tooltip": "",
       "top": "9007199254740991",
       "touch_zoom": true,
       "west": "0",
       "window_url": "",
       "world_copy_jump": false,
       "zoom": "12",
       "zoom_animation_threshold": "4",
       "zoom_delta": "1",
       "zoom_snap": "1"
      }
     },
     "84c0f8dcb0d148019b766654fba098c0": {
      "model_module": "jupyter-leaflet",
      "model_module_version": "^0.17",
      "model_name": "LeafletMapModel",
      "state": {
       "_dom_classes": [],
       "_model_module": "jupyter-leaflet",
       "_model_module_version": "^0.17",
       "_model_name": "LeafletMapModel",
       "_view_count": "",
       "_view_module": "jupyter-leaflet",
       "_view_module_version": "^0.17",
       "_view_name": "LeafletMapView",
       "bottom": "0",
       "bounce_at_zoom_limits": true,
       "box_zoom": true,
       "center": [
        "38.469947",
        "-8.98691"
       ],
       "close_popup_on_click": true,
       "controls": [
        "IPY_MODEL_fff1f66b388e48508af09750a558f1a2",
        "IPY_MODEL_18de2b09f0d647cd89f79d0dc3c1bd38"
       ],
       "crs": {
        "custom": false,
        "name": "EPSG3857"
       },
       "default_style": "IPY_MODEL_c4cad664c8c44398b810a4cd414f0ba2",
       "double_click_zoom": true,
       "dragging": true,
       "dragging_style": "IPY_MODEL_0a852d306bf24e6a9811ce593f1cfd43",
       "east": "0",
       "fullscreen": false,
       "inertia": true,
       "inertia_deceleration": "3000",
       "inertia_max_speed": "1500",
       "interpolation": "bilinear",
       "keyboard": true,
       "keyboard_pan_offset": "80",
       "keyboard_zoom_offset": "1",
       "layers": [
        "IPY_MODEL_1088b8befb314d42b85ce9f9d80fe8c4",
        "IPY_MODEL_bacd73d634744979a41ce505c666cc09",
        "IPY_MODEL_11521e991e794038b3bccb5e1fe40fa7"
       ],
       "layout": "IPY_MODEL_4da7156e082d49609dc46314102b7b8c",
       "left": "9007199254740991",
       "max_zoom": "",
       "min_zoom": "",
       "modisdate": "2023-04-12",
       "north": "0",
       "options": [
        "bounce_at_zoom_limits",
        "box_zoom",
        "center",
        "close_popup_on_click",
        "double_click_zoom",
        "dragging",
        "fullscreen",
        "inertia",
        "inertia_deceleration",
        "inertia_max_speed",
        "interpolation",
        "keyboard",
        "keyboard_pan_offset",
        "keyboard_zoom_offset",
        "max_zoom",
        "min_zoom",
        "prefer_canvas",
        "scroll_wheel_zoom",
        "tap",
        "tap_tolerance",
        "touch_zoom",
        "world_copy_jump",
        "zoom",
        "zoom_animation_threshold",
        "zoom_delta",
        "zoom_snap"
       ],
       "panes": {},
       "prefer_canvas": false,
       "right": "0",
       "scroll_wheel_zoom": false,
       "south": "0",
       "style": "IPY_MODEL_5dc7f5b1516c4b0fa2a53ed008f8f142",
       "tabbable": "",
       "tap": true,
       "tap_tolerance": "15",
       "tooltip": "",
       "top": "9007199254740991",
       "touch_zoom": true,
       "west": "0",
       "window_url": "",
       "world_copy_jump": false,
       "zoom": "14",
       "zoom_animation_threshold": "4",
       "zoom_delta": "1",
       "zoom_snap": "1"
      }
     },
     "85401d32b5e3478a888f225c5713549e": {
      "model_module": "jupyter-leaflet",
      "model_module_version": "^0.17",
      "model_name": "LeafletTileLayerModel",
      "state": {
       "_model_module": "jupyter-leaflet",
       "_model_module_version": "^0.17",
       "_model_name": "LeafletTileLayerModel",
       "_view_count": "",
       "_view_module": "jupyter-leaflet",
       "_view_module_version": "^0.17",
       "_view_name": "LeafletTileLayerView",
       "attribution": "© OpenStreetMap contributors",
       "base": true,
       "bottom": true,
       "bounds": "",
       "detect_retina": false,
       "loading": false,
       "max_native_zoom": "",
       "max_zoom": "19",
       "min_native_zoom": "",
       "min_zoom": "1",
       "name": "OpenStreetMap.Mapnik",
       "no_wrap": false,
       "opacity": "1",
       "options": [
        "attribution",
        "bounds",
        "detect_retina",
        "max_native_zoom",
        "max_zoom",
        "min_native_zoom",
        "min_zoom",
        "no_wrap",
        "tile_size",
        "tms",
        "zoom_offset"
       ],
       "pane": "",
       "popup": "",
       "popup_max_height": "",
       "popup_max_width": "300",
       "popup_min_width": "50",
       "show_loading": false,
       "subitems": [],
       "tile_size": "256",
       "tms": false,
       "url": "https://tile.openstreetmap.org/{z}/{x}/{y}.png",
       "visible": true,
       "zoom_offset": "0"
      }
     },
     "8882060434ee4ab18f66fec5d4c8a96f": {
      "model_module": "jupyter-leaflet",
      "model_module_version": "^0.17",
      "model_name": "LeafletTileLayerModel",
      "state": {
       "_model_module": "jupyter-leaflet",
       "_model_module_version": "^0.17",
       "_model_name": "LeafletTileLayerModel",
       "_view_count": "",
       "_view_module": "jupyter-leaflet",
       "_view_module_version": "^0.17",
       "_view_name": "LeafletTileLayerView",
       "attribution": "© OpenStreetMap contributors",
       "base": true,
       "bottom": true,
       "bounds": "",
       "detect_retina": false,
       "loading": false,
       "max_native_zoom": "",
       "max_zoom": "19",
       "min_native_zoom": "",
       "min_zoom": "1",
       "name": "OpenStreetMap.Mapnik",
       "no_wrap": false,
       "opacity": "1",
       "options": [
        "attribution",
        "bounds",
        "detect_retina",
        "max_native_zoom",
        "max_zoom",
        "min_native_zoom",
        "min_zoom",
        "no_wrap",
        "tile_size",
        "tms",
        "zoom_offset"
       ],
       "pane": "",
       "popup": "",
       "popup_max_height": "",
       "popup_max_width": "300",
       "popup_min_width": "50",
       "show_loading": false,
       "subitems": [],
       "tile_size": "256",
       "tms": false,
       "url": "https://tile.openstreetmap.org/{z}/{x}/{y}.png",
       "visible": true,
       "zoom_offset": "0"
      }
     },
     "8d45aeb043b54dbdbfa9bb32d98c69a8": {
      "model_module": "jupyter-leaflet",
      "model_module_version": "^0.17",
      "model_name": "LeafletMapStyleModel",
      "state": {
       "_model_module": "jupyter-leaflet",
       "_model_module_version": "^0.17",
       "_model_name": "LeafletMapStyleModel",
       "_view_count": "",
       "_view_module": "@jupyter-widgets/base",
       "_view_module_version": "2.0.0",
       "_view_name": "StyleView",
       "cursor": "move"
      }
     },
     "910d1c1ab1cf4a818e198e3745f6b5ea": {
      "model_module": "jupyter-leaflet",
      "model_module_version": "^0.17",
      "model_name": "LeafletMapStyleModel",
      "state": {
       "_model_module": "jupyter-leaflet",
       "_model_module_version": "^0.17",
       "_model_name": "LeafletMapStyleModel",
       "_view_count": "",
       "_view_module": "@jupyter-widgets/base",
       "_view_module_version": "2.0.0",
       "_view_name": "StyleView",
       "cursor": "grab"
      }
     },
     "94fa84923cea4167b86a9bad81652adf": {
      "model_module": "jupyter-leaflet",
      "model_module_version": "^0.17",
      "model_name": "LeafletMapStyleModel",
      "state": {
       "_model_module": "jupyter-leaflet",
       "_model_module_version": "^0.17",
       "_model_name": "LeafletMapStyleModel",
       "_view_count": "",
       "_view_module": "@jupyter-widgets/base",
       "_view_module_version": "2.0.0",
       "_view_name": "StyleView",
       "cursor": "grab"
      }
     },
     "98df9f8d51264e4592b41db46a04cfba": {
      "model_module": "jupyter-leaflet",
      "model_module_version": "^0.17",
      "model_name": "LeafletAttributionControlModel",
      "state": {
       "_model_module": "jupyter-leaflet",
       "_model_module_version": "^0.17",
       "_model_name": "LeafletAttributionControlModel",
       "_view_count": "",
       "_view_module": "jupyter-leaflet",
       "_view_module_version": "^0.17",
       "_view_name": "LeafletAttributionControlView",
       "options": [
        "position",
        "prefix"
       ],
       "position": "bottomright",
       "prefix": "ipyleaflet"
      }
     },
     "99a0854981734f468109bc01bbbf133d": {
      "model_module": "jupyter-leaflet",
      "model_module_version": "^0.17",
      "model_name": "LeafletMarkerModel",
      "state": {
       "_model_module": "jupyter-leaflet",
       "_model_module_version": "^0.17",
       "_model_name": "LeafletMarkerModel",
       "_view_count": "",
       "_view_module": "jupyter-leaflet",
       "_view_module_version": "^0.17",
       "_view_name": "LeafletMarkerView",
       "alt": "",
       "base": false,
       "bottom": false,
       "draggable": false,
       "icon": "IPY_MODEL_e54412a466a342e882e315eaffaee57b",
       "keyboard": true,
       "location": [
        "39.67809052275443",
        "-8.115254781697322"
       ],
       "name": "",
       "opacity": "1",
       "options": [
        "alt",
        "draggable",
        "keyboard",
        "rise_offset",
        "rise_on_hover",
        "rotation_angle",
        "rotation_origin",
        "title",
        "z_index_offset"
       ],
       "pane": "",
       "popup": "",
       "popup_max_height": "",
       "popup_max_width": "300",
       "popup_min_width": "50",
       "rise_offset": "250",
       "rise_on_hover": false,
       "rotation_angle": "0",
       "rotation_origin": "",
       "subitems": [],
       "title": "",
       "visible": true,
       "z_index_offset": "0"
      }
     },
     "9b810fc13d9644d7864c837f908f945a": {
      "model_module": "jupyter-leaflet",
      "model_module_version": "^0.17",
      "model_name": "LeafletMapStyleModel",
      "state": {
       "_model_module": "jupyter-leaflet",
       "_model_module_version": "^0.17",
       "_model_name": "LeafletMapStyleModel",
       "_view_count": "",
       "_view_module": "@jupyter-widgets/base",
       "_view_module_version": "2.0.0",
       "_view_name": "StyleView",
       "cursor": "grab"
      }
     },
     "a1c738643307430ba82dee9dabcd2bf2": {
      "model_module": "jupyter-leaflet",
      "model_module_version": "^0.17",
      "model_name": "LeafletMapStyleModel",
      "state": {
       "_model_module": "jupyter-leaflet",
       "_model_module_version": "^0.17",
       "_model_name": "LeafletMapStyleModel",
       "_view_count": "",
       "_view_module": "@jupyter-widgets/base",
       "_view_module_version": "2.0.0",
       "_view_name": "StyleView",
       "cursor": "move"
      }
     },
     "a89188c60a10492abb7a935620ae660f": {
      "model_module": "@jupyter-widgets/base",
      "model_module_version": "2.0.0",
      "model_name": "LayoutModel",
      "state": {
       "_model_module": "@jupyter-widgets/base",
       "_model_module_version": "2.0.0",
       "_model_name": "LayoutModel",
       "_view_count": "",
       "_view_module": "@jupyter-widgets/base",
       "_view_module_version": "2.0.0",
       "_view_name": "LayoutView",
       "align_content": "",
       "align_items": "",
       "align_self": "",
       "border_bottom": "",
       "border_left": "",
       "border_right": "",
       "border_top": "",
       "bottom": "",
       "display": "",
       "flex": "",
       "flex_flow": "",
       "grid_area": "",
       "grid_auto_columns": "",
       "grid_auto_flow": "",
       "grid_auto_rows": "",
       "grid_column": "",
       "grid_gap": "",
       "grid_row": "",
       "grid_template_areas": "",
       "grid_template_columns": "",
       "grid_template_rows": "",
       "height": "",
       "justify_content": "",
       "justify_items": "",
       "left": "",
       "margin": "",
       "max_height": "",
       "max_width": "",
       "min_height": "",
       "min_width": "",
       "object_fit": "",
       "object_position": "",
       "order": "",
       "overflow": "",
       "padding": "",
       "right": "",
       "top": "",
       "visibility": "",
       "width": ""
      }
     },
     "b0d2937141024a63af0d975a20af7b16": {
      "model_module": "jupyter-leaflet",
      "model_module_version": "^0.17",
      "model_name": "LeafletMapStyleModel",
      "state": {
       "_model_module": "jupyter-leaflet",
       "_model_module_version": "^0.17",
       "_model_name": "LeafletMapStyleModel",
       "_view_count": "",
       "_view_module": "@jupyter-widgets/base",
       "_view_module_version": "2.0.0",
       "_view_name": "StyleView",
       "cursor": "grab"
      }
     },
     "b1b083f9cbef4e4c9549e4bd3af72259": {
      "model_module": "jupyter-leaflet",
      "model_module_version": "^0.17",
      "model_name": "LeafletAttributionControlModel",
      "state": {
       "_model_module": "jupyter-leaflet",
       "_model_module_version": "^0.17",
       "_model_name": "LeafletAttributionControlModel",
       "_view_count": "",
       "_view_module": "jupyter-leaflet",
       "_view_module_version": "^0.17",
       "_view_name": "LeafletAttributionControlView",
       "options": [
        "position",
        "prefix"
       ],
       "position": "bottomright",
       "prefix": "ipyleaflet"
      }
     },
     "b767b5d5fab94e9495ea4f0be7bf6919": {
      "model_module": "@jupyter-widgets/base",
      "model_module_version": "2.0.0",
      "model_name": "LayoutModel",
      "state": {
       "_model_module": "@jupyter-widgets/base",
       "_model_module_version": "2.0.0",
       "_model_name": "LayoutModel",
       "_view_count": "",
       "_view_module": "@jupyter-widgets/base",
       "_view_module_version": "2.0.0",
       "_view_name": "LayoutView",
       "align_content": "",
       "align_items": "",
       "align_self": "",
       "border_bottom": "",
       "border_left": "",
       "border_right": "",
       "border_top": "",
       "bottom": "",
       "display": "",
       "flex": "",
       "flex_flow": "",
       "grid_area": "",
       "grid_auto_columns": "",
       "grid_auto_flow": "",
       "grid_auto_rows": "",
       "grid_column": "",
       "grid_gap": "",
       "grid_row": "",
       "grid_template_areas": "",
       "grid_template_columns": "",
       "grid_template_rows": "",
       "height": "",
       "justify_content": "",
       "justify_items": "",
       "left": "",
       "margin": "",
       "max_height": "",
       "max_width": "",
       "min_height": "",
       "min_width": "",
       "object_fit": "",
       "object_position": "",
       "order": "",
       "overflow": "",
       "padding": "",
       "right": "",
       "top": "",
       "visibility": "",
       "width": ""
      }
     },
     "bacd73d634744979a41ce505c666cc09": {
      "model_module": "jupyter-leaflet",
      "model_module_version": "^0.17",
      "model_name": "LeafletGeoJSONModel",
      "state": {
       "_model_module": "jupyter-leaflet",
       "_model_module_version": "^0.17",
       "_model_name": "LeafletGeoJSONModel",
       "_view_count": "",
       "_view_module": "jupyter-leaflet",
       "_view_module_version": "^0.17",
       "_view_name": "LeafletGeoJSONView",
       "base": false,
       "bottom": false,
       "data": {
        "features": [
         {
          "assets": {
           "data": {
            "description": "Storage Data",
            "href": "https://api.up42.com/v2/assets/630bd8cd-c4c2-4619-9a88-5b3421ffd1de",
            "roles": [
             "data"
            ],
            "title": "Data",
            "type": "application/zip"
           }
          },
          "bbox": [
           "-8.992222054150913",
           "38.46552423989927",
           "-8.968630844922524",
           "38.483829164081016"
          ],
          "collection": "e3e8ecde-6328-4bb2-bf06-eeffcfcc0978",
          "geometry": {
           "coordinates": [
            [
             [
              "-8.970516192795307",
              "38.483829164081016"
             ],
             [
              "-8.969003136298957",
              "38.48288700320683"
             ],
             [
              "-8.968630844922524",
              "38.482111858604256"
             ],
             [
              "-8.968642327826503",
              "38.48207130696972"
             ],
             [
              "-8.969565423041054",
              "38.48174711275871"
             ],
             [
              "-8.969348067535785",
              "38.48060251189329"
             ],
             [
              "-8.97187629060627",
              "38.480166056393756"
             ],
             [
              "-8.97708711322504",
              "38.4802663253012"
             ],
             [
              "-8.981352415160988",
              "38.47907747662965"
             ],
             [
              "-8.981432678381337",
              "38.479041440729354"
             ],
             [
              "-8.984712266276473",
              "38.47600481509272"
             ],
             [
              "-8.982695061218294",
              "38.473814577442"
             ],
             [
              "-8.986891621124045",
              "38.469791186640876"
             ],
             [
              "-8.990422699558534",
              "38.46709688704083"
             ],
             [
              "-8.990164996618832",
              "38.46552423989927"
             ],
             [
              "-8.991964631241645",
              "38.4656190050795"
             ],
             [
              "-8.992222054150913",
              "38.47016566713853"
             ],
             [
              "-8.989779464974129",
              "38.47637035954537"
             ],
             [
              "-8.981065183212577",
              "38.4814115801504"
             ],
             [
              "-8.970516192795307",
              "38.483829164081016"
             ]
            ]
           ],
           "type": "Polygon"
          },
          "id": "fe7d6485-1ecd-4151-b027-79a107557d48",
          "links": [
           {
            "href": "https://api.up42.com/v2/assets/stac/collections/e3e8ecde-6328-4bb2-bf06-eeffcfcc0978/items/fe7d6485-1ecd-4151-b027-79a107557d48",
            "rel": "self",
            "type": "application/geo+json"
           },
           {
            "href": "https://api.up42.com/v2/assets/stac/collections/e3e8ecde-6328-4bb2-bf06-eeffcfcc0978",
            "rel": "parent",
            "type": "application/json"
           },
           {
            "href": "https://api.up42.com/v2/assets/stac/collections/e3e8ecde-6328-4bb2-bf06-eeffcfcc0978",
            "rel": "collection",
            "type": "application/json"
           },
           {
            "href": "https://api.up42.com/v2/assets/stac/",
            "rel": "root",
            "type": "application/json"
           }
          ],
          "properties": {
           "constellation": "PHR",
           "datetime": "2022-03-18T11:24:06+00:00",
           "end_datetime": "2022-03-18T11:24:06+00:00",
           "eo:cloud_cover": "0",
           "gsd": "0.7562325080525973",
           "platform": "PHR-1B",
           "proj:epsg": "32629",
           "start_datetime": "2022-03-18T11:24:06+00:00",
           "style": {
            "dashArray": "9",
            "fillOpacity": "0.5",
            "opacity": "1",
            "weight": "1"
           },
           "title": "DS_PHR1B_202203181123290_FR1_PX_W009N38_0119_07844_R1C1",
           "up42-order:host_id": "9372ed63-982a-4003-9f90-e7a2fe10aab3",
           "up42-order:id": "8a2c9bc2-7878-45e6-92b4-81fa33d2fd9f",
           "up42-order:status": "FULFILLED",
           "up42-product:collection_name": "phr",
           "up42-product:data_type": "raster",
           "up42-product:modality": "multispectral",
           "up42-product:product_id": "4f1b2f62-98df-4c74-81f4-5dce45deee99",
           "up42-system:account_id": "3c86279b-610a-4dba-ad12-abe3bdc51428",
           "up42-system:asset_id": "630bd8cd-c4c2-4619-9a88-5b3421ffd1de",
           "up42-system:metadata_version": "0.0.4",
           "up42-system:source": "ARCHIVE",
           "up42-system:workspace_id": "d39fe05a-400c-44f6-b770-86990f64b004",
           "view:azimuth": "179.08569011330297",
           "view:incidence_angle": "18.141957311334412",
           "view:sun_azimuth": "150.26387457509006",
           "view:sun_elevation": "46.60727885283659"
          },
          "stac_extensions": [
           "https://stac-extensions.github.io/view/v1.0.0/schema.json",
           "https://api.up42.com/stac-extensions/up42-system/v1.0.0/schema.json",
           "https://api.up42.com/stac-extensions/up42-order/v1.0.0/schema.json",
           "https://stac-extensions.github.io/eo/v1.0.0/schema.json",
           "https://stac-extensions.github.io/projection/v1.0.0/schema.json",
           "https://api.up42.com/stac-extensions/up42-product/v1.0.0/schema.json"
          ],
          "stac_version": "1.0.0",
          "type": "Feature"
         },
         {
          "assets": {
           "data": {
            "description": "Storage Data",
            "href": "https://api.up42.com/v2/assets/828b2da8-b322-4e19-9abc-3917e0e36986",
            "roles": [
             "data"
            ],
            "title": "Data",
            "type": "application/zip"
           }
          },
          "bbox": [
           "-8.992222054150913",
           "38.46552423989927",
           "-8.968630844922524",
           "38.483829164081016"
          ],
          "collection": "fcb6de6f-7c47-4d59-bc7c-ec83d5af4d09",
          "geometry": {
           "coordinates": [
            [
             [
              "-8.970516192795307",
              "38.483829164081016"
             ],
             [
              "-8.969003136298957",
              "38.48288700320683"
             ],
             [
              "-8.968630844922524",
              "38.482111858604256"
             ],
             [
              "-8.968642327826503",
              "38.48207130696972"
             ],
             [
              "-8.969565423041054",
              "38.48174711275871"
             ],
             [
              "-8.969348067535785",
              "38.48060251189329"
             ],
             [
              "-8.97187629060627",
              "38.480166056393756"
             ],
             [
              "-8.97708711322504",
              "38.4802663253012"
             ],
             [
              "-8.981352415160988",
              "38.47907747662965"
             ],
             [
              "-8.981432678381337",
              "38.479041440729354"
             ],
             [
              "-8.984712266276473",
              "38.47600481509272"
             ],
             [
              "-8.982695061218294",
              "38.473814577442"
             ],
             [
              "-8.986891621124045",
              "38.469791186640876"
             ],
             [
              "-8.990422699558534",
              "38.46709688704083"
             ],
             [
              "-8.990164996618832",
              "38.46552423989927"
             ],
             [
              "-8.991964631241645",
              "38.4656190050795"
             ],
             [
              "-8.992222054150913",
              "38.47016566713853"
             ],
             [
              "-8.989779464974129",
              "38.47637035954537"
             ],
             [
              "-8.981065183212577",
              "38.4814115801504"
             ],
             [
              "-8.970516192795307",
              "38.483829164081016"
             ]
            ]
           ],
           "type": "Polygon"
          },
          "id": "36ecf578-eb19-4c7d-8ba2-c85d23b9af86",
          "links": [
           {
            "href": "https://api.up42.com/v2/assets/stac/collections/fcb6de6f-7c47-4d59-bc7c-ec83d5af4d09/items/36ecf578-eb19-4c7d-8ba2-c85d23b9af86",
            "rel": "self",
            "type": "application/geo+json"
           },
           {
            "href": "https://api.up42.com/v2/assets/stac/collections/fcb6de6f-7c47-4d59-bc7c-ec83d5af4d09",
            "rel": "parent",
            "type": "application/json"
           },
           {
            "href": "https://api.up42.com/v2/assets/stac/collections/fcb6de6f-7c47-4d59-bc7c-ec83d5af4d09",
            "rel": "collection",
            "type": "application/json"
           },
           {
            "href": "https://api.up42.com/v2/assets/stac/",
            "rel": "root",
            "type": "application/json"
           }
          ],
          "properties": {
           "constellation": "PHR",
           "datetime": "2022-03-18T11:24:06+00:00",
           "end_datetime": "2022-03-18T11:24:06+00:00",
           "eo:cloud_cover": "0",
           "gsd": "0.7562325080525973",
           "platform": "PHR-1B",
           "proj:epsg": "32629",
           "start_datetime": "2022-03-18T11:24:06+00:00",
           "style": {
            "dashArray": "9",
            "fillOpacity": "0.5",
            "opacity": "1",
            "weight": "1"
           },
           "title": "DS_PHR1B_202203181123290_FR1_PX_W009N38_0119_07844_R1C1",
           "up42-order:host_id": "d0c1f983-05dc-4bc9-8eba-f9f55a91d7b5",
           "up42-order:id": "d373da26-8a90-4c08-a745-a0dbf2857639",
           "up42-order:status": "FULFILLED",
           "up42-product:collection_name": "phr",
           "up42-product:data_type": "raster",
           "up42-product:modality": "multispectral",
           "up42-product:product_id": "4f1b2f62-98df-4c74-81f4-5dce45deee99",
           "up42-system:account_id": "3c86279b-610a-4dba-ad12-abe3bdc51428",
           "up42-system:asset_id": "828b2da8-b322-4e19-9abc-3917e0e36986",
           "up42-system:metadata_version": "0.0.4",
           "up42-system:source": "ARCHIVE",
           "up42-system:workspace_id": "d39fe05a-400c-44f6-b770-86990f64b004",
           "view:azimuth": "179.08569011330297",
           "view:incidence_angle": "18.141957311334412",
           "view:sun_azimuth": "150.26387457509006",
           "view:sun_elevation": "46.60727885283659"
          },
          "stac_extensions": [
           "https://api.up42.com/stac-extensions/up42-system/v1.0.0/schema.json",
           "https://api.up42.com/stac-extensions/up42-order/v1.0.0/schema.json",
           "https://stac-extensions.github.io/eo/v1.0.0/schema.json",
           "https://stac-extensions.github.io/view/v1.0.0/schema.json",
           "https://api.up42.com/stac-extensions/up42-product/v1.0.0/schema.json",
           "https://stac-extensions.github.io/projection/v1.0.0/schema.json"
          ],
          "stac_version": "1.0.0",
          "type": "Feature"
         },
         {
          "assets": {
           "data": {
            "description": "Storage Data",
            "href": "https://api.up42.com/v2/assets/f5080d5d-cb90-4cb5-9caf-b1e870865967",
            "roles": [
             "data"
            ],
            "title": "Data",
            "type": "application/zip"
           }
          },
          "bbox": [
           "-8.992222054150913",
           "38.46552423989927",
           "-8.968630844922524",
           "38.483829164081016"
          ],
          "collection": "8e113462-23cd-4516-bb70-fb6c63ba0cf4",
          "geometry": {
           "coordinates": [
            [
             [
              "-8.970516192795307",
              "38.483829164081016"
             ],
             [
              "-8.969003136298957",
              "38.48288700320683"
             ],
             [
              "-8.968630844922524",
              "38.482111858604256"
             ],
             [
              "-8.968642327826503",
              "38.48207130696972"
             ],
             [
              "-8.969565423041054",
              "38.48174711275871"
             ],
             [
              "-8.969348067535785",
              "38.48060251189329"
             ],
             [
              "-8.97187629060627",
              "38.480166056393756"
             ],
             [
              "-8.97708711322504",
              "38.4802663253012"
             ],
             [
              "-8.981352415160988",
              "38.47907747662965"
             ],
             [
              "-8.981432678381337",
              "38.479041440729354"
             ],
             [
              "-8.984712266276473",
              "38.47600481509272"
             ],
             [
              "-8.982695061218294",
              "38.473814577442"
             ],
             [
              "-8.986891621124045",
              "38.469791186640876"
             ],
             [
              "-8.990422699558534",
              "38.46709688704083"
             ],
             [
              "-8.990164996618832",
              "38.46552423989927"
             ],
             [
              "-8.991964631241645",
              "38.4656190050795"
             ],
             [
              "-8.992222054150913",
              "38.47016566713853"
             ],
             [
              "-8.989779464974129",
              "38.47637035954537"
             ],
             [
              "-8.981065183212577",
              "38.4814115801504"
             ],
             [
              "-8.970516192795307",
              "38.483829164081016"
             ]
            ]
           ],
           "type": "Polygon"
          },
          "id": "bd5ad586-4f1e-4228-9e63-9206fbe297fe",
          "links": [
           {
            "href": "https://api.up42.com/v2/assets/stac/collections/8e113462-23cd-4516-bb70-fb6c63ba0cf4/items/bd5ad586-4f1e-4228-9e63-9206fbe297fe",
            "rel": "self",
            "type": "application/geo+json"
           },
           {
            "href": "https://api.up42.com/v2/assets/stac/collections/8e113462-23cd-4516-bb70-fb6c63ba0cf4",
            "rel": "parent",
            "type": "application/json"
           },
           {
            "href": "https://api.up42.com/v2/assets/stac/collections/8e113462-23cd-4516-bb70-fb6c63ba0cf4",
            "rel": "collection",
            "type": "application/json"
           },
           {
            "href": "https://api.up42.com/v2/assets/stac/",
            "rel": "root",
            "type": "application/json"
           }
          ],
          "properties": {
           "constellation": "PHR",
           "datetime": "2022-09-09T11:28:49.600000+00:00",
           "end_datetime": "2022-09-09T11:28:49.600000+00:00",
           "eo:cloud_cover": "0",
           "gsd": "0.7138816774061343",
           "platform": "PHR-1B",
           "proj:epsg": "32629",
           "start_datetime": "2022-09-09T11:28:49.600000+00:00",
           "style": {
            "dashArray": "9",
            "fillOpacity": "0.5",
            "opacity": "1",
            "weight": "1"
           },
           "title": "DS_PHR1B_202209091128126_FR1_PX_W009N38_0111_01724_R1C1",
           "up42-order:host_id": "4d27e173-c628-4935-a583-37a68ac904cb",
           "up42-order:id": "f3b4d9fd-7504-49dc-8d13-abc56d021d16",
           "up42-order:status": "FULFILLED",
           "up42-product:collection_name": "phr",
           "up42-product:data_type": "raster",
           "up42-product:modality": "multispectral",
           "up42-product:product_id": "647780db-5a06-4b61-b525-577a8b68bb54",
           "up42-system:account_id": "3c86279b-610a-4dba-ad12-abe3bdc51428",
           "up42-system:asset_id": "f5080d5d-cb90-4cb5-9caf-b1e870865967",
           "up42-system:metadata_version": "0.0.4",
           "up42-system:source": "ARCHIVE",
           "up42-system:workspace_id": "d39fe05a-400c-44f6-b770-86990f64b004",
           "view:azimuth": "179.99787147104942",
           "view:incidence_angle": "8.344681400691485",
           "view:sun_azimuth": "152.20823252306252",
           "view:sun_elevation": "53.6725392907585"
          },
          "stac_extensions": [
           "https://stac-extensions.github.io/view/v1.0.0/schema.json",
           "https://api.up42.com/stac-extensions/up42-system/v1.0.0/schema.json",
           "https://api.up42.com/stac-extensions/up42-order/v1.0.0/schema.json",
           "https://stac-extensions.github.io/eo/v1.0.0/schema.json",
           "https://stac-extensions.github.io/projection/v1.0.0/schema.json",
           "https://api.up42.com/stac-extensions/up42-product/v1.0.0/schema.json"
          ],
          "stac_version": "1.0.0",
          "type": "Feature"
         },
         {
          "assets": {
           "data": {
            "description": "Storage Data",
            "href": "https://api.up42.com/v2/assets/fa438b5e-0903-4787-8958-45a376dd9b04",
            "roles": [
             "data"
            ],
            "title": "Data",
            "type": "application/zip"
           }
          },
          "bbox": [
           "-8.992222054150913",
           "38.46552423989927",
           "-8.968630844922524",
           "38.483829164081016"
          ],
          "collection": "5b6b32b9-41fc-4f68-9f56-40dcbdbd4263",
          "geometry": {
           "coordinates": [
            [
             [
              "-8.970516192795307",
              "38.483829164081016"
             ],
             [
              "-8.969003136298957",
              "38.48288700320683"
             ],
             [
              "-8.968630844922524",
              "38.482111858604256"
             ],
             [
              "-8.968642327826503",
              "38.48207130696972"
             ],
             [
              "-8.969565423041054",
              "38.48174711275871"
             ],
             [
              "-8.969348067535785",
              "38.48060251189329"
             ],
             [
              "-8.97187629060627",
              "38.480166056393756"
             ],
             [
              "-8.97708711322504",
              "38.4802663253012"
             ],
             [
              "-8.981352415160988",
              "38.47907747662965"
             ],
             [
              "-8.981432678381337",
              "38.479041440729354"
             ],
             [
              "-8.984712266276473",
              "38.47600481509272"
             ],
             [
              "-8.982695061218294",
              "38.473814577442"
             ],
             [
              "-8.986891621124045",
              "38.469791186640876"
             ],
             [
              "-8.990422699558534",
              "38.46709688704083"
             ],
             [
              "-8.990164996618832",
              "38.46552423989927"
             ],
             [
              "-8.991964631241645",
              "38.4656190050795"
             ],
             [
              "-8.992222054150913",
              "38.47016566713853"
             ],
             [
              "-8.989779464974129",
              "38.47637035954537"
             ],
             [
              "-8.981065183212577",
              "38.4814115801504"
             ],
             [
              "-8.970516192795307",
              "38.483829164081016"
             ]
            ]
           ],
           "type": "Polygon"
          },
          "id": "538091f8-4be7-404b-9936-97274be89fb3",
          "links": [
           {
            "href": "https://api.up42.com/v2/assets/stac/collections/5b6b32b9-41fc-4f68-9f56-40dcbdbd4263/items/538091f8-4be7-404b-9936-97274be89fb3",
            "rel": "self",
            "type": "application/geo+json"
           },
           {
            "href": "https://api.up42.com/v2/assets/stac/collections/5b6b32b9-41fc-4f68-9f56-40dcbdbd4263",
            "rel": "parent",
            "type": "application/json"
           },
           {
            "href": "https://api.up42.com/v2/assets/stac/collections/5b6b32b9-41fc-4f68-9f56-40dcbdbd4263",
            "rel": "collection",
            "type": "application/json"
           },
           {
            "href": "https://api.up42.com/v2/assets/stac/",
            "rel": "root",
            "type": "application/json"
           }
          ],
          "properties": {
           "constellation": "PHR",
           "datetime": "2022-03-18T11:24:06+00:00",
           "end_datetime": "2022-03-18T11:24:06+00:00",
           "eo:cloud_cover": "0",
           "gsd": "0.7562330339024197",
           "platform": "PHR-1B",
           "proj:epsg": "32629",
           "start_datetime": "2022-03-18T11:24:06+00:00",
           "style": {
            "dashArray": "9",
            "fillOpacity": "0.5",
            "opacity": "1",
            "weight": "1"
           },
           "title": "DS_PHR1B_202203181123290_FR1_PX_W009N38_0119_07844_R1C1",
           "up42-order:host_id": "dd866675-8c25-4766-8397-5ef8bc5cd2a5",
           "up42-order:id": "92ceac2c-a89f-4e66-9a8d-b20f336d8799",
           "up42-order:status": "FULFILLED",
           "up42-product:collection_name": "phr",
           "up42-product:data_type": "raster",
           "up42-product:modality": "multispectral",
           "up42-product:product_id": "4f1b2f62-98df-4c74-81f4-5dce45deee99",
           "up42-system:account_id": "3c86279b-610a-4dba-ad12-abe3bdc51428",
           "up42-system:asset_id": "fa438b5e-0903-4787-8958-45a376dd9b04",
           "up42-system:metadata_version": "0.0.4",
           "up42-system:source": "ARCHIVE",
           "up42-system:workspace_id": "d39fe05a-400c-44f6-b770-86990f64b004",
           "view:azimuth": "179.08567245519995",
           "view:incidence_angle": "18.141937286841305",
           "view:sun_azimuth": "150.26387449687402",
           "view:sun_elevation": "46.60727883013983"
          },
          "stac_extensions": [
           "https://api.up42.com/stac-extensions/up42-order/v1.0.0/schema.json",
           "https://stac-extensions.github.io/eo/v1.0.0/schema.json",
           "https://api.up42.com/stac-extensions/up42-system/v1.0.0/schema.json",
           "https://stac-extensions.github.io/view/v1.0.0/schema.json",
           "https://stac-extensions.github.io/projection/v1.0.0/schema.json",
           "https://api.up42.com/stac-extensions/up42-product/v1.0.0/schema.json"
          ],
          "stac_version": "1.0.0",
          "type": "Feature"
         },
         {
          "assets": {
           "data": {
            "description": "Storage Data",
            "href": "https://api.up42.com/v2/assets/666191ca-0f28-4f49-9bae-597865187eb1",
            "roles": [
             "data"
            ],
            "title": "Data",
            "type": "application/zip"
           }
          },
          "bbox": [
           "-8.992222054150913",
           "38.46552423989927",
           "-8.968630844922524",
           "38.483829164081016"
          ],
          "collection": "ab966c6c-72c7-4bbe-8d97-51832e0b3f6a",
          "geometry": {
           "coordinates": [
            [
             [
              "-8.970516192795307",
              "38.483829164081016"
             ],
             [
              "-8.969003136298957",
              "38.48288700320683"
             ],
             [
              "-8.968630844922524",
              "38.482111858604256"
             ],
             [
              "-8.968642327826503",
              "38.48207130696972"
             ],
             [
              "-8.969565423041054",
              "38.48174711275871"
             ],
             [
              "-8.969348067535785",
              "38.48060251189329"
             ],
             [
              "-8.97187629060627",
              "38.480166056393756"
             ],
             [
              "-8.97708711322504",
              "38.4802663253012"
             ],
             [
              "-8.981352415160988",
              "38.47907747662965"
             ],
             [
              "-8.981432678381337",
              "38.479041440729354"
             ],
             [
              "-8.984712266276473",
              "38.47600481509272"
             ],
             [
              "-8.982695061218294",
              "38.473814577442"
             ],
             [
              "-8.986891621124045",
              "38.469791186640876"
             ],
             [
              "-8.990422699558534",
              "38.46709688704083"
             ],
             [
              "-8.990164996618832",
              "38.46552423989927"
             ],
             [
              "-8.991964631241645",
              "38.4656190050795"
             ],
             [
              "-8.992222054150913",
              "38.47016566713853"
             ],
             [
              "-8.989779464974129",
              "38.47637035954537"
             ],
             [
              "-8.981065183212577",
              "38.4814115801504"
             ],
             [
              "-8.970516192795307",
              "38.483829164081016"
             ]
            ]
           ],
           "type": "Polygon"
          },
          "id": "466f5541-7298-46fd-ac69-7aeb34273867",
          "links": [
           {
            "href": "https://api.up42.com/v2/assets/stac/collections/ab966c6c-72c7-4bbe-8d97-51832e0b3f6a/items/466f5541-7298-46fd-ac69-7aeb34273867",
            "rel": "self",
            "type": "application/geo+json"
           },
           {
            "href": "https://api.up42.com/v2/assets/stac/collections/ab966c6c-72c7-4bbe-8d97-51832e0b3f6a",
            "rel": "parent",
            "type": "application/json"
           },
           {
            "href": "https://api.up42.com/v2/assets/stac/collections/ab966c6c-72c7-4bbe-8d97-51832e0b3f6a",
            "rel": "collection",
            "type": "application/json"
           },
           {
            "href": "https://api.up42.com/v2/assets/stac/",
            "rel": "root",
            "type": "application/json"
           }
          ],
          "properties": {
           "constellation": "PHR",
           "datetime": "2022-03-18T11:24:06+00:00",
           "end_datetime": "2022-03-18T11:24:06+00:00",
           "eo:cloud_cover": "0",
           "gsd": "0.7562325080525973",
           "platform": "PHR-1B",
           "proj:epsg": "32629",
           "start_datetime": "2022-03-18T11:24:06+00:00",
           "style": {
            "dashArray": "9",
            "fillOpacity": "0.5",
            "opacity": "1",
            "weight": "1"
           },
           "title": "DS_PHR1B_202203181123290_FR1_PX_W009N38_0119_07844_R1C1",
           "up42-order:host_id": "82660486-7908-4eba-a79d-386305cd4941",
           "up42-order:id": "694b65c8-6d3d-4aa8-b5d9-f42d525b5477",
           "up42-order:status": "FULFILLED",
           "up42-product:collection_name": "phr",
           "up42-product:data_type": "raster",
           "up42-product:modality": "multispectral",
           "up42-product:product_id": "4f1b2f62-98df-4c74-81f4-5dce45deee99",
           "up42-system:account_id": "3c86279b-610a-4dba-ad12-abe3bdc51428",
           "up42-system:asset_id": "666191ca-0f28-4f49-9bae-597865187eb1",
           "up42-system:metadata_version": "0.0.4",
           "up42-system:source": "ARCHIVE",
           "up42-system:workspace_id": "d39fe05a-400c-44f6-b770-86990f64b004",
           "view:azimuth": "179.08569011330297",
           "view:incidence_angle": "18.141957311334412",
           "view:sun_azimuth": "150.26387457509006",
           "view:sun_elevation": "46.60727885283659"
          },
          "stac_extensions": [
           "https://stac-extensions.github.io/projection/v1.0.0/schema.json",
           "https://api.up42.com/stac-extensions/up42-system/v1.0.0/schema.json",
           "https://stac-extensions.github.io/view/v1.0.0/schema.json",
           "https://stac-extensions.github.io/eo/v1.0.0/schema.json",
           "https://api.up42.com/stac-extensions/up42-order/v1.0.0/schema.json",
           "https://api.up42.com/stac-extensions/up42-product/v1.0.0/schema.json"
          ],
          "stac_version": "1.0.0",
          "type": "Feature"
         },
         {
          "assets": {
           "data": {
            "description": "Storage Data",
            "href": "https://api.up42.com/v2/assets/696f6b22-523a-4f57-a6a3-16efa5b1edb5",
            "roles": [
             "data"
            ],
            "title": "Data",
            "type": "application/zip"
           }
          },
          "bbox": [
           "-8.992222054150913",
           "38.46552423989927",
           "-8.968630844922524",
           "38.483829164081016"
          ],
          "collection": "2a1dfd20-deaf-4ce7-bc67-63c69ae55e7e",
          "geometry": {
           "coordinates": [
            [
             [
              "-8.970516192795307",
              "38.483829164081016"
             ],
             [
              "-8.969003136298957",
              "38.48288700320683"
             ],
             [
              "-8.968630844922524",
              "38.482111858604256"
             ],
             [
              "-8.968642327826503",
              "38.48207130696972"
             ],
             [
              "-8.969565423041054",
              "38.48174711275871"
             ],
             [
              "-8.969348067535785",
              "38.48060251189329"
             ],
             [
              "-8.97187629060627",
              "38.480166056393756"
             ],
             [
              "-8.97708711322504",
              "38.4802663253012"
             ],
             [
              "-8.981352415160988",
              "38.47907747662965"
             ],
             [
              "-8.981432678381337",
              "38.479041440729354"
             ],
             [
              "-8.984712266276473",
              "38.47600481509272"
             ],
             [
              "-8.982695061218294",
              "38.473814577442"
             ],
             [
              "-8.986891621124045",
              "38.469791186640876"
             ],
             [
              "-8.990422699558534",
              "38.46709688704083"
             ],
             [
              "-8.990164996618832",
              "38.46552423989927"
             ],
             [
              "-8.991964631241645",
              "38.4656190050795"
             ],
             [
              "-8.992222054150913",
              "38.47016566713853"
             ],
             [
              "-8.989779464974129",
              "38.47637035954537"
             ],
             [
              "-8.981065183212577",
              "38.4814115801504"
             ],
             [
              "-8.970516192795307",
              "38.483829164081016"
             ]
            ]
           ],
           "type": "Polygon"
          },
          "id": "c6148201-7f57-47d2-81b3-08024cf3fcac",
          "links": [
           {
            "href": "https://api.up42.com/v2/assets/stac/collections/2a1dfd20-deaf-4ce7-bc67-63c69ae55e7e/items/c6148201-7f57-47d2-81b3-08024cf3fcac",
            "rel": "self",
            "type": "application/geo+json"
           },
           {
            "href": "https://api.up42.com/v2/assets/stac/collections/2a1dfd20-deaf-4ce7-bc67-63c69ae55e7e",
            "rel": "parent",
            "type": "application/json"
           },
           {
            "href": "https://api.up42.com/v2/assets/stac/collections/2a1dfd20-deaf-4ce7-bc67-63c69ae55e7e",
            "rel": "collection",
            "type": "application/json"
           },
           {
            "href": "https://api.up42.com/v2/assets/stac/",
            "rel": "root",
            "type": "application/json"
           }
          ],
          "properties": {
           "constellation": "PHR",
           "datetime": "2022-03-18T11:24:06+00:00",
           "end_datetime": "2022-03-18T11:24:06+00:00",
           "eo:cloud_cover": "0",
           "gsd": "0.7562325080525973",
           "platform": "PHR-1B",
           "proj:epsg": "32629",
           "start_datetime": "2022-03-18T11:24:06+00:00",
           "style": {
            "dashArray": "9",
            "fillOpacity": "0.5",
            "opacity": "1",
            "weight": "1"
           },
           "title": "DS_PHR1B_202203181123290_FR1_PX_W009N38_0119_07844_R1C1",
           "up42-order:host_id": "89df2d1f-8b91-46c9-b89c-5457606066a4",
           "up42-order:id": "d28a249c-489b-4409-b939-dceb57d5b919",
           "up42-order:status": "FULFILLED",
           "up42-product:collection_name": "phr",
           "up42-product:data_type": "raster",
           "up42-product:modality": "multispectral",
           "up42-product:product_id": "4f1b2f62-98df-4c74-81f4-5dce45deee99",
           "up42-system:account_id": "3c86279b-610a-4dba-ad12-abe3bdc51428",
           "up42-system:asset_id": "696f6b22-523a-4f57-a6a3-16efa5b1edb5",
           "up42-system:metadata_version": "0.0.4",
           "up42-system:source": "ARCHIVE",
           "up42-system:workspace_id": "d39fe05a-400c-44f6-b770-86990f64b004",
           "view:azimuth": "179.08569011330297",
           "view:incidence_angle": "18.141957311334412",
           "view:sun_azimuth": "150.26387457509006",
           "view:sun_elevation": "46.60727885283659"
          },
          "stac_extensions": [
           "https://stac-extensions.github.io/view/v1.0.0/schema.json",
           "https://api.up42.com/stac-extensions/up42-system/v1.0.0/schema.json",
           "https://api.up42.com/stac-extensions/up42-order/v1.0.0/schema.json",
           "https://stac-extensions.github.io/eo/v1.0.0/schema.json",
           "https://stac-extensions.github.io/projection/v1.0.0/schema.json",
           "https://api.up42.com/stac-extensions/up42-product/v1.0.0/schema.json"
          ],
          "stac_version": "1.0.0",
          "type": "Feature"
         }
        ],
        "links": [
         {
          "href": "https://api.up42.com/v2/assets/stac/",
          "rel": "root",
          "type": "application/json"
         },
         {
          "href": "https://api.up42.com/v2/assets/stac/",
          "rel": "parent",
          "type": "application/json"
         },
         {
          "href": "https://api.up42.com/v2/assets/stac/search",
          "rel": "self",
          "type": "application/json"
         }
        ],
        "type": "FeatureCollection"
       },
       "hover_style": {
        "color": "yellow",
        "dashArray": "0",
        "fillOpacity": "0.5"
       },
       "layers": [],
       "name": "",
       "options": [],
       "pane": "",
       "point_style": {},
       "popup": "",
       "popup_max_height": "",
       "popup_max_width": "300",
       "popup_min_width": "50",
       "style": {
        "dashArray": "9",
        "fillOpacity": "0.5",
        "opacity": "1",
        "weight": "1"
       },
       "subitems": [],
       "visible": true
      }
     },
     "bc817a94023a4fd180830f9d666c8087": {
      "model_module": "jupyter-leaflet",
      "model_module_version": "^0.17",
      "model_name": "LeafletGeoJSONModel",
      "state": {
       "_model_module": "jupyter-leaflet",
       "_model_module_version": "^0.17",
       "_model_name": "LeafletGeoJSONModel",
       "_view_count": "",
       "_view_module": "jupyter-leaflet",
       "_view_module_version": "^0.17",
       "_view_name": "LeafletGeoJSONView",
       "base": false,
       "bottom": false,
       "data": {
        "features": [
         {
          "assets": {
           "data": {
            "description": "Storage Data",
            "href": "https://api.up42.com/v2/assets/630bd8cd-c4c2-4619-9a88-5b3421ffd1de",
            "roles": [
             "data"
            ],
            "title": "Data",
            "type": "application/zip"
           }
          },
          "bbox": [
           "-8.992222054150913",
           "38.46552423989927",
           "-8.968630844922524",
           "38.483829164081016"
          ],
          "collection": "e3e8ecde-6328-4bb2-bf06-eeffcfcc0978",
          "geometry": {
           "coordinates": [
            [
             [
              "-8.970516192795307",
              "38.483829164081016"
             ],
             [
              "-8.969003136298957",
              "38.48288700320683"
             ],
             [
              "-8.968630844922524",
              "38.482111858604256"
             ],
             [
              "-8.968642327826503",
              "38.48207130696972"
             ],
             [
              "-8.969565423041054",
              "38.48174711275871"
             ],
             [
              "-8.969348067535785",
              "38.48060251189329"
             ],
             [
              "-8.97187629060627",
              "38.480166056393756"
             ],
             [
              "-8.97708711322504",
              "38.4802663253012"
             ],
             [
              "-8.981352415160988",
              "38.47907747662965"
             ],
             [
              "-8.981432678381337",
              "38.479041440729354"
             ],
             [
              "-8.984712266276473",
              "38.47600481509272"
             ],
             [
              "-8.982695061218294",
              "38.473814577442"
             ],
             [
              "-8.986891621124045",
              "38.469791186640876"
             ],
             [
              "-8.990422699558534",
              "38.46709688704083"
             ],
             [
              "-8.990164996618832",
              "38.46552423989927"
             ],
             [
              "-8.991964631241645",
              "38.4656190050795"
             ],
             [
              "-8.992222054150913",
              "38.47016566713853"
             ],
             [
              "-8.989779464974129",
              "38.47637035954537"
             ],
             [
              "-8.981065183212577",
              "38.4814115801504"
             ],
             [
              "-8.970516192795307",
              "38.483829164081016"
             ]
            ]
           ],
           "type": "Polygon"
          },
          "id": "fe7d6485-1ecd-4151-b027-79a107557d48",
          "links": [
           {
            "href": "https://api.up42.com/v2/assets/stac/collections/e3e8ecde-6328-4bb2-bf06-eeffcfcc0978/items/fe7d6485-1ecd-4151-b027-79a107557d48",
            "rel": "self",
            "type": "application/geo+json"
           },
           {
            "href": "https://api.up42.com/v2/assets/stac/collections/e3e8ecde-6328-4bb2-bf06-eeffcfcc0978",
            "rel": "parent",
            "type": "application/json"
           },
           {
            "href": "https://api.up42.com/v2/assets/stac/collections/e3e8ecde-6328-4bb2-bf06-eeffcfcc0978",
            "rel": "collection",
            "type": "application/json"
           },
           {
            "href": "https://api.up42.com/v2/assets/stac/",
            "rel": "root",
            "type": "application/json"
           }
          ],
          "properties": {
           "constellation": "PHR",
           "datetime": "2022-03-18T11:24:06+00:00",
           "end_datetime": "2022-03-18T11:24:06+00:00",
           "eo:cloud_cover": "0",
           "gsd": "0.7562325080525973",
           "platform": "PHR-1B",
           "proj:epsg": "32629",
           "start_datetime": "2022-03-18T11:24:06+00:00",
           "style": {
            "dashArray": "9",
            "fillOpacity": "0.5",
            "opacity": "1",
            "weight": "1"
           },
           "title": "DS_PHR1B_202203181123290_FR1_PX_W009N38_0119_07844_R1C1",
           "up42-order:host_id": "9372ed63-982a-4003-9f90-e7a2fe10aab3",
           "up42-order:id": "8a2c9bc2-7878-45e6-92b4-81fa33d2fd9f",
           "up42-order:status": "FULFILLED",
           "up42-product:collection_name": "phr",
           "up42-product:data_type": "raster",
           "up42-product:modality": "multispectral",
           "up42-product:product_id": "4f1b2f62-98df-4c74-81f4-5dce45deee99",
           "up42-system:account_id": "3c86279b-610a-4dba-ad12-abe3bdc51428",
           "up42-system:asset_id": "630bd8cd-c4c2-4619-9a88-5b3421ffd1de",
           "up42-system:metadata_version": "0.0.4",
           "up42-system:source": "ARCHIVE",
           "up42-system:workspace_id": "d39fe05a-400c-44f6-b770-86990f64b004",
           "view:azimuth": "179.08569011330297",
           "view:incidence_angle": "18.141957311334412",
           "view:sun_azimuth": "150.26387457509006",
           "view:sun_elevation": "46.60727885283659"
          },
          "stac_extensions": [
           "https://stac-extensions.github.io/view/v1.0.0/schema.json",
           "https://api.up42.com/stac-extensions/up42-system/v1.0.0/schema.json",
           "https://api.up42.com/stac-extensions/up42-order/v1.0.0/schema.json",
           "https://stac-extensions.github.io/eo/v1.0.0/schema.json",
           "https://stac-extensions.github.io/projection/v1.0.0/schema.json",
           "https://api.up42.com/stac-extensions/up42-product/v1.0.0/schema.json"
          ],
          "stac_version": "1.0.0",
          "type": "Feature"
         },
         {
          "assets": {
           "data": {
            "description": "Storage Data",
            "href": "https://api.up42.com/v2/assets/828b2da8-b322-4e19-9abc-3917e0e36986",
            "roles": [
             "data"
            ],
            "title": "Data",
            "type": "application/zip"
           }
          },
          "bbox": [
           "-8.992222054150913",
           "38.46552423989927",
           "-8.968630844922524",
           "38.483829164081016"
          ],
          "collection": "fcb6de6f-7c47-4d59-bc7c-ec83d5af4d09",
          "geometry": {
           "coordinates": [
            [
             [
              "-8.970516192795307",
              "38.483829164081016"
             ],
             [
              "-8.969003136298957",
              "38.48288700320683"
             ],
             [
              "-8.968630844922524",
              "38.482111858604256"
             ],
             [
              "-8.968642327826503",
              "38.48207130696972"
             ],
             [
              "-8.969565423041054",
              "38.48174711275871"
             ],
             [
              "-8.969348067535785",
              "38.48060251189329"
             ],
             [
              "-8.97187629060627",
              "38.480166056393756"
             ],
             [
              "-8.97708711322504",
              "38.4802663253012"
             ],
             [
              "-8.981352415160988",
              "38.47907747662965"
             ],
             [
              "-8.981432678381337",
              "38.479041440729354"
             ],
             [
              "-8.984712266276473",
              "38.47600481509272"
             ],
             [
              "-8.982695061218294",
              "38.473814577442"
             ],
             [
              "-8.986891621124045",
              "38.469791186640876"
             ],
             [
              "-8.990422699558534",
              "38.46709688704083"
             ],
             [
              "-8.990164996618832",
              "38.46552423989927"
             ],
             [
              "-8.991964631241645",
              "38.4656190050795"
             ],
             [
              "-8.992222054150913",
              "38.47016566713853"
             ],
             [
              "-8.989779464974129",
              "38.47637035954537"
             ],
             [
              "-8.981065183212577",
              "38.4814115801504"
             ],
             [
              "-8.970516192795307",
              "38.483829164081016"
             ]
            ]
           ],
           "type": "Polygon"
          },
          "id": "36ecf578-eb19-4c7d-8ba2-c85d23b9af86",
          "links": [
           {
            "href": "https://api.up42.com/v2/assets/stac/collections/fcb6de6f-7c47-4d59-bc7c-ec83d5af4d09/items/36ecf578-eb19-4c7d-8ba2-c85d23b9af86",
            "rel": "self",
            "type": "application/geo+json"
           },
           {
            "href": "https://api.up42.com/v2/assets/stac/collections/fcb6de6f-7c47-4d59-bc7c-ec83d5af4d09",
            "rel": "parent",
            "type": "application/json"
           },
           {
            "href": "https://api.up42.com/v2/assets/stac/collections/fcb6de6f-7c47-4d59-bc7c-ec83d5af4d09",
            "rel": "collection",
            "type": "application/json"
           },
           {
            "href": "https://api.up42.com/v2/assets/stac/",
            "rel": "root",
            "type": "application/json"
           }
          ],
          "properties": {
           "constellation": "PHR",
           "datetime": "2022-03-18T11:24:06+00:00",
           "end_datetime": "2022-03-18T11:24:06+00:00",
           "eo:cloud_cover": "0",
           "gsd": "0.7562325080525973",
           "platform": "PHR-1B",
           "proj:epsg": "32629",
           "start_datetime": "2022-03-18T11:24:06+00:00",
           "style": {
            "dashArray": "9",
            "fillOpacity": "0.5",
            "opacity": "1",
            "weight": "1"
           },
           "title": "DS_PHR1B_202203181123290_FR1_PX_W009N38_0119_07844_R1C1",
           "up42-order:host_id": "d0c1f983-05dc-4bc9-8eba-f9f55a91d7b5",
           "up42-order:id": "d373da26-8a90-4c08-a745-a0dbf2857639",
           "up42-order:status": "FULFILLED",
           "up42-product:collection_name": "phr",
           "up42-product:data_type": "raster",
           "up42-product:modality": "multispectral",
           "up42-product:product_id": "4f1b2f62-98df-4c74-81f4-5dce45deee99",
           "up42-system:account_id": "3c86279b-610a-4dba-ad12-abe3bdc51428",
           "up42-system:asset_id": "828b2da8-b322-4e19-9abc-3917e0e36986",
           "up42-system:metadata_version": "0.0.4",
           "up42-system:source": "ARCHIVE",
           "up42-system:workspace_id": "d39fe05a-400c-44f6-b770-86990f64b004",
           "view:azimuth": "179.08569011330297",
           "view:incidence_angle": "18.141957311334412",
           "view:sun_azimuth": "150.26387457509006",
           "view:sun_elevation": "46.60727885283659"
          },
          "stac_extensions": [
           "https://api.up42.com/stac-extensions/up42-system/v1.0.0/schema.json",
           "https://api.up42.com/stac-extensions/up42-order/v1.0.0/schema.json",
           "https://stac-extensions.github.io/eo/v1.0.0/schema.json",
           "https://stac-extensions.github.io/view/v1.0.0/schema.json",
           "https://api.up42.com/stac-extensions/up42-product/v1.0.0/schema.json",
           "https://stac-extensions.github.io/projection/v1.0.0/schema.json"
          ],
          "stac_version": "1.0.0",
          "type": "Feature"
         },
         {
          "assets": {
           "data": {
            "description": "Storage Data",
            "href": "https://api.up42.com/v2/assets/f5080d5d-cb90-4cb5-9caf-b1e870865967",
            "roles": [
             "data"
            ],
            "title": "Data",
            "type": "application/zip"
           }
          },
          "bbox": [
           "-8.992222054150913",
           "38.46552423989927",
           "-8.968630844922524",
           "38.483829164081016"
          ],
          "collection": "8e113462-23cd-4516-bb70-fb6c63ba0cf4",
          "geometry": {
           "coordinates": [
            [
             [
              "-8.970516192795307",
              "38.483829164081016"
             ],
             [
              "-8.969003136298957",
              "38.48288700320683"
             ],
             [
              "-8.968630844922524",
              "38.482111858604256"
             ],
             [
              "-8.968642327826503",
              "38.48207130696972"
             ],
             [
              "-8.969565423041054",
              "38.48174711275871"
             ],
             [
              "-8.969348067535785",
              "38.48060251189329"
             ],
             [
              "-8.97187629060627",
              "38.480166056393756"
             ],
             [
              "-8.97708711322504",
              "38.4802663253012"
             ],
             [
              "-8.981352415160988",
              "38.47907747662965"
             ],
             [
              "-8.981432678381337",
              "38.479041440729354"
             ],
             [
              "-8.984712266276473",
              "38.47600481509272"
             ],
             [
              "-8.982695061218294",
              "38.473814577442"
             ],
             [
              "-8.986891621124045",
              "38.469791186640876"
             ],
             [
              "-8.990422699558534",
              "38.46709688704083"
             ],
             [
              "-8.990164996618832",
              "38.46552423989927"
             ],
             [
              "-8.991964631241645",
              "38.4656190050795"
             ],
             [
              "-8.992222054150913",
              "38.47016566713853"
             ],
             [
              "-8.989779464974129",
              "38.47637035954537"
             ],
             [
              "-8.981065183212577",
              "38.4814115801504"
             ],
             [
              "-8.970516192795307",
              "38.483829164081016"
             ]
            ]
           ],
           "type": "Polygon"
          },
          "id": "bd5ad586-4f1e-4228-9e63-9206fbe297fe",
          "links": [
           {
            "href": "https://api.up42.com/v2/assets/stac/collections/8e113462-23cd-4516-bb70-fb6c63ba0cf4/items/bd5ad586-4f1e-4228-9e63-9206fbe297fe",
            "rel": "self",
            "type": "application/geo+json"
           },
           {
            "href": "https://api.up42.com/v2/assets/stac/collections/8e113462-23cd-4516-bb70-fb6c63ba0cf4",
            "rel": "parent",
            "type": "application/json"
           },
           {
            "href": "https://api.up42.com/v2/assets/stac/collections/8e113462-23cd-4516-bb70-fb6c63ba0cf4",
            "rel": "collection",
            "type": "application/json"
           },
           {
            "href": "https://api.up42.com/v2/assets/stac/",
            "rel": "root",
            "type": "application/json"
           }
          ],
          "properties": {
           "constellation": "PHR",
           "datetime": "2022-09-09T11:28:49.600000+00:00",
           "end_datetime": "2022-09-09T11:28:49.600000+00:00",
           "eo:cloud_cover": "0",
           "gsd": "0.7138816774061343",
           "platform": "PHR-1B",
           "proj:epsg": "32629",
           "start_datetime": "2022-09-09T11:28:49.600000+00:00",
           "style": {
            "dashArray": "9",
            "fillOpacity": "0.5",
            "opacity": "1",
            "weight": "1"
           },
           "title": "DS_PHR1B_202209091128126_FR1_PX_W009N38_0111_01724_R1C1",
           "up42-order:host_id": "4d27e173-c628-4935-a583-37a68ac904cb",
           "up42-order:id": "f3b4d9fd-7504-49dc-8d13-abc56d021d16",
           "up42-order:status": "FULFILLED",
           "up42-product:collection_name": "phr",
           "up42-product:data_type": "raster",
           "up42-product:modality": "multispectral",
           "up42-product:product_id": "647780db-5a06-4b61-b525-577a8b68bb54",
           "up42-system:account_id": "3c86279b-610a-4dba-ad12-abe3bdc51428",
           "up42-system:asset_id": "f5080d5d-cb90-4cb5-9caf-b1e870865967",
           "up42-system:metadata_version": "0.0.4",
           "up42-system:source": "ARCHIVE",
           "up42-system:workspace_id": "d39fe05a-400c-44f6-b770-86990f64b004",
           "view:azimuth": "179.99787147104942",
           "view:incidence_angle": "8.344681400691485",
           "view:sun_azimuth": "152.20823252306252",
           "view:sun_elevation": "53.6725392907585"
          },
          "stac_extensions": [
           "https://stac-extensions.github.io/view/v1.0.0/schema.json",
           "https://api.up42.com/stac-extensions/up42-system/v1.0.0/schema.json",
           "https://api.up42.com/stac-extensions/up42-order/v1.0.0/schema.json",
           "https://stac-extensions.github.io/eo/v1.0.0/schema.json",
           "https://stac-extensions.github.io/projection/v1.0.0/schema.json",
           "https://api.up42.com/stac-extensions/up42-product/v1.0.0/schema.json"
          ],
          "stac_version": "1.0.0",
          "type": "Feature"
         },
         {
          "assets": {
           "data": {
            "description": "Storage Data",
            "href": "https://api.up42.com/v2/assets/fa438b5e-0903-4787-8958-45a376dd9b04",
            "roles": [
             "data"
            ],
            "title": "Data",
            "type": "application/zip"
           }
          },
          "bbox": [
           "-8.992222054150913",
           "38.46552423989927",
           "-8.968630844922524",
           "38.483829164081016"
          ],
          "collection": "5b6b32b9-41fc-4f68-9f56-40dcbdbd4263",
          "geometry": {
           "coordinates": [
            [
             [
              "-8.970516192795307",
              "38.483829164081016"
             ],
             [
              "-8.969003136298957",
              "38.48288700320683"
             ],
             [
              "-8.968630844922524",
              "38.482111858604256"
             ],
             [
              "-8.968642327826503",
              "38.48207130696972"
             ],
             [
              "-8.969565423041054",
              "38.48174711275871"
             ],
             [
              "-8.969348067535785",
              "38.48060251189329"
             ],
             [
              "-8.97187629060627",
              "38.480166056393756"
             ],
             [
              "-8.97708711322504",
              "38.4802663253012"
             ],
             [
              "-8.981352415160988",
              "38.47907747662965"
             ],
             [
              "-8.981432678381337",
              "38.479041440729354"
             ],
             [
              "-8.984712266276473",
              "38.47600481509272"
             ],
             [
              "-8.982695061218294",
              "38.473814577442"
             ],
             [
              "-8.986891621124045",
              "38.469791186640876"
             ],
             [
              "-8.990422699558534",
              "38.46709688704083"
             ],
             [
              "-8.990164996618832",
              "38.46552423989927"
             ],
             [
              "-8.991964631241645",
              "38.4656190050795"
             ],
             [
              "-8.992222054150913",
              "38.47016566713853"
             ],
             [
              "-8.989779464974129",
              "38.47637035954537"
             ],
             [
              "-8.981065183212577",
              "38.4814115801504"
             ],
             [
              "-8.970516192795307",
              "38.483829164081016"
             ]
            ]
           ],
           "type": "Polygon"
          },
          "id": "538091f8-4be7-404b-9936-97274be89fb3",
          "links": [
           {
            "href": "https://api.up42.com/v2/assets/stac/collections/5b6b32b9-41fc-4f68-9f56-40dcbdbd4263/items/538091f8-4be7-404b-9936-97274be89fb3",
            "rel": "self",
            "type": "application/geo+json"
           },
           {
            "href": "https://api.up42.com/v2/assets/stac/collections/5b6b32b9-41fc-4f68-9f56-40dcbdbd4263",
            "rel": "parent",
            "type": "application/json"
           },
           {
            "href": "https://api.up42.com/v2/assets/stac/collections/5b6b32b9-41fc-4f68-9f56-40dcbdbd4263",
            "rel": "collection",
            "type": "application/json"
           },
           {
            "href": "https://api.up42.com/v2/assets/stac/",
            "rel": "root",
            "type": "application/json"
           }
          ],
          "properties": {
           "constellation": "PHR",
           "datetime": "2022-03-18T11:24:06+00:00",
           "end_datetime": "2022-03-18T11:24:06+00:00",
           "eo:cloud_cover": "0",
           "gsd": "0.7562330339024197",
           "platform": "PHR-1B",
           "proj:epsg": "32629",
           "start_datetime": "2022-03-18T11:24:06+00:00",
           "style": {
            "dashArray": "9",
            "fillOpacity": "0.5",
            "opacity": "1",
            "weight": "1"
           },
           "title": "DS_PHR1B_202203181123290_FR1_PX_W009N38_0119_07844_R1C1",
           "up42-order:host_id": "dd866675-8c25-4766-8397-5ef8bc5cd2a5",
           "up42-order:id": "92ceac2c-a89f-4e66-9a8d-b20f336d8799",
           "up42-order:status": "FULFILLED",
           "up42-product:collection_name": "phr",
           "up42-product:data_type": "raster",
           "up42-product:modality": "multispectral",
           "up42-product:product_id": "4f1b2f62-98df-4c74-81f4-5dce45deee99",
           "up42-system:account_id": "3c86279b-610a-4dba-ad12-abe3bdc51428",
           "up42-system:asset_id": "fa438b5e-0903-4787-8958-45a376dd9b04",
           "up42-system:metadata_version": "0.0.4",
           "up42-system:source": "ARCHIVE",
           "up42-system:workspace_id": "d39fe05a-400c-44f6-b770-86990f64b004",
           "view:azimuth": "179.08567245519995",
           "view:incidence_angle": "18.141937286841305",
           "view:sun_azimuth": "150.26387449687402",
           "view:sun_elevation": "46.60727883013983"
          },
          "stac_extensions": [
           "https://api.up42.com/stac-extensions/up42-order/v1.0.0/schema.json",
           "https://stac-extensions.github.io/eo/v1.0.0/schema.json",
           "https://api.up42.com/stac-extensions/up42-system/v1.0.0/schema.json",
           "https://stac-extensions.github.io/view/v1.0.0/schema.json",
           "https://stac-extensions.github.io/projection/v1.0.0/schema.json",
           "https://api.up42.com/stac-extensions/up42-product/v1.0.0/schema.json"
          ],
          "stac_version": "1.0.0",
          "type": "Feature"
         },
         {
          "assets": {
           "data": {
            "description": "Storage Data",
            "href": "https://api.up42.com/v2/assets/666191ca-0f28-4f49-9bae-597865187eb1",
            "roles": [
             "data"
            ],
            "title": "Data",
            "type": "application/zip"
           }
          },
          "bbox": [
           "-8.992222054150913",
           "38.46552423989927",
           "-8.968630844922524",
           "38.483829164081016"
          ],
          "collection": "ab966c6c-72c7-4bbe-8d97-51832e0b3f6a",
          "geometry": {
           "coordinates": [
            [
             [
              "-8.970516192795307",
              "38.483829164081016"
             ],
             [
              "-8.969003136298957",
              "38.48288700320683"
             ],
             [
              "-8.968630844922524",
              "38.482111858604256"
             ],
             [
              "-8.968642327826503",
              "38.48207130696972"
             ],
             [
              "-8.969565423041054",
              "38.48174711275871"
             ],
             [
              "-8.969348067535785",
              "38.48060251189329"
             ],
             [
              "-8.97187629060627",
              "38.480166056393756"
             ],
             [
              "-8.97708711322504",
              "38.4802663253012"
             ],
             [
              "-8.981352415160988",
              "38.47907747662965"
             ],
             [
              "-8.981432678381337",
              "38.479041440729354"
             ],
             [
              "-8.984712266276473",
              "38.47600481509272"
             ],
             [
              "-8.982695061218294",
              "38.473814577442"
             ],
             [
              "-8.986891621124045",
              "38.469791186640876"
             ],
             [
              "-8.990422699558534",
              "38.46709688704083"
             ],
             [
              "-8.990164996618832",
              "38.46552423989927"
             ],
             [
              "-8.991964631241645",
              "38.4656190050795"
             ],
             [
              "-8.992222054150913",
              "38.47016566713853"
             ],
             [
              "-8.989779464974129",
              "38.47637035954537"
             ],
             [
              "-8.981065183212577",
              "38.4814115801504"
             ],
             [
              "-8.970516192795307",
              "38.483829164081016"
             ]
            ]
           ],
           "type": "Polygon"
          },
          "id": "466f5541-7298-46fd-ac69-7aeb34273867",
          "links": [
           {
            "href": "https://api.up42.com/v2/assets/stac/collections/ab966c6c-72c7-4bbe-8d97-51832e0b3f6a/items/466f5541-7298-46fd-ac69-7aeb34273867",
            "rel": "self",
            "type": "application/geo+json"
           },
           {
            "href": "https://api.up42.com/v2/assets/stac/collections/ab966c6c-72c7-4bbe-8d97-51832e0b3f6a",
            "rel": "parent",
            "type": "application/json"
           },
           {
            "href": "https://api.up42.com/v2/assets/stac/collections/ab966c6c-72c7-4bbe-8d97-51832e0b3f6a",
            "rel": "collection",
            "type": "application/json"
           },
           {
            "href": "https://api.up42.com/v2/assets/stac/",
            "rel": "root",
            "type": "application/json"
           }
          ],
          "properties": {
           "constellation": "PHR",
           "datetime": "2022-03-18T11:24:06+00:00",
           "end_datetime": "2022-03-18T11:24:06+00:00",
           "eo:cloud_cover": "0",
           "gsd": "0.7562325080525973",
           "platform": "PHR-1B",
           "proj:epsg": "32629",
           "start_datetime": "2022-03-18T11:24:06+00:00",
           "style": {
            "dashArray": "9",
            "fillOpacity": "0.5",
            "opacity": "1",
            "weight": "1"
           },
           "title": "DS_PHR1B_202203181123290_FR1_PX_W009N38_0119_07844_R1C1",
           "up42-order:host_id": "82660486-7908-4eba-a79d-386305cd4941",
           "up42-order:id": "694b65c8-6d3d-4aa8-b5d9-f42d525b5477",
           "up42-order:status": "FULFILLED",
           "up42-product:collection_name": "phr",
           "up42-product:data_type": "raster",
           "up42-product:modality": "multispectral",
           "up42-product:product_id": "4f1b2f62-98df-4c74-81f4-5dce45deee99",
           "up42-system:account_id": "3c86279b-610a-4dba-ad12-abe3bdc51428",
           "up42-system:asset_id": "666191ca-0f28-4f49-9bae-597865187eb1",
           "up42-system:metadata_version": "0.0.4",
           "up42-system:source": "ARCHIVE",
           "up42-system:workspace_id": "d39fe05a-400c-44f6-b770-86990f64b004",
           "view:azimuth": "179.08569011330297",
           "view:incidence_angle": "18.141957311334412",
           "view:sun_azimuth": "150.26387457509006",
           "view:sun_elevation": "46.60727885283659"
          },
          "stac_extensions": [
           "https://stac-extensions.github.io/projection/v1.0.0/schema.json",
           "https://api.up42.com/stac-extensions/up42-system/v1.0.0/schema.json",
           "https://stac-extensions.github.io/view/v1.0.0/schema.json",
           "https://stac-extensions.github.io/eo/v1.0.0/schema.json",
           "https://api.up42.com/stac-extensions/up42-order/v1.0.0/schema.json",
           "https://api.up42.com/stac-extensions/up42-product/v1.0.0/schema.json"
          ],
          "stac_version": "1.0.0",
          "type": "Feature"
         },
         {
          "assets": {
           "data": {
            "description": "Storage Data",
            "href": "https://api.up42.com/v2/assets/696f6b22-523a-4f57-a6a3-16efa5b1edb5",
            "roles": [
             "data"
            ],
            "title": "Data",
            "type": "application/zip"
           }
          },
          "bbox": [
           "-8.992222054150913",
           "38.46552423989927",
           "-8.968630844922524",
           "38.483829164081016"
          ],
          "collection": "2a1dfd20-deaf-4ce7-bc67-63c69ae55e7e",
          "geometry": {
           "coordinates": [
            [
             [
              "-8.970516192795307",
              "38.483829164081016"
             ],
             [
              "-8.969003136298957",
              "38.48288700320683"
             ],
             [
              "-8.968630844922524",
              "38.482111858604256"
             ],
             [
              "-8.968642327826503",
              "38.48207130696972"
             ],
             [
              "-8.969565423041054",
              "38.48174711275871"
             ],
             [
              "-8.969348067535785",
              "38.48060251189329"
             ],
             [
              "-8.97187629060627",
              "38.480166056393756"
             ],
             [
              "-8.97708711322504",
              "38.4802663253012"
             ],
             [
              "-8.981352415160988",
              "38.47907747662965"
             ],
             [
              "-8.981432678381337",
              "38.479041440729354"
             ],
             [
              "-8.984712266276473",
              "38.47600481509272"
             ],
             [
              "-8.982695061218294",
              "38.473814577442"
             ],
             [
              "-8.986891621124045",
              "38.469791186640876"
             ],
             [
              "-8.990422699558534",
              "38.46709688704083"
             ],
             [
              "-8.990164996618832",
              "38.46552423989927"
             ],
             [
              "-8.991964631241645",
              "38.4656190050795"
             ],
             [
              "-8.992222054150913",
              "38.47016566713853"
             ],
             [
              "-8.989779464974129",
              "38.47637035954537"
             ],
             [
              "-8.981065183212577",
              "38.4814115801504"
             ],
             [
              "-8.970516192795307",
              "38.483829164081016"
             ]
            ]
           ],
           "type": "Polygon"
          },
          "id": "c6148201-7f57-47d2-81b3-08024cf3fcac",
          "links": [
           {
            "href": "https://api.up42.com/v2/assets/stac/collections/2a1dfd20-deaf-4ce7-bc67-63c69ae55e7e/items/c6148201-7f57-47d2-81b3-08024cf3fcac",
            "rel": "self",
            "type": "application/geo+json"
           },
           {
            "href": "https://api.up42.com/v2/assets/stac/collections/2a1dfd20-deaf-4ce7-bc67-63c69ae55e7e",
            "rel": "parent",
            "type": "application/json"
           },
           {
            "href": "https://api.up42.com/v2/assets/stac/collections/2a1dfd20-deaf-4ce7-bc67-63c69ae55e7e",
            "rel": "collection",
            "type": "application/json"
           },
           {
            "href": "https://api.up42.com/v2/assets/stac/",
            "rel": "root",
            "type": "application/json"
           }
          ],
          "properties": {
           "constellation": "PHR",
           "datetime": "2022-03-18T11:24:06+00:00",
           "end_datetime": "2022-03-18T11:24:06+00:00",
           "eo:cloud_cover": "0",
           "gsd": "0.7562325080525973",
           "platform": "PHR-1B",
           "proj:epsg": "32629",
           "start_datetime": "2022-03-18T11:24:06+00:00",
           "style": {
            "dashArray": "9",
            "fillOpacity": "0.5",
            "opacity": "1",
            "weight": "1"
           },
           "title": "DS_PHR1B_202203181123290_FR1_PX_W009N38_0119_07844_R1C1",
           "up42-order:host_id": "89df2d1f-8b91-46c9-b89c-5457606066a4",
           "up42-order:id": "d28a249c-489b-4409-b939-dceb57d5b919",
           "up42-order:status": "FULFILLED",
           "up42-product:collection_name": "phr",
           "up42-product:data_type": "raster",
           "up42-product:modality": "multispectral",
           "up42-product:product_id": "4f1b2f62-98df-4c74-81f4-5dce45deee99",
           "up42-system:account_id": "3c86279b-610a-4dba-ad12-abe3bdc51428",
           "up42-system:asset_id": "696f6b22-523a-4f57-a6a3-16efa5b1edb5",
           "up42-system:metadata_version": "0.0.4",
           "up42-system:source": "ARCHIVE",
           "up42-system:workspace_id": "d39fe05a-400c-44f6-b770-86990f64b004",
           "view:azimuth": "179.08569011330297",
           "view:incidence_angle": "18.141957311334412",
           "view:sun_azimuth": "150.26387457509006",
           "view:sun_elevation": "46.60727885283659"
          },
          "stac_extensions": [
           "https://stac-extensions.github.io/view/v1.0.0/schema.json",
           "https://api.up42.com/stac-extensions/up42-system/v1.0.0/schema.json",
           "https://api.up42.com/stac-extensions/up42-order/v1.0.0/schema.json",
           "https://stac-extensions.github.io/eo/v1.0.0/schema.json",
           "https://stac-extensions.github.io/projection/v1.0.0/schema.json",
           "https://api.up42.com/stac-extensions/up42-product/v1.0.0/schema.json"
          ],
          "stac_version": "1.0.0",
          "type": "Feature"
         }
        ],
        "links": [
         {
          "href": "https://api.up42.com/v2/assets/stac/",
          "rel": "root",
          "type": "application/json"
         },
         {
          "href": "https://api.up42.com/v2/assets/stac/",
          "rel": "parent",
          "type": "application/json"
         },
         {
          "href": "https://api.up42.com/v2/assets/stac/search",
          "rel": "self",
          "type": "application/json"
         }
        ],
        "type": "FeatureCollection"
       },
       "hover_style": {
        "color": "yellow",
        "dashArray": "0",
        "fillOpacity": "0.5"
       },
       "layers": [],
       "name": "",
       "options": [],
       "pane": "",
       "point_style": {},
       "popup": "",
       "popup_max_height": "",
       "popup_max_width": "300",
       "popup_min_width": "50",
       "style": {
        "dashArray": "9",
        "fillOpacity": "0.5",
        "opacity": "1",
        "weight": "1"
       },
       "subitems": [],
       "visible": true
      }
     },
     "bcded1d36b764bc0b16bc16383488c91": {
      "model_module": "jupyter-leaflet",
      "model_module_version": "^0.17",
      "model_name": "LeafletMapStyleModel",
      "state": {
       "_model_module": "jupyter-leaflet",
       "_model_module_version": "^0.17",
       "_model_name": "LeafletMapStyleModel",
       "_view_count": "",
       "_view_module": "@jupyter-widgets/base",
       "_view_module_version": "2.0.0",
       "_view_name": "StyleView",
       "cursor": "grab"
      }
     },
     "bee875a5f79a4cbc85785380166510a6": {
      "model_module": "jupyter-leaflet",
      "model_module_version": "^0.17",
      "model_name": "LeafletMapStyleModel",
      "state": {
       "_model_module": "jupyter-leaflet",
       "_model_module_version": "^0.17",
       "_model_name": "LeafletMapStyleModel",
       "_view_count": "",
       "_view_module": "@jupyter-widgets/base",
       "_view_module_version": "2.0.0",
       "_view_name": "StyleView",
       "cursor": "grab"
      }
     },
     "c098536c3db44fda971fcdccbcbde083": {
      "model_module": "@jupyter-widgets/base",
      "model_module_version": "2.0.0",
      "model_name": "LayoutModel",
      "state": {
       "_model_module": "@jupyter-widgets/base",
       "_model_module_version": "2.0.0",
       "_model_name": "LayoutModel",
       "_view_count": "",
       "_view_module": "@jupyter-widgets/base",
       "_view_module_version": "2.0.0",
       "_view_name": "LayoutView",
       "align_content": "",
       "align_items": "",
       "align_self": "",
       "border_bottom": "",
       "border_left": "",
       "border_right": "",
       "border_top": "",
       "bottom": "",
       "display": "",
       "flex": "",
       "flex_flow": "",
       "grid_area": "",
       "grid_auto_columns": "",
       "grid_auto_flow": "",
       "grid_auto_rows": "",
       "grid_column": "",
       "grid_gap": "",
       "grid_row": "",
       "grid_template_areas": "",
       "grid_template_columns": "",
       "grid_template_rows": "",
       "height": "",
       "justify_content": "",
       "justify_items": "",
       "left": "",
       "margin": "",
       "max_height": "",
       "max_width": "",
       "min_height": "",
       "min_width": "",
       "object_fit": "",
       "object_position": "",
       "order": "",
       "overflow": "",
       "padding": "",
       "right": "",
       "top": "",
       "visibility": "",
       "width": ""
      }
     },
     "c36029b98eb443138a9aca75392e6ac7": {
      "model_module": "jupyter-leaflet",
      "model_module_version": "^0.17",
      "model_name": "LeafletZoomControlModel",
      "state": {
       "_model_module": "jupyter-leaflet",
       "_model_module_version": "^0.17",
       "_model_name": "LeafletZoomControlModel",
       "_view_count": "",
       "_view_module": "jupyter-leaflet",
       "_view_module_version": "^0.17",
       "_view_name": "LeafletZoomControlView",
       "options": [
        "position",
        "zoom_in_text",
        "zoom_in_title",
        "zoom_out_text",
        "zoom_out_title"
       ],
       "position": "topleft",
       "zoom_in_text": "+",
       "zoom_in_title": "Zoom in",
       "zoom_out_text": "-",
       "zoom_out_title": "Zoom out"
      }
     },
     "c4cad664c8c44398b810a4cd414f0ba2": {
      "model_module": "jupyter-leaflet",
      "model_module_version": "^0.17",
      "model_name": "LeafletMapStyleModel",
      "state": {
       "_model_module": "jupyter-leaflet",
       "_model_module_version": "^0.17",
       "_model_name": "LeafletMapStyleModel",
       "_view_count": "",
       "_view_module": "@jupyter-widgets/base",
       "_view_module_version": "2.0.0",
       "_view_name": "StyleView",
       "cursor": "grab"
      }
     },
     "d76ca4535a404fc1b4b8834eef336f66": {
      "model_module": "jupyter-leaflet",
      "model_module_version": "^0.17",
      "model_name": "LeafletMapModel",
      "state": {
       "_dom_classes": [],
       "_model_module": "jupyter-leaflet",
       "_model_module_version": "^0.17",
       "_model_name": "LeafletMapModel",
       "_view_count": "",
       "_view_module": "jupyter-leaflet",
       "_view_module_version": "^0.17",
       "_view_name": "LeafletMapView",
       "bottom": "0",
       "bounce_at_zoom_limits": true,
       "box_zoom": true,
       "center": [
        "39.67809052275443",
        "-8.115254781697322"
       ],
       "close_popup_on_click": true,
       "controls": [
        "IPY_MODEL_08f44d50ab324ef5aff788238a2a18bf",
        "IPY_MODEL_98df9f8d51264e4592b41db46a04cfba"
       ],
       "crs": {
        "custom": false,
        "name": "EPSG3857"
       },
       "default_style": "IPY_MODEL_e798faef9e194d94894de2f3f6a3b0a1",
       "double_click_zoom": true,
       "dragging": true,
       "dragging_style": "IPY_MODEL_7104cf5f64ba461ab3ef22e3a5ef2fcd",
       "east": "0",
       "fullscreen": false,
       "inertia": true,
       "inertia_deceleration": "3000",
       "inertia_max_speed": "1500",
       "interpolation": "bilinear",
       "keyboard": true,
       "keyboard_pan_offset": "80",
       "keyboard_zoom_offset": "1",
       "layers": [
        "IPY_MODEL_8882060434ee4ab18f66fec5d4c8a96f",
        "IPY_MODEL_28efede0d17c4edf878602aa2cd84257",
        "IPY_MODEL_99a0854981734f468109bc01bbbf133d",
        "IPY_MODEL_5a5b4b63696a466c9dfd693589f2af2d"
       ],
       "layout": "IPY_MODEL_c098536c3db44fda971fcdccbcbde083",
       "left": "9007199254740991",
       "max_zoom": "",
       "min_zoom": "",
       "modisdate": "2023-04-12",
       "north": "0",
       "options": [
        "bounce_at_zoom_limits",
        "box_zoom",
        "center",
        "close_popup_on_click",
        "double_click_zoom",
        "dragging",
        "fullscreen",
        "inertia",
        "inertia_deceleration",
        "inertia_max_speed",
        "interpolation",
        "keyboard",
        "keyboard_pan_offset",
        "keyboard_zoom_offset",
        "max_zoom",
        "min_zoom",
        "prefer_canvas",
        "scroll_wheel_zoom",
        "tap",
        "tap_tolerance",
        "touch_zoom",
        "world_copy_jump",
        "zoom",
        "zoom_animation_threshold",
        "zoom_delta",
        "zoom_snap"
       ],
       "panes": {},
       "prefer_canvas": false,
       "right": "0",
       "scroll_wheel_zoom": false,
       "south": "0",
       "style": "IPY_MODEL_22d6850f170e452a8ec30b5ab696efc1",
       "tabbable": "",
       "tap": true,
       "tap_tolerance": "15",
       "tooltip": "",
       "top": "9007199254740991",
       "touch_zoom": true,
       "west": "0",
       "window_url": "",
       "world_copy_jump": false,
       "zoom": "6",
       "zoom_animation_threshold": "4",
       "zoom_delta": "1",
       "zoom_snap": "1"
      }
     },
     "e54412a466a342e882e315eaffaee57b": {
      "model_module": "jupyter-leaflet",
      "model_module_version": "^0.17",
      "model_name": "LeafletAwesomeIconModel",
      "state": {
       "_model_module": "jupyter-leaflet",
       "_model_module_version": "^0.17",
       "_model_name": "LeafletAwesomeIconModel",
       "_view_count": "",
       "_view_module": "jupyter-leaflet",
       "_view_module_version": "^0.17",
       "_view_name": "LeafletAwesomeIconView",
       "base": false,
       "bottom": false,
       "icon_color": "white",
       "marker_color": "blue",
       "name": "close",
       "options": [],
       "pane": "",
       "popup": "",
       "popup_max_height": "",
       "popup_max_width": "300",
       "popup_min_width": "50",
       "spin": false,
       "subitems": []
      }
     },
     "e798faef9e194d94894de2f3f6a3b0a1": {
      "model_module": "jupyter-leaflet",
      "model_module_version": "^0.17",
      "model_name": "LeafletMapStyleModel",
      "state": {
       "_model_module": "jupyter-leaflet",
       "_model_module_version": "^0.17",
       "_model_name": "LeafletMapStyleModel",
       "_view_count": "",
       "_view_module": "@jupyter-widgets/base",
       "_view_module_version": "2.0.0",
       "_view_name": "StyleView",
       "cursor": "grab"
      }
     },
     "ebcae819069a476ba3b1f761664a8bb0": {
      "model_module": "jupyter-leaflet",
      "model_module_version": "^0.17",
      "model_name": "LeafletZoomControlModel",
      "state": {
       "_model_module": "jupyter-leaflet",
       "_model_module_version": "^0.17",
       "_model_name": "LeafletZoomControlModel",
       "_view_count": "",
       "_view_module": "jupyter-leaflet",
       "_view_module_version": "^0.17",
       "_view_name": "LeafletZoomControlView",
       "options": [
        "position",
        "zoom_in_text",
        "zoom_in_title",
        "zoom_out_text",
        "zoom_out_title"
       ],
       "position": "topleft",
       "zoom_in_text": "+",
       "zoom_in_title": "Zoom in",
       "zoom_out_text": "-",
       "zoom_out_title": "Zoom out"
      }
     },
     "ed16e5e16c7447a4a9d75a5fa7943265": {
      "model_module": "jupyter-leaflet",
      "model_module_version": "^0.17",
      "model_name": "LeafletGeoJSONModel",
      "state": {
       "_model_module": "jupyter-leaflet",
       "_model_module_version": "^0.17",
       "_model_name": "LeafletGeoJSONModel",
       "_view_count": "",
       "_view_module": "jupyter-leaflet",
       "_view_module_version": "^0.17",
       "_view_name": "LeafletGeoJSONView",
       "base": false,
       "bottom": false,
       "data": {
        "features": [
         {
          "geometry": {
           "coordinates": [
            [
             [
              "-9.52171458613654",
              "36.853921776429516"
             ],
             [
              "-7.1631974367996065",
              "36.82161569679076"
             ],
             [
              "-5.996066469639629",
              "42.04883107989275"
             ],
             [
              "-9.841226786721336",
              "42.14603469432703"
             ],
             [
              "-9.52171458613654",
              "36.853921776429516"
             ]
            ]
           ],
           "type": "Polygon"
          },
          "properties": {
           "style": {
            "dashArray": "9",
            "fillOpacity": "0.5",
            "opacity": "1",
            "weight": "1"
           }
          },
          "type": "Feature"
         }
        ],
        "type": "FeatureCollection"
       },
       "hover_style": {
        "color": "yellow",
        "dashArray": "0",
        "fillOpacity": "0.5"
       },
       "layers": [],
       "name": "",
       "options": [],
       "pane": "",
       "point_style": {},
       "popup": "",
       "popup_max_height": "",
       "popup_max_width": "300",
       "popup_min_width": "50",
       "style": {
        "dashArray": "9",
        "fillOpacity": "0.5",
        "opacity": "1",
        "weight": "1"
       },
       "subitems": [],
       "visible": true
      }
     },
     "eeb1485e96ed4193b81187de4fa33e1d": {
      "model_module": "jupyter-leaflet",
      "model_module_version": "^0.17",
      "model_name": "LeafletMapStyleModel",
      "state": {
       "_model_module": "jupyter-leaflet",
       "_model_module_version": "^0.17",
       "_model_name": "LeafletMapStyleModel",
       "_view_count": "",
       "_view_module": "@jupyter-widgets/base",
       "_view_module_version": "2.0.0",
       "_view_name": "StyleView",
       "cursor": "move"
      }
     },
     "fdc0e4df18b64fff907c3b4a1644caee": {
      "model_module": "jupyter-leaflet",
      "model_module_version": "^0.17",
      "model_name": "LeafletAwesomeIconModel",
      "state": {
       "_model_module": "jupyter-leaflet",
       "_model_module_version": "^0.17",
       "_model_name": "LeafletAwesomeIconModel",
       "_view_count": "",
       "_view_module": "jupyter-leaflet",
       "_view_module_version": "^0.17",
       "_view_name": "LeafletAwesomeIconView",
       "base": false,
       "bottom": false,
       "icon_color": "white",
       "marker_color": "blue",
       "name": "close",
       "options": [],
       "pane": "",
       "popup": "",
       "popup_max_height": "",
       "popup_max_width": "300",
       "popup_min_width": "50",
       "spin": false,
       "subitems": []
      }
     },
     "fff1f66b388e48508af09750a558f1a2": {
      "model_module": "jupyter-leaflet",
      "model_module_version": "^0.17",
      "model_name": "LeafletZoomControlModel",
      "state": {
       "_model_module": "jupyter-leaflet",
       "_model_module_version": "^0.17",
       "_model_name": "LeafletZoomControlModel",
       "_view_count": "",
       "_view_module": "jupyter-leaflet",
       "_view_module_version": "^0.17",
       "_view_name": "LeafletZoomControlView",
       "options": [
        "position",
        "zoom_in_text",
        "zoom_in_title",
        "zoom_out_text",
        "zoom_out_title"
       ],
       "position": "topleft",
       "zoom_in_text": "+",
       "zoom_in_title": "Zoom in",
       "zoom_out_text": "-",
       "zoom_out_title": "Zoom out"
      }
     }
    },
    "version_major": "2",
    "version_minor": "0"
   }
  }
 },
 "nbformat": 4,
 "nbformat_minor": 5
}
