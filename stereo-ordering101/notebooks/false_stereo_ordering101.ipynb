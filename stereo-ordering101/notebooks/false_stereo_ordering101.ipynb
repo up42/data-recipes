{
 "cells": [
  {
   "cell_type": "markdown",
   "id": "5151b2bf-e6e3-4a02-990f-643db136d7fd",
   "metadata": {},
   "source": [
    "# Searching for real and false stereo\n",
    "\n",
    "Building on a [previous](https://up42.com/blog/tech/data-ordering101) article, this notebook provides a recipe for searching and ordering sterero data from UP42 using the UP42 [Python SDK](https://sdk.up42.com).\n",
    "\n",
    " 1. Nutshell definition of what stereo/tristereo is.  \n",
    " 2. Search for stereo/tristereo.\n",
    " 3. Order stereo/tristereo.\n",
    " 4. Get a webhook notification for the order delivery.\n",
    "\n",
    "**N.B.**: Make sure you are using an SDK version **$\\ge$ 0.23.0**. This is the version where support for data products was introduced."
   ]
  },
  {
   "cell_type": "markdown",
   "id": "9f7e9f44-f52d-48ac-b6e9-f3b5df7206ad",
   "metadata": {},
   "source": [
    "# Installing the UP42 Python SDK\n",
    "\n",
    "The module is called `up42`. Python **>= 3.8** is **required**.\n",
    "\n",
    " 1. Create a virtual environment.\n",
    "```bash\n",
    " mkvirtualenv --python=$(which python3) up42-py\n",
    "```\n",
    " 2. Activate the environment.\n",
    "```bash\n",
    " workon up42-py\n",
    "```\n",
    " 3. Install the module.\n",
    " ```bash\n",
    " pip install up42-py\n",
    " ```\n",
    " 4. Install Jupyter Lab.\n",
    "```bash\n",
    " pip install jupyterlab\n",
    " ```\n",
    " 5. Done.\n",
    " \n",
    "Now we can just import it."
   ]
  },
  {
   "cell_type": "markdown",
   "id": "92116ea2-c957-45fe-bef9-70de0312fd37",
   "metadata": {},
   "source": [
    "## Convenience function(s)\n",
    "\n",
    "Just to make JSON more readable."
   ]
  },
  {
   "cell_type": "code",
   "execution_count": 24,
   "id": "794c840c-f9ae-4b89-84a3-eff9267606d7",
   "metadata": {
    "tags": []
   },
   "outputs": [],
   "source": [
    "from IPython.display import JSON, DisplayObject\n",
    "\n",
    "def ppjson(json_data: dict, expand:bool=False) -> DisplayObject:\n",
    "    \"\"\"Pretty print JSON data.\"\"\"\n",
    "    return JSON(json_data, expanded=expand)"
   ]
  },
  {
   "cell_type": "code",
   "execution_count": 1,
   "id": "a53ac7b1-6b68-4d9a-985b-eef296881487",
   "metadata": {},
   "outputs": [],
   "source": [
    "import up42"
   ]
  },
  {
   "cell_type": "markdown",
   "id": "a33e3493-f6f9-4a17-a5d3-e4135984f32f",
   "metadata": {},
   "source": [
    "## Authenticate with project ID and project key\n",
    "The project API key and the project ID are read from a JSON file. This file has the following structure:\n",
    "```\n",
    "{\n",
    "  \"project_id\": \"<your-project-ID-here>\",\n",
    "  \"project_api_key\": \"<your-api-key-here>\"\n",
    "}\n",
    "```\n",
    "To find out how to obtain the project API key and project ID the please refer to the [documentation](https://docs.up42.com/processing-platform/projects#developers)\n",
    "\n",
    "Reading the credentials from the JSON file `~/.up42/proj_default.json`."
   ]
  },
  {
   "cell_type": "code",
   "execution_count": 2,
   "id": "00b94e55-ebc2-4e2f-ae0c-9565b1bdfe67",
   "metadata": {
    "tags": []
   },
   "outputs": [
    {
     "name": "stderr",
     "output_type": "stream",
     "text": [
      "2023-06-25 18:07:56,355 - Got credentials from config file.\n",
      "2023-06-25 18:07:57,140 - Authentication with UP42 successful!\n"
     ]
    }
   ],
   "source": [
    "from pathlib import Path\n",
    "\n",
    "project_config_file = Path.home() / \".up42\" / \"proj_default.json\"\n",
    "up42.authenticate(cfg_file=project_config_file)"
   ]
  },
  {
   "cell_type": "markdown",
   "id": "1170f4d0-bf31-4afb-9cff-12eb4d92abb4",
   "metadata": {},
   "source": [
    "## Stereo and Tristereo in a nutshell\n",
    "\n",
    "### Stereo basic concept\n",
    "\n",
    "**Stereo** in the context of satellite imaging refers to the technique of doing two (or three for tristereo) image captures that are shifted by a certain angle among them over a given scene. The value of this shift determines the level of detail that can be reconstructed from combining the two images. Usually these images are used to create, for example, Digital Elevation Models (DEMs), since the two images when properly combined provide _depth_ information, the relief of the scene being imaged can be determined up to a certain degree of certainty.\n",
    "\n",
    "### Tristereo basic concept\n",
    "\n",
    "**Tristereo** adds a third image that is captured **midway** between the two extreme positions of a stereo capture. This corresponds to the satellite being vertically aligned with the scene being imaged. The third photo provides additional detail, including making visible relief details that would be hidden when the photo is taken obliquely, which is the case for stereo.\n",
    "\n",
    "### Satellite orbits and stereo capture\n",
    "\n",
    "In this notebook, and in fact for most _modern_ earth observation satellites, these two (ot three) image captures are done in a single orbit pass, be it ascending or descending. This is called **along-track** stereo/tristereo."
   ]
  },
  {
   "cell_type": "markdown",
   "id": "09bfd4a2-7d2b-4976-9fdc-0f85a403c212",
   "metadata": {},
   "source": [
    "## Searching for stero/tristero data\n",
    "\n",
    "### AOI definition\n",
    "\n",
    "We now look for existing stereo/tristereo data in the region we are interested in. The AOI is defined via a GeoJSON file in the `examples` directory. Let us use [ipyleaflet](https://ipyleaflet.readthedocs.io/) to visualize it.\n",
    "\n",
    "We are going to look into to two different AOIs:\n",
    "\n",
    " 1. To look for SPOT 6/7 stereo image sets.\n",
    " 2. To look for Pléiades 1A/1B tristereo image sets.\n",
    "\n",
    "Let us start with the stereo image set."
   ]
  },
  {
   "cell_type": "code",
   "execution_count": 3,
   "id": "26d4b8cd-bb72-4877-9fe4-a4badd58bab9",
   "metadata": {},
   "outputs": [],
   "source": [
    "from ipyleaflet import Map, GeoJSON"
   ]
  },
  {
   "cell_type": "code",
   "execution_count": 4,
   "id": "ba22f073-77bf-4fe5-a5f9-87794508b17b",
   "metadata": {},
   "outputs": [],
   "source": [
    "# Path to the AOI GeoJSON.\n",
    "path2aoi = \"../examples/chuquicamata.geojson\""
   ]
  },
  {
   "cell_type": "code",
   "execution_count": 5,
   "id": "59e5ba1e-8b3b-4e6a-b8b2-93f797e7dfc9",
   "metadata": {},
   "outputs": [],
   "source": [
    "import json\n",
    "\n",
    "with open(path2aoi, \"r\") as f:\n",
    "    aoi_map = json.load(f)"
   ]
  },
  {
   "cell_type": "code",
   "execution_count": 7,
   "id": "b9a1f3e3-5d9a-4867-8392-41492f2617b7",
   "metadata": {
    "tags": []
   },
   "outputs": [
    {
     "name": "stdout",
     "output_type": "stream",
     "text": [
      "Collecting toolz\n",
      "  Using cached toolz-0.12.0-py3-none-any.whl (55 kB)\n",
      "Installing collected packages: toolz\n",
      "Successfully installed toolz-0.12.0\n",
      "\n",
      "\u001b[1m[\u001b[0m\u001b[34;49mnotice\u001b[0m\u001b[1;39;49m]\u001b[0m\u001b[39;49m A new release of pip is available: \u001b[0m\u001b[31;49m23.0\u001b[0m\u001b[39;49m -> \u001b[0m\u001b[32;49m23.1.2\u001b[0m\n",
      "\u001b[1m[\u001b[0m\u001b[34;49mnotice\u001b[0m\u001b[1;39;49m]\u001b[0m\u001b[39;49m To update, run: \u001b[0m\u001b[32;49mpip install --upgrade pip\u001b[0m\n",
      "Note: you may need to restart the kernel to use updated packages.\n"
     ]
    }
   ],
   "source": [
    "%pip install toolz"
   ]
  },
  {
   "cell_type": "code",
   "execution_count": 8,
   "id": "630f6b29-24b3-467b-b957-7276f66eb288",
   "metadata": {
    "tags": []
   },
   "outputs": [],
   "source": [
    "from toolz.dicttoolz import get_in"
   ]
  },
  {
   "cell_type": "code",
   "execution_count": 10,
   "id": "2c02c00b-387e-4271-82a8-cd412f54c5a9",
   "metadata": {
    "tags": []
   },
   "outputs": [],
   "source": [
    "from shapely.geometry import shape"
   ]
  },
  {
   "cell_type": "code",
   "execution_count": 13,
   "id": "2f19ac8c-942c-48c6-9e46-5a2ff6b47ce0",
   "metadata": {
    "tags": []
   },
   "outputs": [],
   "source": [
    "aoi_map_shape = shape(get_in([\"features\", 0, \"geometry\"], aoi_map))"
   ]
  },
  {
   "cell_type": "code",
   "execution_count": 20,
   "id": "79b63949-1e49-4a9d-813d-acabc3394f8f",
   "metadata": {
    "tags": []
   },
   "outputs": [],
   "source": [
    "map_center = aoi_map_shape.centroid.coords[0][::-1]"
   ]
  },
  {
   "cell_type": "code",
   "execution_count": 21,
   "id": "40730b90-2a0c-4a33-9704-40e64c15fcda",
   "metadata": {},
   "outputs": [
    {
     "data": {
      "application/vnd.jupyter.widget-view+json": {
       "model_id": "9d8caa73e8424a1f83c7fd09ddb964a7",
       "version_major": 2,
       "version_minor": 0
      },
      "text/plain": [
       "Map(center=[-22.33093995821105, -68.90701304941625], controls=(ZoomControl(options=['position', 'zoom_in_text'…"
      ]
     },
     "execution_count": 21,
     "metadata": {},
     "output_type": "execute_result"
    }
   ],
   "source": [
    "mymap = Map(center=map_center, zoom=14)\n",
    "\n",
    "# Add the AOI to the map. First style it and then add it.\n",
    "aoi_layer = GeoJSON(\n",
    "    data=aoi_map,\n",
    "    style={\"opacity\": 1, \"dashArray\": \"9\", \"fillOpacity\": 0.5, \"weight\": 1},\n",
    "    hover_style={\"color\": \"yellow\", \"dashArray\": \"0\", \"fillOpacity\": 0.5},\n",
    ")\n",
    "mymap.add_layer(aoi_layer)\n",
    "mymap"
   ]
  },
  {
   "cell_type": "markdown",
   "id": "4ed59341-29a6-40ba-bcb3-451b15bba4bc",
   "metadata": {},
   "source": [
    "### Searching for data in the catalog\n",
    "We need to instantiate a catalog object and perform a search."
   ]
  },
  {
   "cell_type": "code",
   "execution_count": 22,
   "id": "73f67771-d6b0-44b7-9144-d676fee80651",
   "metadata": {},
   "outputs": [],
   "source": [
    "catalog = up42.initialize_catalog()"
   ]
  },
  {
   "cell_type": "markdown",
   "id": "ec9ba242-4642-4e99-adf3-693888711896",
   "metadata": {},
   "source": [
    "#### Getting the display product ID\n",
    "\n",
    "Before performing the search we need to select the data product we are interested in. In this case we are interested in a display product of a Pléiades image. The data product we want is not necessary for the search itself, but we do it now so that the ordering flow stays simple. Since we do the data product selection at the outset and not after performing the search. This reproduces the usual actions of having the product specified before hand and then performing the search."
   ]
  },
  {
   "cell_type": "code",
   "execution_count": 25,
   "id": "f605fbae-f3a6-4770-9e71-2fb17673fdab",
   "metadata": {
    "tags": []
   },
   "outputs": [
    {
     "data": {
      "application/json": {
       "Capella Space GEC": {
        "collection": "capella-gec",
        "data_products": {
         "Full Scene": "96072809-d820-4cf9-86dd-d3bff3337c35"
        },
        "host": "capellaspace"
       },
       "Capella Space GEO": {
        "collection": "capella-geo",
        "data_products": {
         "Full Scene": "d66facaa-533f-49a2-849a-c2910ac9dd31"
        },
        "host": "capellaspace"
       },
       "Capella Space SICD": {
        "collection": "capella-sicd",
        "data_products": {
         "Full Scene": "8b0aed07-c565-4bf9-b719-401e692de4a6"
        },
        "host": "capellaspace"
       },
       "Capella Space SLC": {
        "collection": "capella-slc",
        "data_products": {
         "Full Scene": "1f2b0d7f-d3e2-4b3d-96b7-e7c184df7952"
        },
        "host": "capellaspace"
       },
       "Hexagon — Europe 30 cm": {
        "collection": "hexagon-eu-30cm",
        "data_products": {
         "Hexagon — Europe 30 cm": "522262d1-5ae5-4da3-8872-181aaafb9820"
        },
        "host": "hexagon"
       },
       "Hexagon — North America 15 cm": {
        "collection": "hexagon-na-15cm",
        "data_products": {
         "Hexagon — North America 15 cm": "aba5216d-1876-4170-8ab7-10627bddbc9c"
        },
        "host": "hexagon"
       },
       "Hexagon — North America 30 cm": {
        "collection": "hexagon-na-30cm",
        "data_products": {
         "Hexagon — North America 30 cm": "8acca1de-0ed8-4a8d-987e-e1479cf63140"
        },
        "host": "hexagon"
       },
       "NEXTMap 10 Bundle": {
        "collection": "nextmap10-bundle",
        "data_products": {
         "Intermap": "0253307a-0377-4cd4-bd1c-93ec06ba7f4a"
        },
        "host": "intermap"
       },
       "NEXTMap 10 DSM": {
        "collection": "nextmap10-dsm",
        "data_products": {
         "Intermap": "5a484ba9-b2b9-4385-a066-0f6d28f6ad8f"
        },
        "host": "intermap"
       },
       "NEXTMap 10 DTM": {
        "collection": "nextmap10-dtm",
        "data_products": {
         "Intermap": "5908c45d-dd41-4fd2-b38f-759f23d25ebf"
        },
        "host": "intermap"
       },
       "NEXTMap 6 Bundle": {
        "collection": "nextmap6-bundle",
        "data_products": {
         "Intermap": "ca213436-c8cf-42a9-a4a2-04eb2fa7c9d6"
        },
        "host": "intermap"
       },
       "NEXTMap 6 DSM": {
        "collection": "nextmap6-dsm",
        "data_products": {
         "Intermap": "93f2014d-b34e-411a-9688-33e084190b68"
        },
        "host": "intermap"
       },
       "NEXTMap 6 DTM": {
        "collection": "nextmap6-dtm",
        "data_products": {
         "Intermap": "337c01f4-d71a-4f2f-8aee-d21431565893"
        },
        "host": "intermap"
       },
       "NEXTMap One Bundle": {
        "collection": "nextmapone-bundle",
        "data_products": {
         "Intermap": "776cadc2-ccb7-4ca4-8077-fc679bf8376a"
        },
        "host": "intermap"
       },
       "NEXTMap One DSM": {
        "collection": "nextmapone-dsm",
        "data_products": {
         "Intermap": "228eb747-2b8b-4f56-8ade-2efd844d3792"
        },
        "host": "intermap"
       },
       "NEXTMap One DTM": {
        "collection": "nextmapone-dtm",
        "data_products": {
         "Intermap": "da146ac4-7000-4d59-b488-3633f11b6cb8"
        },
        "host": "intermap"
       },
       "Near Space Labs": {
        "collection": "nsl-30cm",
        "data_products": {
         "Display Full Scene": "7131f727-cdbb-46d4-a1e7-77ac38b7bd02"
        },
        "host": "nearspacelabs"
       },
       "Pléiades": {
        "collection": "phr",
        "data_products": {
         "Analytic": "4f1b2f62-98df-4c74-81f4-5dce45deee99",
         "Display": "647780db-5a06-4b61-b525-577a8b68bb54"
        },
        "host": "oneatlas"
       },
       "Pléiades Neo": {
        "collection": "pneo",
        "data_products": {
         "Analytic": "6f722fb5-0323-4c97-9b1e-22870325b8db",
         "Display": "17745de8-6e7d-4751-99cd-3f8e9e9d290e"
        },
        "host": "oneatlas"
       },
       "SPOT": {
        "collection": "spot",
        "data_products": {
         "Analytic": "b1f8c48e-d16b-44c4-a1bb-5e8a24892e69",
         "Display": "acc3f9a4-b622-49c1-b1e1-c762aa3e7e13"
        },
        "host": "oneatlas"
       },
       "Sentinel-2": {
        "collection": "sentinel-2",
        "data_products": {
         "Level-2A": "c3de9ed8-f6e5-4bb5-a157-f6430ba756da"
        },
        "host": "earthsearch-aws"
       },
       "TripleSat": {
        "collection": "triplesat",
        "data_products": {
         "Analytic - 16 bit": "37c26f4d-f6a9-47c9-ae4d-a095569ab8bc",
         "Analytic - 8 bit": "2398d8f5-5f7f-4596-884d-345c0b07af14"
        },
        "host": "21at"
       },
       "Vexcel Aerial Oblique — Canada 5.5 cm": {
        "collection": "vexcel-ca-6cm-oblique",
        "data_products": {
         "Vexcel Aerial Oblique — Canada 5.5 cm": "761ca320-3a7f-48e4-bc00-c7434de37c9d"
        },
        "host": "vexcel"
       },
       "Vexcel Aerial Oblique — Eastern Europe 5.5 cm": {
        "collection": "vexcel-eeu-6cm-oblique",
        "data_products": {
         "Vexcel Aerial Oblique — Eastern Europe 5.5 cm": "817cea8b-3976-46d2-9d39-3cbfdc03ef78"
        },
        "host": "vexcel"
       },
       "Vexcel Aerial Oblique — Japan 5.5 cm": {
        "collection": "vexcel-jp-6cm-oblique",
        "data_products": {
         "Vexcel Aerial Oblique — Japan 5.5 cm": "43eae9f0-468b-40f3-a230-de9bb5b94126"
        },
        "host": "vexcel"
       },
       "Vexcel Aerial Oblique — Oceania 5.5 cm": {
        "collection": "vexcel-oc-6cm-oblique",
        "data_products": {
         "Vexcel Aerial Oblique — Oceania 5.5 cm": "ba6b72b8-42ac-4b93-8728-c3cf645e4315"
        },
        "host": "vexcel"
       },
       "Vexcel Aerial Oblique — US 5.5 cm": {
        "collection": "vexcel-us-6cm-oblique",
        "data_products": {
         "Vexcel Aerial Oblique — US 5.5 cm": "7f4fda74-8cef-4175-9cb7-194897a9d20d"
        },
        "host": "vexcel"
       },
       "Vexcel Aerial Oblique — Western Europe 5.5 cm": {
        "collection": "vexcel-weu-6cm-oblique",
        "data_products": {
         "Vexcel Aerial Oblique — Western Europe 5.5 cm": "b5038b0a-9716-4862-a352-6c8bb43707b0"
        },
        "host": "vexcel"
       },
       "Vexcel Aerial Ortho — US 15 cm": {
        "collection": "vexcel-us-15cm-ortho",
        "data_products": {
         "Vexcel Aerial Ortho — US 15 cm": "3b893e12-da85-4ec8-ade9-e078d156959b"
        },
        "host": "vexcel"
       },
       "Vexcel Aerial Ortho — Western Europe 15 cm": {
        "collection": "vexcel-weu-15cm-ortho",
        "data_products": {
         "Vexcel Aerial Ortho — Western Europe 15 cm": "b2042f77-0db2-4efb-9daf-f5bca174902c"
        },
        "host": "vexcel"
       },
       "Vexcel Aerial TrueOrtho — Canada 5.5 cm": {
        "collection": "vexcel-ca-6cm-trueortho",
        "data_products": {
         "Vexcel Aerial TrueOrtho — Canada 5.5 cm": "926f3eec-1109-4f10-ad7d-7494c502a1b0"
        },
        "host": "vexcel"
       },
       "Vexcel Aerial TrueOrtho — Eastern Europe 5.5 cm": {
        "collection": "vexcel-eeu-6cm-trueortho",
        "data_products": {
         "Vexcel Aerial TrueOrtho — Eastern Europe 5.5 cm": "1165af80-48be-41e2-8d07-51a4c2368de4"
        },
        "host": "vexcel"
       },
       "Vexcel Aerial TrueOrtho — Japan 5.5 cm": {
        "collection": "vexcel-jp-6cm-trueortho",
        "data_products": {
         "Vexcel Aerial TrueOrtho — Japan 5.5 cm": "dd9d7608-d55c-407b-a1c8-d6616e498c92"
        },
        "host": "vexcel"
       },
       "Vexcel Aerial TrueOrtho — Oceania 5.5 cm": {
        "collection": "vexcel-oc-6cm-trueortho",
        "data_products": {
         "Vexcel Aerial TrueOrtho — Oceania 5.5 cm": "5dc14658-f7da-4bf5-b26e-3b1f71fc255b"
        },
        "host": "vexcel"
       },
       "Vexcel Aerial TrueOrtho — US 5.5 cm": {
        "collection": "vexcel-us-6cm-trueortho",
        "data_products": {
         "Vexcel Aerial TrueOrtho — US 5.5 cm": "cfd25a56-0bac-4307-ac68-5a0fa474f068"
        },
        "host": "vexcel"
       },
       "Vexcel Aerial TrueOrtho — Western Europe 5.5 cm": {
        "collection": "vexcel-weu-6cm-trueortho",
        "data_products": {
         "Vexcel Aerial TrueOrtho — Western Europe 5.5 cm": "104ec6c4-5f5f-4e77-83ac-ae87525bbade"
        },
        "host": "vexcel"
       },
       "Vexcel Elevate DSM — Canada 5.5 cm": {
        "collection": "vexcel-ca-6cm-dsm",
        "data_products": {
         "Vexcel Elevate DSM — Canada 5.5 cm": "65343013-520b-4eaa-b3b6-10e4f10bb183"
        },
        "host": "vexcel"
       },
       "Vexcel Elevate DSM — Eastern Europe 5.5 cm": {
        "collection": "vexcel-eeu-6cm-dsm",
        "data_products": {
         "Vexcel Elevate DSM — Eastern Europe 5.5 cm": "3b689eac-e1ce-43f7-976a-e6a52622e59a"
        },
        "host": "vexcel"
       },
       "Vexcel Elevate DSM — Japan 5.5 cm": {
        "collection": "vexcel-jp-6cm-dsm",
        "data_products": {
         "Vexcel Elevate DSM — Japan 5.5 cm": "1a9dfdbc-11f0-4976-9f97-4909077b5bfb"
        },
        "host": "vexcel"
       },
       "Vexcel Elevate DSM — Oceania 5.5 cm": {
        "collection": "vexcel-oc-6cm-dsm",
        "data_products": {
         "Vexcel Elevate DSM — Oceania 5.5 cm": "6fd668e2-b1fd-401d-ae8b-441e17a6626f"
        },
        "host": "vexcel"
       },
       "Vexcel Elevate DSM — US 15 cm": {
        "collection": "vexcel-us-15cm-dsm",
        "data_products": {
         "Vexcel Elevate DSM — US 15 cm": "46350af0-2312-4031-ad4c-46d282b4fb83"
        },
        "host": "vexcel"
       },
       "Vexcel Elevate DSM — US 5.5 cm": {
        "collection": "vexcel-us-6cm-dsm",
        "data_products": {
         "Vexcel Elevate DSM — US 5.5 cm": "c26bb85a-20af-4ab0-bd72-5e258d614d49"
        },
        "host": "vexcel"
       },
       "Vexcel Elevate DSM — Western Europe 15 cm": {
        "collection": "vexcel-weu-15cm-dsm",
        "data_products": {
         "Vexcel Elevate DSM — Western Europe 15 cm": "44c8d90b-eb0a-4eb6-b5e1-6e44be516a4d"
        },
        "host": "vexcel"
       },
       "Vexcel Elevate DSM — Western Europe 5.5 cm": {
        "collection": "vexcel-weu-6cm-dsm",
        "data_products": {
         "Vexcel Elevate DSM — Western Europe 5.5 cm": "cb9dd909-18df-4351-ade0-7555fa6e76de"
        },
        "host": "vexcel"
       },
       "Vexcel Elevate DTM — US 15 cm": {
        "collection": "vexcel-us-15cm-dtm",
        "data_products": {
         "Vexcel Elevate DTM — US 15 cm": "a0c15d8e-46b7-4dfb-b260-07a3cd996ae7"
        },
        "host": "vexcel"
       },
       "Vexcel Elevate DTM — Western Europe 15 cm": {
        "collection": "vexcel-weu-15cm-dtm",
        "data_products": {
         "Vexcel Elevate DTM — Western Europe 15 cm": "d60ad61b-45d7-458e-b355-a02bc44baf82"
        },
        "host": "vexcel"
       },
       "WorldDEM NEO DSM": {
        "collection": "worlddem-neo",
        "data_products": {
         "WorldDEM NEO DSM": "ec016f4c-332c-4190-b18b-13fb12519c40"
        },
        "host": "airbus-elevation"
       }
      },
      "text/plain": [
       "<IPython.core.display.JSON object>"
      ]
     },
     "execution_count": 25,
     "metadata": {
      "application/json": {
       "expanded": false,
       "root": "root"
      }
     },
     "output_type": "execute_result"
    }
   ],
   "source": [
    "products = catalog.get_data_products(basic=True)\n",
    "ppjson(products)"
   ]
  },
  {
   "cell_type": "markdown",
   "id": "0c45f549-4362-4e01-896d-f9707a67a86c",
   "metadata": {},
   "source": [
    "We have the list of all **available** collections and the corresponding products. In our case we want SPOT 6/7."
   ]
  },
  {
   "cell_type": "markdown",
   "id": "b1f565a1-3864-476b-8d62-d6c7088753e9",
   "metadata": {},
   "source": [
    "Specifically we want a display product. We need to get the corresponding product ID."
   ]
  },
  {
   "cell_type": "code",
   "execution_count": 26,
   "id": "9a0e2ff7-a93a-4409-90f0-dd62b9008a49",
   "metadata": {
    "tags": []
   },
   "outputs": [
    {
     "data": {
      "text/plain": [
       "('Pléiades',\n",
       " {'collection': 'phr',\n",
       "  'host': 'oneatlas',\n",
       "  'data_products': {'Analytic': '4f1b2f62-98df-4c74-81f4-5dce45deee99',\n",
       "   'Display': '647780db-5a06-4b61-b525-577a8b68bb54'}})"
      ]
     },
     "execution_count": 26,
     "metadata": {},
     "output_type": "execute_result"
    }
   ],
   "source": [
    "pleiades_product = next(\n",
    "    filter(lambda e: e[0].lower().endswith(\"ades\"), products.items())\n",
    ")\n",
    "pleiades_product"
   ]
  },
  {
   "cell_type": "code",
   "execution_count": 43,
   "id": "940bd531-1d45-476e-9a6c-1335d7ad932d",
   "metadata": {
    "tags": []
   },
   "outputs": [
    {
     "data": {
      "text/plain": [
       "'647780db-5a06-4b61-b525-577a8b68bb54'"
      ]
     },
     "execution_count": 43,
     "metadata": {},
     "output_type": "execute_result"
    }
   ],
   "source": [
    "pleiades_product_id = get_in([1, \"data_products\", \"Display\"], pleiades_product)\n",
    "pleiades_product_id"
   ]
  },
  {
   "cell_type": "markdown",
   "id": "46a7d02d-7fdb-45d2-b1f5-8ec8e2564900",
   "metadata": {},
   "source": [
    "And the collection name."
   ]
  },
  {
   "cell_type": "code",
   "execution_count": 42,
   "id": "0567c475-a590-4be6-a5b9-d5e39ac105ad",
   "metadata": {},
   "outputs": [
    {
     "data": {
      "text/plain": [
       "'phr'"
      ]
     },
     "execution_count": 42,
     "metadata": {},
     "output_type": "execute_result"
    }
   ],
   "source": [
    "pleiades_coll_name = get_in([1, \"collection\"], pleiades_product)\n",
    "pleiades_coll_name"
   ]
  },
  {
   "cell_type": "markdown",
   "id": "ad01ac95-ebbf-4b74-aaba-d3037b70a85d",
   "metadata": {},
   "source": [
    "Let us now perform the search."
   ]
  },
  {
   "cell_type": "markdown",
   "id": "029aa288-5a5b-439f-9ac1-7b5842c050da",
   "metadata": {},
   "source": [
    "We are interested in imagery between April 1st 2021 and June 26th, 2023."
   ]
  },
  {
   "cell_type": "code",
   "execution_count": 31,
   "id": "35ff361c-1c90-44c4-856b-9672ceaed476",
   "metadata": {
    "tags": []
   },
   "outputs": [],
   "source": [
    "my_start_date = \"2021-04-01\"\n",
    "my_end_date = \"2023-06-26\""
   ]
  },
  {
   "cell_type": "code",
   "execution_count": 33,
   "id": "2f09e843-33f8-4aee-8887-558e850401a9",
   "metadata": {},
   "outputs": [],
   "source": [
    "pleiades_search_params = catalog.construct_search_parameters(\n",
    "    geometry=aoi_map,\n",
    "    start_date=my_start_date,\n",
    "    end_date=my_end_date,\n",
    "    collections=[pleiades_coll_name],\n",
    "    max_cloudcover=10,\n",
    "    sortby=\"acquisitionDate\",\n",
    "    ascending=False,\n",
    "    limit=50,\n",
    ")"
   ]
  },
  {
   "cell_type": "code",
   "execution_count": 34,
   "id": "843c3667-89f8-43b8-a252-38469ffa97d9",
   "metadata": {},
   "outputs": [
    {
     "name": "stderr",
     "output_type": "stream",
     "text": [
      "2023-06-25 18:29:01,629 - Searching catalog with search_parameters: {'datetime': '2021-04-01T00:00:00Z/2023-06-26T23:59:59Z', 'intersects': {'type': 'Polygon', 'coordinates': (((-68.92192558463671, -22.32018472450315), (-68.9242442302506, -22.341155732344163), (-68.8877470307674, -22.341155732344163), (-68.89496059490037, -22.31915197980001), (-68.92192558463671, -22.32018472450315)),)}, 'limit': 50, 'collections': ['phr'], 'query': {'cloudCoverage': {'lte': 10}}, 'sortby': [{'field': 'properties.acquisitionDate', 'direction': 'desc'}]}\n",
      "2023-06-25 18:29:04,109 - 14 results returned.\n"
     ]
    }
   ],
   "source": [
    "pleiades_search_results = catalog.search(pleiades_search_params, as_dataframe=False)"
   ]
  },
  {
   "cell_type": "markdown",
   "id": "eef2d160-c86d-4aa0-8248-ab349f9c98f2",
   "metadata": {},
   "source": [
    "Let us look for the stereo pairs in the above search results."
   ]
  },
  {
   "cell_type": "code",
   "execution_count": 37,
   "id": "6bca42f0-e0e7-4da6-8246-90c568ea3bbb",
   "metadata": {
    "tags": []
   },
   "outputs": [],
   "source": [
    "# N.B: This is an ugly hack that needs to be replaced by creating a proper local Python package for the Notebook helpers.\n",
    "import sys\n",
    "sys.path.append(str((Path.cwd() / \"..\" / \"..\").resolve()))"
   ]
  },
  {
   "cell_type": "code",
   "execution_count": 38,
   "id": "dac5ca23-a635-480b-8328-478a272f6e47",
   "metadata": {
    "tags": []
   },
   "outputs": [],
   "source": [
    "from pynb_helpers import stereo"
   ]
  },
  {
   "cell_type": "code",
   "execution_count": 55,
   "id": "d3ebd529-fa6f-428c-aa81-e339394caca2",
   "metadata": {},
   "outputs": [
    {
     "data": {
      "application/json": [
       [
        {
         "bbox": [
          -68.95054475,
          -22.54068934,
          -68.73509852,
          -22.26272822
         ],
         "geometry": {
          "coordinates": [
           [
            [
             -68.94822161,
             -22.26272822
            ],
            [
             -68.95054475,
             -22.53031703
            ],
            [
             -68.7356503,
             -22.54068934
            ],
            [
             -68.73509852,
             -22.27394425
            ],
            [
             -68.94822161,
             -22.26272822
            ]
           ]
          ],
          "type": "Polygon"
         },
         "id": "0",
         "properties": {
          "acquisitionDate": "2023-04-27T14:44:45.430Z",
          "cloudCoverage": 0,
          "collection": "phr",
          "constellation": "phr",
          "deliveryTime": "MINUTES",
          "end_datetime": null,
          "id": "98c9e5b6-962b-404a-8cf1-28785a6ae071",
          "producer": "airbus",
          "providerName": "oneatlas",
          "providerProperties": {
           "acquisitionIdentifier": "DS_PHR1A_202304271444084_FR1_PX_W069S23_0215_02492",
           "acquisitionStation": "SV1",
           "activityId": "186b2baf-347d-4bc8-bf6c-f2d12a6e68eb",
           "archiveIdentifier": "DS_PHR1A_202304271444454_FR1_PX_W069S23_0215_02496",
           "archivingCenter": "FR1",
           "azimuthAngle": 179.9643239414532,
           "commercialReference": "SO23013618",
           "correlationId": "15a957ca-db3e-4c9f-bc26-aca5387019c8",
           "customerReference": "C301000",
           "expirationDate": "2200-01-01T00:00:00Z",
           "format": "image/jp2",
           "geometryCentroid": {
            "lat": -22.401698140906706,
            "lon": -68.84282163357939
           },
           "illuminationAzimuthAngle": 39.00807569124238,
           "illuminationElevationAngle": 45.04543776230869,
           "incidenceAngle": 19.84761515480813,
           "incidenceAngleAcrossTrack": 16.65602953448698,
           "incidenceAngleAlongTrack": 11.41754852939461,
           "lastUpdateDate": "2023-04-28T20:21:34.81068038Z",
           "organisationName": "AIRBUS DS GEO",
           "parentIdentifier": "DS_PHR1A_202304271444454_FR1_PX_W069S23_0215_02496",
           "processingCenter": "FCMUGC",
           "processingDate": "2023-04-28T19:25:15.488",
           "processingLevel": "SENSOR",
           "processorName": "DRS-MM V2.9vV2.9",
           "productCategory": "image",
           "productType": "bundle",
           "productionStatus": "IN_CLOUD",
           "publicationDate": "2023-04-28T20:21:34.81068038Z",
           "qualified": false,
           "sensorType": "OPTICAL",
           "sourceIdentifier": "DS_PHR1A_202304271444084_FR1_PX_W069S23_0215_02492",
           "spectralRange": "VISIBLE",
           "workspaceId": "0e33eb50-3404-48ad-b835-b0b4b72a5625",
           "workspaceName": "public",
           "workspaceTitle": "Public"
          },
          "resolution": 0.5,
          "sceneId": "98c9e5b6-962b-404a-8cf1-28785a6ae071",
          "start_datetime": null,
          "up42:usageType": [
           "DATA"
          ]
         },
         "type": "Feature"
        },
        {
         "bbox": [
          -68.95066656,
          -22.53591048,
          -68.73484292,
          -22.2667809
         ],
         "geometry": {
          "coordinates": [
           [
            [
             -68.94810582,
             -22.2667809
            ],
            [
             -68.95066656,
             -22.53250269
            ],
            [
             -68.7354222,
             -22.53591048
            ],
            [
             -68.73484292,
             -22.27210232
            ],
            [
             -68.94810582,
             -22.2667809
            ]
           ]
          ],
          "type": "Polygon"
         },
         "id": "1",
         "properties": {
          "acquisitionDate": "2023-04-27T14:44:33.430Z",
          "cloudCoverage": 0,
          "collection": "phr",
          "constellation": "phr",
          "deliveryTime": "MINUTES",
          "end_datetime": null,
          "id": "eb074644-039f-4866-b4ac-4fd2482914ff",
          "producer": "airbus",
          "providerName": "oneatlas",
          "providerProperties": {
           "acquisitionIdentifier": "DS_PHR1A_202304271443564_FR1_PX_W069S23_0215_02521",
           "acquisitionStation": "SV1",
           "activityId": "485b3c7b-a959-4c65-bd68-998bf8aad075",
           "archiveIdentifier": "DS_PHR1A_202304271444334_FR1_PX_W069S23_0215_02525",
           "archivingCenter": "FR1",
           "azimuthAngle": 179.9802877660596,
           "commercialReference": "SO23013619",
           "correlationId": "e524f8a1-845f-4ba6-97cf-0b302f38477d",
           "customerReference": "C301000",
           "expirationDate": "2200-01-01T00:00:00Z",
           "format": "image/jp2",
           "geometryCentroid": {
            "lat": -22.401338070692546,
            "lon": -68.8427547382843
           },
           "illuminationAzimuthAngle": 39.00902948515528,
           "illuminationElevationAngle": 45.04661567786316,
           "incidenceAngle": 18.64469499241885,
           "incidenceAngleAcrossTrack": 18.20414287124207,
           "incidenceAngleAlongTrack": 4.314361224712148,
           "lastUpdateDate": "2023-04-28T20:43:25.932402995Z",
           "organisationName": "AIRBUS DS GEO",
           "parentIdentifier": "DS_PHR1A_202304271444334_FR1_PX_W069S23_0215_02525",
           "processingCenter": "FCMUGC",
           "processingDate": "2023-04-28T19:46:00.482",
           "processingLevel": "SENSOR",
           "processorName": "DRS-MM V2.9vV2.9",
           "productCategory": "image",
           "productType": "bundle",
           "productionStatus": "IN_CLOUD",
           "publicationDate": "2023-04-28T20:43:25.932402995Z",
           "qualified": false,
           "sensorType": "OPTICAL",
           "sourceIdentifier": "DS_PHR1A_202304271443564_FR1_PX_W069S23_0215_02521",
           "spectralRange": "VISIBLE",
           "workspaceId": "0e33eb50-3404-48ad-b835-b0b4b72a5625",
           "workspaceName": "public",
           "workspaceTitle": "Public"
          },
          "resolution": 0.5,
          "sceneId": "eb074644-039f-4866-b4ac-4fd2482914ff",
          "start_datetime": null,
          "up42:usageType": [
           "DATA"
          ]
         },
         "type": "Feature"
        }
       ],
       [
        {
         "bbox": [
          -68.95066656,
          -22.53591048,
          -68.73484292,
          -22.2667809
         ],
         "geometry": {
          "coordinates": [
           [
            [
             -68.94810582,
             -22.2667809
            ],
            [
             -68.95066656,
             -22.53250269
            ],
            [
             -68.7354222,
             -22.53591048
            ],
            [
             -68.73484292,
             -22.27210232
            ],
            [
             -68.94810582,
             -22.2667809
            ]
           ]
          ],
          "type": "Polygon"
         },
         "id": "1",
         "properties": {
          "acquisitionDate": "2023-04-27T14:44:33.430Z",
          "cloudCoverage": 0,
          "collection": "phr",
          "constellation": "phr",
          "deliveryTime": "MINUTES",
          "end_datetime": null,
          "id": "eb074644-039f-4866-b4ac-4fd2482914ff",
          "producer": "airbus",
          "providerName": "oneatlas",
          "providerProperties": {
           "acquisitionIdentifier": "DS_PHR1A_202304271443564_FR1_PX_W069S23_0215_02521",
           "acquisitionStation": "SV1",
           "activityId": "485b3c7b-a959-4c65-bd68-998bf8aad075",
           "archiveIdentifier": "DS_PHR1A_202304271444334_FR1_PX_W069S23_0215_02525",
           "archivingCenter": "FR1",
           "azimuthAngle": 179.9802877660596,
           "commercialReference": "SO23013619",
           "correlationId": "e524f8a1-845f-4ba6-97cf-0b302f38477d",
           "customerReference": "C301000",
           "expirationDate": "2200-01-01T00:00:00Z",
           "format": "image/jp2",
           "geometryCentroid": {
            "lat": -22.401338070692546,
            "lon": -68.8427547382843
           },
           "illuminationAzimuthAngle": 39.00902948515528,
           "illuminationElevationAngle": 45.04661567786316,
           "incidenceAngle": 18.64469499241885,
           "incidenceAngleAcrossTrack": 18.20414287124207,
           "incidenceAngleAlongTrack": 4.314361224712148,
           "lastUpdateDate": "2023-04-28T20:43:25.932402995Z",
           "organisationName": "AIRBUS DS GEO",
           "parentIdentifier": "DS_PHR1A_202304271444334_FR1_PX_W069S23_0215_02525",
           "processingCenter": "FCMUGC",
           "processingDate": "2023-04-28T19:46:00.482",
           "processingLevel": "SENSOR",
           "processorName": "DRS-MM V2.9vV2.9",
           "productCategory": "image",
           "productType": "bundle",
           "productionStatus": "IN_CLOUD",
           "publicationDate": "2023-04-28T20:43:25.932402995Z",
           "qualified": false,
           "sensorType": "OPTICAL",
           "sourceIdentifier": "DS_PHR1A_202304271443564_FR1_PX_W069S23_0215_02521",
           "spectralRange": "VISIBLE",
           "workspaceId": "0e33eb50-3404-48ad-b835-b0b4b72a5625",
           "workspaceName": "public",
           "workspaceTitle": "Public"
          },
          "resolution": 0.5,
          "sceneId": "eb074644-039f-4866-b4ac-4fd2482914ff",
          "start_datetime": null,
          "up42:usageType": [
           "DATA"
          ]
         },
         "type": "Feature"
        },
        {
         "bbox": [
          -68.95236216,
          -22.53598819,
          -68.73301332,
          -22.27045909
         ],
         "geometry": {
          "coordinates": [
           [
            [
             -68.73301332,
             -22.27045909
            ],
            [
             -68.94932176,
             -22.27210082
            ],
            [
             -68.95236216,
             -22.53598819
            ],
            [
             -68.73367243,
             -22.53131668
            ],
            [
             -68.73301332,
             -22.27045909
            ]
           ]
          ],
          "type": "Polygon"
         },
         "id": "2",
         "properties": {
          "acquisitionDate": "2023-04-27T14:44:21.556Z",
          "cloudCoverage": 0,
          "collection": "phr",
          "constellation": "phr",
          "deliveryTime": "MINUTES",
          "end_datetime": null,
          "id": "08f1d0d4-8aba-42aa-b1d0-afd649886305",
          "producer": "airbus",
          "providerName": "oneatlas",
          "providerProperties": {
           "acquisitionIdentifier": "DS_PHR1A_202304271443445_FR1_PX_W069S23_0215_02480",
           "acquisitionStation": "SV1",
           "activityId": "7f0199bc-f6e5-4446-88fa-387363111a2c",
           "archiveIdentifier": "DS_PHR1A_202304271444215_FR1_PX_W069S23_0215_02484",
           "archivingCenter": "FR1",
           "azimuthAngle": 179.9711075500066,
           "commercialReference": "SO23013619",
           "correlationId": "7023d936-43b7-4f4d-bec2-1f7d3aaadfc8",
           "customerReference": "C301000",
           "expirationDate": "2200-01-01T00:00:00Z",
           "format": "image/jp2",
           "geometryCentroid": {
            "lat": -22.403218352049382,
            "lon": -68.84268773918302
           },
           "illuminationAzimuthAngle": 39.00707451871327,
           "illuminationElevationAngle": 45.04431280715382,
           "incidenceAngle": 19.9153378526043,
           "incidenceAngleAcrossTrack": 19.73690803709811,
           "incidenceAngleAlongTrack": -2.883737733442158,
           "lastUpdateDate": "2023-04-28T23:21:43.935922541Z",
           "organisationName": "AIRBUS DS GEO",
           "parentIdentifier": "DS_PHR1A_202304271444215_FR1_PX_W069S23_0215_02484",
           "processingCenter": "FCMUGC",
           "processingDate": "2023-04-28T22:08:54.515",
           "processingLevel": "SENSOR",
           "processorName": "DRS-MM V2.9vV2.9",
           "productCategory": "image",
           "productType": "bundle",
           "productionStatus": "IN_CLOUD",
           "publicationDate": "2023-04-28T23:21:43.935922541Z",
           "qualified": false,
           "sensorType": "OPTICAL",
           "sourceIdentifier": "DS_PHR1A_202304271443445_FR1_PX_W069S23_0215_02480",
           "spectralRange": "VISIBLE",
           "workspaceId": "0e33eb50-3404-48ad-b835-b0b4b72a5625",
           "workspaceName": "public",
           "workspaceTitle": "Public"
          },
          "resolution": 0.5,
          "sceneId": "08f1d0d4-8aba-42aa-b1d0-afd649886305",
          "start_datetime": null,
          "up42:usageType": [
           "DATA"
          ]
         },
         "type": "Feature"
        }
       ],
       [
        {
         "bbox": [
          -68.9883676,
          -22.43130348,
          -68.77853083,
          -22.14593234
         ],
         "geometry": {
          "coordinates": [
           [
            [
             -68.78062962,
             -22.14593234
            ],
            [
             -68.9883676,
             -22.15207843
            ],
            [
             -68.98816513,
             -22.43130348
            ],
            [
             -68.77853083,
             -22.42722103
            ],
            [
             -68.78062962,
             -22.14593234
            ]
           ]
          ],
          "type": "Polygon"
         },
         "id": "3",
         "properties": {
          "acquisitionDate": "2022-12-16T14:59:35.180Z",
          "cloudCoverage": 0,
          "collection": "phr",
          "constellation": "phr",
          "deliveryTime": "MINUTES",
          "end_datetime": null,
          "id": "40822952-d93b-4b2c-a506-894c173021cc",
          "producer": "airbus",
          "providerName": "oneatlas",
          "providerProperties": {
           "acquisitionIdentifier": "",
           "acquisitionStation": "SV1",
           "activityId": "a7f9d21b-e539-4b40-b8f1-7a9fdceef528",
           "archiveIdentifier": "DS_PHR1A_202212161459351_FR1_PX_W069S23_0218_02694",
           "archivingCenter": "FR1",
           "azimuthAngle": 180.0955884909224,
           "commercialReference": "SO22068032",
           "correlationId": "22845396-c03f-4c25-ace0-a0cfbd8b0c69",
           "customerReference": "C301000",
           "expirationDate": "2200-01-01T00:00:00Z",
           "format": "image/jp2",
           "geometryCentroid": {
            "lat": -22.288603069028735,
            "lon": -68.88344921599571
           },
           "illuminationAzimuthAngle": 97.62163733201719,
           "illuminationElevationAngle": 68.74120619578999,
           "incidenceAngle": 16.49244723296131,
           "incidenceAngleAcrossTrack": -15.37024037644951,
           "incidenceAngleAlongTrack": 6.275898879440232,
           "lastUpdateDate": "2022-12-17T06:15:16.083744021Z",
           "organisationName": "AIRBUS DS GEO",
           "parentIdentifier": "DS_PHR1A_202212161459351_FR1_PX_W069S23_0218_02694",
           "processingCenter": "FCMUGC",
           "processingDate": "2022-12-17T05:12:24.427",
           "processingLevel": "SENSOR",
           "processorName": "DRS-MM V2.9vV2.9",
           "productCategory": "image",
           "productType": "bundle",
           "productionStatus": "IN_CLOUD",
           "publicationDate": "2022-12-17T06:15:16.083744021Z",
           "qualified": false,
           "sensorType": "OPTICAL",
           "snowCover": 0,
           "sourceIdentifier": "DS_PHR1A_202212161458581_FR1_PX_W069S23_0218_02690",
           "spectralRange": "VISIBLE",
           "workspaceId": "0e33eb50-3404-48ad-b835-b0b4b72a5625",
           "workspaceName": "public",
           "workspaceTitle": "Public"
          },
          "resolution": 0.5,
          "sceneId": "40822952-d93b-4b2c-a506-894c173021cc",
          "start_datetime": null,
          "up42:usageType": [
           "DATA"
          ]
         },
         "type": "Feature"
        },
        {
         "bbox": [
          -68.98657256,
          -22.42973602,
          -68.7803949,
          -22.15091541
         ],
         "geometry": {
          "coordinates": [
           [
            [
             -68.78231344,
             -22.15091541
            ],
            [
             -68.98657256,
             -22.15096052
            ],
            [
             -68.98653448,
             -22.42776447
            ],
            [
             -68.7803949,
             -22.42973602
            ],
            [
             -68.78231344,
             -22.15091541
            ]
           ]
          ],
          "type": "Polygon"
         },
         "id": "4",
         "properties": {
          "acquisitionDate": "2022-12-16T14:59:23.055Z",
          "cloudCoverage": 0,
          "collection": "phr",
          "constellation": "phr",
          "deliveryTime": "MINUTES",
          "end_datetime": null,
          "id": "4e0fe1c4-98d1-4503-a36a-5784855bb936",
          "producer": "airbus",
          "providerName": "oneatlas",
          "providerProperties": {
           "acquisitionIdentifier": "",
           "acquisitionStation": "SV1",
           "activityId": "1acf2373-a7fe-478d-9590-dd98a2c1eb88",
           "archiveIdentifier": "DS_PHR1A_202212161459230_FR1_PX_W069S23_0218_02710",
           "archivingCenter": "FR1",
           "azimuthAngle": 180.0225177114388,
           "commercialReference": "SO22068032",
           "correlationId": "5dfaae58-b2a3-42e6-b570-709cd690ca57",
           "customerReference": "C301000",
           "expirationDate": "2200-01-01T00:00:00Z",
           "format": "image/jp2",
           "geometryCentroid": {
            "lat": -22.29031191416253,
            "lon": -68.88348373333952
           },
           "illuminationAzimuthAngle": 97.62215571974394,
           "illuminationElevationAngle": 68.7411984126544,
           "incidenceAngle": 13.96702612322658,
           "incidenceAngleAcrossTrack": -13.92829084713514,
           "incidenceAngleAlongTrack": -1.081718409807388,
           "lastUpdateDate": "2022-12-17T06:22:31.327445865Z",
           "organisationName": "AIRBUS DS GEO",
           "parentIdentifier": "DS_PHR1A_202212161459230_FR1_PX_W069S23_0218_02710",
           "processingCenter": "FCMUGC",
           "processingDate": "2022-12-17T05:09:39.731",
           "processingLevel": "SENSOR",
           "processorName": "DRS-MM V2.9vV2.9",
           "productCategory": "image",
           "productType": "bundle",
           "productionStatus": "IN_CLOUD",
           "publicationDate": "2022-12-17T06:22:31.327445865Z",
           "qualified": false,
           "sensorType": "OPTICAL",
           "snowCover": 0,
           "sourceIdentifier": "DS_PHR1A_202212161458460_FR1_PX_W069S23_0218_02706",
           "spectralRange": "VISIBLE",
           "workspaceId": "0e33eb50-3404-48ad-b835-b0b4b72a5625",
           "workspaceName": "public",
           "workspaceTitle": "Public"
          },
          "resolution": 0.5,
          "sceneId": "4e0fe1c4-98d1-4503-a36a-5784855bb936",
          "start_datetime": null,
          "up42:usageType": [
           "DATA"
          ]
         },
         "type": "Feature"
        }
       ],
       [
        {
         "bbox": [
          -68.98657256,
          -22.42973602,
          -68.7803949,
          -22.15091541
         ],
         "geometry": {
          "coordinates": [
           [
            [
             -68.78231344,
             -22.15091541
            ],
            [
             -68.98657256,
             -22.15096052
            ],
            [
             -68.98653448,
             -22.42776447
            ],
            [
             -68.7803949,
             -22.42973602
            ],
            [
             -68.78231344,
             -22.15091541
            ]
           ]
          ],
          "type": "Polygon"
         },
         "id": "4",
         "properties": {
          "acquisitionDate": "2022-12-16T14:59:23.055Z",
          "cloudCoverage": 0,
          "collection": "phr",
          "constellation": "phr",
          "deliveryTime": "MINUTES",
          "end_datetime": null,
          "id": "4e0fe1c4-98d1-4503-a36a-5784855bb936",
          "producer": "airbus",
          "providerName": "oneatlas",
          "providerProperties": {
           "acquisitionIdentifier": "",
           "acquisitionStation": "SV1",
           "activityId": "1acf2373-a7fe-478d-9590-dd98a2c1eb88",
           "archiveIdentifier": "DS_PHR1A_202212161459230_FR1_PX_W069S23_0218_02710",
           "archivingCenter": "FR1",
           "azimuthAngle": 180.0225177114388,
           "commercialReference": "SO22068032",
           "correlationId": "5dfaae58-b2a3-42e6-b570-709cd690ca57",
           "customerReference": "C301000",
           "expirationDate": "2200-01-01T00:00:00Z",
           "format": "image/jp2",
           "geometryCentroid": {
            "lat": -22.29031191416253,
            "lon": -68.88348373333952
           },
           "illuminationAzimuthAngle": 97.62215571974394,
           "illuminationElevationAngle": 68.7411984126544,
           "incidenceAngle": 13.96702612322658,
           "incidenceAngleAcrossTrack": -13.92829084713514,
           "incidenceAngleAlongTrack": -1.081718409807388,
           "lastUpdateDate": "2022-12-17T06:22:31.327445865Z",
           "organisationName": "AIRBUS DS GEO",
           "parentIdentifier": "DS_PHR1A_202212161459230_FR1_PX_W069S23_0218_02710",
           "processingCenter": "FCMUGC",
           "processingDate": "2022-12-17T05:09:39.731",
           "processingLevel": "SENSOR",
           "processorName": "DRS-MM V2.9vV2.9",
           "productCategory": "image",
           "productType": "bundle",
           "productionStatus": "IN_CLOUD",
           "publicationDate": "2022-12-17T06:22:31.327445865Z",
           "qualified": false,
           "sensorType": "OPTICAL",
           "snowCover": 0,
           "sourceIdentifier": "DS_PHR1A_202212161458460_FR1_PX_W069S23_0218_02706",
           "spectralRange": "VISIBLE",
           "workspaceId": "0e33eb50-3404-48ad-b835-b0b4b72a5625",
           "workspaceName": "public",
           "workspaceTitle": "Public"
          },
          "resolution": 0.5,
          "sceneId": "4e0fe1c4-98d1-4503-a36a-5784855bb936",
          "start_datetime": null,
          "up42:usageType": [
           "DATA"
          ]
         },
         "type": "Feature"
        },
        {
         "bbox": [
          -68.98652431,
          -22.43670953,
          -68.78046594,
          -22.14601086
         ],
         "geometry": {
          "coordinates": [
           [
            [
             -68.98649258,
             -22.14601086
            ],
            [
             -68.98652431,
             -22.42844785
            ],
            [
             -68.78046594,
             -22.43670953
            ],
            [
             -68.78216563,
             -22.15221811
            ],
            [
             -68.98649258,
             -22.14601086
            ]
           ]
          ],
          "type": "Polygon"
         },
         "id": "5",
         "properties": {
          "acquisitionDate": "2022-12-16T14:59:07.181Z",
          "cloudCoverage": 0,
          "collection": "phr",
          "constellation": "phr",
          "deliveryTime": "MINUTES",
          "end_datetime": null,
          "id": "e74f0faa-f587-4eab-987b-af42f365d026",
          "producer": "airbus",
          "providerName": "oneatlas",
          "providerProperties": {
           "acquisitionIdentifier": "",
           "acquisitionStation": "SV1",
           "activityId": "1cd54e91-c45b-4db3-964d-9d24e8d884d5",
           "archiveIdentifier": "DS_PHR1A_202212161459071_FR1_PX_W069S23_0218_02694",
           "archivingCenter": "FR1",
           "azimuthAngle": 180.0186118489014,
           "commercialReference": "SO22068032",
           "correlationId": "a34a38fc-4eb0-4fd5-b7ce-e31bab1581a5",
           "customerReference": "C301000",
           "expirationDate": "2200-01-01T00:00:00Z",
           "format": "image/jp2",
           "geometryCentroid": {
            "lat": -22.291342316557735,
            "lon": -68.88349512827166
           },
           "illuminationAzimuthAngle": 97.61781887419477,
           "illuminationElevationAngle": 68.7414072734413,
           "incidenceAngle": 15.84657873325903,
           "incidenceAngleAcrossTrack": -12.02557024142032,
           "incidenceAngleAlongTrack": -10.62490781396385,
           "lastUpdateDate": "2022-12-17T06:15:19.236901034Z",
           "organisationName": "AIRBUS DS GEO",
           "parentIdentifier": "DS_PHR1A_202212161459071_FR1_PX_W069S23_0218_02694",
           "processingCenter": "FCMUGC",
           "processingDate": "2022-12-17T05:08:47.556",
           "processingLevel": "SENSOR",
           "processorName": "DRS-MM V2.9vV2.9",
           "productCategory": "image",
           "productType": "bundle",
           "productionStatus": "IN_CLOUD",
           "publicationDate": "2022-12-17T06:15:19.236901034Z",
           "qualified": false,
           "sensorType": "OPTICAL",
           "snowCover": 0,
           "sourceIdentifier": "DS_PHR1A_202212161458301_FR1_PX_W069S23_0218_02690",
           "spectralRange": "VISIBLE",
           "workspaceId": "0e33eb50-3404-48ad-b835-b0b4b72a5625",
           "workspaceName": "public",
           "workspaceTitle": "Public"
          },
          "resolution": 0.5,
          "sceneId": "e74f0faa-f587-4eab-987b-af42f365d026",
          "start_datetime": null,
          "up42:usageType": [
           "DATA"
          ]
         },
         "type": "Feature"
        }
       ],
       [
        {
         "bbox": [
          -69.11343901,
          -22.46254631,
          -68.9083369,
          -22.26758952
         ],
         "geometry": {
          "coordinates": [
           [
            [
             -69.11343901,
             -22.26758952
            ],
            [
             -69.11325295,
             -22.45506919
            ],
            [
             -68.9083369,
             -22.46254631
            ],
            [
             -68.91018226,
             -22.2732988
            ],
            [
             -69.11343901,
             -22.26758952
            ]
           ]
          ],
          "type": "Polygon"
         },
         "id": "6",
         "properties": {
          "acquisitionDate": "2022-10-12T14:59:02.930Z",
          "cloudCoverage": 0,
          "collection": "phr",
          "constellation": "phr",
          "deliveryTime": "MINUTES",
          "end_datetime": null,
          "id": "ffbc2240-a300-4cce-be8b-56e979ced2e9",
          "producer": "airbus",
          "providerName": "oneatlas",
          "providerProperties": {
           "acquisitionIdentifier": "",
           "acquisitionStation": "SV1",
           "activityId": "acaf4245-d776-48f1-aec9-10c2475a3c21",
           "archiveIdentifier": "DS_PHR1B_202210121459029_FR1_PX_W070S23_1216_01787",
           "archivingCenter": "FR1",
           "azimuthAngle": 180.0293789525279,
           "commercialReference": "SO22059280",
           "correlationId": "964cc7ce-9f37-4065-b94a-fb6da505b355",
           "customerReference": "C301000",
           "expirationDate": "2200-01-01T00:00:00Z",
           "format": "image/jp2",
           "geometryCentroid": {
            "lat": -22.365077465630094,
            "lon": -69.01088795543518
           },
           "illuminationAzimuthAngle": 57.03425412467948,
           "illuminationElevationAngle": 65.1096257485384,
           "incidenceAngle": 16.02606892474908,
           "incidenceAngleAcrossTrack": -10.99925483660521,
           "incidenceAngleAlongTrack": -11.9414032962994,
           "lastUpdateDate": "2022-10-13T06:36:52.499615819Z",
           "organisationName": "AIRBUS DS GEO",
           "parentIdentifier": "DS_PHR1B_202210121459029_FR1_PX_W070S23_1216_01787",
           "processingCenter": "FCMUGC",
           "processingDate": "2022-10-13T05:27:50.079",
           "processingLevel": "SENSOR",
           "processorName": "DRS-MM V2.9vV2.9",
           "productCategory": "image",
           "productType": "bundle",
           "productionStatus": "IN_CLOUD",
           "publicationDate": "2022-10-13T06:36:52.499615819Z",
           "qualified": false,
           "sensorType": "OPTICAL",
           "sourceIdentifier": "DS_PHR1B_202210121458259_FR1_PX_W070S23_1216_01783",
           "spectralRange": "VISIBLE",
           "workspaceId": "0e33eb50-3404-48ad-b835-b0b4b72a5625",
           "workspaceName": "public",
           "workspaceTitle": "Public"
          },
          "resolution": 0.5,
          "sceneId": "ffbc2240-a300-4cce-be8b-56e979ced2e9",
          "start_datetime": null,
          "up42:usageType": [
           "DATA"
          ]
         },
         "type": "Feature"
        },
        {
         "bbox": [
          -68.95110531,
          -22.46825054,
          -68.73591651,
          -22.0977699
         ],
         "geometry": {
          "coordinates": [
           [
            [
             -68.95110531,
             -22.0977699
            ],
            [
             -68.95095413,
             -22.45381578
            ],
            [
             -68.73591651,
             -22.46825054
            ],
            [
             -68.73821594,
             -22.11025289
            ],
            [
             -68.95110531,
             -22.0977699
            ]
           ]
          ],
          "type": "Polygon"
         },
         "id": "7",
         "properties": {
          "acquisitionDate": "2022-10-12T14:58:40.805Z",
          "cloudCoverage": 0,
          "collection": "phr",
          "constellation": "phr",
          "deliveryTime": "MINUTES",
          "end_datetime": null,
          "id": "25e1c669-5719-4bbe-beba-bb23fa478e24",
          "producer": "airbus",
          "providerName": "oneatlas",
          "providerProperties": {
           "acquisitionIdentifier": "",
           "acquisitionStation": "SV1",
           "activityId": "c7a63d3a-f1fa-494a-a9a9-118b7e96957b",
           "archiveIdentifier": "DS_PHR1B_202210121458408_FR1_PX_W069S23_0218_03014",
           "archivingCenter": "FR1",
           "azimuthAngle": 180.0155583205823,
           "commercialReference": "SO22059280",
           "correlationId": "e73f8621-1fac-4ed4-ac19-8135322d9291",
           "customerReference": "C301000",
           "expirationDate": "2200-01-01T00:00:00Z",
           "format": "image/jp2",
           "geometryCentroid": {
            "lat": -22.282963859257446,
            "lon": -68.84351091103505
           },
           "illuminationAzimuthAngle": 57.30357144203967,
           "illuminationElevationAngle": 65.09031600391168,
           "incidenceAngle": 24.63502688968481,
           "incidenceAngleAcrossTrack": -9.976903146443853,
           "incidenceAngleAlongTrack": -22.95233471125434,
           "lastUpdateDate": "2022-10-13T07:11:36.242497629Z",
           "organisationName": "AIRBUS DS GEO",
           "parentIdentifier": "DS_PHR1B_202210121458408_FR1_PX_W069S23_0218_03014",
           "processingCenter": "FCMUGC",
           "processingDate": "2022-10-13T05:38:13.054",
           "processingLevel": "SENSOR",
           "processorName": "DRS-MM V2.9vV2.9",
           "productCategory": "image",
           "productType": "bundle",
           "productionStatus": "IN_CLOUD",
           "publicationDate": "2022-10-13T07:11:36.242497629Z",
           "qualified": false,
           "sensorType": "OPTICAL",
           "sourceIdentifier": "DS_PHR1B_202210121458038_FR1_PX_W069S23_0218_03010",
           "spectralRange": "VISIBLE",
           "workspaceId": "0e33eb50-3404-48ad-b835-b0b4b72a5625",
           "workspaceName": "public",
           "workspaceTitle": "Public"
          },
          "resolution": 0.5,
          "sceneId": "25e1c669-5719-4bbe-beba-bb23fa478e24",
          "start_datetime": null,
          "up42:usageType": [
           "DATA"
          ]
         },
         "type": "Feature"
        }
       ],
       [
        {
         "bbox": [
          -68.98515992,
          -22.4292201,
          -68.78215219,
          -22.15084898
         ],
         "geometry": {
          "coordinates": [
           [
            [
             -68.98493305,
             -22.15084898
            ],
            [
             -68.98515992,
             -22.42920268
            ],
            [
             -68.78215219,
             -22.4292201
            ],
            [
             -68.78226492,
             -22.15113801
            ],
            [
             -68.98493305,
             -22.15084898
            ]
           ]
          ],
          "type": "Polygon"
         },
         "id": "8",
         "properties": {
          "acquisitionDate": "2022-02-21T14:52:05.931Z",
          "cloudCoverage": 0,
          "collection": "phr",
          "constellation": "phr",
          "deliveryTime": "MINUTES",
          "end_datetime": null,
          "id": "f6619ee2-1481-476e-8c62-c1358d0f146a",
          "producer": "airbus",
          "providerName": "oneatlas",
          "providerProperties": {
           "acquisitionIdentifier": null,
           "acquisitionStation": "SV1",
           "activityId": "f9f7371e-811d-419c-98d1-403417415c95",
           "archiveIdentifier": "DS_PHR1A_202202211452059_FR1_PX_W069S23_0218_02560",
           "archivingCenter": "FR1",
           "azimuthAngle": 180.0358451187738,
           "commercialReference": "SO22007799",
           "correlationId": "57e77c44-f5d8-4dad-956a-33fea8504109",
           "customerReference": "C301000",
           "expirationDate": "2200-01-01T00:00:00Z",
           "format": "image/jp2",
           "geometryCentroid": [
            -68.88365605358258,
            -22.2900316838949
           ],
           "illuminationAzimuthAngle": 72.02729896411978,
           "illuminationElevationAngle": 59.62700761313229,
           "incidenceAngle": 17.4509760831467,
           "incidenceAngleAcrossTrack": -0.3443840565049494,
           "incidenceAngleAlongTrack": 17.44797941451158,
           "lastUpdateDate": "2022-02-22T06:10:20.292019634Z",
           "organisationName": "AIRBUS DS GEO",
           "parentIdentifier": "DS_PHR1A_202202211452059_FR1_PX_W069S23_0218_02560",
           "processingCenter": "FCMUGC",
           "processingDate": "2022-02-22T05:22:45.685",
           "processingLevel": "SENSOR",
           "processorName": "DRS-MM V2.9vV2.9",
           "productCategory": "image",
           "productType": "bundle",
           "productionStatus": "IN_CLOUD",
           "publicationDate": "2022-02-22T06:10:20.292019634Z",
           "qualified": false,
           "sensorType": "OPTICAL",
           "sourceIdentifier": "DS_PHR1A_202202211451289_FR1_PX_W069S23_0218_02556",
           "spectralRange": "VISIBLE",
           "workspaceId": "0e33eb50-3404-48ad-b835-b0b4b72a5625",
           "workspaceName": "public",
           "workspaceTitle": "Public"
          },
          "resolution": 0.5,
          "sceneId": "f6619ee2-1481-476e-8c62-c1358d0f146a",
          "start_datetime": null,
          "up42:usageType": [
           "DATA"
          ]
         },
         "type": "Feature"
        },
        {
         "bbox": [
          -68.98127552,
          -22.42772686,
          -68.78592636,
          -22.15050414
         ],
         "geometry": {
          "coordinates": [
           [
            [
             -68.98085661,
             -22.15050414
            ],
            [
             -68.98127552,
             -22.42772686
            ],
            [
             -68.78605953,
             -22.42759261
            ],
            [
             -68.78592636,
             -22.15083962
            ],
            [
             -68.98085661,
             -22.15050414
            ]
           ]
          ],
          "type": "Polygon"
         },
         "id": "9",
         "properties": {
          "acquisitionDate": "2022-02-21T14:51:36.180Z",
          "cloudCoverage": 0,
          "collection": "phr",
          "constellation": "phr",
          "deliveryTime": "MINUTES",
          "end_datetime": null,
          "id": "648a6968-04e6-4a94-9254-cefe712033ae",
          "producer": "airbus",
          "providerName": "oneatlas",
          "providerProperties": {
           "acquisitionIdentifier": null,
           "acquisitionStation": "SV1",
           "activityId": "608fce33-4d3b-444f-b290-8e7215b910fb",
           "archiveIdentifier": "DS_PHR1A_202202211451361_FR1_PX_W069S23_0218_02770",
           "archivingCenter": "FR1",
           "azimuthAngle": 179.9836128771566,
           "commercialReference": "SO22007799",
           "correlationId": "ccfc1962-461d-419e-8ed2-3bdd617fc5e5",
           "customerReference": "C301000",
           "expirationDate": "2200-01-01T00:00:00Z",
           "format": "image/jp2",
           "geometryCentroid": [
            -68.88360093847677,
            -22.289098899500182
           ],
           "illuminationAzimuthAngle": 72.23710889025932,
           "illuminationElevationAngle": 59.40566392993236,
           "incidenceAngle": 3.587108297345783,
           "incidenceAngleAcrossTrack": 3.585316132100901,
           "incidenceAngleAlongTrack": 0.1136727954817755,
           "lastUpdateDate": "2022-02-22T06:11:33.781291231Z",
           "organisationName": "AIRBUS DS GEO",
           "parentIdentifier": "DS_PHR1A_202202211451361_FR1_PX_W069S23_0218_02770",
           "processingCenter": "FCMUGC",
           "processingDate": "2022-02-22T05:22:17.282",
           "processingLevel": "SENSOR",
           "processorName": "DRS-MM V2.9vV2.9",
           "productCategory": "image",
           "productType": "bundle",
           "productionStatus": "IN_CLOUD",
           "publicationDate": "2022-02-22T06:11:33.781291231Z",
           "qualified": false,
           "sensorType": "OPTICAL",
           "sourceIdentifier": "DS_PHR1A_202202211450591_FR1_PX_W069S23_0218_02766",
           "spectralRange": "VISIBLE",
           "workspaceId": "0e33eb50-3404-48ad-b835-b0b4b72a5625",
           "workspaceName": "public",
           "workspaceTitle": "Public"
          },
          "resolution": 0.5,
          "sceneId": "648a6968-04e6-4a94-9254-cefe712033ae",
          "start_datetime": null,
          "up42:usageType": [
           "DATA"
          ]
         },
         "type": "Feature"
        }
       ],
       [
        {
         "bbox": [
          -68.98127552,
          -22.42772686,
          -68.78592636,
          -22.15050414
         ],
         "geometry": {
          "coordinates": [
           [
            [
             -68.98085661,
             -22.15050414
            ],
            [
             -68.98127552,
             -22.42772686
            ],
            [
             -68.78605953,
             -22.42759261
            ],
            [
             -68.78592636,
             -22.15083962
            ],
            [
             -68.98085661,
             -22.15050414
            ]
           ]
          ],
          "type": "Polygon"
         },
         "id": "9",
         "properties": {
          "acquisitionDate": "2022-02-21T14:51:36.180Z",
          "cloudCoverage": 0,
          "collection": "phr",
          "constellation": "phr",
          "deliveryTime": "MINUTES",
          "end_datetime": null,
          "id": "648a6968-04e6-4a94-9254-cefe712033ae",
          "producer": "airbus",
          "providerName": "oneatlas",
          "providerProperties": {
           "acquisitionIdentifier": null,
           "acquisitionStation": "SV1",
           "activityId": "608fce33-4d3b-444f-b290-8e7215b910fb",
           "archiveIdentifier": "DS_PHR1A_202202211451361_FR1_PX_W069S23_0218_02770",
           "archivingCenter": "FR1",
           "azimuthAngle": 179.9836128771566,
           "commercialReference": "SO22007799",
           "correlationId": "ccfc1962-461d-419e-8ed2-3bdd617fc5e5",
           "customerReference": "C301000",
           "expirationDate": "2200-01-01T00:00:00Z",
           "format": "image/jp2",
           "geometryCentroid": [
            -68.88360093847677,
            -22.289098899500182
           ],
           "illuminationAzimuthAngle": 72.23710889025932,
           "illuminationElevationAngle": 59.40566392993236,
           "incidenceAngle": 3.587108297345783,
           "incidenceAngleAcrossTrack": 3.585316132100901,
           "incidenceAngleAlongTrack": 0.1136727954817755,
           "lastUpdateDate": "2022-02-22T06:11:33.781291231Z",
           "organisationName": "AIRBUS DS GEO",
           "parentIdentifier": "DS_PHR1A_202202211451361_FR1_PX_W069S23_0218_02770",
           "processingCenter": "FCMUGC",
           "processingDate": "2022-02-22T05:22:17.282",
           "processingLevel": "SENSOR",
           "processorName": "DRS-MM V2.9vV2.9",
           "productCategory": "image",
           "productType": "bundle",
           "productionStatus": "IN_CLOUD",
           "publicationDate": "2022-02-22T06:11:33.781291231Z",
           "qualified": false,
           "sensorType": "OPTICAL",
           "sourceIdentifier": "DS_PHR1A_202202211450591_FR1_PX_W069S23_0218_02766",
           "spectralRange": "VISIBLE",
           "workspaceId": "0e33eb50-3404-48ad-b835-b0b4b72a5625",
           "workspaceName": "public",
           "workspaceTitle": "Public"
          },
          "resolution": 0.5,
          "sceneId": "648a6968-04e6-4a94-9254-cefe712033ae",
          "start_datetime": null,
          "up42:usageType": [
           "DATA"
          ]
         },
         "type": "Feature"
        },
        {
         "bbox": [
          -68.98583582,
          -22.43611092,
          -68.78108372,
          -22.14495882
         ],
         "geometry": {
          "coordinates": [
           [
            [
             -68.98517167,
             -22.1517374
            ],
            [
             -68.98583582,
             -22.43611092
            ],
            [
             -68.78150975,
             -22.42843591
            ],
            [
             -68.78108372,
             -22.14495882
            ],
            [
             -68.98517167,
             -22.1517374
            ]
           ]
          ],
          "type": "Polygon"
         },
         "id": "10",
         "properties": {
          "acquisitionDate": "2022-02-21T14:51:09.306Z",
          "cloudCoverage": 0,
          "collection": "phr",
          "constellation": "phr",
          "deliveryTime": "MINUTES",
          "end_datetime": null,
          "id": "7d5fbc2a-1cc6-477b-995a-1f77cd29f5dc",
          "producer": "airbus",
          "providerName": "oneatlas",
          "providerProperties": {
           "acquisitionIdentifier": null,
           "acquisitionStation": "SV1",
           "activityId": "13fc7757-8f11-4021-9788-02d0417b526c",
           "archiveIdentifier": "DS_PHR1A_202202211451093_FR1_PX_W069S23_0218_02618",
           "archivingCenter": "FR1",
           "azimuthAngle": 179.9948755577792,
           "commercialReference": "SO22007799",
           "correlationId": "29220e97-db43-4b8b-8381-fe1803c5bf46",
           "customerReference": "C301000",
           "expirationDate": "2200-01-01T00:00:00Z",
           "format": "image/jp2",
           "geometryCentroid": [
            -68.88345976806886,
            -22.290516424342318
           ],
           "illuminationAzimuthAngle": 72.23520302129518,
           "illuminationElevationAngle": 59.40544379805478,
           "incidenceAngle": 17.26985056594277,
           "incidenceAngleAcrossTrack": 7.223262126636604,
           "incidenceAngleAlongTrack": -15.84819202535593,
           "lastUpdateDate": "2022-02-22T06:10:07.851575347Z",
           "organisationName": "AIRBUS DS GEO",
           "parentIdentifier": "DS_PHR1A_202202211451093_FR1_PX_W069S23_0218_02618",
           "processingCenter": "FCMUGC",
           "processingDate": "2022-02-22T05:21:54.705",
           "processingLevel": "SENSOR",
           "processorName": "DRS-MM V2.9vV2.9",
           "productCategory": "image",
           "productType": "bundle",
           "productionStatus": "IN_CLOUD",
           "publicationDate": "2022-02-22T06:10:07.851575347Z",
           "qualified": false,
           "sensorType": "OPTICAL",
           "sourceIdentifier": "DS_PHR1A_202202211450323_FR1_PX_W069S23_0218_02614",
           "spectralRange": "VISIBLE",
           "workspaceId": "0e33eb50-3404-48ad-b835-b0b4b72a5625",
           "workspaceName": "public",
           "workspaceTitle": "Public"
          },
          "resolution": 0.5,
          "sceneId": "7d5fbc2a-1cc6-477b-995a-1f77cd29f5dc",
          "start_datetime": null,
          "up42:usageType": [
           "DATA"
          ]
         },
         "type": "Feature"
        }
       ]
      ],
      "text/plain": [
       "<IPython.core.display.JSON object>"
      ]
     },
     "execution_count": 55,
     "metadata": {
      "application/json": {
       "expanded": false,
       "root": "root"
      }
     },
     "output_type": "execute_result"
    }
   ],
   "source": [
    "pleiades_stereo_results = stereo.select_stereo(\n",
    "    pleiades_search_results[\"features\"]\n",
    ")\n",
    "ppjson(pleiades_stereo_results)"
   ]
  },
  {
   "cell_type": "markdown",
   "id": "e00b6390-a0b4-4489-9de8-8afb3622d0c3",
   "metadata": {},
   "source": [
    "We need to get the image IDs for placing the order. We use the *convenience* function `get_tristereo_image_ids`."
   ]
  },
  {
   "cell_type": "markdown",
   "id": "9b930934-e2c6-4170-b202-1a0049a14bb6",
   "metadata": {
    "tags": []
   },
   "source": [
    "We can even look for tristereo."
   ]
  },
  {
   "cell_type": "code",
   "execution_count": 54,
   "id": "7e33a725-52ca-4f3d-8b71-146c9d1e341a",
   "metadata": {
    "tags": []
   },
   "outputs": [
    {
     "data": {
      "application/json": [
       [
        {
         "bbox": [
          -68.95054475,
          -22.54068934,
          -68.73509852,
          -22.26272822
         ],
         "geometry": {
          "coordinates": [
           [
            [
             -68.94822161,
             -22.26272822
            ],
            [
             -68.95054475,
             -22.53031703
            ],
            [
             -68.7356503,
             -22.54068934
            ],
            [
             -68.73509852,
             -22.27394425
            ],
            [
             -68.94822161,
             -22.26272822
            ]
           ]
          ],
          "type": "Polygon"
         },
         "id": "0",
         "properties": {
          "acquisitionDate": "2023-04-27T14:44:45.430Z",
          "cloudCoverage": 0,
          "collection": "phr",
          "constellation": "phr",
          "deliveryTime": "MINUTES",
          "end_datetime": null,
          "id": "98c9e5b6-962b-404a-8cf1-28785a6ae071",
          "producer": "airbus",
          "providerName": "oneatlas",
          "providerProperties": {
           "acquisitionIdentifier": "DS_PHR1A_202304271444084_FR1_PX_W069S23_0215_02492",
           "acquisitionStation": "SV1",
           "activityId": "186b2baf-347d-4bc8-bf6c-f2d12a6e68eb",
           "archiveIdentifier": "DS_PHR1A_202304271444454_FR1_PX_W069S23_0215_02496",
           "archivingCenter": "FR1",
           "azimuthAngle": 179.9643239414532,
           "commercialReference": "SO23013618",
           "correlationId": "15a957ca-db3e-4c9f-bc26-aca5387019c8",
           "customerReference": "C301000",
           "expirationDate": "2200-01-01T00:00:00Z",
           "format": "image/jp2",
           "geometryCentroid": {
            "lat": -22.401698140906706,
            "lon": -68.84282163357939
           },
           "illuminationAzimuthAngle": 39.00807569124238,
           "illuminationElevationAngle": 45.04543776230869,
           "incidenceAngle": 19.84761515480813,
           "incidenceAngleAcrossTrack": 16.65602953448698,
           "incidenceAngleAlongTrack": 11.41754852939461,
           "lastUpdateDate": "2023-04-28T20:21:34.81068038Z",
           "organisationName": "AIRBUS DS GEO",
           "parentIdentifier": "DS_PHR1A_202304271444454_FR1_PX_W069S23_0215_02496",
           "processingCenter": "FCMUGC",
           "processingDate": "2023-04-28T19:25:15.488",
           "processingLevel": "SENSOR",
           "processorName": "DRS-MM V2.9vV2.9",
           "productCategory": "image",
           "productType": "bundle",
           "productionStatus": "IN_CLOUD",
           "publicationDate": "2023-04-28T20:21:34.81068038Z",
           "qualified": false,
           "sensorType": "OPTICAL",
           "sourceIdentifier": "DS_PHR1A_202304271444084_FR1_PX_W069S23_0215_02492",
           "spectralRange": "VISIBLE",
           "workspaceId": "0e33eb50-3404-48ad-b835-b0b4b72a5625",
           "workspaceName": "public",
           "workspaceTitle": "Public"
          },
          "resolution": 0.5,
          "sceneId": "98c9e5b6-962b-404a-8cf1-28785a6ae071",
          "start_datetime": null,
          "up42:usageType": [
           "DATA"
          ]
         },
         "type": "Feature"
        },
        {
         "bbox": [
          -68.95066656,
          -22.53591048,
          -68.73484292,
          -22.2667809
         ],
         "geometry": {
          "coordinates": [
           [
            [
             -68.94810582,
             -22.2667809
            ],
            [
             -68.95066656,
             -22.53250269
            ],
            [
             -68.7354222,
             -22.53591048
            ],
            [
             -68.73484292,
             -22.27210232
            ],
            [
             -68.94810582,
             -22.2667809
            ]
           ]
          ],
          "type": "Polygon"
         },
         "id": "1",
         "properties": {
          "acquisitionDate": "2023-04-27T14:44:33.430Z",
          "cloudCoverage": 0,
          "collection": "phr",
          "constellation": "phr",
          "deliveryTime": "MINUTES",
          "end_datetime": null,
          "id": "eb074644-039f-4866-b4ac-4fd2482914ff",
          "producer": "airbus",
          "providerName": "oneatlas",
          "providerProperties": {
           "acquisitionIdentifier": "DS_PHR1A_202304271443564_FR1_PX_W069S23_0215_02521",
           "acquisitionStation": "SV1",
           "activityId": "485b3c7b-a959-4c65-bd68-998bf8aad075",
           "archiveIdentifier": "DS_PHR1A_202304271444334_FR1_PX_W069S23_0215_02525",
           "archivingCenter": "FR1",
           "azimuthAngle": 179.9802877660596,
           "commercialReference": "SO23013619",
           "correlationId": "e524f8a1-845f-4ba6-97cf-0b302f38477d",
           "customerReference": "C301000",
           "expirationDate": "2200-01-01T00:00:00Z",
           "format": "image/jp2",
           "geometryCentroid": {
            "lat": -22.401338070692546,
            "lon": -68.8427547382843
           },
           "illuminationAzimuthAngle": 39.00902948515528,
           "illuminationElevationAngle": 45.04661567786316,
           "incidenceAngle": 18.64469499241885,
           "incidenceAngleAcrossTrack": 18.20414287124207,
           "incidenceAngleAlongTrack": 4.314361224712148,
           "lastUpdateDate": "2023-04-28T20:43:25.932402995Z",
           "organisationName": "AIRBUS DS GEO",
           "parentIdentifier": "DS_PHR1A_202304271444334_FR1_PX_W069S23_0215_02525",
           "processingCenter": "FCMUGC",
           "processingDate": "2023-04-28T19:46:00.482",
           "processingLevel": "SENSOR",
           "processorName": "DRS-MM V2.9vV2.9",
           "productCategory": "image",
           "productType": "bundle",
           "productionStatus": "IN_CLOUD",
           "publicationDate": "2023-04-28T20:43:25.932402995Z",
           "qualified": false,
           "sensorType": "OPTICAL",
           "sourceIdentifier": "DS_PHR1A_202304271443564_FR1_PX_W069S23_0215_02521",
           "spectralRange": "VISIBLE",
           "workspaceId": "0e33eb50-3404-48ad-b835-b0b4b72a5625",
           "workspaceName": "public",
           "workspaceTitle": "Public"
          },
          "resolution": 0.5,
          "sceneId": "eb074644-039f-4866-b4ac-4fd2482914ff",
          "start_datetime": null,
          "up42:usageType": [
           "DATA"
          ]
         },
         "type": "Feature"
        },
        {
         "bbox": [
          -68.95236216,
          -22.53598819,
          -68.73301332,
          -22.27045909
         ],
         "geometry": {
          "coordinates": [
           [
            [
             -68.73301332,
             -22.27045909
            ],
            [
             -68.94932176,
             -22.27210082
            ],
            [
             -68.95236216,
             -22.53598819
            ],
            [
             -68.73367243,
             -22.53131668
            ],
            [
             -68.73301332,
             -22.27045909
            ]
           ]
          ],
          "type": "Polygon"
         },
         "id": "2",
         "properties": {
          "acquisitionDate": "2023-04-27T14:44:21.556Z",
          "cloudCoverage": 0,
          "collection": "phr",
          "constellation": "phr",
          "deliveryTime": "MINUTES",
          "end_datetime": null,
          "id": "08f1d0d4-8aba-42aa-b1d0-afd649886305",
          "producer": "airbus",
          "providerName": "oneatlas",
          "providerProperties": {
           "acquisitionIdentifier": "DS_PHR1A_202304271443445_FR1_PX_W069S23_0215_02480",
           "acquisitionStation": "SV1",
           "activityId": "7f0199bc-f6e5-4446-88fa-387363111a2c",
           "archiveIdentifier": "DS_PHR1A_202304271444215_FR1_PX_W069S23_0215_02484",
           "archivingCenter": "FR1",
           "azimuthAngle": 179.9711075500066,
           "commercialReference": "SO23013619",
           "correlationId": "7023d936-43b7-4f4d-bec2-1f7d3aaadfc8",
           "customerReference": "C301000",
           "expirationDate": "2200-01-01T00:00:00Z",
           "format": "image/jp2",
           "geometryCentroid": {
            "lat": -22.403218352049382,
            "lon": -68.84268773918302
           },
           "illuminationAzimuthAngle": 39.00707451871327,
           "illuminationElevationAngle": 45.04431280715382,
           "incidenceAngle": 19.9153378526043,
           "incidenceAngleAcrossTrack": 19.73690803709811,
           "incidenceAngleAlongTrack": -2.883737733442158,
           "lastUpdateDate": "2023-04-28T23:21:43.935922541Z",
           "organisationName": "AIRBUS DS GEO",
           "parentIdentifier": "DS_PHR1A_202304271444215_FR1_PX_W069S23_0215_02484",
           "processingCenter": "FCMUGC",
           "processingDate": "2023-04-28T22:08:54.515",
           "processingLevel": "SENSOR",
           "processorName": "DRS-MM V2.9vV2.9",
           "productCategory": "image",
           "productType": "bundle",
           "productionStatus": "IN_CLOUD",
           "publicationDate": "2023-04-28T23:21:43.935922541Z",
           "qualified": false,
           "sensorType": "OPTICAL",
           "sourceIdentifier": "DS_PHR1A_202304271443445_FR1_PX_W069S23_0215_02480",
           "spectralRange": "VISIBLE",
           "workspaceId": "0e33eb50-3404-48ad-b835-b0b4b72a5625",
           "workspaceName": "public",
           "workspaceTitle": "Public"
          },
          "resolution": 0.5,
          "sceneId": "08f1d0d4-8aba-42aa-b1d0-afd649886305",
          "start_datetime": null,
          "up42:usageType": [
           "DATA"
          ]
         },
         "type": "Feature"
        }
       ],
       [
        {
         "bbox": [
          -68.9883676,
          -22.43130348,
          -68.77853083,
          -22.14593234
         ],
         "geometry": {
          "coordinates": [
           [
            [
             -68.78062962,
             -22.14593234
            ],
            [
             -68.9883676,
             -22.15207843
            ],
            [
             -68.98816513,
             -22.43130348
            ],
            [
             -68.77853083,
             -22.42722103
            ],
            [
             -68.78062962,
             -22.14593234
            ]
           ]
          ],
          "type": "Polygon"
         },
         "id": "3",
         "properties": {
          "acquisitionDate": "2022-12-16T14:59:35.180Z",
          "cloudCoverage": 0,
          "collection": "phr",
          "constellation": "phr",
          "deliveryTime": "MINUTES",
          "end_datetime": null,
          "id": "40822952-d93b-4b2c-a506-894c173021cc",
          "producer": "airbus",
          "providerName": "oneatlas",
          "providerProperties": {
           "acquisitionIdentifier": "",
           "acquisitionStation": "SV1",
           "activityId": "a7f9d21b-e539-4b40-b8f1-7a9fdceef528",
           "archiveIdentifier": "DS_PHR1A_202212161459351_FR1_PX_W069S23_0218_02694",
           "archivingCenter": "FR1",
           "azimuthAngle": 180.0955884909224,
           "commercialReference": "SO22068032",
           "correlationId": "22845396-c03f-4c25-ace0-a0cfbd8b0c69",
           "customerReference": "C301000",
           "expirationDate": "2200-01-01T00:00:00Z",
           "format": "image/jp2",
           "geometryCentroid": {
            "lat": -22.288603069028735,
            "lon": -68.88344921599571
           },
           "illuminationAzimuthAngle": 97.62163733201719,
           "illuminationElevationAngle": 68.74120619578999,
           "incidenceAngle": 16.49244723296131,
           "incidenceAngleAcrossTrack": -15.37024037644951,
           "incidenceAngleAlongTrack": 6.275898879440232,
           "lastUpdateDate": "2022-12-17T06:15:16.083744021Z",
           "organisationName": "AIRBUS DS GEO",
           "parentIdentifier": "DS_PHR1A_202212161459351_FR1_PX_W069S23_0218_02694",
           "processingCenter": "FCMUGC",
           "processingDate": "2022-12-17T05:12:24.427",
           "processingLevel": "SENSOR",
           "processorName": "DRS-MM V2.9vV2.9",
           "productCategory": "image",
           "productType": "bundle",
           "productionStatus": "IN_CLOUD",
           "publicationDate": "2022-12-17T06:15:16.083744021Z",
           "qualified": false,
           "sensorType": "OPTICAL",
           "snowCover": 0,
           "sourceIdentifier": "DS_PHR1A_202212161458581_FR1_PX_W069S23_0218_02690",
           "spectralRange": "VISIBLE",
           "workspaceId": "0e33eb50-3404-48ad-b835-b0b4b72a5625",
           "workspaceName": "public",
           "workspaceTitle": "Public"
          },
          "resolution": 0.5,
          "sceneId": "40822952-d93b-4b2c-a506-894c173021cc",
          "start_datetime": null,
          "up42:usageType": [
           "DATA"
          ]
         },
         "type": "Feature"
        },
        {
         "bbox": [
          -68.98657256,
          -22.42973602,
          -68.7803949,
          -22.15091541
         ],
         "geometry": {
          "coordinates": [
           [
            [
             -68.78231344,
             -22.15091541
            ],
            [
             -68.98657256,
             -22.15096052
            ],
            [
             -68.98653448,
             -22.42776447
            ],
            [
             -68.7803949,
             -22.42973602
            ],
            [
             -68.78231344,
             -22.15091541
            ]
           ]
          ],
          "type": "Polygon"
         },
         "id": "4",
         "properties": {
          "acquisitionDate": "2022-12-16T14:59:23.055Z",
          "cloudCoverage": 0,
          "collection": "phr",
          "constellation": "phr",
          "deliveryTime": "MINUTES",
          "end_datetime": null,
          "id": "4e0fe1c4-98d1-4503-a36a-5784855bb936",
          "producer": "airbus",
          "providerName": "oneatlas",
          "providerProperties": {
           "acquisitionIdentifier": "",
           "acquisitionStation": "SV1",
           "activityId": "1acf2373-a7fe-478d-9590-dd98a2c1eb88",
           "archiveIdentifier": "DS_PHR1A_202212161459230_FR1_PX_W069S23_0218_02710",
           "archivingCenter": "FR1",
           "azimuthAngle": 180.0225177114388,
           "commercialReference": "SO22068032",
           "correlationId": "5dfaae58-b2a3-42e6-b570-709cd690ca57",
           "customerReference": "C301000",
           "expirationDate": "2200-01-01T00:00:00Z",
           "format": "image/jp2",
           "geometryCentroid": {
            "lat": -22.29031191416253,
            "lon": -68.88348373333952
           },
           "illuminationAzimuthAngle": 97.62215571974394,
           "illuminationElevationAngle": 68.7411984126544,
           "incidenceAngle": 13.96702612322658,
           "incidenceAngleAcrossTrack": -13.92829084713514,
           "incidenceAngleAlongTrack": -1.081718409807388,
           "lastUpdateDate": "2022-12-17T06:22:31.327445865Z",
           "organisationName": "AIRBUS DS GEO",
           "parentIdentifier": "DS_PHR1A_202212161459230_FR1_PX_W069S23_0218_02710",
           "processingCenter": "FCMUGC",
           "processingDate": "2022-12-17T05:09:39.731",
           "processingLevel": "SENSOR",
           "processorName": "DRS-MM V2.9vV2.9",
           "productCategory": "image",
           "productType": "bundle",
           "productionStatus": "IN_CLOUD",
           "publicationDate": "2022-12-17T06:22:31.327445865Z",
           "qualified": false,
           "sensorType": "OPTICAL",
           "snowCover": 0,
           "sourceIdentifier": "DS_PHR1A_202212161458460_FR1_PX_W069S23_0218_02706",
           "spectralRange": "VISIBLE",
           "workspaceId": "0e33eb50-3404-48ad-b835-b0b4b72a5625",
           "workspaceName": "public",
           "workspaceTitle": "Public"
          },
          "resolution": 0.5,
          "sceneId": "4e0fe1c4-98d1-4503-a36a-5784855bb936",
          "start_datetime": null,
          "up42:usageType": [
           "DATA"
          ]
         },
         "type": "Feature"
        },
        {
         "bbox": [
          -68.98652431,
          -22.43670953,
          -68.78046594,
          -22.14601086
         ],
         "geometry": {
          "coordinates": [
           [
            [
             -68.98649258,
             -22.14601086
            ],
            [
             -68.98652431,
             -22.42844785
            ],
            [
             -68.78046594,
             -22.43670953
            ],
            [
             -68.78216563,
             -22.15221811
            ],
            [
             -68.98649258,
             -22.14601086
            ]
           ]
          ],
          "type": "Polygon"
         },
         "id": "5",
         "properties": {
          "acquisitionDate": "2022-12-16T14:59:07.181Z",
          "cloudCoverage": 0,
          "collection": "phr",
          "constellation": "phr",
          "deliveryTime": "MINUTES",
          "end_datetime": null,
          "id": "e74f0faa-f587-4eab-987b-af42f365d026",
          "producer": "airbus",
          "providerName": "oneatlas",
          "providerProperties": {
           "acquisitionIdentifier": "",
           "acquisitionStation": "SV1",
           "activityId": "1cd54e91-c45b-4db3-964d-9d24e8d884d5",
           "archiveIdentifier": "DS_PHR1A_202212161459071_FR1_PX_W069S23_0218_02694",
           "archivingCenter": "FR1",
           "azimuthAngle": 180.0186118489014,
           "commercialReference": "SO22068032",
           "correlationId": "a34a38fc-4eb0-4fd5-b7ce-e31bab1581a5",
           "customerReference": "C301000",
           "expirationDate": "2200-01-01T00:00:00Z",
           "format": "image/jp2",
           "geometryCentroid": {
            "lat": -22.291342316557735,
            "lon": -68.88349512827166
           },
           "illuminationAzimuthAngle": 97.61781887419477,
           "illuminationElevationAngle": 68.7414072734413,
           "incidenceAngle": 15.84657873325903,
           "incidenceAngleAcrossTrack": -12.02557024142032,
           "incidenceAngleAlongTrack": -10.62490781396385,
           "lastUpdateDate": "2022-12-17T06:15:19.236901034Z",
           "organisationName": "AIRBUS DS GEO",
           "parentIdentifier": "DS_PHR1A_202212161459071_FR1_PX_W069S23_0218_02694",
           "processingCenter": "FCMUGC",
           "processingDate": "2022-12-17T05:08:47.556",
           "processingLevel": "SENSOR",
           "processorName": "DRS-MM V2.9vV2.9",
           "productCategory": "image",
           "productType": "bundle",
           "productionStatus": "IN_CLOUD",
           "publicationDate": "2022-12-17T06:15:19.236901034Z",
           "qualified": false,
           "sensorType": "OPTICAL",
           "snowCover": 0,
           "sourceIdentifier": "DS_PHR1A_202212161458301_FR1_PX_W069S23_0218_02690",
           "spectralRange": "VISIBLE",
           "workspaceId": "0e33eb50-3404-48ad-b835-b0b4b72a5625",
           "workspaceName": "public",
           "workspaceTitle": "Public"
          },
          "resolution": 0.5,
          "sceneId": "e74f0faa-f587-4eab-987b-af42f365d026",
          "start_datetime": null,
          "up42:usageType": [
           "DATA"
          ]
         },
         "type": "Feature"
        }
       ],
       [
        {
         "bbox": [
          -68.98515992,
          -22.4292201,
          -68.78215219,
          -22.15084898
         ],
         "geometry": {
          "coordinates": [
           [
            [
             -68.98493305,
             -22.15084898
            ],
            [
             -68.98515992,
             -22.42920268
            ],
            [
             -68.78215219,
             -22.4292201
            ],
            [
             -68.78226492,
             -22.15113801
            ],
            [
             -68.98493305,
             -22.15084898
            ]
           ]
          ],
          "type": "Polygon"
         },
         "id": "8",
         "properties": {
          "acquisitionDate": "2022-02-21T14:52:05.931Z",
          "cloudCoverage": 0,
          "collection": "phr",
          "constellation": "phr",
          "deliveryTime": "MINUTES",
          "end_datetime": null,
          "id": "f6619ee2-1481-476e-8c62-c1358d0f146a",
          "producer": "airbus",
          "providerName": "oneatlas",
          "providerProperties": {
           "acquisitionIdentifier": null,
           "acquisitionStation": "SV1",
           "activityId": "f9f7371e-811d-419c-98d1-403417415c95",
           "archiveIdentifier": "DS_PHR1A_202202211452059_FR1_PX_W069S23_0218_02560",
           "archivingCenter": "FR1",
           "azimuthAngle": 180.0358451187738,
           "commercialReference": "SO22007799",
           "correlationId": "57e77c44-f5d8-4dad-956a-33fea8504109",
           "customerReference": "C301000",
           "expirationDate": "2200-01-01T00:00:00Z",
           "format": "image/jp2",
           "geometryCentroid": [
            -68.88365605358258,
            -22.2900316838949
           ],
           "illuminationAzimuthAngle": 72.02729896411978,
           "illuminationElevationAngle": 59.62700761313229,
           "incidenceAngle": 17.4509760831467,
           "incidenceAngleAcrossTrack": -0.3443840565049494,
           "incidenceAngleAlongTrack": 17.44797941451158,
           "lastUpdateDate": "2022-02-22T06:10:20.292019634Z",
           "organisationName": "AIRBUS DS GEO",
           "parentIdentifier": "DS_PHR1A_202202211452059_FR1_PX_W069S23_0218_02560",
           "processingCenter": "FCMUGC",
           "processingDate": "2022-02-22T05:22:45.685",
           "processingLevel": "SENSOR",
           "processorName": "DRS-MM V2.9vV2.9",
           "productCategory": "image",
           "productType": "bundle",
           "productionStatus": "IN_CLOUD",
           "publicationDate": "2022-02-22T06:10:20.292019634Z",
           "qualified": false,
           "sensorType": "OPTICAL",
           "sourceIdentifier": "DS_PHR1A_202202211451289_FR1_PX_W069S23_0218_02556",
           "spectralRange": "VISIBLE",
           "workspaceId": "0e33eb50-3404-48ad-b835-b0b4b72a5625",
           "workspaceName": "public",
           "workspaceTitle": "Public"
          },
          "resolution": 0.5,
          "sceneId": "f6619ee2-1481-476e-8c62-c1358d0f146a",
          "start_datetime": null,
          "up42:usageType": [
           "DATA"
          ]
         },
         "type": "Feature"
        },
        {
         "bbox": [
          -68.98127552,
          -22.42772686,
          -68.78592636,
          -22.15050414
         ],
         "geometry": {
          "coordinates": [
           [
            [
             -68.98085661,
             -22.15050414
            ],
            [
             -68.98127552,
             -22.42772686
            ],
            [
             -68.78605953,
             -22.42759261
            ],
            [
             -68.78592636,
             -22.15083962
            ],
            [
             -68.98085661,
             -22.15050414
            ]
           ]
          ],
          "type": "Polygon"
         },
         "id": "9",
         "properties": {
          "acquisitionDate": "2022-02-21T14:51:36.180Z",
          "cloudCoverage": 0,
          "collection": "phr",
          "constellation": "phr",
          "deliveryTime": "MINUTES",
          "end_datetime": null,
          "id": "648a6968-04e6-4a94-9254-cefe712033ae",
          "producer": "airbus",
          "providerName": "oneatlas",
          "providerProperties": {
           "acquisitionIdentifier": null,
           "acquisitionStation": "SV1",
           "activityId": "608fce33-4d3b-444f-b290-8e7215b910fb",
           "archiveIdentifier": "DS_PHR1A_202202211451361_FR1_PX_W069S23_0218_02770",
           "archivingCenter": "FR1",
           "azimuthAngle": 179.9836128771566,
           "commercialReference": "SO22007799",
           "correlationId": "ccfc1962-461d-419e-8ed2-3bdd617fc5e5",
           "customerReference": "C301000",
           "expirationDate": "2200-01-01T00:00:00Z",
           "format": "image/jp2",
           "geometryCentroid": [
            -68.88360093847677,
            -22.289098899500182
           ],
           "illuminationAzimuthAngle": 72.23710889025932,
           "illuminationElevationAngle": 59.40566392993236,
           "incidenceAngle": 3.587108297345783,
           "incidenceAngleAcrossTrack": 3.585316132100901,
           "incidenceAngleAlongTrack": 0.1136727954817755,
           "lastUpdateDate": "2022-02-22T06:11:33.781291231Z",
           "organisationName": "AIRBUS DS GEO",
           "parentIdentifier": "DS_PHR1A_202202211451361_FR1_PX_W069S23_0218_02770",
           "processingCenter": "FCMUGC",
           "processingDate": "2022-02-22T05:22:17.282",
           "processingLevel": "SENSOR",
           "processorName": "DRS-MM V2.9vV2.9",
           "productCategory": "image",
           "productType": "bundle",
           "productionStatus": "IN_CLOUD",
           "publicationDate": "2022-02-22T06:11:33.781291231Z",
           "qualified": false,
           "sensorType": "OPTICAL",
           "sourceIdentifier": "DS_PHR1A_202202211450591_FR1_PX_W069S23_0218_02766",
           "spectralRange": "VISIBLE",
           "workspaceId": "0e33eb50-3404-48ad-b835-b0b4b72a5625",
           "workspaceName": "public",
           "workspaceTitle": "Public"
          },
          "resolution": 0.5,
          "sceneId": "648a6968-04e6-4a94-9254-cefe712033ae",
          "start_datetime": null,
          "up42:usageType": [
           "DATA"
          ]
         },
         "type": "Feature"
        },
        {
         "bbox": [
          -68.98583582,
          -22.43611092,
          -68.78108372,
          -22.14495882
         ],
         "geometry": {
          "coordinates": [
           [
            [
             -68.98517167,
             -22.1517374
            ],
            [
             -68.98583582,
             -22.43611092
            ],
            [
             -68.78150975,
             -22.42843591
            ],
            [
             -68.78108372,
             -22.14495882
            ],
            [
             -68.98517167,
             -22.1517374
            ]
           ]
          ],
          "type": "Polygon"
         },
         "id": "10",
         "properties": {
          "acquisitionDate": "2022-02-21T14:51:09.306Z",
          "cloudCoverage": 0,
          "collection": "phr",
          "constellation": "phr",
          "deliveryTime": "MINUTES",
          "end_datetime": null,
          "id": "7d5fbc2a-1cc6-477b-995a-1f77cd29f5dc",
          "producer": "airbus",
          "providerName": "oneatlas",
          "providerProperties": {
           "acquisitionIdentifier": null,
           "acquisitionStation": "SV1",
           "activityId": "13fc7757-8f11-4021-9788-02d0417b526c",
           "archiveIdentifier": "DS_PHR1A_202202211451093_FR1_PX_W069S23_0218_02618",
           "archivingCenter": "FR1",
           "azimuthAngle": 179.9948755577792,
           "commercialReference": "SO22007799",
           "correlationId": "29220e97-db43-4b8b-8381-fe1803c5bf46",
           "customerReference": "C301000",
           "expirationDate": "2200-01-01T00:00:00Z",
           "format": "image/jp2",
           "geometryCentroid": [
            -68.88345976806886,
            -22.290516424342318
           ],
           "illuminationAzimuthAngle": 72.23520302129518,
           "illuminationElevationAngle": 59.40544379805478,
           "incidenceAngle": 17.26985056594277,
           "incidenceAngleAcrossTrack": 7.223262126636604,
           "incidenceAngleAlongTrack": -15.84819202535593,
           "lastUpdateDate": "2022-02-22T06:10:07.851575347Z",
           "organisationName": "AIRBUS DS GEO",
           "parentIdentifier": "DS_PHR1A_202202211451093_FR1_PX_W069S23_0218_02618",
           "processingCenter": "FCMUGC",
           "processingDate": "2022-02-22T05:21:54.705",
           "processingLevel": "SENSOR",
           "processorName": "DRS-MM V2.9vV2.9",
           "productCategory": "image",
           "productType": "bundle",
           "productionStatus": "IN_CLOUD",
           "publicationDate": "2022-02-22T06:10:07.851575347Z",
           "qualified": false,
           "sensorType": "OPTICAL",
           "sourceIdentifier": "DS_PHR1A_202202211450323_FR1_PX_W069S23_0218_02614",
           "spectralRange": "VISIBLE",
           "workspaceId": "0e33eb50-3404-48ad-b835-b0b4b72a5625",
           "workspaceName": "public",
           "workspaceTitle": "Public"
          },
          "resolution": 0.5,
          "sceneId": "7d5fbc2a-1cc6-477b-995a-1f77cd29f5dc",
          "start_datetime": null,
          "up42:usageType": [
           "DATA"
          ]
         },
         "type": "Feature"
        }
       ]
      ],
      "text/plain": [
       "<IPython.core.display.JSON object>"
      ]
     },
     "execution_count": 54,
     "metadata": {
      "application/json": {
       "expanded": false,
       "root": "root"
      }
     },
     "output_type": "execute_result"
    }
   ],
   "source": [
    "pleiades_tristereo_results = stereo.select_tristereo(pleiades_search_results[\"features\"])\n",
    "ppjson(pleiades_tristereo_results)"
   ]
  },
  {
   "cell_type": "markdown",
   "id": "9797b059-bc2f-4e63-bd67-ed948c93afc8",
   "metadata": {},
   "source": [
    "## Looking for false stereo\n",
    "\n",
    "We already know from above that there are no stereo captures between April 1st, 2021 and Feb 20th 2022. So let us try our luck regarding false stereo for this time range."
   ]
  },
  {
   "cell_type": "code",
   "execution_count": 97,
   "id": "98ccef46-44c5-4fc1-8837-3b898a22342b",
   "metadata": {
    "tags": []
   },
   "outputs": [],
   "source": [
    "my_false_stereo_end_date=\"2020-01-01\"\n",
    "my_false_stereo_start_date=\"2019-10-01\""
   ]
  },
  {
   "cell_type": "markdown",
   "id": "51a97001-0538-437a-a88c-aa299dff2d25",
   "metadata": {},
   "source": [
    "Doing a search just for this date range."
   ]
  },
  {
   "cell_type": "code",
   "execution_count": 98,
   "id": "11a585e0-dfc4-42b8-af29-89fb15cd5bb7",
   "metadata": {
    "tags": []
   },
   "outputs": [],
   "source": [
    "false_stereo_search_params = catalog.construct_search_parameters(\n",
    "    geometry=aoi_map,\n",
    "    start_date=my_false_stereo_start_date,\n",
    "    end_date=my_false_stereo_end_date,\n",
    "    collections=[pleiades_coll_name],\n",
    "    max_cloudcover=10,\n",
    "    sortby=\"acquisitionDate\",\n",
    "    ascending=False,\n",
    "    limit=50,\n",
    ")"
   ]
  },
  {
   "cell_type": "code",
   "execution_count": 99,
   "id": "41aa4098-e775-4e42-9285-0c169c35ef79",
   "metadata": {
    "tags": []
   },
   "outputs": [
    {
     "name": "stderr",
     "output_type": "stream",
     "text": [
      "2023-06-26 12:17:32,182 - Searching catalog with search_parameters: {'datetime': '2019-10-01T00:00:00Z/2020-01-01T23:59:59Z', 'intersects': {'type': 'Polygon', 'coordinates': (((-68.92192558463671, -22.32018472450315), (-68.9242442302506, -22.341155732344163), (-68.8877470307674, -22.341155732344163), (-68.89496059490037, -22.31915197980001), (-68.92192558463671, -22.32018472450315)),)}, 'limit': 50, 'collections': ['phr'], 'query': {'cloudCoverage': {'lte': 10}}, 'sortby': [{'field': 'properties.acquisitionDate', 'direction': 'desc'}]}\n",
      "2023-06-26 12:17:34,796 - 15 results returned.\n"
     ]
    }
   ],
   "source": [
    "false_stereo_search_results = catalog.search(false_stereo_search_params, as_dataframe=False)"
   ]
  },
  {
   "cell_type": "markdown",
   "id": "d9fccacf-3d6d-4846-8618-7b055ad6f9ae",
   "metadata": {},
   "source": [
    "We are interested only in images were the incidence angle is **below 30 &deg;**."
   ]
  },
  {
   "cell_type": "code",
   "execution_count": 120,
   "id": "b97d4f52-fd12-4ffb-86ba-bd1ae441db80",
   "metadata": {
    "tags": []
   },
   "outputs": [],
   "source": [
    "filtered_false_stereo_search_results =list(\n",
    "    filter(lambda f: get_in([\"properties\", \"providerProperties\", \"incidenceAngle\"], f) < 30, \n",
    "           false_stereo_search_results[\"features\"]))"
   ]
  },
  {
   "cell_type": "markdown",
   "id": "ec0de524-76b8-4569-9cc8-c0023813e443",
   "metadata": {},
   "source": [
    "Now we need to define the time difference in seconds so that we can look for the false stereo."
   ]
  },
  {
   "cell_type": "code",
   "execution_count": 74,
   "id": "a0ac1b2c-4451-44f0-8edc-5faeeaf98f13",
   "metadata": {
    "tags": []
   },
   "outputs": [
    {
     "data": {
      "text/plain": [
       "31536000"
      ]
     },
     "execution_count": 74,
     "metadata": {},
     "output_type": "execute_result"
    }
   ],
   "source": [
    "false_stereo_delay = stereo.compute_delay(my_false_stereo_start_date,  my_false_stereo_end_date)\n",
    "false_stereo_delay"
   ]
  },
  {
   "cell_type": "code",
   "execution_count": 116,
   "id": "14bb5a45-1967-48d0-aa62-c90f1692e4da",
   "metadata": {
    "tags": []
   },
   "outputs": [
    {
     "data": {
      "application/json": [
       [
        {
         "bbox": [
          -68.96221228,
          -22.42716206,
          -68.75373075,
          -22.14749533
         ],
         "geometry": {
          "coordinates": [
           [
            [
             -68.75549246,
             -22.14749533
            ],
            [
             -68.81067255,
             -22.14750822
            ],
            [
             -68.96160575,
             -22.14944307
            ],
            [
             -68.96120618,
             -22.22701401
            ],
            [
             -68.96188999,
             -22.25431214
            ],
            [
             -68.96221228,
             -22.27254234
            ],
            [
             -68.96133339,
             -22.29976352
            ],
            [
             -68.96081427,
             -22.33606309
            ],
            [
             -68.9609172,
             -22.35422293
            ],
            [
             -68.96053125,
             -22.37235526
            ],
            [
             -68.96043404,
             -22.42695165
            ],
            [
             -68.90584791,
             -22.42647695
            ],
            [
             -68.75393368,
             -22.42716206
            ],
            [
             -68.75373075,
             -22.39461962
            ],
            [
             -68.75391092,
             -22.28471604
            ],
            [
             -68.75549246,
             -22.14749533
            ]
           ]
          ],
          "type": "Polygon"
         },
         "id": "2",
         "properties": {
          "acquisitionDate": "2019-12-20T14:59:21.180Z",
          "cloudCoverage": 0,
          "collection": "phr",
          "constellation": "phr",
          "deliveryTime": "HOURS",
          "end_datetime": null,
          "id": "0983ebc6-bae7-411d-8363-b832bbb8e036",
          "producer": "airbus",
          "providerName": "oneatlas",
          "providerProperties": {
           "acquisitionIdentifier": "DS_PHR1A_201912201459211_FR1_PX_W069S23_0218_02712",
           "acquisitionStation": "SV1",
           "activityId": "b3198b13-a690-4062-866b-65982f7cadd6",
           "archiveIdentifier": "DS_PHR1A_201912201459211_FR1_PX_W069S23_0218_02712",
           "archivingCenter": "FR1",
           "azimuthAngle": 180.1150956443667,
           "correlationId": "732220c6-2596-431d-c3f8-e7aa7d9d2056",
           "expirationDate": "2200-01-01T00:00:00Z",
           "format": "image/tiff",
           "geometryCentroid": {
            "lat": -22.28731534638603,
            "lon": -68.85797151281422
           },
           "illuminationAzimuthAngle": 97.92749244502438,
           "illuminationElevationAngle": 68.34591759685902,
           "incidenceAngle": 14.5008562847067,
           "incidenceAngleAcrossTrack": -14.45380797539367,
           "incidenceAngleAlongTrack": 1.218347817043032,
           "lastUpdateDate": "2023-06-15T16:57:19.517736691Z",
           "organisationName": "AIRBUS DS GEO",
           "parentIdentifier": "DS_PHR1A_201912201459211_FR1_PX_W069S23_0218_02712",
           "processingCenter": "MOC",
           "processingDate": "2019-12-20T16:56:47.898Z",
           "processingLevel": "ALBUM",
           "processorName": "MMCAT",
           "productCategory": "image",
           "productType": "mono",
           "productionStatus": "ARCHIVED",
           "publicationDate": "2023-06-15T16:57:19.517736691Z",
           "qualified": false,
           "sensorType": "OPTICAL",
           "snowCover": 0,
           "sourceIdentifier": "DS_PHR1A_201912201459211_FR1_PX_W069S23_0218_02712",
           "spectralRange": "VISIBLE",
           "title": "",
           "workspaceId": "0e33eb50-3404-48ad-b835-b0b4b72a5625",
           "workspaceName": "public",
           "workspaceTitle": "Public"
          },
          "resolution": 0.5,
          "sceneId": "0983ebc6-bae7-411d-8363-b832bbb8e036",
          "start_datetime": null,
          "up42:usageType": [
           "DATA"
          ]
         },
         "type": "Feature"
        },
        {
         "bbox": [
          -69.01642269,
          -22.40180061,
          -68.78555266,
          -22.30004092
         ],
         "geometry": {
          "coordinates": [
           [
            [
             -69.01639331,
             -22.30004092
            ],
            [
             -69.01642269,
             -22.32769944
            ],
            [
             -69.01608462,
             -22.36098606
            ],
            [
             -69.0157641,
             -22.37240562
            ],
            [
             -68.9996674,
             -22.37400813
            ],
            [
             -68.97726234,
             -22.37712989
            ],
            [
             -68.94340408,
             -22.38144408
            ],
            [
             -68.93194362,
             -22.38303819
            ],
            [
             -68.83000911,
             -22.39584412
            ],
            [
             -68.78555266,
             -22.40180061
            ],
            [
             -68.7858979,
             -22.32989793
            ],
            [
             -68.85901227,
             -22.31979401
            ],
            [
             -68.89315603,
             -22.31528082
            ],
            [
             -68.90433801,
             -22.31413648
            ],
            [
             -68.96149755,
             -22.30623435
            ],
            [
             -68.9730165,
             -22.30447159
            ],
            [
             -68.98407527,
             -22.30320431
            ],
            [
             -69.00577146,
             -22.30098778
            ],
            [
             -69.01639331,
             -22.30004092
            ]
           ]
          ],
          "type": "Polygon"
         },
         "id": "4",
         "properties": {
          "acquisitionDate": "2019-12-13T15:02:28.430Z",
          "cloudCoverage": 0,
          "collection": "phr",
          "constellation": "phr",
          "deliveryTime": "HOURS",
          "end_datetime": null,
          "id": "eea1ce27-bd9c-4b67-9a91-41cba8fa5ae1",
          "producer": "airbus",
          "providerName": "oneatlas",
          "providerProperties": {
           "acquisitionIdentifier": "DS_PHR1A_201912131502284_FR1_PX_W069S23_0216_00596",
           "acquisitionStation": "SV1",
           "activityId": "299112da-c39c-45b4-8523-0ccbeffdfc10",
           "archiveIdentifier": "DS_PHR1A_201912131502284_FR1_PX_W069S23_0216_00596",
           "archivingCenter": "FR1",
           "azimuthAngle": 180.0160916782295,
           "correlationId": "ed927585-c457-4a3f-cad3-920ef3a9d8b3",
           "expirationDate": "2200-01-01T00:00:00Z",
           "format": "image/tiff",
           "geometryCentroid": {
            "lat": -22.35095547000594,
            "lon": -68.90098767530732
           },
           "illuminationAzimuthAngle": 96.88815547662468,
           "illuminationElevationAngle": 69.77591545343736,
           "incidenceAngle": 29.39083189878248,
           "incidenceAngleAcrossTrack": -17.37586674315616,
           "incidenceAngleAlongTrack": -25.09566074673264,
           "lastUpdateDate": "2023-06-15T14:35:01.202517629Z",
           "organisationName": "AIRBUS DS GEO",
           "parentIdentifier": "DS_PHR1A_201912131502284_FR1_PX_W069S23_0216_00596",
           "processingCenter": "MOC",
           "processingDate": "2019-12-13T17:22:57.494Z",
           "processingLevel": "ALBUM",
           "processorName": "MMCAT",
           "productCategory": "image",
           "productType": "mono",
           "productionStatus": "ARCHIVED",
           "publicationDate": "2023-06-15T14:35:01.202517629Z",
           "qualified": false,
           "sensorType": "OPTICAL",
           "snowCover": 0,
           "sourceIdentifier": "DS_PHR1A_201912131502284_FR1_PX_W069S23_0216_00596",
           "spectralRange": "VISIBLE",
           "title": "",
           "workspaceId": "0e33eb50-3404-48ad-b835-b0b4b72a5625",
           "workspaceName": "public",
           "workspaceTitle": "Public"
          },
          "resolution": 0.5,
          "sceneId": "eea1ce27-bd9c-4b67-9a91-41cba8fa5ae1",
          "start_datetime": null,
          "up42:usageType": [
           "DATA"
          ]
         },
         "type": "Feature"
        }
       ],
       [
        {
         "bbox": [
          -69.01642269,
          -22.40180061,
          -68.78555266,
          -22.30004092
         ],
         "geometry": {
          "coordinates": [
           [
            [
             -69.01639331,
             -22.30004092
            ],
            [
             -69.01642269,
             -22.32769944
            ],
            [
             -69.01608462,
             -22.36098606
            ],
            [
             -69.0157641,
             -22.37240562
            ],
            [
             -68.9996674,
             -22.37400813
            ],
            [
             -68.97726234,
             -22.37712989
            ],
            [
             -68.94340408,
             -22.38144408
            ],
            [
             -68.93194362,
             -22.38303819
            ],
            [
             -68.83000911,
             -22.39584412
            ],
            [
             -68.78555266,
             -22.40180061
            ],
            [
             -68.7858979,
             -22.32989793
            ],
            [
             -68.85901227,
             -22.31979401
            ],
            [
             -68.89315603,
             -22.31528082
            ],
            [
             -68.90433801,
             -22.31413648
            ],
            [
             -68.96149755,
             -22.30623435
            ],
            [
             -68.9730165,
             -22.30447159
            ],
            [
             -68.98407527,
             -22.30320431
            ],
            [
             -69.00577146,
             -22.30098778
            ],
            [
             -69.01639331,
             -22.30004092
            ]
           ]
          ],
          "type": "Polygon"
         },
         "id": "4",
         "properties": {
          "acquisitionDate": "2019-12-13T15:02:28.430Z",
          "cloudCoverage": 0,
          "collection": "phr",
          "constellation": "phr",
          "deliveryTime": "HOURS",
          "end_datetime": null,
          "id": "eea1ce27-bd9c-4b67-9a91-41cba8fa5ae1",
          "producer": "airbus",
          "providerName": "oneatlas",
          "providerProperties": {
           "acquisitionIdentifier": "DS_PHR1A_201912131502284_FR1_PX_W069S23_0216_00596",
           "acquisitionStation": "SV1",
           "activityId": "299112da-c39c-45b4-8523-0ccbeffdfc10",
           "archiveIdentifier": "DS_PHR1A_201912131502284_FR1_PX_W069S23_0216_00596",
           "archivingCenter": "FR1",
           "azimuthAngle": 180.0160916782295,
           "correlationId": "ed927585-c457-4a3f-cad3-920ef3a9d8b3",
           "expirationDate": "2200-01-01T00:00:00Z",
           "format": "image/tiff",
           "geometryCentroid": {
            "lat": -22.35095547000594,
            "lon": -68.90098767530732
           },
           "illuminationAzimuthAngle": 96.88815547662468,
           "illuminationElevationAngle": 69.77591545343736,
           "incidenceAngle": 29.39083189878248,
           "incidenceAngleAcrossTrack": -17.37586674315616,
           "incidenceAngleAlongTrack": -25.09566074673264,
           "lastUpdateDate": "2023-06-15T14:35:01.202517629Z",
           "organisationName": "AIRBUS DS GEO",
           "parentIdentifier": "DS_PHR1A_201912131502284_FR1_PX_W069S23_0216_00596",
           "processingCenter": "MOC",
           "processingDate": "2019-12-13T17:22:57.494Z",
           "processingLevel": "ALBUM",
           "processorName": "MMCAT",
           "productCategory": "image",
           "productType": "mono",
           "productionStatus": "ARCHIVED",
           "publicationDate": "2023-06-15T14:35:01.202517629Z",
           "qualified": false,
           "sensorType": "OPTICAL",
           "snowCover": 0,
           "sourceIdentifier": "DS_PHR1A_201912131502284_FR1_PX_W069S23_0216_00596",
           "spectralRange": "VISIBLE",
           "title": "",
           "workspaceId": "0e33eb50-3404-48ad-b835-b0b4b72a5625",
           "workspaceName": "public",
           "workspaceTitle": "Public"
          },
          "resolution": 0.5,
          "sceneId": "eea1ce27-bd9c-4b67-9a91-41cba8fa5ae1",
          "start_datetime": null,
          "up42:usageType": [
           "DATA"
          ]
         },
         "type": "Feature"
        },
        {
         "bbox": [
          -68.99816332,
          -22.37661972,
          -68.80336362,
          -22.31830012
         ],
         "geometry": {
          "coordinates": [
           [
            [
             -68.86465759,
             -22.31830012
            ],
            [
             -68.99790329,
             -22.31875581
            ],
            [
             -68.99816332,
             -22.37646555
            ],
            [
             -68.92728798,
             -22.37586372
            ],
            [
             -68.80336776,
             -22.37661972
            ],
            [
             -68.80336362,
             -22.31892564
            ],
            [
             -68.86465759,
             -22.31830012
            ]
           ]
          ],
          "type": "Polygon"
         },
         "id": "5",
         "properties": {
          "acquisitionDate": "2019-12-08T14:51:52.306Z",
          "cloudCoverage": 0,
          "collection": "phr",
          "constellation": "phr",
          "deliveryTime": "HOURS",
          "end_datetime": null,
          "id": "cacf40bf-ed90-41f0-87ad-9a9ef1623b37",
          "producer": "airbus",
          "providerName": "oneatlas",
          "providerProperties": {
           "acquisitionIdentifier": "DS_PHR1A_201912081451523_FR1_PX_W069S23_0216_00596",
           "acquisitionStation": "SV1",
           "activityId": "7af101a3-8db1-46aa-8678-6126a3163887",
           "archiveIdentifier": "DS_PHR1A_201912081451523_FR1_PX_W069S23_0216_00596",
           "archivingCenter": "FR1",
           "azimuthAngle": 180.0138283384179,
           "correlationId": "a5cf5335-e589-47f6-c760-f98c411e0dc6",
           "expirationDate": "2200-01-01T00:00:00Z",
           "format": "image/tiff",
           "geometryCentroid": {
            "lat": -22.347486998779736,
            "lon": -68.90076346987173
           },
           "illuminationAzimuthAngle": 95.95880623726076,
           "illuminationElevationAngle": 67.7502348078638,
           "incidenceAngle": 3.418804389029594,
           "incidenceAngleAcrossTrack": 3.109762950175386,
           "incidenceAngleAlongTrack": 1.423214690246379,
           "lastUpdateDate": "2023-06-15T13:06:12.76799333Z",
           "organisationName": "AIRBUS DS GEO",
           "parentIdentifier": "DS_PHR1A_201912081451523_FR1_PX_W069S23_0216_00596",
           "processingCenter": "MOC",
           "processingDate": "2019-12-08T17:42:21.149Z",
           "processingLevel": "ALBUM",
           "processorName": "MMCAT",
           "productCategory": "image",
           "productType": "mono",
           "productionStatus": "ARCHIVED",
           "publicationDate": "2023-06-15T13:06:12.76799333Z",
           "qualified": false,
           "sensorType": "OPTICAL",
           "snowCover": 0,
           "sourceIdentifier": "DS_PHR1A_201912081451523_FR1_PX_W069S23_0216_00596",
           "spectralRange": "VISIBLE",
           "title": "",
           "workspaceId": "0e33eb50-3404-48ad-b835-b0b4b72a5625",
           "workspaceName": "public",
           "workspaceTitle": "Public"
          },
          "resolution": 0.5,
          "sceneId": "cacf40bf-ed90-41f0-87ad-9a9ef1623b37",
          "start_datetime": null,
          "up42:usageType": [
           "DATA"
          ]
         },
         "type": "Feature"
        }
       ],
       [
        {
         "bbox": [
          -69.00166653,
          -22.3786146,
          -68.79960778,
          -22.31832729
         ],
         "geometry": {
          "coordinates": [
           [
            [
             -69.00083866,
             -22.31832729
            ],
            [
             -69.00134676,
             -22.34089496
            ],
            [
             -69.00166653,
             -22.37709683
            ],
            [
             -68.9282682,
             -22.37696819
            ],
            [
             -68.7998276,
             -22.3786146
            ],
            [
             -68.79960778,
             -22.32003961
            ],
            [
             -68.90282067,
             -22.31843695
            ],
            [
             -69.00083866,
             -22.31832729
            ]
           ]
          ],
          "type": "Polygon"
         },
         "id": "6",
         "properties": {
          "acquisitionDate": "2019-12-02T14:47:58.055Z",
          "cloudCoverage": 0,
          "collection": "phr",
          "constellation": "phr",
          "deliveryTime": "HOURS",
          "end_datetime": null,
          "id": "87ea201b-fa5c-44a2-8623-d8bdc6889f4c",
          "producer": "airbus",
          "providerName": "oneatlas",
          "providerProperties": {
           "acquisitionIdentifier": "DS_PHR1B_201912021447580_FR1_PX_W069S23_0216_00596",
           "acquisitionStation": "SV1",
           "activityId": "609486d6-6d49-45e1-a6b6-a91ae3b5aed0",
           "archiveIdentifier": "DS_PHR1B_201912021447580_FR1_PX_W069S23_0216_00596",
           "archivingCenter": "FR1",
           "azimuthAngle": 180.1171830562085,
           "correlationId": "33539fcf-0dfc-44aa-c48c-3e0d54bd6f09",
           "expirationDate": "2200-01-01T00:00:00Z",
           "format": "image/tiff",
           "geometryCentroid": {
            "lat": -22.34850009554553,
            "lon": -68.90063715605828
           },
           "illuminationAzimuthAngle": 94.04648100135137,
           "illuminationElevationAngle": 67.34127084550742,
           "incidenceAngle": 11.84977515410113,
           "incidenceAngleAcrossTrack": 11.51347104687083,
           "incidenceAngleAlongTrack": 2.880032126856628,
           "lastUpdateDate": "2023-06-15T10:14:18.621152526Z",
           "organisationName": "AIRBUS DS GEO",
           "parentIdentifier": "DS_PHR1B_201912021447580_FR1_PX_W069S23_0216_00596",
           "processingCenter": "MOC",
           "processingDate": "2019-12-02T21:12:24.621Z",
           "processingLevel": "ALBUM",
           "processorName": "MMCAT",
           "productCategory": "image",
           "productType": "mono",
           "productionStatus": "ARCHIVED",
           "publicationDate": "2023-06-15T10:14:18.621152526Z",
           "qualified": false,
           "sensorType": "OPTICAL",
           "snowCover": 0,
           "sourceIdentifier": "DS_PHR1B_201912021447580_FR1_PX_W069S23_0216_00596",
           "spectralRange": "VISIBLE",
           "title": "",
           "workspaceId": "0e33eb50-3404-48ad-b835-b0b4b72a5625",
           "workspaceName": "public",
           "workspaceTitle": "Public"
          },
          "resolution": 0.5,
          "sceneId": "87ea201b-fa5c-44a2-8623-d8bdc6889f4c",
          "start_datetime": null,
          "up42:usageType": [
           "DATA"
          ]
         },
         "type": "Feature"
        },
        {
         "bbox": [
          -69.0268793,
          -22.39213437,
          -68.77544117,
          -22.31518449
         ],
         "geometry": {
          "coordinates": [
           [
            [
             -69.02677221,
             -22.31518449
            ],
            [
             -69.0268793,
             -22.35007685
            ],
            [
             -69.02670012,
             -22.36009613
            ],
            [
             -69.02587809,
             -22.38022815
            ],
            [
             -68.99730478,
             -22.3811477
            ],
            [
             -68.94738446,
             -22.3834022
            ],
            [
             -68.77544117,
             -22.39213437
            ],
            [
             -68.77587227,
             -22.32624297
            ],
            [
             -68.7939755,
             -22.32526703
            ],
            [
             -68.98055535,
             -22.31657497
            ],
            [
             -69.02677221,
             -22.31518449
            ]
           ]
          ],
          "type": "Polygon"
         },
         "id": "12",
         "properties": {
          "acquisitionDate": "2019-10-15T15:07:05.181Z",
          "cloudCoverage": 0,
          "collection": "phr",
          "constellation": "phr",
          "deliveryTime": "HOURS",
          "end_datetime": null,
          "id": "a561f76a-c6a2-4d98-bf62-b3fb437df3c4",
          "producer": "airbus",
          "providerName": "oneatlas",
          "providerProperties": {
           "acquisitionIdentifier": "DS_PHR1A_201910151507051_FR1_PX_W069S23_0216_00596",
           "acquisitionStation": "SV1",
           "activityId": "455de04b-1da0-429b-ba13-38c4e58eb722",
           "archiveIdentifier": "DS_PHR1A_201910151507051_FR1_PX_W069S23_0216_00596",
           "archivingCenter": "FR1",
           "azimuthAngle": 180.0730163132505,
           "correlationId": "6769394d-3344-4661-c6af-05775c53847c",
           "expirationDate": "2200-01-01T00:00:00Z",
           "format": "image/tiff",
           "geometryCentroid": {
            "lat": -22.35370440511306,
            "lon": -68.90116023427446
           },
           "illuminationAzimuthAngle": 55.50331272262606,
           "illuminationElevationAngle": 67.50518830487997,
           "incidenceAngle": 29.21798717979809,
           "incidenceAngleAcrossTrack": -28.71062510989177,
           "incidenceAngleAlongTrack": -6.456358513548923,
           "lastUpdateDate": "2023-06-13T14:55:06.094448346Z",
           "organisationName": "AIRBUS DS GEO",
           "parentIdentifier": "DS_PHR1A_201910151507051_FR1_PX_W069S23_0216_00596",
           "processingCenter": "MOC",
           "processingDate": "2019-10-15T18:11:33.398Z",
           "processingLevel": "ALBUM",
           "processorName": "MMCAT",
           "productCategory": "image",
           "productType": "mono",
           "productionStatus": "ARCHIVED",
           "publicationDate": "2023-06-13T14:55:06.094448346Z",
           "qualified": false,
           "sensorType": "OPTICAL",
           "snowCover": 0,
           "sourceIdentifier": "DS_PHR1A_201910151507051_FR1_PX_W069S23_0216_00596",
           "spectralRange": "VISIBLE",
           "title": "",
           "workspaceId": "0e33eb50-3404-48ad-b835-b0b4b72a5625",
           "workspaceName": "public",
           "workspaceTitle": "Public"
          },
          "resolution": 0.5,
          "sceneId": "a561f76a-c6a2-4d98-bf62-b3fb437df3c4",
          "start_datetime": null,
          "up42:usageType": [
           "DATA"
          ]
         },
         "type": "Feature"
        }
       ],
       [
        {
         "bbox": [
          -69.0268793,
          -22.39213437,
          -68.77544117,
          -22.31518449
         ],
         "geometry": {
          "coordinates": [
           [
            [
             -69.02677221,
             -22.31518449
            ],
            [
             -69.0268793,
             -22.35007685
            ],
            [
             -69.02670012,
             -22.36009613
            ],
            [
             -69.02587809,
             -22.38022815
            ],
            [
             -68.99730478,
             -22.3811477
            ],
            [
             -68.94738446,
             -22.3834022
            ],
            [
             -68.77544117,
             -22.39213437
            ],
            [
             -68.77587227,
             -22.32624297
            ],
            [
             -68.7939755,
             -22.32526703
            ],
            [
             -68.98055535,
             -22.31657497
            ],
            [
             -69.02677221,
             -22.31518449
            ]
           ]
          ],
          "type": "Polygon"
         },
         "id": "12",
         "properties": {
          "acquisitionDate": "2019-10-15T15:07:05.181Z",
          "cloudCoverage": 0,
          "collection": "phr",
          "constellation": "phr",
          "deliveryTime": "HOURS",
          "end_datetime": null,
          "id": "a561f76a-c6a2-4d98-bf62-b3fb437df3c4",
          "producer": "airbus",
          "providerName": "oneatlas",
          "providerProperties": {
           "acquisitionIdentifier": "DS_PHR1A_201910151507051_FR1_PX_W069S23_0216_00596",
           "acquisitionStation": "SV1",
           "activityId": "455de04b-1da0-429b-ba13-38c4e58eb722",
           "archiveIdentifier": "DS_PHR1A_201910151507051_FR1_PX_W069S23_0216_00596",
           "archivingCenter": "FR1",
           "azimuthAngle": 180.0730163132505,
           "correlationId": "6769394d-3344-4661-c6af-05775c53847c",
           "expirationDate": "2200-01-01T00:00:00Z",
           "format": "image/tiff",
           "geometryCentroid": {
            "lat": -22.35370440511306,
            "lon": -68.90116023427446
           },
           "illuminationAzimuthAngle": 55.50331272262606,
           "illuminationElevationAngle": 67.50518830487997,
           "incidenceAngle": 29.21798717979809,
           "incidenceAngleAcrossTrack": -28.71062510989177,
           "incidenceAngleAlongTrack": -6.456358513548923,
           "lastUpdateDate": "2023-06-13T14:55:06.094448346Z",
           "organisationName": "AIRBUS DS GEO",
           "parentIdentifier": "DS_PHR1A_201910151507051_FR1_PX_W069S23_0216_00596",
           "processingCenter": "MOC",
           "processingDate": "2019-10-15T18:11:33.398Z",
           "processingLevel": "ALBUM",
           "processorName": "MMCAT",
           "productCategory": "image",
           "productType": "mono",
           "productionStatus": "ARCHIVED",
           "publicationDate": "2023-06-13T14:55:06.094448346Z",
           "qualified": false,
           "sensorType": "OPTICAL",
           "snowCover": 0,
           "sourceIdentifier": "DS_PHR1A_201910151507051_FR1_PX_W069S23_0216_00596",
           "spectralRange": "VISIBLE",
           "title": "",
           "workspaceId": "0e33eb50-3404-48ad-b835-b0b4b72a5625",
           "workspaceName": "public",
           "workspaceTitle": "Public"
          },
          "resolution": 0.5,
          "sceneId": "a561f76a-c6a2-4d98-bf62-b3fb437df3c4",
          "start_datetime": null,
          "up42:usageType": [
           "DATA"
          ]
         },
         "type": "Feature"
        },
        {
         "bbox": [
          -68.99920058,
          -22.37654569,
          -68.8027119,
          -22.31804518
         ],
         "geometry": {
          "coordinates": [
           [
            [
             -68.86477899,
             -22.31804518
            ],
            [
             -68.99920058,
             -22.31869237
            ],
            [
             -68.99905375,
             -22.37648777
            ],
            [
             -68.94689807,
             -22.37597906
            ],
            [
             -68.8027119,
             -22.37654569
            ],
            [
             -68.80281157,
             -22.31856539
            ],
            [
             -68.86477899,
             -22.31804518
            ]
           ]
          ],
          "type": "Polygon"
         },
         "id": "13",
         "properties": {
          "acquisitionDate": "2019-10-10T14:55:53.805Z",
          "cloudCoverage": 0,
          "collection": "phr",
          "constellation": "phr",
          "deliveryTime": "HOURS",
          "end_datetime": null,
          "id": "4d538548-d212-414e-b1d7-e221384e2690",
          "producer": "airbus",
          "providerName": "oneatlas",
          "providerProperties": {
           "acquisitionIdentifier": "DS_PHR1A_201910101455538_FR1_PX_W069S23_0216_00596",
           "acquisitionStation": "SV1",
           "activityId": "d0373c4e-9edc-4b11-b487-b749a78c4539",
           "archiveIdentifier": "DS_PHR1A_201910101455538_FR1_PX_W069S23_0216_00596",
           "archivingCenter": "FR1",
           "azimuthAngle": 180.0483880046127,
           "correlationId": "88efdbff-0f1b-463e-c653-93600c3b37de",
           "expirationDate": "2200-01-01T00:00:00Z",
           "format": "image/tiff",
           "geometryCentroid": {
            "lat": -22.34732301114779,
            "lon": -68.90095624107688
           },
           "illuminationAzimuthAngle": 56.99579140846551,
           "illuminationElevationAngle": 63.78079322774038,
           "incidenceAngle": 5.773669843662795,
           "incidenceAngleAcrossTrack": -5.770386068110551,
           "incidenceAngleAlongTrack": 0.1960234772603797,
           "lastUpdateDate": "2023-06-13T13:12:10.331392803Z",
           "organisationName": "AIRBUS DS GEO",
           "parentIdentifier": "DS_PHR1A_201910101455538_FR1_PX_W069S23_0216_00596",
           "processingCenter": "MOC",
           "processingDate": "2019-10-10T20:28:57.153Z",
           "processingLevel": "ALBUM",
           "processorName": "MMCAT",
           "productCategory": "image",
           "productType": "mono",
           "productionStatus": "ARCHIVED",
           "publicationDate": "2023-06-13T13:12:10.331392803Z",
           "qualified": false,
           "sensorType": "OPTICAL",
           "snowCover": 0,
           "sourceIdentifier": "DS_PHR1A_201910101455538_FR1_PX_W069S23_0216_00596",
           "spectralRange": "VISIBLE",
           "title": "",
           "workspaceId": "0e33eb50-3404-48ad-b835-b0b4b72a5625",
           "workspaceName": "public",
           "workspaceTitle": "Public"
          },
          "resolution": 0.5,
          "sceneId": "4d538548-d212-414e-b1d7-e221384e2690",
          "start_datetime": null,
          "up42:usageType": [
           "DATA"
          ]
         },
         "type": "Feature"
        }
       ]
      ],
      "text/plain": [
       "<IPython.core.display.JSON object>"
      ]
     },
     "execution_count": 116,
     "metadata": {
      "application/json": {
       "expanded": false,
       "root": "root"
      }
     },
     "output_type": "execute_result"
    }
   ],
   "source": [
    "false_stereo_candidates = stereo.select_stereo(filtered_false_stereo_search_results, false_stereo_delay)\n",
    "ppjson(false_stereo_candidates)"
   ]
  },
  {
   "cell_type": "markdown",
   "id": "b1079d0b-b695-4815-9f41-c9b1802e5916",
   "metadata": {
    "tags": []
   },
   "source": [
    "## Obtaining primary products\n",
    "\n",
    "Currently it is not possible to obtain primary products via API from Airbus. If you want to create a DEM then we can obtain these products for you. \n",
    "\n",
    " 1. From the process described in the notebook you can get the information you need to place the order.\n",
    " 2. Send your request via email to [ordering@up42.com](mailto:ordering@up42.com)."
   ]
  },
  {
   "cell_type": "code",
   "execution_count": 121,
   "id": "3442df6c-3516-464d-b297-ee24155413c7",
   "metadata": {
    "tags": []
   },
   "outputs": [
    {
     "data": {
      "text/plain": [
       "{'datetime': '2021-04-01T00:00:00Z/2023-06-26T23:59:59Z',\n",
       " 'intersects': {'type': 'Polygon',\n",
       "  'coordinates': (((-68.92192558463671, -22.32018472450315),\n",
       "    (-68.9242442302506, -22.341155732344163),\n",
       "    (-68.8877470307674, -22.341155732344163),\n",
       "    (-68.89496059490037, -22.31915197980001),\n",
       "    (-68.92192558463671, -22.32018472450315)),)},\n",
       " 'limit': 50,\n",
       " 'collections': ['phr'],\n",
       " 'query': {'cloudCoverage': {'lte': 10}},\n",
       " 'sortby': [{'field': 'properties.acquisitionDate', 'direction': 'desc'}]}"
      ]
     },
     "execution_count": 121,
     "metadata": {},
     "output_type": "execute_result"
    }
   ],
   "source": [
    "pleiades_search_params"
   ]
  },
  {
   "cell_type": "code",
   "execution_count": null,
   "id": "af6c2d8b-b3b8-4d14-b15c-e192acda02c8",
   "metadata": {},
   "outputs": [],
   "source": []
  }
 ],
 "metadata": {
  "kernelspec": {
   "display_name": "Python 3 (ipykernel)",
   "language": "python",
   "name": "python3"
  },
  "language_info": {
   "codemirror_mode": {
    "name": "ipython",
    "version": 3
   },
   "file_extension": ".py",
   "mimetype": "text/x-python",
   "name": "python",
   "nbconvert_exporter": "python",
   "pygments_lexer": "ipython3",
   "version": "3.11.3"
  }
 },
 "nbformat": 4,
 "nbformat_minor": 5
}
