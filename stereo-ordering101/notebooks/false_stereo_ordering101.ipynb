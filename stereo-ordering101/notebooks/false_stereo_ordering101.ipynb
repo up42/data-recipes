{
 "cells": [
  {
   "cell_type": "markdown",
   "id": "5151b2bf-e6e3-4a02-990f-643db136d7fd",
   "metadata": {},
   "source": [
    "# Searching for real and false stereo\n",
    "\n",
    "Building on a [previous](https://up42.com/blog/tech/data-ordering101) article, this notebook provides a recipe for searching and ordering sterero data from UP42 using the UP42 [Python SDK](https://sdk.up42.com).\n",
    "\n",
    " 1. Nutshell definition of what stereo/tristereo is.  \n",
    " 2. Search for stereo/tristereo.\n",
    " 3. Order stereo/tristereo.\n",
    " 4. Get a webhook notification for the order delivery.\n",
    "\n",
    "**N.B.**: Make sure you are using an SDK version **$\\ge$ 0.23.0**. This is the version where support for data products was introduced."
   ]
  },
  {
   "cell_type": "markdown",
   "id": "9f7e9f44-f52d-48ac-b6e9-f3b5df7206ad",
   "metadata": {},
   "source": [
    "# Installing the UP42 Python SDK\n",
    "\n",
    "The module is called `up42`. Python **>= 3.8** is **required**.\n",
    "\n",
    " 1. Create a virtual environment.\n",
    "```bash\n",
    " mkvirtualenv --python=$(which python3) up42-py\n",
    "```\n",
    " 2. Activate the environment.\n",
    "```bash\n",
    " workon up42-py\n",
    "```\n",
    " 3. Install the module.\n",
    " ```bash\n",
    " pip install up42-py\n",
    " ```\n",
    " 4. Install Jupyter Lab.\n",
    "```bash\n",
    " pip install jupyterlab\n",
    " ```\n",
    " 5. Done.\n",
    " \n",
    "Now we can just import it."
   ]
  },
  {
   "cell_type": "markdown",
   "id": "92116ea2-c957-45fe-bef9-70de0312fd37",
   "metadata": {},
   "source": [
    "## Convenience function(s)\n",
    "\n",
    "Just to make JSON more readable."
   ]
  },
  {
   "cell_type": "code",
   "execution_count": 24,
   "id": "794c840c-f9ae-4b89-84a3-eff9267606d7",
   "metadata": {
    "tags": []
   },
   "outputs": [],
   "source": [
    "from IPython.display import JSON, DisplayObject\n",
    "\n",
    "def ppjson(json_data: dict, expand:bool=False) -> DisplayObject:\n",
    "    \"\"\"Pretty print JSON data.\"\"\"\n",
    "    return JSON(json_data, expanded=expand)"
   ]
  },
  {
   "cell_type": "code",
   "execution_count": 1,
   "id": "a53ac7b1-6b68-4d9a-985b-eef296881487",
   "metadata": {},
   "outputs": [],
   "source": [
    "import up42"
   ]
  },
  {
   "cell_type": "code",
   "execution_count": null,
   "metadata": {},
   "outputs": [],
   "source": [
    "USERNAME = \"your-username\"\n",
    "PASSWORD = \"your-password\""
   ]
  },
  {
   "cell_type": "code",
   "execution_count": 2,
   "id": "00b94e55-ebc2-4e2f-ae0c-9565b1bdfe67",
   "metadata": {
    "tags": []
   },
   "outputs": [
    {
     "name": "stderr",
     "output_type": "stream",
     "text": [
      "2023-06-25 18:07:56,355 - Got credentials from config file.\n",
      "2023-06-25 18:07:57,140 - Authentication with UP42 successful!\n"
     ]
    }
   ],
   "source": [
    "from pathlib import Path\n",
    "\n",
    "up42.authenticate(username=USERNAME, password=PASSWORD)"
   ]
  },
  {
   "cell_type": "markdown",
   "id": "1170f4d0-bf31-4afb-9cff-12eb4d92abb4",
   "metadata": {},
   "source": [
    "## Stereo and Tristereo in a nutshell\n",
    "\n",
    "### Stereo basic concept\n",
    "\n",
    "**Stereo** in the context of satellite imaging refers to the technique of doing two (or three for tristereo) image captures that are shifted by a certain angle among them over a given scene. The value of this shift determines the level of detail that can be reconstructed from combining the two images. Usually these images are used to create, for example, Digital Elevation Models (DEMs), since the two images when properly combined provide _depth_ information, the relief of the scene being imaged can be determined up to a certain degree of certainty.\n",
    "\n",
    "### Tristereo basic concept\n",
    "\n",
    "**Tristereo** adds a third image that is captured **midway** between the two extreme positions of a stereo capture. This corresponds to the satellite being vertically aligned with the scene being imaged. The third photo provides additional detail, including making visible relief details that would be hidden when the photo is taken obliquely, which is the case for stereo.\n",
    "\n",
    "### Satellite orbits and stereo capture\n",
    "\n",
    "In this notebook, and in fact for most _modern_ earth observation satellites, these two (ot three) image captures are done in a single orbit pass, be it ascending or descending. This is called **along-track** stereo/tristereo."
   ]
  },
  {
   "cell_type": "markdown",
   "id": "09bfd4a2-7d2b-4976-9fdc-0f85a403c212",
   "metadata": {},
   "source": [
    "## Searching for stero/tristero data\n",
    "\n",
    "### AOI definition\n",
    "\n",
    "We now look for existing stereo/tristereo data in the region we are interested in. The AOI is defined via a GeoJSON file in the `examples` directory. Let us use [ipyleaflet](https://ipyleaflet.readthedocs.io/) to visualize it.\n",
    "\n",
    "We are going to look into to two different AOIs:\n",
    "\n",
    " 1. To look for SPOT 6/7 stereo image sets.\n",
    " 2. To look for Pléiades 1A/1B tristereo image sets.\n",
    "\n",
    "Let us start with the stereo image set."
   ]
  },
  {
   "cell_type": "code",
   "execution_count": 3,
   "id": "26d4b8cd-bb72-4877-9fe4-a4badd58bab9",
   "metadata": {},
   "outputs": [],
   "source": [
    "from ipyleaflet import Map, GeoJSON"
   ]
  },
  {
   "cell_type": "code",
   "execution_count": 4,
   "id": "ba22f073-77bf-4fe5-a5f9-87794508b17b",
   "metadata": {},
   "outputs": [],
   "source": [
    "# Path to the AOI GeoJSON.\n",
    "path2aoi = \"../examples/chuquicamata.geojson\""
   ]
  },
  {
   "cell_type": "code",
   "execution_count": 5,
   "id": "59e5ba1e-8b3b-4e6a-b8b2-93f797e7dfc9",
   "metadata": {},
   "outputs": [],
   "source": [
    "import json\n",
    "\n",
    "with open(path2aoi, \"r\") as f:\n",
    "    aoi_map = json.load(f)"
   ]
  },
  {
   "cell_type": "code",
   "execution_count": 7,
   "id": "b9a1f3e3-5d9a-4867-8392-41492f2617b7",
   "metadata": {
    "tags": []
   },
   "outputs": [
    {
     "name": "stdout",
     "output_type": "stream",
     "text": [
      "Collecting toolz\n",
      "  Using cached toolz-0.12.0-py3-none-any.whl (55 kB)\n",
      "Installing collected packages: toolz\n",
      "Successfully installed toolz-0.12.0\n",
      "\n",
      "\u001b[1m[\u001b[0m\u001b[34;49mnotice\u001b[0m\u001b[1;39;49m]\u001b[0m\u001b[39;49m A new release of pip is available: \u001b[0m\u001b[31;49m23.0\u001b[0m\u001b[39;49m -> \u001b[0m\u001b[32;49m23.1.2\u001b[0m\n",
      "\u001b[1m[\u001b[0m\u001b[34;49mnotice\u001b[0m\u001b[1;39;49m]\u001b[0m\u001b[39;49m To update, run: \u001b[0m\u001b[32;49mpip install --upgrade pip\u001b[0m\n",
      "Note: you may need to restart the kernel to use updated packages.\n"
     ]
    }
   ],
   "source": [
    "%pip install toolz"
   ]
  },
  {
   "cell_type": "code",
   "execution_count": 8,
   "id": "630f6b29-24b3-467b-b957-7276f66eb288",
   "metadata": {
    "tags": []
   },
   "outputs": [],
   "source": [
    "from toolz.dicttoolz import get_in"
   ]
  },
  {
   "cell_type": "code",
   "execution_count": 10,
   "id": "2c02c00b-387e-4271-82a8-cd412f54c5a9",
   "metadata": {
    "tags": []
   },
   "outputs": [],
   "source": [
    "from shapely.geometry import shape"
   ]
  },
  {
   "cell_type": "code",
   "execution_count": 13,
   "id": "2f19ac8c-942c-48c6-9e46-5a2ff6b47ce0",
   "metadata": {
    "tags": []
   },
   "outputs": [],
   "source": [
    "aoi_map_shape = shape(get_in([\"features\", 0, \"geometry\"], aoi_map))"
   ]
  },
  {
   "cell_type": "code",
   "execution_count": 20,
   "id": "79b63949-1e49-4a9d-813d-acabc3394f8f",
   "metadata": {
    "tags": []
   },
   "outputs": [],
   "source": [
    "map_center = aoi_map_shape.centroid.coords[0][::-1]"
   ]
  },
  {
   "cell_type": "code",
   "execution_count": 21,
   "id": "40730b90-2a0c-4a33-9704-40e64c15fcda",
   "metadata": {},
   "outputs": [
    {
     "data": {
      "application/vnd.jupyter.widget-view+json": {
       "model_id": "9d8caa73e8424a1f83c7fd09ddb964a7",
       "version_major": 2,
       "version_minor": 0
      },
      "text/plain": [
       "Map(center=[-22.33093995821105, -68.90701304941625], controls=(ZoomControl(options=['position', 'zoom_in_text'…"
      ]
     },
     "execution_count": 21,
     "metadata": {},
     "output_type": "execute_result"
    }
   ],
   "source": [
    "mymap = Map(center=map_center, zoom=14)\n",
    "\n",
    "# Add the AOI to the map. First style it and then add it.\n",
    "aoi_layer = GeoJSON(\n",
    "    data=aoi_map,\n",
    "    style={\"opacity\": 1, \"dashArray\": \"9\", \"fillOpacity\": 0.5, \"weight\": 1},\n",
    "    hover_style={\"color\": \"yellow\", \"dashArray\": \"0\", \"fillOpacity\": 0.5},\n",
    ")\n",
    "mymap.add_layer(aoi_layer)\n",
    "mymap"
   ]
  },
  {
   "cell_type": "markdown",
   "id": "4ed59341-29a6-40ba-bcb3-451b15bba4bc",
   "metadata": {},
   "source": [
    "### Searching for data in the catalog\n",
    "We need to instantiate a catalog object and perform a search."
   ]
  },
  {
   "cell_type": "code",
   "execution_count": 22,
   "id": "73f67771-d6b0-44b7-9144-d676fee80651",
   "metadata": {},
   "outputs": [],
   "source": [
    "catalog = up42.initialize_catalog()"
   ]
  },
  {
   "cell_type": "markdown",
   "id": "ec9ba242-4642-4e99-adf3-693888711896",
   "metadata": {},
   "source": [
    "#### Getting the display product ID\n",
    "\n",
    "Before performing the search we need to select the data product we are interested in. In this case we are interested in a display product of a Pléiades image. The data product we want is not necessary for the search itself, but we do it now so that the ordering flow stays simple. Since we do the data product selection at the outset and not after performing the search. This reproduces the usual actions of having the product specified before hand and then performing the search."
   ]
  },
  {
   "cell_type": "code",
   "execution_count": 25,
   "id": "f605fbae-f3a6-4770-9e71-2fb17673fdab",
   "metadata": {
    "tags": []
   },
   "outputs": [
    {
     "data": {
      "application/json": {
       "Capella Space GEC": {
        "collection": "capella-gec",
        "data_products": {
         "Full Scene": "96072809-d820-4cf9-86dd-d3bff3337c35"
        },
        "host": "capellaspace"
       },
       "Capella Space GEO": {
        "collection": "capella-geo",
        "data_products": {
         "Full Scene": "d66facaa-533f-49a2-849a-c2910ac9dd31"
        },
        "host": "capellaspace"
       },
       "Capella Space SICD": {
        "collection": "capella-sicd",
        "data_products": {
         "Full Scene": "8b0aed07-c565-4bf9-b719-401e692de4a6"
        },
        "host": "capellaspace"
       },
       "Capella Space SLC": {
        "collection": "capella-slc",
        "data_products": {
         "Full Scene": "1f2b0d7f-d3e2-4b3d-96b7-e7c184df7952"
        },
        "host": "capellaspace"
       },
       "Hexagon — Europe 30 cm": {
        "collection": "hexagon-eu-30cm",
        "data_products": {
         "Hexagon — Europe 30 cm": "522262d1-5ae5-4da3-8872-181aaafb9820"
        },
        "host": "hexagon"
       },
       "Hexagon — North America 15 cm": {
        "collection": "hexagon-na-15cm",
        "data_products": {
         "Hexagon — North America 15 cm": "aba5216d-1876-4170-8ab7-10627bddbc9c"
        },
        "host": "hexagon"
       },
       "Hexagon — North America 30 cm": {
        "collection": "hexagon-na-30cm",
        "data_products": {
         "Hexagon — North America 30 cm": "8acca1de-0ed8-4a8d-987e-e1479cf63140"
        },
        "host": "hexagon"
       },
       "NEXTMap 10 Bundle": {
        "collection": "nextmap10-bundle",
        "data_products": {
         "Intermap": "0253307a-0377-4cd4-bd1c-93ec06ba7f4a"
        },
        "host": "intermap"
       },
       "NEXTMap 10 DSM": {
        "collection": "nextmap10-dsm",
        "data_products": {
         "Intermap": "5a484ba9-b2b9-4385-a066-0f6d28f6ad8f"
        },
        "host": "intermap"
       },
       "NEXTMap 10 DTM": {
        "collection": "nextmap10-dtm",
        "data_products": {
         "Intermap": "5908c45d-dd41-4fd2-b38f-759f23d25ebf"
        },
        "host": "intermap"
       },
       "NEXTMap 6 Bundle": {
        "collection": "nextmap6-bundle",
        "data_products": {
         "Intermap": "ca213436-c8cf-42a9-a4a2-04eb2fa7c9d6"
        },
        "host": "intermap"
       },
       "NEXTMap 6 DSM": {
        "collection": "nextmap6-dsm",
        "data_products": {
         "Intermap": "93f2014d-b34e-411a-9688-33e084190b68"
        },
        "host": "intermap"
       },
       "NEXTMap 6 DTM": {
        "collection": "nextmap6-dtm",
        "data_products": {
         "Intermap": "337c01f4-d71a-4f2f-8aee-d21431565893"
        },
        "host": "intermap"
       },
       "NEXTMap One Bundle": {
        "collection": "nextmapone-bundle",
        "data_products": {
         "Intermap": "776cadc2-ccb7-4ca4-8077-fc679bf8376a"
        },
        "host": "intermap"
       },
       "NEXTMap One DSM": {
        "collection": "nextmapone-dsm",
        "data_products": {
         "Intermap": "228eb747-2b8b-4f56-8ade-2efd844d3792"
        },
        "host": "intermap"
       },
       "NEXTMap One DTM": {
        "collection": "nextmapone-dtm",
        "data_products": {
         "Intermap": "da146ac4-7000-4d59-b488-3633f11b6cb8"
        },
        "host": "intermap"
       },
       "Near Space Labs": {
        "collection": "nsl-30cm",
        "data_products": {
         "Display Full Scene": "7131f727-cdbb-46d4-a1e7-77ac38b7bd02"
        },
        "host": "nearspacelabs"
       },
       "Pléiades": {
        "collection": "phr",
        "data_products": {
         "Analytic": "4f1b2f62-98df-4c74-81f4-5dce45deee99",
         "Display": "647780db-5a06-4b61-b525-577a8b68bb54"
        },
        "host": "oneatlas"
       },
       "Pléiades Neo": {
        "collection": "pneo",
        "data_products": {
         "Analytic": "6f722fb5-0323-4c97-9b1e-22870325b8db",
         "Display": "17745de8-6e7d-4751-99cd-3f8e9e9d290e"
        },
        "host": "oneatlas"
       },
       "SPOT": {
        "collection": "spot",
        "data_products": {
         "Analytic": "b1f8c48e-d16b-44c4-a1bb-5e8a24892e69",
         "Display": "acc3f9a4-b622-49c1-b1e1-c762aa3e7e13"
        },
        "host": "oneatlas"
       },
       "Sentinel-2": {
        "collection": "sentinel-2",
        "data_products": {
         "Level-2A": "c3de9ed8-f6e5-4bb5-a157-f6430ba756da"
        },
        "host": "earthsearch-aws"
       },
       "TripleSat": {
        "collection": "triplesat",
        "data_products": {
         "Analytic - 16 bit": "37c26f4d-f6a9-47c9-ae4d-a095569ab8bc",
         "Analytic - 8 bit": "2398d8f5-5f7f-4596-884d-345c0b07af14"
        },
        "host": "21at"
       },
       "Vexcel Aerial Oblique — Canada 5.5 cm": {
        "collection": "vexcel-ca-6cm-oblique",
        "data_products": {
         "Vexcel Aerial Oblique — Canada 5.5 cm": "761ca320-3a7f-48e4-bc00-c7434de37c9d"
        },
        "host": "vexcel"
       },
       "Vexcel Aerial Oblique — Eastern Europe 5.5 cm": {
        "collection": "vexcel-eeu-6cm-oblique",
        "data_products": {
         "Vexcel Aerial Oblique — Eastern Europe 5.5 cm": "817cea8b-3976-46d2-9d39-3cbfdc03ef78"
        },
        "host": "vexcel"
       },
       "Vexcel Aerial Oblique — Japan 5.5 cm": {
        "collection": "vexcel-jp-6cm-oblique",
        "data_products": {
         "Vexcel Aerial Oblique — Japan 5.5 cm": "43eae9f0-468b-40f3-a230-de9bb5b94126"
        },
        "host": "vexcel"
       },
       "Vexcel Aerial Oblique — Oceania 5.5 cm": {
        "collection": "vexcel-oc-6cm-oblique",
        "data_products": {
         "Vexcel Aerial Oblique — Oceania 5.5 cm": "ba6b72b8-42ac-4b93-8728-c3cf645e4315"
        },
        "host": "vexcel"
       },
       "Vexcel Aerial Oblique — US 5.5 cm": {
        "collection": "vexcel-us-6cm-oblique",
        "data_products": {
         "Vexcel Aerial Oblique — US 5.5 cm": "7f4fda74-8cef-4175-9cb7-194897a9d20d"
        },
        "host": "vexcel"
       },
       "Vexcel Aerial Oblique — Western Europe 5.5 cm": {
        "collection": "vexcel-weu-6cm-oblique",
        "data_products": {
         "Vexcel Aerial Oblique — Western Europe 5.5 cm": "b5038b0a-9716-4862-a352-6c8bb43707b0"
        },
        "host": "vexcel"
       },
       "Vexcel Aerial Ortho — US 15 cm": {
        "collection": "vexcel-us-15cm-ortho",
        "data_products": {
         "Vexcel Aerial Ortho — US 15 cm": "3b893e12-da85-4ec8-ade9-e078d156959b"
        },
        "host": "vexcel"
       },
       "Vexcel Aerial Ortho — Western Europe 15 cm": {
        "collection": "vexcel-weu-15cm-ortho",
        "data_products": {
         "Vexcel Aerial Ortho — Western Europe 15 cm": "b2042f77-0db2-4efb-9daf-f5bca174902c"
        },
        "host": "vexcel"
       },
       "Vexcel Aerial TrueOrtho — Canada 5.5 cm": {
        "collection": "vexcel-ca-6cm-trueortho",
        "data_products": {
         "Vexcel Aerial TrueOrtho — Canada 5.5 cm": "926f3eec-1109-4f10-ad7d-7494c502a1b0"
        },
        "host": "vexcel"
       },
       "Vexcel Aerial TrueOrtho — Eastern Europe 5.5 cm": {
        "collection": "vexcel-eeu-6cm-trueortho",
        "data_products": {
         "Vexcel Aerial TrueOrtho — Eastern Europe 5.5 cm": "1165af80-48be-41e2-8d07-51a4c2368de4"
        },
        "host": "vexcel"
       },
       "Vexcel Aerial TrueOrtho — Japan 5.5 cm": {
        "collection": "vexcel-jp-6cm-trueortho",
        "data_products": {
         "Vexcel Aerial TrueOrtho — Japan 5.5 cm": "dd9d7608-d55c-407b-a1c8-d6616e498c92"
        },
        "host": "vexcel"
       },
       "Vexcel Aerial TrueOrtho — Oceania 5.5 cm": {
        "collection": "vexcel-oc-6cm-trueortho",
        "data_products": {
         "Vexcel Aerial TrueOrtho — Oceania 5.5 cm": "5dc14658-f7da-4bf5-b26e-3b1f71fc255b"
        },
        "host": "vexcel"
       },
       "Vexcel Aerial TrueOrtho — US 5.5 cm": {
        "collection": "vexcel-us-6cm-trueortho",
        "data_products": {
         "Vexcel Aerial TrueOrtho — US 5.5 cm": "cfd25a56-0bac-4307-ac68-5a0fa474f068"
        },
        "host": "vexcel"
       },
       "Vexcel Aerial TrueOrtho — Western Europe 5.5 cm": {
        "collection": "vexcel-weu-6cm-trueortho",
        "data_products": {
         "Vexcel Aerial TrueOrtho — Western Europe 5.5 cm": "104ec6c4-5f5f-4e77-83ac-ae87525bbade"
        },
        "host": "vexcel"
       },
       "Vexcel Elevate DSM — Canada 5.5 cm": {
        "collection": "vexcel-ca-6cm-dsm",
        "data_products": {
         "Vexcel Elevate DSM — Canada 5.5 cm": "65343013-520b-4eaa-b3b6-10e4f10bb183"
        },
        "host": "vexcel"
       },
       "Vexcel Elevate DSM — Eastern Europe 5.5 cm": {
        "collection": "vexcel-eeu-6cm-dsm",
        "data_products": {
         "Vexcel Elevate DSM — Eastern Europe 5.5 cm": "3b689eac-e1ce-43f7-976a-e6a52622e59a"
        },
        "host": "vexcel"
       },
       "Vexcel Elevate DSM — Japan 5.5 cm": {
        "collection": "vexcel-jp-6cm-dsm",
        "data_products": {
         "Vexcel Elevate DSM — Japan 5.5 cm": "1a9dfdbc-11f0-4976-9f97-4909077b5bfb"
        },
        "host": "vexcel"
       },
       "Vexcel Elevate DSM — Oceania 5.5 cm": {
        "collection": "vexcel-oc-6cm-dsm",
        "data_products": {
         "Vexcel Elevate DSM — Oceania 5.5 cm": "6fd668e2-b1fd-401d-ae8b-441e17a6626f"
        },
        "host": "vexcel"
       },
       "Vexcel Elevate DSM — US 15 cm": {
        "collection": "vexcel-us-15cm-dsm",
        "data_products": {
         "Vexcel Elevate DSM — US 15 cm": "46350af0-2312-4031-ad4c-46d282b4fb83"
        },
        "host": "vexcel"
       },
       "Vexcel Elevate DSM — US 5.5 cm": {
        "collection": "vexcel-us-6cm-dsm",
        "data_products": {
         "Vexcel Elevate DSM — US 5.5 cm": "c26bb85a-20af-4ab0-bd72-5e258d614d49"
        },
        "host": "vexcel"
       },
       "Vexcel Elevate DSM — Western Europe 15 cm": {
        "collection": "vexcel-weu-15cm-dsm",
        "data_products": {
         "Vexcel Elevate DSM — Western Europe 15 cm": "44c8d90b-eb0a-4eb6-b5e1-6e44be516a4d"
        },
        "host": "vexcel"
       },
       "Vexcel Elevate DSM — Western Europe 5.5 cm": {
        "collection": "vexcel-weu-6cm-dsm",
        "data_products": {
         "Vexcel Elevate DSM — Western Europe 5.5 cm": "cb9dd909-18df-4351-ade0-7555fa6e76de"
        },
        "host": "vexcel"
       },
       "Vexcel Elevate DTM — US 15 cm": {
        "collection": "vexcel-us-15cm-dtm",
        "data_products": {
         "Vexcel Elevate DTM — US 15 cm": "a0c15d8e-46b7-4dfb-b260-07a3cd996ae7"
        },
        "host": "vexcel"
       },
       "Vexcel Elevate DTM — Western Europe 15 cm": {
        "collection": "vexcel-weu-15cm-dtm",
        "data_products": {
         "Vexcel Elevate DTM — Western Europe 15 cm": "d60ad61b-45d7-458e-b355-a02bc44baf82"
        },
        "host": "vexcel"
       },
       "WorldDEM NEO DSM": {
        "collection": "worlddem-neo",
        "data_products": {
         "WorldDEM NEO DSM": "ec016f4c-332c-4190-b18b-13fb12519c40"
        },
        "host": "airbus-elevation"
       }
      },
      "text/plain": [
       "<IPython.core.display.JSON object>"
      ]
     },
     "execution_count": 25,
     "metadata": {
      "application/json": {
       "expanded": false,
       "root": "root"
      }
     },
     "output_type": "execute_result"
    }
   ],
   "source": [
    "products = catalog.get_data_products(basic=True)\n",
    "ppjson(products)"
   ]
  },
  {
   "cell_type": "markdown",
   "id": "0c45f549-4362-4e01-896d-f9707a67a86c",
   "metadata": {},
   "source": [
    "We have the list of all **available** collections and the corresponding products. In our case we want SPOT 6/7."
   ]
  },
  {
   "cell_type": "markdown",
   "id": "b1f565a1-3864-476b-8d62-d6c7088753e9",
   "metadata": {},
   "source": [
    "Specifically we want a display product. We need to get the corresponding product ID."
   ]
  },
  {
   "cell_type": "code",
   "execution_count": 26,
   "id": "9a0e2ff7-a93a-4409-90f0-dd62b9008a49",
   "metadata": {
    "tags": []
   },
   "outputs": [
    {
     "data": {
      "text/plain": [
       "('Pléiades',\n",
       " {'collection': 'phr',\n",
       "  'host': 'oneatlas',\n",
       "  'data_products': {'Analytic': '4f1b2f62-98df-4c74-81f4-5dce45deee99',\n",
       "   'Display': '647780db-5a06-4b61-b525-577a8b68bb54'}})"
      ]
     },
     "execution_count": 26,
     "metadata": {},
     "output_type": "execute_result"
    }
   ],
   "source": [
    "pleiades_product = next(\n",
    "    filter(lambda e: e[0].lower().endswith(\"ades\"), products.items())\n",
    ")\n",
    "pleiades_product"
   ]
  },
  {
   "cell_type": "code",
   "execution_count": 43,
   "id": "940bd531-1d45-476e-9a6c-1335d7ad932d",
   "metadata": {
    "tags": []
   },
   "outputs": [
    {
     "data": {
      "text/plain": [
       "'647780db-5a06-4b61-b525-577a8b68bb54'"
      ]
     },
     "execution_count": 43,
     "metadata": {},
     "output_type": "execute_result"
    }
   ],
   "source": [
    "pleiades_product_id = get_in([1, \"data_products\", \"Display\"], pleiades_product)\n",
    "pleiades_product_id"
   ]
  },
  {
   "cell_type": "markdown",
   "id": "46a7d02d-7fdb-45d2-b1f5-8ec8e2564900",
   "metadata": {},
   "source": [
    "And the collection name."
   ]
  },
  {
   "cell_type": "code",
   "execution_count": 42,
   "id": "0567c475-a590-4be6-a5b9-d5e39ac105ad",
   "metadata": {},
   "outputs": [
    {
     "data": {
      "text/plain": [
       "'phr'"
      ]
     },
     "execution_count": 42,
     "metadata": {},
     "output_type": "execute_result"
    }
   ],
   "source": [
    "pleiades_coll_name = get_in([1, \"collection\"], pleiades_product)\n",
    "pleiades_coll_name"
   ]
  },
  {
   "cell_type": "markdown",
   "id": "ad01ac95-ebbf-4b74-aaba-d3037b70a85d",
   "metadata": {},
   "source": [
    "Let us now perform the search."
   ]
  },
  {
   "cell_type": "markdown",
   "id": "029aa288-5a5b-439f-9ac1-7b5842c050da",
   "metadata": {},
   "source": [
    "We are interested in imagery between April 1st 2021 and June 26th, 2023."
   ]
  },
  {
   "cell_type": "code",
   "execution_count": 31,
   "id": "35ff361c-1c90-44c4-856b-9672ceaed476",
   "metadata": {
    "tags": []
   },
   "outputs": [],
   "source": [
    "my_start_date = \"2021-04-01\"\n",
    "my_end_date = \"2023-06-26\""
   ]
  },
  {
   "cell_type": "code",
   "execution_count": 33,
   "id": "2f09e843-33f8-4aee-8887-558e850401a9",
   "metadata": {},
   "outputs": [],
   "source": [
    "pleiades_search_params = catalog.construct_search_parameters(\n",
    "    geometry=aoi_map,\n",
    "    start_date=my_start_date,\n",
    "    end_date=my_end_date,\n",
    "    collections=[pleiades_coll_name],\n",
    "    max_cloudcover=10,\n",
    "    sortby=\"acquisitionDate\",\n",
    "    ascending=False,\n",
    "    limit=50,\n",
    ")"
   ]
  },
  {
   "cell_type": "code",
   "execution_count": 34,
   "id": "843c3667-89f8-43b8-a252-38469ffa97d9",
   "metadata": {},
   "outputs": [
    {
     "name": "stderr",
     "output_type": "stream",
     "text": [
      "2023-06-25 18:29:01,629 - Searching catalog with search_parameters: {'datetime': '2021-04-01T00:00:00Z/2023-06-26T23:59:59Z', 'intersects': {'type': 'Polygon', 'coordinates': (((-68.92192558463671, -22.32018472450315), (-68.9242442302506, -22.341155732344163), (-68.8877470307674, -22.341155732344163), (-68.89496059490037, -22.31915197980001), (-68.92192558463671, -22.32018472450315)),)}, 'limit': 50, 'collections': ['phr'], 'query': {'cloudCoverage': {'lte': 10}}, 'sortby': [{'field': 'properties.acquisitionDate', 'direction': 'desc'}]}\n",
      "2023-06-25 18:29:04,109 - 14 results returned.\n"
     ]
    }
   ],
   "source": [
    "pleiades_search_results = catalog.search(pleiades_search_params, as_dataframe=False)"
   ]
  },
  {
   "cell_type": "markdown",
   "id": "eef2d160-c86d-4aa0-8248-ab349f9c98f2",
   "metadata": {},
   "source": [
    "Let us look for the stereo pairs in the above search results."
   ]
  },
  {
   "cell_type": "code",
   "execution_count": 37,
   "id": "6bca42f0-e0e7-4da6-8246-90c568ea3bbb",
   "metadata": {
    "tags": []
   },
   "outputs": [],
   "source": [
    "# N.B: This is an ugly hack that needs to be replaced by creating a proper local Python package for the Notebook helpers.\n",
    "import sys\n",
    "sys.path.append(str((Path.cwd() / \"..\" / \"..\").resolve()))"
   ]
  },
  {
   "cell_type": "code",
   "execution_count": 38,
   "id": "dac5ca23-a635-480b-8328-478a272f6e47",
   "metadata": {
    "tags": []
   },
   "outputs": [],
   "source": [
    "from pynb_helpers import stereo"
   ]
  },
  {
   "cell_type": "code",
   "execution_count": 55,
   "id": "d3ebd529-fa6f-428c-aa81-e339394caca2",
   "metadata": {},
   "outputs": [
    {
     "data": {
      "application/vnd.code.notebook.error": {
       "message": "o.endsWith is not a function",
       "name": "TypeError",
       "stack": "TypeError: o.endsWith is not a function\n    at i (/Applications/Visual Studio Code.app/Contents/Resources/app/extensions/ipynb/dist/ipynbMain.js:1:147009)\n    at c (/Applications/Visual Studio Code.app/Contents/Resources/app/extensions/ipynb/dist/ipynbMain.js:1:147648)\n    at f (/Applications/Visual Studio Code.app/Contents/Resources/app/extensions/ipynb/dist/ipynbMain.js:1:148456)\n    at h (/Applications/Visual Studio Code.app/Contents/Resources/app/extensions/ipynb/dist/ipynbMain.js:1:149195)\n    at Array.map (<anonymous>)\n    at /Applications/Visual Studio Code.app/Contents/Resources/app/extensions/ipynb/dist/ipynbMain.js:1:150304\n    at /Applications/Visual Studio Code.app/Contents/Resources/app/extensions/ipynb/dist/ipynbMain.js:1:150621\n    at /Applications/Visual Studio Code.app/Contents/Resources/app/extensions/ipynb/dist/ipynbMain.js:1:150628\n    at Array.map (<anonymous>)\n    at e.$d (/Applications/Visual Studio Code.app/Contents/Resources/app/extensions/ipynb/dist/ipynbMain.js:1:149880)\n    at e.$m.deserializeNotebook (/Applications/Visual Studio Code.app/Contents/Resources/app/extensions/ipynb/dist/ipynbMain.js:1:161467)\n    at t.$dataToNotebook (/Applications/Visual Studio Code.app/Contents/Resources/app/out/vs/workbench/api/node/extensionHostProcess.js:127:93269)\n    at n.S (/Applications/Visual Studio Code.app/Contents/Resources/app/out/vs/workbench/api/node/extensionHostProcess.js:134:10836)\n    at n.Q (/Applications/Visual Studio Code.app/Contents/Resources/app/out/vs/workbench/api/node/extensionHostProcess.js:134:10602)\n    at n.M (/Applications/Visual Studio Code.app/Contents/Resources/app/out/vs/workbench/api/node/extensionHostProcess.js:134:9647)\n    at n.L (/Applications/Visual Studio Code.app/Contents/Resources/app/out/vs/workbench/api/node/extensionHostProcess.js:134:8901)\n    at h.value (/Applications/Visual Studio Code.app/Contents/Resources/app/out/vs/workbench/api/node/extensionHostProcess.js:134:7565)\n    at c.y (/Applications/Visual Studio Code.app/Contents/Resources/app/out/vs/workbench/api/node/extensionHostProcess.js:80:1902)\n    at c.fire (/Applications/Visual Studio Code.app/Contents/Resources/app/out/vs/workbench/api/node/extensionHostProcess.js:80:2119)\n    at d.fire (/Applications/Visual Studio Code.app/Contents/Resources/app/out/vs/workbench/api/node/extensionHostProcess.js:96:14047)\n    at h.value (/Applications/Visual Studio Code.app/Contents/Resources/app/out/vs/workbench/api/node/extensionHostProcess.js:153:7918)\n    at c.y (/Applications/Visual Studio Code.app/Contents/Resources/app/out/vs/workbench/api/node/extensionHostProcess.js:80:1902)\n    at c.fire (/Applications/Visual Studio Code.app/Contents/Resources/app/out/vs/workbench/api/node/extensionHostProcess.js:80:2119)\n    at d.fire (/Applications/Visual Studio Code.app/Contents/Resources/app/out/vs/workbench/api/node/extensionHostProcess.js:96:14047)\n    at MessagePortMain.<anonymous> (/Applications/Visual Studio Code.app/Contents/Resources/app/out/vs/workbench/api/node/extensionHostProcess.js:153:6198)\n    at MessagePortMain.emit (node:events:513:28)\n    at Object.MessagePortMain._internalPort.emit (node:electron/js2c/utility_init:2:367)"
      },
      "text/plain": [
       "<IPython.core.display.JSON object>"
      ]
     },
     "execution_count": 55,
     "metadata": {
      "application/json": {
       "expanded": false,
       "root": "root"
      }
     },
     "output_type": "execute_result"
    }
   ],
   "source": [
    "pleiades_stereo_results = stereo.select_stereo(\n",
    "    pleiades_search_results[\"features\"]\n",
    ")\n",
    "ppjson(pleiades_stereo_results)"
   ]
  },
  {
   "cell_type": "markdown",
   "id": "e00b6390-a0b4-4489-9de8-8afb3622d0c3",
   "metadata": {},
   "source": [
    "We need to get the image IDs for placing the order. We use the *convenience* function `get_tristereo_image_ids`."
   ]
  },
  {
   "cell_type": "markdown",
   "id": "9b930934-e2c6-4170-b202-1a0049a14bb6",
   "metadata": {
    "tags": []
   },
   "source": [
    "We can even look for tristereo."
   ]
  },
  {
   "cell_type": "code",
   "execution_count": 54,
   "id": "7e33a725-52ca-4f3d-8b71-146c9d1e341a",
   "metadata": {
    "tags": []
   },
   "outputs": [
    {
     "data": {
      "application/vnd.code.notebook.error": {
       "message": "o.endsWith is not a function",
       "name": "TypeError",
       "stack": "TypeError: o.endsWith is not a function\n    at i (/Applications/Visual Studio Code.app/Contents/Resources/app/extensions/ipynb/dist/ipynbMain.js:1:147009)\n    at c (/Applications/Visual Studio Code.app/Contents/Resources/app/extensions/ipynb/dist/ipynbMain.js:1:147648)\n    at f (/Applications/Visual Studio Code.app/Contents/Resources/app/extensions/ipynb/dist/ipynbMain.js:1:148456)\n    at h (/Applications/Visual Studio Code.app/Contents/Resources/app/extensions/ipynb/dist/ipynbMain.js:1:149195)\n    at Array.map (<anonymous>)\n    at /Applications/Visual Studio Code.app/Contents/Resources/app/extensions/ipynb/dist/ipynbMain.js:1:150304\n    at /Applications/Visual Studio Code.app/Contents/Resources/app/extensions/ipynb/dist/ipynbMain.js:1:150621\n    at /Applications/Visual Studio Code.app/Contents/Resources/app/extensions/ipynb/dist/ipynbMain.js:1:150628\n    at Array.map (<anonymous>)\n    at e.$d (/Applications/Visual Studio Code.app/Contents/Resources/app/extensions/ipynb/dist/ipynbMain.js:1:149880)\n    at e.$m.deserializeNotebook (/Applications/Visual Studio Code.app/Contents/Resources/app/extensions/ipynb/dist/ipynbMain.js:1:161467)\n    at t.$dataToNotebook (/Applications/Visual Studio Code.app/Contents/Resources/app/out/vs/workbench/api/node/extensionHostProcess.js:127:93269)\n    at n.S (/Applications/Visual Studio Code.app/Contents/Resources/app/out/vs/workbench/api/node/extensionHostProcess.js:134:10836)\n    at n.Q (/Applications/Visual Studio Code.app/Contents/Resources/app/out/vs/workbench/api/node/extensionHostProcess.js:134:10602)\n    at n.M (/Applications/Visual Studio Code.app/Contents/Resources/app/out/vs/workbench/api/node/extensionHostProcess.js:134:9647)\n    at n.L (/Applications/Visual Studio Code.app/Contents/Resources/app/out/vs/workbench/api/node/extensionHostProcess.js:134:8901)\n    at h.value (/Applications/Visual Studio Code.app/Contents/Resources/app/out/vs/workbench/api/node/extensionHostProcess.js:134:7565)\n    at c.y (/Applications/Visual Studio Code.app/Contents/Resources/app/out/vs/workbench/api/node/extensionHostProcess.js:80:1902)\n    at c.fire (/Applications/Visual Studio Code.app/Contents/Resources/app/out/vs/workbench/api/node/extensionHostProcess.js:80:2119)\n    at d.fire (/Applications/Visual Studio Code.app/Contents/Resources/app/out/vs/workbench/api/node/extensionHostProcess.js:96:14047)\n    at h.value (/Applications/Visual Studio Code.app/Contents/Resources/app/out/vs/workbench/api/node/extensionHostProcess.js:153:7918)\n    at c.y (/Applications/Visual Studio Code.app/Contents/Resources/app/out/vs/workbench/api/node/extensionHostProcess.js:80:1902)\n    at c.fire (/Applications/Visual Studio Code.app/Contents/Resources/app/out/vs/workbench/api/node/extensionHostProcess.js:80:2119)\n    at d.fire (/Applications/Visual Studio Code.app/Contents/Resources/app/out/vs/workbench/api/node/extensionHostProcess.js:96:14047)\n    at MessagePortMain.<anonymous> (/Applications/Visual Studio Code.app/Contents/Resources/app/out/vs/workbench/api/node/extensionHostProcess.js:153:6198)\n    at MessagePortMain.emit (node:events:513:28)\n    at Object.MessagePortMain._internalPort.emit (node:electron/js2c/utility_init:2:367)"
      },
      "text/plain": [
       "<IPython.core.display.JSON object>"
      ]
     },
     "execution_count": 54,
     "metadata": {
      "application/json": {
       "expanded": false,
       "root": "root"
      }
     },
     "output_type": "execute_result"
    }
   ],
   "source": [
    "pleiades_tristereo_results = stereo.select_tristereo(pleiades_search_results[\"features\"])\n",
    "ppjson(pleiades_tristereo_results)"
   ]
  },
  {
   "cell_type": "markdown",
   "id": "9797b059-bc2f-4e63-bd67-ed948c93afc8",
   "metadata": {},
   "source": [
    "## Looking for false stereo\n",
    "\n",
    "We already know from above that there are no stereo captures between April 1st, 2021 and Feb 20th 2022. So let us try our luck regarding false stereo for this time range."
   ]
  },
  {
   "cell_type": "code",
   "execution_count": 97,
   "id": "98ccef46-44c5-4fc1-8837-3b898a22342b",
   "metadata": {
    "tags": []
   },
   "outputs": [],
   "source": [
    "my_false_stereo_end_date=\"2020-01-01\"\n",
    "my_false_stereo_start_date=\"2019-10-01\""
   ]
  },
  {
   "cell_type": "markdown",
   "id": "51a97001-0538-437a-a88c-aa299dff2d25",
   "metadata": {},
   "source": [
    "Doing a search just for this date range."
   ]
  },
  {
   "cell_type": "code",
   "execution_count": 98,
   "id": "11a585e0-dfc4-42b8-af29-89fb15cd5bb7",
   "metadata": {
    "tags": []
   },
   "outputs": [],
   "source": [
    "false_stereo_search_params = catalog.construct_search_parameters(\n",
    "    geometry=aoi_map,\n",
    "    start_date=my_false_stereo_start_date,\n",
    "    end_date=my_false_stereo_end_date,\n",
    "    collections=[pleiades_coll_name],\n",
    "    max_cloudcover=10,\n",
    "    sortby=\"acquisitionDate\",\n",
    "    ascending=False,\n",
    "    limit=50,\n",
    ")"
   ]
  },
  {
   "cell_type": "code",
   "execution_count": 99,
   "id": "41aa4098-e775-4e42-9285-0c169c35ef79",
   "metadata": {
    "tags": []
   },
   "outputs": [
    {
     "name": "stderr",
     "output_type": "stream",
     "text": [
      "2023-06-26 12:17:32,182 - Searching catalog with search_parameters: {'datetime': '2019-10-01T00:00:00Z/2020-01-01T23:59:59Z', 'intersects': {'type': 'Polygon', 'coordinates': (((-68.92192558463671, -22.32018472450315), (-68.9242442302506, -22.341155732344163), (-68.8877470307674, -22.341155732344163), (-68.89496059490037, -22.31915197980001), (-68.92192558463671, -22.32018472450315)),)}, 'limit': 50, 'collections': ['phr'], 'query': {'cloudCoverage': {'lte': 10}}, 'sortby': [{'field': 'properties.acquisitionDate', 'direction': 'desc'}]}\n",
      "2023-06-26 12:17:34,796 - 15 results returned.\n"
     ]
    }
   ],
   "source": [
    "false_stereo_search_results = catalog.search(false_stereo_search_params, as_dataframe=False)"
   ]
  },
  {
   "cell_type": "markdown",
   "id": "d9fccacf-3d6d-4846-8618-7b055ad6f9ae",
   "metadata": {},
   "source": [
    "We are interested only in images were the incidence angle is **below 30 &deg;**."
   ]
  },
  {
   "cell_type": "code",
   "execution_count": 120,
   "id": "b97d4f52-fd12-4ffb-86ba-bd1ae441db80",
   "metadata": {
    "tags": []
   },
   "outputs": [],
   "source": [
    "filtered_false_stereo_search_results = list(\n",
    "    filter(lambda f: get_in([\"properties\", \"providerProperties\", \"incidenceAngle\"], f) < 30, \n",
    "           false_stereo_search_results[\"features\"]))"
   ]
  },
  {
   "cell_type": "markdown",
   "id": "ec0de524-76b8-4569-9cc8-c0023813e443",
   "metadata": {},
   "source": [
    "Now we need to define the time difference in seconds so that we can look for the false stereo."
   ]
  },
  {
   "cell_type": "code",
   "execution_count": 74,
   "id": "a0ac1b2c-4451-44f0-8edc-5faeeaf98f13",
   "metadata": {
    "tags": []
   },
   "outputs": [
    {
     "data": {
      "text/plain": [
       "31536000"
      ]
     },
     "execution_count": 74,
     "metadata": {},
     "output_type": "execute_result"
    }
   ],
   "source": [
    "false_stereo_delay = stereo.compute_delay(my_false_stereo_start_date,  my_false_stereo_end_date)\n",
    "false_stereo_delay"
   ]
  },
  {
   "cell_type": "code",
   "execution_count": 116,
   "id": "14bb5a45-1967-48d0-aa62-c90f1692e4da",
   "metadata": {
    "tags": []
   },
   "outputs": [
    {
     "data": {
      "application/vnd.code.notebook.error": {
       "message": "o.endsWith is not a function",
       "name": "TypeError",
       "stack": "TypeError: o.endsWith is not a function\n    at i (/Applications/Visual Studio Code.app/Contents/Resources/app/extensions/ipynb/dist/ipynbMain.js:1:147009)\n    at c (/Applications/Visual Studio Code.app/Contents/Resources/app/extensions/ipynb/dist/ipynbMain.js:1:147648)\n    at f (/Applications/Visual Studio Code.app/Contents/Resources/app/extensions/ipynb/dist/ipynbMain.js:1:148456)\n    at h (/Applications/Visual Studio Code.app/Contents/Resources/app/extensions/ipynb/dist/ipynbMain.js:1:149195)\n    at Array.map (<anonymous>)\n    at /Applications/Visual Studio Code.app/Contents/Resources/app/extensions/ipynb/dist/ipynbMain.js:1:150304\n    at /Applications/Visual Studio Code.app/Contents/Resources/app/extensions/ipynb/dist/ipynbMain.js:1:150621\n    at /Applications/Visual Studio Code.app/Contents/Resources/app/extensions/ipynb/dist/ipynbMain.js:1:150628\n    at Array.map (<anonymous>)\n    at e.$d (/Applications/Visual Studio Code.app/Contents/Resources/app/extensions/ipynb/dist/ipynbMain.js:1:149880)\n    at e.$m.deserializeNotebook (/Applications/Visual Studio Code.app/Contents/Resources/app/extensions/ipynb/dist/ipynbMain.js:1:161467)\n    at t.$dataToNotebook (/Applications/Visual Studio Code.app/Contents/Resources/app/out/vs/workbench/api/node/extensionHostProcess.js:127:93269)\n    at n.S (/Applications/Visual Studio Code.app/Contents/Resources/app/out/vs/workbench/api/node/extensionHostProcess.js:134:10836)\n    at n.Q (/Applications/Visual Studio Code.app/Contents/Resources/app/out/vs/workbench/api/node/extensionHostProcess.js:134:10602)\n    at n.M (/Applications/Visual Studio Code.app/Contents/Resources/app/out/vs/workbench/api/node/extensionHostProcess.js:134:9647)\n    at n.L (/Applications/Visual Studio Code.app/Contents/Resources/app/out/vs/workbench/api/node/extensionHostProcess.js:134:8901)\n    at h.value (/Applications/Visual Studio Code.app/Contents/Resources/app/out/vs/workbench/api/node/extensionHostProcess.js:134:7565)\n    at c.y (/Applications/Visual Studio Code.app/Contents/Resources/app/out/vs/workbench/api/node/extensionHostProcess.js:80:1902)\n    at c.fire (/Applications/Visual Studio Code.app/Contents/Resources/app/out/vs/workbench/api/node/extensionHostProcess.js:80:2119)\n    at d.fire (/Applications/Visual Studio Code.app/Contents/Resources/app/out/vs/workbench/api/node/extensionHostProcess.js:96:14047)\n    at h.value (/Applications/Visual Studio Code.app/Contents/Resources/app/out/vs/workbench/api/node/extensionHostProcess.js:153:7918)\n    at c.y (/Applications/Visual Studio Code.app/Contents/Resources/app/out/vs/workbench/api/node/extensionHostProcess.js:80:1902)\n    at c.fire (/Applications/Visual Studio Code.app/Contents/Resources/app/out/vs/workbench/api/node/extensionHostProcess.js:80:2119)\n    at d.fire (/Applications/Visual Studio Code.app/Contents/Resources/app/out/vs/workbench/api/node/extensionHostProcess.js:96:14047)\n    at MessagePortMain.<anonymous> (/Applications/Visual Studio Code.app/Contents/Resources/app/out/vs/workbench/api/node/extensionHostProcess.js:153:6198)\n    at MessagePortMain.emit (node:events:513:28)\n    at Object.MessagePortMain._internalPort.emit (node:electron/js2c/utility_init:2:367)"
      },
      "text/plain": [
       "<IPython.core.display.JSON object>"
      ]
     },
     "execution_count": 116,
     "metadata": {
      "application/json": {
       "expanded": false,
       "root": "root"
      }
     },
     "output_type": "execute_result"
    }
   ],
   "source": [
    "false_stereo_candidates = stereo.select_stereo(filtered_false_stereo_search_results, false_stereo_delay)\n",
    "ppjson(false_stereo_candidates)"
   ]
  },
  {
   "cell_type": "markdown",
   "id": "b1079d0b-b695-4815-9f41-c9b1802e5916",
   "metadata": {
    "tags": []
   },
   "source": [
    "## Obtaining primary products\n",
    "\n",
    "Currently it is not possible to obtain primary products via API from Airbus. If you want to create a DEM then we can obtain these products for you. \n",
    "\n",
    " 1. From the process described in the notebook you can get the information you need to place the order.\n",
    " 2. Send your request via email to [ordering@up42.com](mailto:ordering@up42.com)."
   ]
  }
 ],
 "metadata": {
  "kernelspec": {
   "display_name": "Python 3 (ipykernel)",
   "language": "python",
   "name": "python3"
  },
  "language_info": {
   "codemirror_mode": {
    "name": "ipython",
    "version": 3
   },
   "file_extension": ".py",
   "mimetype": "text/x-python",
   "name": "python",
   "nbconvert_exporter": "python",
   "pygments_lexer": "ipython3",
   "version": "3.11.3"
  }
 },
 "nbformat": 4,
 "nbformat_minor": 5
}
