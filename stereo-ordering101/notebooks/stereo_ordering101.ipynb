{
 "cells": [
  {
   "cell_type": "markdown",
   "id": "5151b2bf-e6e3-4a02-990f-643db136d7fd",
   "metadata": {},
   "source": [
    "# UP42 Stereo Satellite Image Ordering 101\n",
    "\n",
    "Building on a [previous](https://up42.com/blog/tech/data-ordering101) article, this notebook provides a recipe for searching and ordering sterero data from UP42 using the UP42 [Python SDK](https://sdk.up42.com).\n",
    "\n",
    " 1. Nutshell definition of what stereo/tristereo is.  \n",
    " 2. Search for stereo/tristereo.\n",
    " 3. Order stereo/tristereo.\n",
    " 4. Get a webhook notification for the order delivery.\n",
    "\n",
    "**N.B.**: Make sure you are using an SDK version **$\\ge$ 0.23.0**. This is the version where support for data products was introduced."
   ]
  },
  {
   "cell_type": "markdown",
   "id": "9f7e9f44-f52d-48ac-b6e9-f3b5df7206ad",
   "metadata": {},
   "source": [
    "## Installing the UP42 Python SDK\n",
    "\n",
    "The module is called `up42`. Python **>= 3.8** is **required**.\n",
    "\n",
    " 1. Create a virtual environment.\n",
    "```bash\n",
    " mkvirtualenv --python=$(which python3) up42-py\n",
    "```\n",
    " 2. Activate the environment.\n",
    "```bash\n",
    " workon up42-py\n",
    "```\n",
    " 3. Install the module.\n",
    " ```bash\n",
    " pip install up42-py\n",
    " ```\n",
    " 4. Install Jupyter Lab.\n",
    "```bash\n",
    " pip install jupyterlab\n",
    " ```\n",
    " 5. Done.\n",
    " \n",
    "Now we can just import it."
   ]
  },
  {
   "cell_type": "code",
   "execution_count": 1,
   "id": "a53ac7b1-6b68-4d9a-985b-eef296881487",
   "metadata": {},
   "outputs": [],
   "source": [
    "import up42"
   ]
  },
  {
   "cell_type": "markdown",
   "id": "a33e3493-f6f9-4a17-a5d3-e4135984f32f",
   "metadata": {},
   "source": [
    "## Authenticate with project ID and project key\n",
    "The project API key and the project ID are read from a JSON file. This file has the following structure:\n",
    "```\n",
    "{\n",
    "  \"project_id\": \"<your-project-ID-here>\",\n",
    "  \"project_api_key\": \"<your-api-key-here>\"\n",
    "}\n",
    "```\n",
    "To find out how to obtain the project API key and project ID the please refer to the [documentation](https://docs.up42.com/processing-platform/projects#developers)\n",
    "from pathlib import Path\n",
    "\n",
    "project_config_file = Path.home() /  \".up42\" / \"proj_default.json\"\n",
    "up42.authenticate(cfg_file = project_config_file)\n",
    "Reading the credentials from the JSON file `~/.up42/proj_default.json`."
   ]
  },
  {
   "cell_type": "code",
   "execution_count": 2,
   "id": "00b94e55-ebc2-4e2f-ae0c-9565b1bdfe67",
   "metadata": {},
   "outputs": [
    {
     "name": "stderr",
     "output_type": "stream",
     "text": [
      "2022-10-19 14:04:18,158 - Got credentials from config file.\n",
      "2022-10-19 14:04:18,658 - Authentication with UP42 successful!\n"
     ]
    }
   ],
   "source": [
    "from pathlib import Path\n",
    "\n",
    "project_config_file = Path.home() /  \".up42\" / \"proj_default.json\"\n",
    "up42.authenticate(cfg_file = project_config_file)"
   ]
  },
  {
   "cell_type": "markdown",
   "id": "1170f4d0-bf31-4afb-9cff-12eb4d92abb4",
   "metadata": {},
   "source": [
    "## Stereo and Tristereo in a nutshell\n",
    "\n",
    "### Stereo basic concept\n",
    "\n",
    "**Stereo** in the context of satellite imaging refers to the technique of doing two (or three for tristereo) image captures that are shifted by a certain angle among them over a given scene. The value of this shift determines the level of detail that can be reconstructed from combining the two images. Usually these images are used to create, for example, Digital Elevation Models (DEMs), since the two images when properly combined provide _depth_ information, the relief of the scene being imaged can be determined up to a certain degree of certainty.\n",
    "\n",
    "### Tristereo basic concept\n",
    "\n",
    "**Tristereo** adds a third image that is captured **midway** between the two extreme positions of a stereo capture. This corresponds to the satellite being vertically aligned with the scene being imaged. The third photo provides additional detail, including making visible relief details that would be hidden when the photo is taken obliquely, which is the case for stereo.\n",
    "\n",
    "### Satellite orbits and stereo capture\n",
    "\n",
    "In this notebook, and in fact for most _modern_ earth observation satellites, these two (ot three) image captures are done in a single orbit pass, be it ascending or descending. This is called **along-track** stereo/tristereo."
   ]
  },
  {
   "cell_type": "markdown",
   "id": "09bfd4a2-7d2b-4976-9fdc-0f85a403c212",
   "metadata": {},
   "source": [
    "## Searching for stero/tristero data\n",
    "\n",
    "### AOI definition\n",
    "\n",
    "We now look for existing stereo/tristereo data in the region we are interested in. The AOI is defined via a GeoJSON file in the `examples` directory. Let us use [ipyleaflet](https://ipyleaflet.readthedocs.io/) to visualize it.\n",
    "\n",
    "We are going to look into to two different AOIs:\n",
    "\n",
    " 1. To look for SPOT 6/7 stereo image sets.\n",
    " 2. To look for Pléiades 1A/1B tristereo image sets.\n",
    "\n",
    "Let us start with the stereo image set."
   ]
  },
  {
   "cell_type": "code",
   "execution_count": 3,
   "id": "26d4b8cd-bb72-4877-9fe4-a4badd58bab9",
   "metadata": {},
   "outputs": [],
   "source": [
    "from ipyleaflet import Map, GeoJSON"
   ]
  },
  {
   "cell_type": "code",
   "execution_count": 4,
   "id": "ba22f073-77bf-4fe5-a5f9-87794508b17b",
   "metadata": {},
   "outputs": [],
   "source": [
    "# Path to the AOI GeoJSON.\n",
    "path2aoi = \"../examples/portinho_arrabida.geojson\""
   ]
  },
  {
   "cell_type": "code",
   "execution_count": 5,
   "id": "59e5ba1e-8b3b-4e6a-b8b2-93f797e7dfc9",
   "metadata": {},
   "outputs": [],
   "source": [
    "import json\n",
    "with open(path2aoi, \"r\") as f:\n",
    "    aoi_map = json.load(f)"
   ]
  },
  {
   "cell_type": "code",
   "execution_count": 6,
   "id": "40730b90-2a0c-4a33-9704-40e64c15fcda",
   "metadata": {},
   "outputs": [
    {
     "data": {
      "application/vnd.jupyter.widget-view+json": {
       "model_id": "18ccce3744944a5d9ffcce7662528e7f",
       "version_major": 2,
       "version_minor": 0
      },
      "text/plain": [
       "Map(center=[38.47064394226866, -8.984506813116552], controls=(ZoomControl(options=['position', 'zoom_in_text',…"
      ]
     },
     "metadata": {},
     "output_type": "display_data"
    }
   ],
   "source": [
    "mymap = Map(center=(38.47064394226866, -8.984506813116552), zoom=14)\n",
    "\n",
    "# Add the AOI to the map. First style it and then add it.\n",
    "aoi_layer = GeoJSON(\n",
    "    data=aoi_map,\n",
    "    style={\n",
    "        \"opacity\": 1, \"dashArray\": \"9\", \"fillOpacity\": 0.5, \"weight\": 1\n",
    "    },\n",
    "    hover_style={\n",
    "        \"color\": \"yellow\", 'dashArray': \"0\", \"fillOpacity\": 0.5\n",
    "    },\n",
    ")\n",
    "mymap.add_layer(aoi_layer)\n",
    "mymap"
   ]
  },
  {
   "cell_type": "markdown",
   "id": "4ed59341-29a6-40ba-bcb3-451b15bba4bc",
   "metadata": {},
   "source": [
    "### Searching for data in the catalog\n",
    "We need to instantiate a catalog object and perform a search."
   ]
  },
  {
   "cell_type": "code",
   "execution_count": 7,
   "id": "73f67771-d6b0-44b7-9144-d676fee80651",
   "metadata": {},
   "outputs": [],
   "source": [
    "catalog = up42.initialize_catalog()"
   ]
  },
  {
   "cell_type": "markdown",
   "id": "ec9ba242-4642-4e99-adf3-693888711896",
   "metadata": {},
   "source": [
    "#### Getting the display product ID\n",
    "\n",
    "Before performing the search we need to select the data product we are interested in. In this case we are interested in a display product of a Pléiades image. The data product we want is not necessary for the search itself, but we do it now so that the ordering flow stays simple. Since we do the data product selection at the outset and not after performing the search. This reproduces the usual actions of having the product specified before hand and then performing the search."
   ]
  },
  {
   "cell_type": "code",
   "execution_count": 8,
   "id": "f605fbae-f3a6-4770-9e71-2fb17673fdab",
   "metadata": {
    "tags": []
   },
   "outputs": [
    {
     "data": {
      "text/plain": [
       "{'Near Space Labs - 30cm': {'collection': 'nsl-30cm',\n",
       "  'host': 'nearspacelabs',\n",
       "  'data_products': {'Display Full Scene': '7131f727-cdbb-46d4-a1e7-77ac38b7bd02'}},\n",
       " 'Capella Space GEC': {'collection': 'capella-gec',\n",
       "  'host': 'capellaspace',\n",
       "  'data_products': {'Full Scene': '96072809-d820-4cf9-86dd-d3bff3337c35'}},\n",
       " 'Capella Space GEO': {'collection': 'capella-geo',\n",
       "  'host': 'capellaspace',\n",
       "  'data_products': {'Full Scene': 'd66facaa-533f-49a2-849a-c2910ac9dd31'}},\n",
       " 'Capella Space SICD': {'collection': 'capella-sicd',\n",
       "  'host': 'capellaspace',\n",
       "  'data_products': {'Full Scene': '8b0aed07-c565-4bf9-b719-401e692de4a6'}},\n",
       " 'Capella Space SLC': {'collection': 'capella-slc',\n",
       "  'host': 'capellaspace',\n",
       "  'data_products': {'Full Scene': '1f2b0d7f-d3e2-4b3d-96b7-e7c184df7952'}},\n",
       " 'SPOT 6/7': {'collection': 'spot',\n",
       "  'host': 'oneatlas',\n",
       "  'data_products': {'Analytic': 'b1f8c48e-d16b-44c4-a1bb-5e8a24892e69',\n",
       "   'Display': 'acc3f9a4-b622-49c1-b1e1-c762aa3e7e13'}},\n",
       " 'Pléiades': {'collection': 'phr',\n",
       "  'host': 'oneatlas',\n",
       "  'data_products': {'Analytic': '4f1b2f62-98df-4c74-81f4-5dce45deee99',\n",
       "   'Display': '647780db-5a06-4b61-b525-577a8b68bb54'}},\n",
       " 'Pléiades Neo': {'collection': 'pneo',\n",
       "  'host': 'oneatlas',\n",
       "  'data_products': {'Display': '17745de8-6e7d-4751-99cd-3f8e9e9d290e'}},\n",
       " 'SPOT 6/7 Tasking': {'collection': 'SPOT-tasking',\n",
       "  'host': 'oneatlas',\n",
       "  'data_products': {'Custom': '3a89d24e-515a-460f-a494-96be55da10a9',\n",
       "   'Analytic': '9d16c506-a6c0-4cf2-a020-8ecaf10b4160',\n",
       "   'Display': '47a693ba-4f8b-414d-8d5b-697373df4765'}},\n",
       " 'Pléiades Neo Tasking': {'collection': 'pneo-tasking',\n",
       "  'host': 'oneatlas',\n",
       "  'data_products': {'Custom': '07c33a51-94b9-4509-84df-e9c13ea92b84',\n",
       "   'Analytic': '123eabab-0511-4f36-883a-80928716c3db',\n",
       "   'Display': '469f9b2f-1631-4c09-b66d-575abd41dc8f'}},\n",
       " 'Capella Space Tasking': {'collection': 'capella-tasking',\n",
       "  'host': 'capellaspace',\n",
       "  'data_products': {'Custom': '83e21b35-e431-43a0-a1c4-22a6ad313911'}},\n",
       " 'Pléiades Tasking': {'collection': 'PHR-tasking',\n",
       "  'host': 'oneatlas',\n",
       "  'data_products': {'Custom': '4f866cd3-d816-4c98-ace3-e6105623cf13',\n",
       "   'Analytic': 'bd102407-1814-4f92-8b5a-7697b7a73f5a',\n",
       "   'Display': '28d4a077-6620-4ab5-9a03-c96bf622457e'}},\n",
       " 'TripleSat': {'collection': 'triplesat',\n",
       "  'host': '21at',\n",
       "  'data_products': {'Analytic - 8 bit': '2398d8f5-5f7f-4596-884d-345c0b07af14',\n",
       "   'Analytic - 16 bit': '37c26f4d-f6a9-47c9-ae4d-a095569ab8bc'}},\n",
       " 'TerraSAR Tasking': {'collection': 'terra-sar-tasking',\n",
       "  'host': 'airbus',\n",
       "  'data_products': {'Custom': 'a6f64332-3148-4e05-a475-45a02176f210'}},\n",
       " 'BlackSky Tasking': {'collection': 'blacksky-tasking',\n",
       "  'host': 'spectra',\n",
       "  'data_products': {'Custom': '613ad1f5-4148-4460-a316-1a97e46058f9'}},\n",
       " 'ICEYE Tasking': {'collection': 'iceye-tasking',\n",
       "  'host': 'iceye',\n",
       "  'data_products': {'Custom': '205fd9e1-4b00-4f0a-aabd-01e2f3f4dfba'}}}"
      ]
     },
     "execution_count": 8,
     "metadata": {},
     "output_type": "execute_result"
    }
   ],
   "source": [
    "products = catalog.get_data_products(basic=True)\n",
    "products"
   ]
  },
  {
   "cell_type": "markdown",
   "id": "0c45f549-4362-4e01-896d-f9707a67a86c",
   "metadata": {},
   "source": [
    "We have the list of all **available** collections and the corresponding products. In our case we want SPOT 6/7."
   ]
  },
  {
   "cell_type": "code",
   "execution_count": 9,
   "id": "2383434c-b818-41a7-b12a-143debee17b4",
   "metadata": {},
   "outputs": [
    {
     "data": {
      "text/plain": [
       "('SPOT 6/7',\n",
       " {'collection': 'spot',\n",
       "  'host': 'oneatlas',\n",
       "  'data_products': {'Analytic': 'b1f8c48e-d16b-44c4-a1bb-5e8a24892e69',\n",
       "   'Display': 'acc3f9a4-b622-49c1-b1e1-c762aa3e7e13'}})"
      ]
     },
     "execution_count": 9,
     "metadata": {},
     "output_type": "execute_result"
    }
   ],
   "source": [
    "spot_product = next(filter(lambda e: e[0].lower().startswith(\"spot\"), products.items()))\n",
    "spot_product"
   ]
  },
  {
   "cell_type": "markdown",
   "id": "b1f565a1-3864-476b-8d62-d6c7088753e9",
   "metadata": {},
   "source": [
    "Specifically we want a display product. We need to get the corresponding product ID."
   ]
  },
  {
   "cell_type": "code",
   "execution_count": 10,
   "id": "846af140-5663-49bb-86a4-cd28a98dbdf5",
   "metadata": {},
   "outputs": [
    {
     "data": {
      "text/plain": [
       "'acc3f9a4-b622-49c1-b1e1-c762aa3e7e13'"
      ]
     },
     "execution_count": 10,
     "metadata": {},
     "output_type": "execute_result"
    }
   ],
   "source": [
    "spot_product_id = spot_product[1][\"data_products\"][\"Display\"]\n",
    "spot_product_id"
   ]
  },
  {
   "cell_type": "markdown",
   "id": "606e9da4-277e-4ba8-8f25-71dc43d0b697",
   "metadata": {},
   "source": [
    "#### Performing the search\n"
   ]
  },
  {
   "cell_type": "markdown",
   "id": "9e8f62bc-1f1a-42e9-aee6-a3496dcced15",
   "metadata": {},
   "source": [
    "We are going to look for data from September 1st, 2021 until now. We set the upper date range to be Dec 31st 2022.\n",
    "We need the collection name."
   ]
  },
  {
   "cell_type": "code",
   "execution_count": 11,
   "id": "6e24585c-8f1a-4cb9-a287-8303cc377c06",
   "metadata": {},
   "outputs": [
    {
     "data": {
      "text/plain": [
       "'spot'"
      ]
     },
     "execution_count": 11,
     "metadata": {},
     "output_type": "execute_result"
    }
   ],
   "source": [
    "spot_coll_name = spot_product[1][\"collection\"]\n",
    "spot_coll_name"
   ]
  },
  {
   "cell_type": "markdown",
   "id": "8d021fa5-21c2-4fcc-ac16-0a754e00e408",
   "metadata": {},
   "source": [
    "The search parameters are defined below we are asking for up to **50** results sorted by descending acquisition date."
   ]
  },
  {
   "cell_type": "code",
   "execution_count": 12,
   "id": "c93f2f08-6470-4a27-ab02-963a00a414b4",
   "metadata": {},
   "outputs": [],
   "source": [
    "spot_search_params = catalog.construct_search_parameters(geometry=aoi_map,\n",
    "                                                         start_date=\"2021-09-01\",\n",
    "                                                         end_date=\"2022-12-31\",\n",
    "                                                         collections=[spot_coll_name],\n",
    "                                                         max_cloudcover=10,\n",
    "                                                         sortby=\"acquisitionDate\",\n",
    "                                                         ascending=False,\n",
    "                                                         limit=50)"
   ]
  },
  {
   "cell_type": "markdown",
   "id": "1203e7bb-6e9b-49f1-8a3d-3d2e990f32b7",
   "metadata": {},
   "source": [
    "We ask for the results to be returned as `FeatureCollection` in a Python dict the resulting found features are returned in a list. This is more convenient for later filtering of the stereo pairs/tristereo triples."
   ]
  },
  {
   "cell_type": "code",
   "execution_count": 13,
   "id": "6daf56b5-9634-45bf-8948-748cec728466",
   "metadata": {},
   "outputs": [
    {
     "name": "stderr",
     "output_type": "stream",
     "text": [
      "2022-10-19 14:04:19,321 - Searching catalog with search_parameters: {'datetime': '2021-09-01T00:00:00Z/2022-12-31T23:59:59Z', 'intersects': {'type': 'Polygon', 'coordinates': (((-8.970508575439453, 38.48382914339068), (-8.98106575012207, 38.48141037533113), (-8.989777565002441, 38.47637101450613), (-8.992223739624023, 38.47015531764655), (-8.991966247558594, 38.46561920067743), (-8.990163803100586, 38.465518394837304), (-8.990421295166016, 38.46709767014416), (-8.986902236938477, 38.46978571879323), (-8.982696533203125, 38.47381760389001), (-8.984713554382324, 38.47600144751436), (-8.981409072875977, 38.47905871745382), (-8.97707462310791, 38.48026815108751), (-8.971881866455078, 38.48016736572641), (-8.96934986114502, 38.480604101273386), (-8.969564437866211, 38.481746320193345), (-8.968620300292969, 38.48208226348981), (-8.969006538391113, 38.48288852101284), (-8.970508575439453, 38.48382914339068)),)}, 'limit': 50, 'collections': ['spot'], 'query': {'cloudCoverage': {'lte': 10}, 'up42:usageType': {'in': ['DATA', 'ANALYTICS']}}, 'sortby': [{'field': 'properties.acquisitionDate', 'direction': 'desc'}]}\n",
      "2022-10-19 14:04:20,011 - 0 results returned.\n"
     ]
    }
   ],
   "source": [
    "spot_search_results = catalog.search(spot_search_params, as_dataframe=False)"
   ]
  },
  {
   "cell_type": "code",
   "execution_count": 14,
   "id": "0706fe8c-ae8f-49dc-921e-46087d47c2c4",
   "metadata": {},
   "outputs": [],
   "source": [
    "from pynb_helpers import stereo"
   ]
  },
  {
   "cell_type": "markdown",
   "id": "f502e0a9-bd18-4fb6-9025-2cbbdb7314ec",
   "metadata": {},
   "source": [
    "Let us look for the stereo pairs in the above search results."
   ]
  },
  {
   "cell_type": "code",
   "execution_count": 15,
   "id": "754f43e0-c4e1-438b-a104-a25a4c3f35b9",
   "metadata": {},
   "outputs": [
    {
     "data": {
      "text/plain": [
       "[]"
      ]
     },
     "execution_count": 15,
     "metadata": {},
     "output_type": "execute_result"
    }
   ],
   "source": [
    "spot_stereo_results = stereo.select_stereo(spot_search_results[\"features\"])\n",
    "spot_stereo_results"
   ]
  },
  {
   "cell_type": "markdown",
   "id": "75a38870-dc0a-4898-abeb-6d5c47622f3d",
   "metadata": {},
   "source": [
    "#### Get the stereo image IDs for ordering\n",
    "\n",
    "We need to get the image IDs for placing the order. We use the *convenience* function `get_stereo_image_ids`."
   ]
  },
  {
   "cell_type": "code",
   "execution_count": 16,
   "id": "3c83faa7-b08d-4332-9910-830d084173da",
   "metadata": {},
   "outputs": [
    {
     "data": {
      "text/plain": [
       "[]"
      ]
     },
     "execution_count": 16,
     "metadata": {},
     "output_type": "execute_result"
    }
   ],
   "source": [
    "stereo.get_stereo_image_ids(spot_stereo_results)"
   ]
  },
  {
   "cell_type": "markdown",
   "id": "3f847ecd-910d-4b5a-8cbf-55e18bf90139",
   "metadata": {},
   "source": [
    "We have now all we need to go ahead and order the data.\n",
    "\n",
    "### Looking for tristereo data\n",
    "\n",
    "After having found stereo pairs, let us now look for tristereo triples. We define another AOI to look for tristereo data."
   ]
  },
  {
   "cell_type": "code",
   "execution_count": 17,
   "id": "f46076d2-c5dd-48d4-a6b5-b2c36f17e253",
   "metadata": {},
   "outputs": [],
   "source": [
    "# Path to the AOI GeoJSON.\n",
    "path2aoi2 = \"../examples/figueira_foz.geojson\""
   ]
  },
  {
   "cell_type": "code",
   "execution_count": 18,
   "id": "9e091a4b-9179-470d-897c-3a116bce6c8a",
   "metadata": {},
   "outputs": [],
   "source": [
    "import json\n",
    "with open(path2aoi2, \"r\") as f:\n",
    "    aoi_map2 = json.load(f)"
   ]
  },
  {
   "cell_type": "code",
   "execution_count": 19,
   "id": "0f86494a-f10a-42aa-8c0e-28a15d86e420",
   "metadata": {},
   "outputs": [
    {
     "data": {
      "application/vnd.jupyter.widget-view+json": {
       "model_id": "923973f3d22e4f85a409d45c4fac5d30",
       "version_major": 2,
       "version_minor": 0
      },
      "text/plain": [
       "Map(center=[40.157387868535764, -8.857583004391348], controls=(ZoomControl(options=['position', 'zoom_in_text'…"
      ]
     },
     "metadata": {},
     "output_type": "display_data"
    }
   ],
   "source": [
    "mymap2 = Map(center=(40.157387868535764, -8.857583004391348), zoom=14)\n",
    "\n",
    "# Add the AOI to the map. First style it and then add it.\n",
    "aoi_layer = GeoJSON(\n",
    "    data=aoi_map2,\n",
    "    style={\n",
    "        \"opacity\": 1, \"dashArray\": \"9\", \"fillOpacity\": 0.5, \"weight\": 1\n",
    "    },\n",
    "    hover_style={\n",
    "        \"color\": \"yellow\", 'dashArray': \"0\", \"fillOpacity\": 0.5\n",
    "    },\n",
    ")\n",
    "mymap2.add_layer(aoi_layer)\n",
    "mymap2"
   ]
  },
  {
   "cell_type": "markdown",
   "id": "7c8a0e05-ac5c-44e5-80fb-ded0faa58c20",
   "metadata": {},
   "source": [
    "Let us get the product ID for the display product."
   ]
  },
  {
   "cell_type": "code",
   "execution_count": 20,
   "id": "9a0e2ff7-a93a-4409-90f0-dd62b9008a49",
   "metadata": {},
   "outputs": [
    {
     "data": {
      "text/plain": [
       "('Pléiades',\n",
       " {'collection': 'phr',\n",
       "  'host': 'oneatlas',\n",
       "  'data_products': {'Analytic': '4f1b2f62-98df-4c74-81f4-5dce45deee99',\n",
       "   'Display': '647780db-5a06-4b61-b525-577a8b68bb54'}})"
      ]
     },
     "execution_count": 20,
     "metadata": {},
     "output_type": "execute_result"
    }
   ],
   "source": [
    "pleiades_product = next(filter(lambda e: e[0].lower().endswith(\"ades\"), products.items()))\n",
    "pleiades_product"
   ]
  },
  {
   "cell_type": "code",
   "execution_count": 21,
   "id": "940bd531-1d45-476e-9a6c-1335d7ad932d",
   "metadata": {},
   "outputs": [
    {
     "data": {
      "text/plain": [
       "'647780db-5a06-4b61-b525-577a8b68bb54'"
      ]
     },
     "execution_count": 21,
     "metadata": {},
     "output_type": "execute_result"
    }
   ],
   "source": [
    "pleiades_product_id = pleiades_product[1][\"data_products\"][\"Display\"]\n",
    "pleiades_product_id"
   ]
  },
  {
   "cell_type": "markdown",
   "id": "46a7d02d-7fdb-45d2-b1f5-8ec8e2564900",
   "metadata": {},
   "source": [
    "And the collection name."
   ]
  },
  {
   "cell_type": "code",
   "execution_count": 22,
   "id": "0567c475-a590-4be6-a5b9-d5e39ac105ad",
   "metadata": {},
   "outputs": [
    {
     "data": {
      "text/plain": [
       "'phr'"
      ]
     },
     "execution_count": 22,
     "metadata": {},
     "output_type": "execute_result"
    }
   ],
   "source": [
    "pleiades_coll_name = pleiades_product[1][\"collection\"]\n",
    "pleiades_coll_name"
   ]
  },
  {
   "cell_type": "markdown",
   "id": "ad01ac95-ebbf-4b74-aaba-d3037b70a85d",
   "metadata": {},
   "source": [
    "Let us now perform the search."
   ]
  },
  {
   "cell_type": "code",
   "execution_count": 23,
   "id": "2f09e843-33f8-4aee-8887-558e850401a9",
   "metadata": {},
   "outputs": [],
   "source": [
    "pleiades_search_params = catalog.construct_search_parameters(geometry=aoi_map2,\n",
    "                                                            start_date=\"2021-09-01\",\n",
    "                                                            end_date=\"2022-12-31\",\n",
    "                                                            collections=[pleiades_coll_name],\n",
    "                                                            max_cloudcover=10,\n",
    "                                                            sortby=\"acquisitionDate\",\n",
    "                                                            ascending=False,\n",
    "                                                            limit=50)"
   ]
  },
  {
   "cell_type": "code",
   "execution_count": 24,
   "id": "843c3667-89f8-43b8-a252-38469ffa97d9",
   "metadata": {},
   "outputs": [
    {
     "name": "stderr",
     "output_type": "stream",
     "text": [
      "2022-10-19 14:04:20,244 - Searching catalog with search_parameters: {'datetime': '2021-09-01T00:00:00Z/2022-12-31T23:59:59Z', 'intersects': {'type': 'Polygon', 'coordinates': (((-8.884849548339844, 40.16641243354131), (-8.884334564208984, 40.16601889477649), (-8.865280151367188, 40.12232191122354), (-8.798847198486328, 40.13098480788124), (-8.801078796386719, 40.15604848507155), (-8.831291198730469, 40.17480738367364), (-8.884849548339844, 40.16641243354131)),)}, 'limit': 50, 'collections': ['phr'], 'query': {'cloudCoverage': {'lte': 10}, 'up42:usageType': {'in': ['DATA', 'ANALYTICS']}}, 'sortby': [{'field': 'properties.acquisitionDate', 'direction': 'desc'}]}\n",
      "2022-10-19 14:04:21,123 - 10 results returned.\n"
     ]
    }
   ],
   "source": [
    "pleiades_search_results = catalog.search(pleiades_search_params, as_dataframe=False)"
   ]
  },
  {
   "cell_type": "code",
   "execution_count": 49,
   "id": "d3ebd529-fa6f-428c-aa81-e339394caca2",
   "metadata": {},
   "outputs": [
    {
     "name": "stdout",
     "output_type": "stream",
     "text": [
      "True\n"
     ]
    },
    {
     "ename": "KeyError",
     "evalue": "'tristereo'",
     "output_type": "error",
     "traceback": [
      "\u001b[0;31m---------------------------------------------------------------------------\u001b[0m",
      "\u001b[0;31mKeyError\u001b[0m                                  Traceback (most recent call last)",
      "\u001b[0;32m<ipython-input-49-8a4af04ec8c8>\u001b[0m in \u001b[0;36m<module>\u001b[0;34m\u001b[0m\n\u001b[0;32m----> 1\u001b[0;31m \u001b[0mpleiades_tristereo_results\u001b[0m \u001b[0;34m=\u001b[0m \u001b[0mstereo\u001b[0m\u001b[0;34m.\u001b[0m\u001b[0mselect_tristereo\u001b[0m\u001b[0;34m(\u001b[0m\u001b[0mpleiades_search_results\u001b[0m\u001b[0;34m[\u001b[0m\u001b[0;34m\"features\"\u001b[0m\u001b[0;34m]\u001b[0m\u001b[0;34m)\u001b[0m\u001b[0;34m\u001b[0m\u001b[0;34m\u001b[0m\u001b[0m\n\u001b[0m\u001b[1;32m      2\u001b[0m \u001b[0mpleiades_tristereo_results\u001b[0m\u001b[0;34m\u001b[0m\u001b[0;34m\u001b[0m\u001b[0m\n",
      "\u001b[0;32m~/up42/data-recipes/stereo-ordering101/notebooks/pynb_helpers/stereo.py\u001b[0m in \u001b[0;36mselect_tristereo\u001b[0;34m(feature_list)\u001b[0m\n\u001b[1;32m    186\u001b[0m     \u001b[0;31m# two, since the B/H value is adjusted for tri-stereo, This works\u001b[0m\u001b[0;34m\u001b[0m\u001b[0;34m\u001b[0m\u001b[0m\n\u001b[1;32m    187\u001b[0m     \u001b[0;31m# due to the ordering of the search results.\u001b[0m\u001b[0;34m\u001b[0m\u001b[0;34m\u001b[0m\u001b[0m\n\u001b[0;32m--> 188\u001b[0;31m     return list(filter(lambda e:\n\u001b[0m\u001b[1;32m    189\u001b[0m                        is_stereo_dates(\n\u001b[1;32m    190\u001b[0m                            \u001b[0me\u001b[0m\u001b[0;34m[\u001b[0m\u001b[0;36m0\u001b[0m\u001b[0;34m]\u001b[0m\u001b[0;34m[\u001b[0m\u001b[0;34m\"properties\"\u001b[0m\u001b[0;34m]\u001b[0m\u001b[0;34m[\u001b[0m\u001b[0;34m\"acquisitionDate\"\u001b[0m\u001b[0;34m]\u001b[0m\u001b[0;34m,\u001b[0m\u001b[0;34m\u001b[0m\u001b[0;34m\u001b[0m\u001b[0m\n",
      "\u001b[0;32m~/up42/data-recipes/stereo-ordering101/notebooks/pynb_helpers/stereo.py\u001b[0m in \u001b[0;36m<lambda>\u001b[0;34m(e)\u001b[0m\n\u001b[1;32m    192\u001b[0m                        )\n\u001b[1;32m    193\u001b[0m                        \u001b[0;32mand\u001b[0m\u001b[0;34m\u001b[0m\u001b[0;34m\u001b[0m\u001b[0m\n\u001b[0;32m--> 194\u001b[0;31m                        is_stereo_angles(\n\u001b[0m\u001b[1;32m    195\u001b[0m                            \u001b[0me\u001b[0m\u001b[0;34m[\u001b[0m\u001b[0;36m0\u001b[0m\u001b[0;34m]\u001b[0m\u001b[0;34m[\u001b[0m\u001b[0;34m\"properties\"\u001b[0m\u001b[0;34m]\u001b[0m\u001b[0;34m[\u001b[0m\u001b[0;34m\"providerProperties\"\u001b[0m\u001b[0;34m]\u001b[0m\u001b[0;34m[\u001b[0m\u001b[0;34m\"incidenceAngleAlongTrack\"\u001b[0m\u001b[0;34m]\u001b[0m\u001b[0;34m,\u001b[0m\u001b[0;34m\u001b[0m\u001b[0;34m\u001b[0m\u001b[0m\n\u001b[1;32m    196\u001b[0m                            \u001b[0me\u001b[0m\u001b[0;34m[\u001b[0m\u001b[0;36m2\u001b[0m\u001b[0;34m]\u001b[0m\u001b[0;34m[\u001b[0m\u001b[0;34m\"properties\"\u001b[0m\u001b[0;34m]\u001b[0m\u001b[0;34m[\u001b[0m\u001b[0;34m\"providerProperties\"\u001b[0m\u001b[0;34m]\u001b[0m\u001b[0;34m[\u001b[0m\u001b[0;34m\"incidenceAngleAlongTrack\"\u001b[0m\u001b[0;34m]\u001b[0m\u001b[0;34m,\u001b[0m\u001b[0;34m\u001b[0m\u001b[0;34m\u001b[0m\u001b[0m\n",
      "\u001b[0;32m~/up42/data-recipes/stereo-ordering101/notebooks/pynb_helpers/stereo.py\u001b[0m in \u001b[0;36mis_stereo_angles\u001b[0;34m(sensor, tristereo, *incidence_angles)\u001b[0m\n\u001b[1;32m    115\u001b[0m     \u001b[0mmode\u001b[0m \u001b[0;34m=\u001b[0m \u001b[0;34m\"tristereo\"\u001b[0m \u001b[0;32mif\u001b[0m \u001b[0mtristereo\u001b[0m \u001b[0;32melse\u001b[0m \u001b[0;34m\"stereo\"\u001b[0m\u001b[0;34m\u001b[0m\u001b[0;34m\u001b[0m\u001b[0m\n\u001b[1;32m    116\u001b[0m     \u001b[0;31m# Check if B/H is within the respective sensor bounds.\u001b[0m\u001b[0;34m\u001b[0m\u001b[0;34m\u001b[0m\u001b[0m\n\u001b[0;32m--> 117\u001b[0;31m     \u001b[0;32mreturn\u001b[0m \u001b[0mB_H_RANGE_SENSORS\u001b[0m\u001b[0;34m[\u001b[0m\u001b[0msensor\u001b[0m\u001b[0;34m]\u001b[0m\u001b[0;34m[\u001b[0m\u001b[0mmode\u001b[0m\u001b[0;34m]\u001b[0m\u001b[0;34m[\u001b[0m\u001b[0;34m\"lower\"\u001b[0m\u001b[0;34m]\u001b[0m \u001b[0;34m<=\u001b[0m \u001b[0mb_over_h\u001b[0m \u001b[0;34m<=\u001b[0m \u001b[0mB_H_RANGE_SENSORS\u001b[0m\u001b[0;34m[\u001b[0m\u001b[0msensor\u001b[0m\u001b[0;34m]\u001b[0m\u001b[0;34m[\u001b[0m\u001b[0mmode\u001b[0m\u001b[0;34m]\u001b[0m\u001b[0;34m[\u001b[0m\u001b[0;34m\"upper\"\u001b[0m\u001b[0;34m]\u001b[0m\u001b[0;34m\u001b[0m\u001b[0;34m\u001b[0m\u001b[0m\n\u001b[0m\u001b[1;32m    118\u001b[0m \u001b[0;34m\u001b[0m\u001b[0m\n\u001b[1;32m    119\u001b[0m \u001b[0;34m\u001b[0m\u001b[0m\n",
      "\u001b[0;31mKeyError\u001b[0m: 'tristereo'"
     ]
    }
   ],
   "source": [
    "pleiades_tristereo_results = stereo.select_tristereo(pleiades_search_results[\"features\"])\n",
    "pleiades_tristereo_results"
   ]
  },
  {
   "cell_type": "markdown",
   "id": "e00b6390-a0b4-4489-9de8-8afb3622d0c3",
   "metadata": {},
   "source": [
    "We need to get the image IDs for placing the order. We use the *convenience* function `get_tristereo_image_ids`."
   ]
  },
  {
   "cell_type": "code",
   "execution_count": null,
   "id": "a5b2077b-09b8-42d2-a052-339495295527",
   "metadata": {},
   "outputs": [],
   "source": [
    "stereo.get_tristereo_image_ids(pleiades_tristereo_results)"
   ]
  },
  {
   "cell_type": "markdown",
   "id": "a4d490ee-a5f3-49ea-977b-bd60b92fb95f",
   "metadata": {},
   "source": [
    "## Placing the orders\n",
    "\n",
    "For placing the orders and getting notified via a webhook when the orders get delivered we refer you to the recipe described in the blog post [data ordering 101](https://up42.com/blog/tech/data-ordering101) and the accompanying [Jupyter notebook](https://github.com/up42/data-recipes/blob/master/stereo-ordering101/notebooks/stereo_ordering101.ipynb)."
   ]
  },
  {
   "cell_type": "code",
   "execution_count": null,
   "id": "4acf6f61-57a6-4a4e-974b-1621c7364f81",
   "metadata": {},
   "outputs": [],
   "source": [
    "stereo.is_stereo_dates(\"2021-10-13T10:59:01.624Z\", \"2021-10-13T10:58:42.874Z\")"
   ]
  },
  {
   "cell_type": "code",
   "execution_count": 27,
   "id": "f2fbc3dd-39b2-4205-9716-83f888feebe1",
   "metadata": {},
   "outputs": [],
   "source": [
    "from importlib import reload as rl"
   ]
  },
  {
   "cell_type": "code",
   "execution_count": 74,
   "id": "482c5601-6a83-484c-ad54-02330b56fc26",
   "metadata": {},
   "outputs": [
    {
     "data": {
      "text/plain": [
       "<module 'pynb_helpers.stereo' from '/Users/appa/up42/data-recipes/stereo-ordering101/notebooks/pynb_helpers/stereo.py'>"
      ]
     },
     "execution_count": 74,
     "metadata": {},
     "output_type": "execute_result"
    }
   ],
   "source": [
    "rl(stereo)"
   ]
  },
  {
   "cell_type": "code",
   "execution_count": null,
   "id": "a5b5dc35-1a1b-454a-9e71-6d823c7527b4",
   "metadata": {},
   "outputs": [],
   "source": [
    "import re\n",
    "from datetime import datetime as dt\n",
    "\n",
    "list(map(lambda d: dt.timestamp(\n",
    "        re.sub(r\"(?P<ms>\\.\\d{3})Z$\", r\"\\g<ms>000Z\", d),\n",
    "        \"%Y-%m-%dT%H:%M:%S.%fZ\"), (\"2021-10-13T10:59:01.624Z\", \"2021-10-13T10:58:42.874Z\")))"
   ]
  },
  {
   "cell_type": "code",
   "execution_count": 68,
   "id": "d0698c78-d2cf-4a8c-8708-09440c510dd3",
   "metadata": {},
   "outputs": [],
   "source": [
    "def f1(*a:int, b1:str,tristereo: bool=True)->None:\n",
    "    print(a, b1, tristereo)"
   ]
  },
  {
   "cell_type": "code",
   "execution_count": 71,
   "id": "01803580-a1bc-4a79-ba83-6e42994a8584",
   "metadata": {},
   "outputs": [
    {
     "name": "stdout",
     "output_type": "stream",
     "text": [
      "(1, 2, 3) foo False\n"
     ]
    }
   ],
   "source": [
    "f1(1,2, 3, b1=\"foo\", tristereo=False)"
   ]
  },
  {
   "cell_type": "code",
   "execution_count": 73,
   "id": "4e5756b1-4cbe-4dae-b94a-d99bdc4d8945",
   "metadata": {},
   "outputs": [
    {
     "name": "stdout",
     "output_type": "stream",
     "text": [
      "12.458 -1.567 phr True\n"
     ]
    },
    {
     "ename": "KeyError",
     "evalue": "'tristereo'",
     "output_type": "error",
     "traceback": [
      "\u001b[0;31m---------------------------------------------------------------------------\u001b[0m",
      "\u001b[0;31mKeyError\u001b[0m                                  Traceback (most recent call last)",
      "\u001b[0;32m<ipython-input-73-5b6d07cca46c>\u001b[0m in \u001b[0;36m<module>\u001b[0;34m\u001b[0m\n\u001b[0;32m----> 1\u001b[0;31m \u001b[0mstereo\u001b[0m\u001b[0;34m.\u001b[0m\u001b[0mis_stereo_angles\u001b[0m\u001b[0;34m(\u001b[0m\u001b[0;36m12.458\u001b[0m\u001b[0;34m,\u001b[0m \u001b[0;34m-\u001b[0m\u001b[0;36m1.567\u001b[0m\u001b[0;34m,\u001b[0m \u001b[0msensor\u001b[0m\u001b[0;34m=\u001b[0m\u001b[0;34m\"phr\"\u001b[0m\u001b[0;34m,\u001b[0m \u001b[0mtristereo\u001b[0m\u001b[0;34m=\u001b[0m\u001b[0;32mTrue\u001b[0m\u001b[0;34m)\u001b[0m\u001b[0;34m\u001b[0m\u001b[0;34m\u001b[0m\u001b[0m\n\u001b[0m",
      "\u001b[0;32m~/up42/data-recipes/stereo-ordering101/notebooks/pynb_helpers/stereo.py\u001b[0m in \u001b[0;36mis_stereo_angles\u001b[0;34m(sensor, tristereo, *incidence_angles)\u001b[0m\n\u001b[1;32m    115\u001b[0m     \u001b[0mmode\u001b[0m \u001b[0;34m=\u001b[0m \u001b[0;34m\"tristereo\"\u001b[0m \u001b[0;32mif\u001b[0m \u001b[0mtristereo\u001b[0m \u001b[0;32melse\u001b[0m \u001b[0;34m\"stereo\"\u001b[0m\u001b[0;34m\u001b[0m\u001b[0;34m\u001b[0m\u001b[0m\n\u001b[1;32m    116\u001b[0m     \u001b[0;31m# Check if B/H is within the respective sensor bounds.\u001b[0m\u001b[0;34m\u001b[0m\u001b[0;34m\u001b[0m\u001b[0m\n\u001b[0;32m--> 117\u001b[0;31m     \u001b[0;32mreturn\u001b[0m \u001b[0mB_H_RANGE_SENSORS\u001b[0m\u001b[0;34m[\u001b[0m\u001b[0msensor\u001b[0m\u001b[0;34m]\u001b[0m\u001b[0;34m[\u001b[0m\u001b[0mmode\u001b[0m\u001b[0;34m]\u001b[0m\u001b[0;34m[\u001b[0m\u001b[0;34m\"lower\"\u001b[0m\u001b[0;34m]\u001b[0m \u001b[0;34m<=\u001b[0m \u001b[0mb_over_h\u001b[0m \u001b[0;34m<=\u001b[0m \u001b[0mB_H_RANGE_SENSORS\u001b[0m\u001b[0;34m[\u001b[0m\u001b[0msensor\u001b[0m\u001b[0;34m]\u001b[0m\u001b[0;34m[\u001b[0m\u001b[0mmode\u001b[0m\u001b[0;34m]\u001b[0m\u001b[0;34m[\u001b[0m\u001b[0;34m\"upper\"\u001b[0m\u001b[0;34m]\u001b[0m\u001b[0;34m\u001b[0m\u001b[0;34m\u001b[0m\u001b[0m\n\u001b[0m\u001b[1;32m    118\u001b[0m \u001b[0;34m\u001b[0m\u001b[0m\n\u001b[1;32m    119\u001b[0m \u001b[0;34m\u001b[0m\u001b[0m\n",
      "\u001b[0;31mKeyError\u001b[0m: 'tristereo'"
     ]
    }
   ],
   "source": [
    "stereo.is_stereo_angles(12.458, -1.567, sensor=\"phr\", tristereo=True)"
   ]
  },
  {
   "cell_type": "code",
   "execution_count": 55,
   "id": "c42d7511-c5d0-4fa0-8c69-8b2daf2e7f1f",
   "metadata": {},
   "outputs": [
    {
     "ename": "NameError",
     "evalue": "name 'tristereo' is not defined",
     "output_type": "error",
     "traceback": [
      "\u001b[0;31m---------------------------------------------------------------------------\u001b[0m",
      "\u001b[0;31mNameError\u001b[0m                                 Traceback (most recent call last)",
      "\u001b[0;32m<ipython-input-55-c40d187aa5b7>\u001b[0m in \u001b[0;36m<module>\u001b[0;34m\u001b[0m\n\u001b[0;32m----> 1\u001b[0;31m \u001b[0mtristereo\u001b[0m\u001b[0;34m\u001b[0m\u001b[0;34m\u001b[0m\u001b[0m\n\u001b[0m",
      "\u001b[0;31mNameError\u001b[0m: name 'tristereo' is not defined"
     ]
    }
   ],
   "source": [
    "tristereo"
   ]
  },
  {
   "cell_type": "code",
   "execution_count": null,
   "id": "fbf75fb6-e73a-4e79-9a51-f00f1585f5c7",
   "metadata": {},
   "outputs": [],
   "source": []
  }
 ],
 "metadata": {
  "kernelspec": {
   "display_name": "Python 3",
   "language": "python",
   "name": "python3"
  },
  "language_info": {
   "codemirror_mode": {
    "name": "ipython",
    "version": 3
   },
   "file_extension": ".py",
   "mimetype": "text/x-python",
   "name": "python",
   "nbconvert_exporter": "python",
   "pygments_lexer": "ipython3",
   "version": "3.9.13"
  }
 },
 "nbformat": 4,
 "nbformat_minor": 5
}
