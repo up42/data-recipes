{
 "cells": [
  {
   "cell_type": "markdown",
   "id": "5151b2bf-e6e3-4a02-990f-643db136d7fd",
   "metadata": {},
   "source": [
    "# UP42 Stereo Satellite Image Ordering 101\n",
    "\n",
    "Building on a [previous](https://up42.com/blog/tech/data-ordering101) article, this notebook provides a recipe for searching and ordering sterero data from UP42 using the UP42 [Python SDK](https://sdk.up42.com).\n",
    "\n",
    " 1. Nutshell definition of what stereo/tristereo is.  \n",
    " 2. Search for stereo/tristereo.\n",
    " 3. Order stereo/tristereo.\n",
    " 4. Get a webhook notification for the order delivery.\n",
    "\n",
    "**N.B.**: Make sure you are using an SDK version **$\\ge$ 0.23.0**. This is the version where support for data products was introduced."
   ]
  },
  {
   "cell_type": "markdown",
   "id": "9f7e9f44-f52d-48ac-b6e9-f3b5df7206ad",
   "metadata": {},
   "source": [
    "## Installing the UP42 Python SDK\n",
    "\n",
    "The module is called `up42`. Python **>= 3.8** is **required**.\n",
    "\n",
    " 1. Create a virtual environment.\n",
    "```bash\n",
    " mkvirtualenv --python=$(which python3) up42-py\n",
    "```\n",
    " 2. Activate the environment.\n",
    "```bash\n",
    " workon up42-py\n",
    "```\n",
    " 3. Install the module.\n",
    " ```bash\n",
    " pip install up42-py\n",
    " ```\n",
    " 4. Install Jupyter Lab.\n",
    "```bash\n",
    " pip install jupyterlab\n",
    " ```\n",
    " 5. Done.\n",
    " \n",
    "Now we can just import it."
   ]
  },
  {
   "cell_type": "code",
   "execution_count": 1,
   "id": "a53ac7b1-6b68-4d9a-985b-eef296881487",
   "metadata": {},
   "outputs": [],
   "source": [
    "import up42"
   ]
  },
  {
   "cell_type": "markdown",
   "id": "a33e3493-f6f9-4a17-a5d3-e4135984f32f",
   "metadata": {},
   "source": [
    "## Authenticate with project ID and project key\n",
    "The project API key and the project ID are read from a JSON file. This file has the following structure:\n",
    "```\n",
    "{\n",
    "  \"project_id\": \"<your-project-ID-here>\",\n",
    "  \"project_api_key\": \"<your-api-key-here>\"\n",
    "}\n",
    "```\n",
    "To find out how to obtain the project API key and project ID the please refer to the [documentation](https://docs.up42.com/processing-platform/projects#developers)\n",
    "\n",
    "Reading the credentials from the JSON file `~/.up42/proj_default.json`."
   ]
  },
  {
   "cell_type": "code",
   "execution_count": 2,
   "id": "00b94e55-ebc2-4e2f-ae0c-9565b1bdfe67",
   "metadata": {
    "tags": []
   },
   "outputs": [
    {
     "name": "stderr",
     "output_type": "stream",
     "text": [
      "2023-02-17 18:30:00,142 - Got credentials from config file.\n",
      "2023-02-17 18:30:00,700 - Authentication with UP42 successful!\n"
     ]
    }
   ],
   "source": [
    "from pathlib import Path\n",
    "\n",
    "project_config_file = Path.home() / \".up42\" / \"proj_default.json\"\n",
    "up42.authenticate(cfg_file=project_config_file)"
   ]
  },
  {
   "cell_type": "markdown",
   "id": "1170f4d0-bf31-4afb-9cff-12eb4d92abb4",
   "metadata": {},
   "source": [
    "## Stereo and Tristereo in a nutshell\n",
    "\n",
    "### Stereo basic concept\n",
    "\n",
    "**Stereo** in the context of satellite imaging refers to the technique of doing two (or three for tristereo) image captures that are shifted by a certain angle among them over a given scene. The value of this shift determines the level of detail that can be reconstructed from combining the two images. Usually these images are used to create, for example, Digital Elevation Models (DEMs), since the two images when properly combined provide _depth_ information, the relief of the scene being imaged can be determined up to a certain degree of certainty.\n",
    "\n",
    "### Tristereo basic concept\n",
    "\n",
    "**Tristereo** adds a third image that is captured **midway** between the two extreme positions of a stereo capture. This corresponds to the satellite being vertically aligned with the scene being imaged. The third photo provides additional detail, including making visible relief details that would be hidden when the photo is taken obliquely, which is the case for stereo.\n",
    "\n",
    "### Satellite orbits and stereo capture\n",
    "\n",
    "In this notebook, and in fact for most _modern_ earth observation satellites, these two (ot three) image captures are done in a single orbit pass, be it ascending or descending. This is called **along-track** stereo/tristereo."
   ]
  },
  {
   "cell_type": "markdown",
   "id": "09bfd4a2-7d2b-4976-9fdc-0f85a403c212",
   "metadata": {},
   "source": [
    "## Searching for stero/tristero data\n",
    "\n",
    "### AOI definition\n",
    "\n",
    "We now look for existing stereo/tristereo data in the region we are interested in. The AOI is defined via a GeoJSON file in the `examples` directory. Let us use [ipyleaflet](https://ipyleaflet.readthedocs.io/) to visualize it.\n",
    "\n",
    "We are going to look into to two different AOIs:\n",
    "\n",
    " 1. To look for SPOT 6/7 stereo image sets.\n",
    " 2. To look for Pléiades 1A/1B tristereo image sets.\n",
    "\n",
    "Let us start with the stereo image set."
   ]
  },
  {
   "cell_type": "code",
   "execution_count": 1,
   "id": "26d4b8cd-bb72-4877-9fe4-a4badd58bab9",
   "metadata": {},
   "outputs": [],
   "source": [
    "from ipyleaflet import Map, GeoJSON"
   ]
  },
  {
   "cell_type": "code",
   "execution_count": 2,
   "id": "ba22f073-77bf-4fe5-a5f9-87794508b17b",
   "metadata": {},
   "outputs": [],
   "source": [
    "# Path to the AOI GeoJSON.\n",
    "path2aoi = \"../examples/portinho_arrabida.geojson\""
   ]
  },
  {
   "cell_type": "code",
   "execution_count": 3,
   "id": "59e5ba1e-8b3b-4e6a-b8b2-93f797e7dfc9",
   "metadata": {},
   "outputs": [],
   "source": [
    "import json\n",
    "\n",
    "with open(path2aoi, \"r\") as f:\n",
    "    aoi_map = json.load(f)"
   ]
  },
  {
   "cell_type": "code",
   "execution_count": 4,
   "id": "40730b90-2a0c-4a33-9704-40e64c15fcda",
   "metadata": {},
   "outputs": [
    {
     "data": {
      "application/vnd.jupyter.widget-view+json": {
       "model_id": "f95010f50d8f4d448b6c036c8b6fe27f",
       "version_major": 2,
       "version_minor": 0
      },
      "text/plain": [
       "Map(center=[38.47064394226866, -8.984506813116552], controls=(ZoomControl(options=['position', 'zoom_in_text',…"
      ]
     },
     "metadata": {},
     "output_type": "display_data"
    }
   ],
   "source": [
    "mymap = Map(center=(38.47064394226866, -8.984506813116552), zoom=14)\n",
    "\n",
    "# Add the AOI to the map. First style it and then add it.\n",
    "aoi_layer = GeoJSON(\n",
    "    data=aoi_map,\n",
    "    style={\"opacity\": 1, \"dashArray\": \"9\", \"fillOpacity\": 0.5, \"weight\": 1},\n",
    "    hover_style={\"color\": \"yellow\", \"dashArray\": \"0\", \"fillOpacity\": 0.5},\n",
    ")\n",
    "mymap.add_layer(aoi_layer)\n",
    "mymap"
   ]
  },
  {
   "cell_type": "code",
   "execution_count": 7,
   "id": "c7e03fdf-b9f3-410a-bd7e-69a55cd21ce6",
   "metadata": {
    "tags": []
   },
   "outputs": [
    {
     "data": {
      "text/plain": [
       "ipyleaflet.leaflet.GeoJSON"
      ]
     },
     "execution_count": 7,
     "metadata": {},
     "output_type": "execute_result"
    }
   ],
   "source": [
    "type(aoi_layer)"
   ]
  },
  {
   "cell_type": "markdown",
   "id": "4ed59341-29a6-40ba-bcb3-451b15bba4bc",
   "metadata": {},
   "source": [
    "### Searching for data in the catalog\n",
    "We need to instantiate a catalog object and perform a search."
   ]
  },
  {
   "cell_type": "code",
   "execution_count": 10,
   "id": "73f67771-d6b0-44b7-9144-d676fee80651",
   "metadata": {},
   "outputs": [],
   "source": [
    "catalog = up42.initialize_catalog()"
   ]
  },
  {
   "cell_type": "markdown",
   "id": "ec9ba242-4642-4e99-adf3-693888711896",
   "metadata": {},
   "source": [
    "#### Getting the display product ID\n",
    "\n",
    "Before performing the search we need to select the data product we are interested in. In this case we are interested in a display product of a Pléiades image. The data product we want is not necessary for the search itself, but we do it now so that the ordering flow stays simple. Since we do the data product selection at the outset and not after performing the search. This reproduces the usual actions of having the product specified before hand and then performing the search."
   ]
  },
  {
   "cell_type": "code",
   "execution_count": 11,
   "id": "f605fbae-f3a6-4770-9e71-2fb17673fdab",
   "metadata": {
    "tags": []
   },
   "outputs": [
    {
     "data": {
      "text/plain": [
       "{'Near Space Labs - 30cm': {'collection': 'nsl-30cm',\n",
       "  'host': 'nearspacelabs',\n",
       "  'data_products': {'Display Full Scene': '7131f727-cdbb-46d4-a1e7-77ac38b7bd02'}},\n",
       " 'Capella Space GEC': {'collection': 'capella-gec',\n",
       "  'host': 'capellaspace',\n",
       "  'data_products': {'Full Scene': '96072809-d820-4cf9-86dd-d3bff3337c35'}},\n",
       " 'Capella Space GEO': {'collection': 'capella-geo',\n",
       "  'host': 'capellaspace',\n",
       "  'data_products': {'Full Scene': 'd66facaa-533f-49a2-849a-c2910ac9dd31'}},\n",
       " 'Capella Space SICD': {'collection': 'capella-sicd',\n",
       "  'host': 'capellaspace',\n",
       "  'data_products': {'Full Scene': '8b0aed07-c565-4bf9-b719-401e692de4a6'}},\n",
       " 'Capella Space SLC': {'collection': 'capella-slc',\n",
       "  'host': 'capellaspace',\n",
       "  'data_products': {'Full Scene': '1f2b0d7f-d3e2-4b3d-96b7-e7c184df7952'}},\n",
       " 'Pléiades Neo': {'collection': 'pneo',\n",
       "  'host': 'oneatlas',\n",
       "  'data_products': {'Analytic': '6f722fb5-0323-4c97-9b1e-22870325b8db',\n",
       "   'Display': '17745de8-6e7d-4751-99cd-3f8e9e9d290e'}},\n",
       " 'SPOT 6/7': {'collection': 'spot',\n",
       "  'host': 'oneatlas',\n",
       "  'data_products': {'Analytic': 'b1f8c48e-d16b-44c4-a1bb-5e8a24892e69',\n",
       "   'Display': 'acc3f9a4-b622-49c1-b1e1-c762aa3e7e13'}},\n",
       " 'Pléiades': {'collection': 'phr',\n",
       "  'host': 'oneatlas',\n",
       "  'data_products': {'Analytic': '4f1b2f62-98df-4c74-81f4-5dce45deee99',\n",
       "   'Display': '647780db-5a06-4b61-b525-577a8b68bb54'}},\n",
       " 'TripleSat': {'collection': 'triplesat',\n",
       "  'host': '21at',\n",
       "  'data_products': {'Analytic - 8 bit': '2398d8f5-5f7f-4596-884d-345c0b07af14',\n",
       "   'Analytic - 16 bit': '37c26f4d-f6a9-47c9-ae4d-a095569ab8bc'}},\n",
       " 'WorldDEM Neo': {'collection': 'worlddem-neo',\n",
       "  'host': 'airbus-elevation',\n",
       "  'data_products': {'WorldDEM Neo': 'ec016f4c-332c-4190-b18b-13fb12519c40'}},\n",
       " 'NEXTMap One DSM': {'collection': 'nextmapone-dsm',\n",
       "  'host': 'intermap',\n",
       "  'data_products': {'Intermap': '228eb747-2b8b-4f56-8ade-2efd844d3792'}},\n",
       " 'NEXTMap One DTM': {'collection': 'nextmapone-dtm',\n",
       "  'host': 'intermap',\n",
       "  'data_products': {'Intermap': 'da146ac4-7000-4d59-b488-3633f11b6cb8'}},\n",
       " 'NEXTMap One Bundle': {'collection': 'nextmapone-bundle',\n",
       "  'host': 'intermap',\n",
       "  'data_products': {'Intermap': '776cadc2-ccb7-4ca4-8077-fc679bf8376a'}},\n",
       " 'NEXTMap 6 DSM': {'collection': 'nextmap6-dsm',\n",
       "  'host': 'intermap',\n",
       "  'data_products': {'Intermap': '93f2014d-b34e-411a-9688-33e084190b68'}},\n",
       " 'NEXTMap 6 DTM': {'collection': 'nextmap6-dtm',\n",
       "  'host': 'intermap',\n",
       "  'data_products': {'Intermap': '337c01f4-d71a-4f2f-8aee-d21431565893'}},\n",
       " 'NEXTMap 6 Bundle': {'collection': 'nextmap6-bundle',\n",
       "  'host': 'intermap',\n",
       "  'data_products': {'Intermap': 'ca213436-c8cf-42a9-a4a2-04eb2fa7c9d6'}},\n",
       " 'NEXTMap 10 DSM': {'collection': 'nextmap10-dsm',\n",
       "  'host': 'intermap',\n",
       "  'data_products': {'Intermap': '5a484ba9-b2b9-4385-a066-0f6d28f6ad8f'}},\n",
       " 'NEXTMap 10 DTM': {'collection': 'nextmap10-dtm',\n",
       "  'host': 'intermap',\n",
       "  'data_products': {'Intermap': '5908c45d-dd41-4fd2-b38f-759f23d25ebf'}},\n",
       " 'NEXTMap 10 Bundle': {'collection': 'nextmap10-bundle',\n",
       "  'host': 'intermap',\n",
       "  'data_products': {'Intermap': '0253307a-0377-4cd4-bd1c-93ec06ba7f4a'}}}"
      ]
     },
     "execution_count": 11,
     "metadata": {},
     "output_type": "execute_result"
    }
   ],
   "source": [
    "products = catalog.get_data_products(basic=True)\n",
    "products"
   ]
  },
  {
   "cell_type": "markdown",
   "id": "0c45f549-4362-4e01-896d-f9707a67a86c",
   "metadata": {},
   "source": [
    "We have the list of all **available** collections and the corresponding products. In our case we want SPOT 6/7."
   ]
  },
  {
   "cell_type": "code",
   "execution_count": 12,
   "id": "2383434c-b818-41a7-b12a-143debee17b4",
   "metadata": {},
   "outputs": [
    {
     "data": {
      "text/plain": [
       "('SPOT 6/7',\n",
       " {'collection': 'spot',\n",
       "  'host': 'oneatlas',\n",
       "  'data_products': {'Analytic': 'b1f8c48e-d16b-44c4-a1bb-5e8a24892e69',\n",
       "   'Display': 'acc3f9a4-b622-49c1-b1e1-c762aa3e7e13'}})"
      ]
     },
     "execution_count": 12,
     "metadata": {},
     "output_type": "execute_result"
    }
   ],
   "source": [
    "spot_product = next(filter(lambda e: e[0].lower().startswith(\"spot\"), products.items()))\n",
    "spot_product"
   ]
  },
  {
   "cell_type": "markdown",
   "id": "b1f565a1-3864-476b-8d62-d6c7088753e9",
   "metadata": {},
   "source": [
    "Specifically we want a display product. We need to get the corresponding product ID."
   ]
  },
  {
   "cell_type": "code",
   "execution_count": 13,
   "id": "846af140-5663-49bb-86a4-cd28a98dbdf5",
   "metadata": {},
   "outputs": [
    {
     "data": {
      "text/plain": [
       "'acc3f9a4-b622-49c1-b1e1-c762aa3e7e13'"
      ]
     },
     "execution_count": 13,
     "metadata": {},
     "output_type": "execute_result"
    }
   ],
   "source": [
    "spot_product_id = spot_product[1][\"data_products\"][\"Display\"]\n",
    "spot_product_id"
   ]
  },
  {
   "cell_type": "markdown",
   "id": "606e9da4-277e-4ba8-8f25-71dc43d0b697",
   "metadata": {},
   "source": [
    "#### Performing the search\n"
   ]
  },
  {
   "cell_type": "markdown",
   "id": "9e8f62bc-1f1a-42e9-aee6-a3496dcced15",
   "metadata": {},
   "source": [
    "We are going to look for data from September 1st, 2021 until now. We set the upper date range to be Dec 31st 2022.\n",
    "We need the collection name."
   ]
  },
  {
   "cell_type": "code",
   "execution_count": 14,
   "id": "6e24585c-8f1a-4cb9-a287-8303cc377c06",
   "metadata": {},
   "outputs": [
    {
     "data": {
      "text/plain": [
       "'spot'"
      ]
     },
     "execution_count": 14,
     "metadata": {},
     "output_type": "execute_result"
    }
   ],
   "source": [
    "spot_coll_name = spot_product[1][\"collection\"]\n",
    "spot_coll_name"
   ]
  },
  {
   "cell_type": "markdown",
   "id": "8d021fa5-21c2-4fcc-ac16-0a754e00e408",
   "metadata": {},
   "source": [
    "The search parameters are defined below we are asking for up to **50** results sorted by descending acquisition date."
   ]
  },
  {
   "cell_type": "code",
   "execution_count": 15,
   "id": "c93f2f08-6470-4a27-ab02-963a00a414b4",
   "metadata": {},
   "outputs": [],
   "source": [
    "spot_search_params = catalog.construct_search_parameters(\n",
    "    geometry=aoi_map,\n",
    "    start_date=\"2021-09-01\",\n",
    "    end_date=\"2022-12-31\",\n",
    "    collections=[spot_coll_name],\n",
    "    max_cloudcover=10,\n",
    "    sortby=\"acquisitionDate\",\n",
    "    ascending=False,\n",
    "    limit=50,\n",
    ")"
   ]
  },
  {
   "cell_type": "markdown",
   "id": "1203e7bb-6e9b-49f1-8a3d-3d2e990f32b7",
   "metadata": {},
   "source": [
    "We ask for the results to be returned as `FeatureCollection` in a Python dict the resulting found features are returned in a list. This is more convenient for later filtering of the stereo pairs/tristereo triples."
   ]
  },
  {
   "cell_type": "code",
   "execution_count": 16,
   "id": "2d7b3f77-70c6-414f-b299-5f7af7c52a93",
   "metadata": {},
   "outputs": [
    {
     "name": "stderr",
     "output_type": "stream",
     "text": [
      "2023-02-16 14:37:49,846 - Searching catalog with search_parameters: {'datetime': '2021-09-01T00:00:00Z/2022-12-31T23:59:59Z', 'intersects': {'type': 'Polygon', 'coordinates': (((-8.970508575439453, 38.48382914339068), (-8.98106575012207, 38.48141037533113), (-8.989777565002441, 38.47637101450613), (-8.992223739624023, 38.47015531764655), (-8.991966247558594, 38.46561920067743), (-8.990163803100586, 38.465518394837304), (-8.990421295166016, 38.46709767014416), (-8.986902236938477, 38.46978571879323), (-8.982696533203125, 38.47381760389001), (-8.984713554382324, 38.47600144751436), (-8.981409072875977, 38.47905871745382), (-8.97707462310791, 38.48026815108751), (-8.971881866455078, 38.48016736572641), (-8.96934986114502, 38.480604101273386), (-8.969564437866211, 38.481746320193345), (-8.968620300292969, 38.48208226348981), (-8.969006538391113, 38.48288852101284), (-8.970508575439453, 38.48382914339068)),)}, 'limit': 50, 'collections': ['spot'], 'query': {'cloudCoverage': {'lte': 10}}, 'sortby': [{'field': 'properties.acquisitionDate', 'direction': 'desc'}]}\n",
      "2023-02-16 14:37:56,729 - 9 results returned.\n"
     ]
    }
   ],
   "source": [
    "spot_search_results = catalog.search(spot_search_params, as_dataframe=False)"
   ]
  },
  {
   "cell_type": "code",
   "execution_count": 17,
   "id": "fa9bb830-f6f2-4803-83aa-4ceb5cc14b58",
   "metadata": {},
   "outputs": [],
   "source": [
    "# N.B: This is an ugly hack that needs to be replaced by creating a proper local Python package for the Notebook helpers.\n",
    "import sys\n",
    "sys.path.append(str((Path.cwd() / \"..\" / \"..\").resolve()))"
   ]
  },
  {
   "cell_type": "code",
   "execution_count": 18,
   "id": "0706fe8c-ae8f-49dc-921e-46087d47c2c4",
   "metadata": {},
   "outputs": [],
   "source": [
    "from pynb_helpers import stereo"
   ]
  },
  {
   "cell_type": "markdown",
   "id": "f502e0a9-bd18-4fb6-9025-2cbbdb7314ec",
   "metadata": {},
   "source": [
    "Let us look for the stereo pairs in the above search results."
   ]
  },
  {
   "cell_type": "code",
   "execution_count": 19,
   "id": "754f43e0-c4e1-438b-a104-a25a4c3f35b9",
   "metadata": {},
   "outputs": [
    {
     "data": {
      "text/plain": [
       "[({'id': '3',\n",
       "   'type': 'Feature',\n",
       "   'properties': {'id': '78d9e0e4-0f4a-49f8-adc5-02895693bc7c',\n",
       "    'constellation': 'spot',\n",
       "    'collection': 'spot',\n",
       "    'providerName': 'oneatlas',\n",
       "    'up42:usageType': ['DATA'],\n",
       "    'providerProperties': {'qualified': False,\n",
       "     'sourceIdentifier': 'DS_SPOT6_202110131059016_FR1_FR1_FR1_FR1_W009N38_01140',\n",
       "     'acquisitionStation': 'FR1',\n",
       "     'archivingCenter': 'FR1',\n",
       "     'lastUpdateDate': '2021-10-27T14:30:11Z',\n",
       "     'processingDate': '2021-10-13T11:27:28.544Z',\n",
       "     'parentIdentifier': 'DS_SPOT6_202110131059016_FR1_FR1_FR1_FR1_W009N38_01140',\n",
       "     'azimuthAngle': 180.02822144097493,\n",
       "     'workspaceTitle': 'Public',\n",
       "     'spectralRange': 'VISIBLE',\n",
       "     'productCategory': 'image',\n",
       "     'activityId': '064b9a3b-e95d-4c52-91c9-f4e31a9acce9',\n",
       "     'processingLevel': 'ALBUM',\n",
       "     'acquisitionIdentifier': None,\n",
       "     'productionStatus': 'ARCHIVED',\n",
       "     'sensorType': 'OPTICAL',\n",
       "     'geometryCentroid': [-8.858839421206234, 38.488066997121585],\n",
       "     'processorName': 'MMCAT',\n",
       "     'workspaceName': 'public',\n",
       "     'correlationId': 'mmcat_48a7bce13f8269f260d68d1fef865247',\n",
       "     'publicationDate': '2021-10-13T11:47:27.471696759Z',\n",
       "     'illuminationElevationAngle': 40.38025933126154,\n",
       "     'productType': 'mono',\n",
       "     'workspaceId': '0e33eb50-3404-48ad-b835-b0b4b72a5625',\n",
       "     'expirationDate': '2031-10-25T14:24:03.248000832Z',\n",
       "     'incidenceAngleAcrossTrack': 6.374706291471301,\n",
       "     'illuminationAzimuthAngle': 152.57091084888668,\n",
       "     'incidenceAngleAlongTrack': 7.173817350206245,\n",
       "     'incidenceAngle': 9.478982069181665,\n",
       "     'archiveIdentifier': 'DS_SPOT6_202110131059016_FR1_FR1_FR1_FR1_W009N38_01140',\n",
       "     'processingCenter': 'MOC',\n",
       "     'organisationName': 'AIRBUS DS GEO',\n",
       "     'snowCover': 0},\n",
       "    'sceneId': '78d9e0e4-0f4a-49f8-adc5-02895693bc7c',\n",
       "    'producer': 'airbus',\n",
       "    'acquisitionDate': '2021-10-13T10:59:01.624Z',\n",
       "    'start_datetime': None,\n",
       "    'end_datetime': None,\n",
       "    'cloudCoverage': 0.0,\n",
       "    'resolution': 1.5,\n",
       "    'deliveryTime': 'HOURS'},\n",
       "   'geometry': {'type': 'Polygon',\n",
       "    'coordinates': (((-9.21103359, 38.64581333),\n",
       "      (-9.20869759, 38.33767444),\n",
       "      (-8.50909333, 38.32949746),\n",
       "      (-8.50664525, 38.63673896),\n",
       "      (-9.21103359, 38.64581333)),)},\n",
       "   'bbox': (-9.21103359, 38.32949746, -8.50664525, 38.64581333)},\n",
       "  {'id': '4',\n",
       "   'type': 'Feature',\n",
       "   'properties': {'id': 'b269a05e-c92b-4480-af7c-57139eff2acf',\n",
       "    'constellation': 'spot',\n",
       "    'collection': 'spot',\n",
       "    'providerName': 'oneatlas',\n",
       "    'up42:usageType': ['DATA'],\n",
       "    'providerProperties': {'qualified': False,\n",
       "     'sourceIdentifier': 'DS_SPOT6_202110131058429_FR1_FR1_FR1_FR1_W009N38_01140',\n",
       "     'acquisitionStation': 'FR1',\n",
       "     'archivingCenter': 'FR1',\n",
       "     'lastUpdateDate': '2021-10-27T14:30:12Z',\n",
       "     'processingDate': '2021-10-13T11:27:12.599Z',\n",
       "     'parentIdentifier': 'DS_SPOT6_202110131058429_FR1_FR1_FR1_FR1_W009N38_01140',\n",
       "     'azimuthAngle': 180.02471887933126,\n",
       "     'workspaceTitle': 'Public',\n",
       "     'spectralRange': 'VISIBLE',\n",
       "     'productCategory': 'image',\n",
       "     'activityId': '0e27d648-dac2-4516-b62b-9b9b3e8b286c',\n",
       "     'processingLevel': 'ALBUM',\n",
       "     'acquisitionIdentifier': None,\n",
       "     'productionStatus': 'ARCHIVED',\n",
       "     'sensorType': 'OPTICAL',\n",
       "     'geometryCentroid': [-8.859490502862986, 38.496354714083296],\n",
       "     'processorName': 'MMCAT',\n",
       "     'workspaceName': 'public',\n",
       "     'correlationId': 'mmcat_6812be99d3201b6a3dccdbd312c7e1f5',\n",
       "     'publicationDate': '2021-10-13T11:47:24.584618663Z',\n",
       "     'illuminationElevationAngle': 40.34409630657088,\n",
       "     'productType': 'mono',\n",
       "     'workspaceId': '0e33eb50-3404-48ad-b835-b0b4b72a5625',\n",
       "     'expirationDate': '2031-10-25T14:26:51.496217421Z',\n",
       "     'incidenceAngleAcrossTrack': 8.857511782807928,\n",
       "     'illuminationAzimuthAngle': 152.47822591499454,\n",
       "     'incidenceAngleAlongTrack': -4.121555025609628,\n",
       "     'incidenceAngle': 9.70544037709613,\n",
       "     'archiveIdentifier': 'DS_SPOT6_202110131058429_FR1_FR1_FR1_FR1_W009N38_01140',\n",
       "     'processingCenter': 'MOC',\n",
       "     'organisationName': 'AIRBUS DS GEO',\n",
       "     'snowCover': 0},\n",
       "    'sceneId': 'b269a05e-c92b-4480-af7c-57139eff2acf',\n",
       "    'producer': 'airbus',\n",
       "    'acquisitionDate': '2021-10-13T10:58:42.874Z',\n",
       "    'start_datetime': None,\n",
       "    'end_datetime': None,\n",
       "    'cloudCoverage': 0.0,\n",
       "    'resolution': 1.5,\n",
       "    'deliveryTime': 'HOURS'},\n",
       "   'geometry': {'type': 'Polygon',\n",
       "    'coordinates': (((-9.21418985, 38.6386775),\n",
       "      (-9.21177642, 38.34799459),\n",
       "      (-8.50735162, 38.35289421),\n",
       "      (-8.50479115, 38.6438476),\n",
       "      (-9.21418985, 38.6386775)),)},\n",
       "   'bbox': (-9.21418985, 38.34799459, -8.50479115, 38.6438476)}),\n",
       " ({'id': '5',\n",
       "   'type': 'Feature',\n",
       "   'properties': {'id': 'e72c9441-4329-4c4d-ac22-837369c31813',\n",
       "    'constellation': 'spot',\n",
       "    'collection': 'spot',\n",
       "    'providerName': 'oneatlas',\n",
       "    'up42:usageType': ['DATA'],\n",
       "    'providerProperties': {'qualified': False,\n",
       "     'sourceIdentifier': 'DS_SPOT7_202110121105569_FR1_FR1_FR1_FR1_W009N38_01140',\n",
       "     'acquisitionStation': 'FR1',\n",
       "     'archivingCenter': 'FR1',\n",
       "     'lastUpdateDate': '2021-10-26T13:25:36Z',\n",
       "     'processingDate': '2021-10-12T11:32:12.851Z',\n",
       "     'parentIdentifier': 'DS_SPOT7_202110121105569_FR1_FR1_FR1_FR1_W009N38_01140',\n",
       "     'azimuthAngle': 179.97822944025677,\n",
       "     'workspaceTitle': 'Public',\n",
       "     'spectralRange': 'VISIBLE',\n",
       "     'productCategory': 'image',\n",
       "     'activityId': 'd21fab3a-62b7-44a8-97d2-3deb4f6980d1',\n",
       "     'processingLevel': 'ALBUM',\n",
       "     'acquisitionIdentifier': None,\n",
       "     'productionStatus': 'ARCHIVED',\n",
       "     'sensorType': 'OPTICAL',\n",
       "     'geometryCentroid': [-8.856457008610969, 38.49263108907583],\n",
       "     'processorName': 'MMCAT',\n",
       "     'workspaceName': 'public',\n",
       "     'correlationId': 'mmcat_7a0a4ba349d3eec012933677328b0d9a',\n",
       "     'publicationDate': '2021-10-12T11:51:17.475383773Z',\n",
       "     'illuminationElevationAngle': 41.31145111262274,\n",
       "     'productType': 'mono',\n",
       "     'workspaceId': '0e33eb50-3404-48ad-b835-b0b4b72a5625',\n",
       "     'expirationDate': '2031-10-24T13:25:25.135942416Z',\n",
       "     'incidenceAngleAcrossTrack': -5.029246344035882,\n",
       "     'illuminationAzimuthAngle': 154.44107711603155,\n",
       "     'incidenceAngleAlongTrack': -6.649281927202019,\n",
       "     'incidenceAngle': 8.262227641851654,\n",
       "     'archiveIdentifier': 'DS_SPOT7_202110121105569_FR1_FR1_FR1_FR1_W009N38_01140',\n",
       "     'processingCenter': 'MOC',\n",
       "     'organisationName': 'AIRBUS DS GEO',\n",
       "     'snowCover': 0},\n",
       "    'sceneId': 'e72c9441-4329-4c4d-ac22-837369c31813',\n",
       "    'producer': 'airbus',\n",
       "    'acquisitionDate': '2021-10-12T11:05:56.874Z',\n",
       "    'start_datetime': None,\n",
       "    'end_datetime': None,\n",
       "    'cloudCoverage': 0.0,\n",
       "    'resolution': 1.5,\n",
       "    'deliveryTime': 'HOURS'},\n",
       "   'geometry': {'type': 'Polygon',\n",
       "    'coordinates': (((-9.2061729, 38.64113659),\n",
       "      (-9.20516953, 38.35026849),\n",
       "      (-8.50701764, 38.34329094),\n",
       "      (-8.50674111, 38.63501407),\n",
       "      (-9.2061729, 38.64113659)),)},\n",
       "   'bbox': (-9.2061729, 38.34329094, -8.50674111, 38.64113659)},\n",
       "  {'id': '6',\n",
       "   'type': 'Feature',\n",
       "   'properties': {'id': '5fc38a28-89a1-43a7-a63a-96e6a5ee0a87',\n",
       "    'constellation': 'spot',\n",
       "    'collection': 'spot',\n",
       "    'providerName': 'oneatlas',\n",
       "    'up42:usageType': ['DATA'],\n",
       "    'providerProperties': {'qualified': False,\n",
       "     'sourceIdentifier': 'DS_SPOT7_202110121106156_FR1_FR1_FR1_FR1_W009N38_01140',\n",
       "     'acquisitionStation': 'FR1',\n",
       "     'archivingCenter': 'FR1',\n",
       "     'lastUpdateDate': '2021-10-26T13:25:31Z',\n",
       "     'processingDate': '2021-10-12T11:32:23.362Z',\n",
       "     'parentIdentifier': 'DS_SPOT7_202110121106156_FR1_FR1_FR1_FR1_W009N38_01140',\n",
       "     'azimuthAngle': 179.9956977853661,\n",
       "     'workspaceTitle': 'Public',\n",
       "     'spectralRange': 'VISIBLE',\n",
       "     'productCategory': 'image',\n",
       "     'activityId': '5e0a5cf6-f0b0-41b1-b245-562f41ffac49',\n",
       "     'processingLevel': 'ALBUM',\n",
       "     'acquisitionIdentifier': None,\n",
       "     'productionStatus': 'ARCHIVED',\n",
       "     'sensorType': 'OPTICAL',\n",
       "     'geometryCentroid': [-8.855626161269951, 38.4892571752243],\n",
       "     'processorName': 'MMCAT',\n",
       "     'workspaceName': 'public',\n",
       "     'correlationId': 'mmcat_c1ff6c64c3a7ce9672268048898bb412',\n",
       "     'publicationDate': '2021-10-12T11:51:17.130613785Z',\n",
       "     'illuminationElevationAngle': 41.34131849940003,\n",
       "     'productType': 'mono',\n",
       "     'workspaceId': '0e33eb50-3404-48ad-b835-b0b4b72a5625',\n",
       "     'expirationDate': '2031-10-24T13:23:28.081525198Z',\n",
       "     'incidenceAngleAcrossTrack': -7.777234524268441,\n",
       "     'illuminationAzimuthAngle': 154.53820041332762,\n",
       "     'incidenceAngleAlongTrack': 4.588637195244863,\n",
       "     'incidenceAngle': 8.967069402709132,\n",
       "     'archiveIdentifier': 'DS_SPOT7_202110121106156_FR1_FR1_FR1_FR1_W009N38_01140',\n",
       "     'processingCenter': 'MOC',\n",
       "     'organisationName': 'AIRBUS DS GEO',\n",
       "     'snowCover': 0},\n",
       "    'sceneId': '5fc38a28-89a1-43a7-a63a-96e6a5ee0a87',\n",
       "    'producer': 'airbus',\n",
       "    'acquisitionDate': '2021-10-12T11:06:15.624Z',\n",
       "    'start_datetime': None,\n",
       "    'end_datetime': None,\n",
       "    'cloudCoverage': 0.0,\n",
       "    'resolution': 1.5,\n",
       "    'deliveryTime': 'HOURS'},\n",
       "   'geometry': {'type': 'Polygon',\n",
       "    'coordinates': (((-9.20755715, 38.63578816),\n",
       "      (-9.20690129, 38.33730052),\n",
       "      (-8.50380061, 38.3422791),\n",
       "      (-8.50369517, 38.64037324),\n",
       "      (-9.20755715, 38.63578816)),)},\n",
       "   'bbox': (-9.20755715, 38.33730052, -8.50369517, 38.64037324)}),\n",
       " ({'id': '7',\n",
       "   'type': 'Feature',\n",
       "   'properties': {'id': '4148e24f-25ee-4e18-96df-912aff6c3221',\n",
       "    'constellation': 'spot',\n",
       "    'collection': 'spot',\n",
       "    'providerName': 'oneatlas',\n",
       "    'up42:usageType': ['DATA'],\n",
       "    'providerProperties': {'qualified': False,\n",
       "     'sourceIdentifier': 'DS_SPOT6_202109221109495_FR1_FR1_SV1_SV1_W009N39_01790',\n",
       "     'acquisitionStation': 'SV1',\n",
       "     'archivingCenter': 'FR1',\n",
       "     'lastUpdateDate': '2021-10-06T14:44:28Z',\n",
       "     'processingDate': '2021-09-22T13:40:20.654Z',\n",
       "     'parentIdentifier': 'DS_SPOT6_202109221109495_FR1_FR1_SV1_SV1_W009N39_01790',\n",
       "     'azimuthAngle': 179.98078712661845,\n",
       "     'workspaceTitle': 'Public',\n",
       "     'spectralRange': 'VISIBLE',\n",
       "     'productCategory': 'image',\n",
       "     'activityId': 'f7b6f09d-0e1c-430f-9296-26f0f57c3d95',\n",
       "     'processingLevel': 'ALBUM',\n",
       "     'acquisitionIdentifier': None,\n",
       "     'productionStatus': 'ARCHIVED',\n",
       "     'sensorType': 'OPTICAL',\n",
       "     'geometryCentroid': [-9.148468608634285, 38.7220109078641],\n",
       "     'processorName': 'MMCAT',\n",
       "     'workspaceName': 'public',\n",
       "     'correlationId': 'mmcat_cff2087caabbdda93215cd06928cb638',\n",
       "     'publicationDate': '2021-09-22T16:55:46.222313042Z',\n",
       "     'illuminationElevationAngle': 48.04578251780102,\n",
       "     'productType': 'mono',\n",
       "     'workspaceId': '0e33eb50-3404-48ad-b835-b0b4b72a5625',\n",
       "     'expirationDate': '2031-10-04T14:42:28.28320614Z',\n",
       "     'incidenceAngleAcrossTrack': -9.101125688072852,\n",
       "     'illuminationAzimuthAngle': 149.24391435793473,\n",
       "     'format': 'image/jp2',\n",
       "     'incidenceAngleAlongTrack': -11.686831770451182,\n",
       "     'incidenceAngle': 14.45456237140863,\n",
       "     'archiveIdentifier': 'DS_SPOT6_202109221109495_FR1_FR1_SV1_SV1_W009N39_01790',\n",
       "     'processingCenter': 'MOC',\n",
       "     'organisationName': 'AIRBUS DS GEO',\n",
       "     'snowCover': 0},\n",
       "    'sceneId': '4148e24f-25ee-4e18-96df-912aff6c3221',\n",
       "    'producer': 'airbus',\n",
       "    'acquisitionDate': '2021-09-22T11:09:49.499Z',\n",
       "    'start_datetime': None,\n",
       "    'end_datetime': None,\n",
       "    'cloudCoverage': 0.3,\n",
       "    'resolution': 1.5,\n",
       "    'deliveryTime': 'HOURS'},\n",
       "   'geometry': {'type': 'Polygon',\n",
       "    'coordinates': (((-9.50893375, 38.99871942),\n",
       "      (-9.50846291, 38.46501651),\n",
       "      (-8.78800346, 38.44491098),\n",
       "      (-8.78832, 38.98180597),\n",
       "      (-9.50893375, 38.99871942)),)},\n",
       "   'bbox': (-9.50893375, 38.44491098, -8.78800346, 38.99871942)},\n",
       "  {'id': '8',\n",
       "   'type': 'Feature',\n",
       "   'properties': {'id': 'ff448805-c3c6-4e02-8bae-1daa198b2325',\n",
       "    'constellation': 'spot',\n",
       "    'collection': 'spot',\n",
       "    'providerName': 'oneatlas',\n",
       "    'up42:usageType': ['DATA'],\n",
       "    'providerProperties': {'qualified': False,\n",
       "     'sourceIdentifier': 'DS_SPOT6_202109221110200_FR1_FR1_SV1_SV1_W009N39_01871',\n",
       "     'acquisitionStation': 'SV1',\n",
       "     'archivingCenter': 'FR1',\n",
       "     'lastUpdateDate': '2021-10-06T14:44:28Z',\n",
       "     'processingDate': '2021-09-22T13:40:39.266Z',\n",
       "     'parentIdentifier': 'DS_SPOT6_202109221110200_FR1_FR1_SV1_SV1_W009N39_01871',\n",
       "     'azimuthAngle': 179.95543904675603,\n",
       "     'workspaceTitle': 'Public',\n",
       "     'spectralRange': 'VISIBLE',\n",
       "     'productCategory': 'image',\n",
       "     'activityId': '4337f979-7a85-4d88-a308-673e13a99797',\n",
       "     'processingLevel': 'ALBUM',\n",
       "     'acquisitionIdentifier': None,\n",
       "     'productionStatus': 'ARCHIVED',\n",
       "     'sensorType': 'OPTICAL',\n",
       "     'geometryCentroid': [-9.146749473308297, 38.71494470158748],\n",
       "     'processorName': 'MMCAT',\n",
       "     'workspaceName': 'public',\n",
       "     'correlationId': 'mmcat_a2ae44fdb0c3ad89a521c52ebb8ca6c5',\n",
       "     'publicationDate': '2021-09-22T16:55:37.926683289Z',\n",
       "     'illuminationElevationAngle': 48.10273160986023,\n",
       "     'productType': 'mono',\n",
       "     'workspaceId': '0e33eb50-3404-48ad-b835-b0b4b72a5625',\n",
       "     'expirationDate': '2031-10-04T14:39:19.870103344Z',\n",
       "     'incidenceAngleAcrossTrack': -13.258755996379795,\n",
       "     'illuminationAzimuthAngle': 149.41061909169085,\n",
       "     'format': 'image/jp2',\n",
       "     'incidenceAngleAlongTrack': 6.218475979219774,\n",
       "     'incidenceAngle': 14.512516021052626,\n",
       "     'archiveIdentifier': 'DS_SPOT6_202109221110200_FR1_FR1_SV1_SV1_W009N39_01871',\n",
       "     'processingCenter': 'MOC',\n",
       "     'organisationName': 'AIRBUS DS GEO',\n",
       "     'snowCover': 0},\n",
       "    'sceneId': 'ff448805-c3c6-4e02-8bae-1daa198b2325',\n",
       "    'producer': 'airbus',\n",
       "    'acquisitionDate': '2021-09-22T11:10:19.999Z',\n",
       "    'start_datetime': None,\n",
       "    'end_datetime': None,\n",
       "    'cloudCoverage': 0.3,\n",
       "    'resolution': 1.5,\n",
       "    'deliveryTime': 'HOURS'},\n",
       "   'geometry': {'type': 'Polygon',\n",
       "    'coordinates': (((-9.51255809, 38.98443824),\n",
       "      (-9.51274669, 38.43233877),\n",
       "      (-8.78075226, 38.44574139),\n",
       "      (-8.78172231, 38.99715357),\n",
       "      (-9.51255809, 38.98443824)),)},\n",
       "   'bbox': (-9.51274669, 38.43233877, -8.78075226, 38.99715357)})]"
      ]
     },
     "execution_count": 19,
     "metadata": {},
     "output_type": "execute_result"
    }
   ],
   "source": [
    "spot_stereo_results = stereo.select_stereo(spot_search_results[\"features\"])\n",
    "spot_stereo_results"
   ]
  },
  {
   "cell_type": "markdown",
   "id": "75a38870-dc0a-4898-abeb-6d5c47622f3d",
   "metadata": {},
   "source": [
    "#### Get the stereo image IDs for ordering\n",
    "\n",
    "We need to get the image IDs for placing the order. We use the *convenience* function `get_stereo_image_ids`."
   ]
  },
  {
   "cell_type": "code",
   "execution_count": 20,
   "id": "3c83faa7-b08d-4332-9910-830d084173da",
   "metadata": {},
   "outputs": [
    {
     "data": {
      "text/plain": [
       "['78d9e0e4-0f4a-49f8-adc5-02895693bc7c',\n",
       " 'b269a05e-c92b-4480-af7c-57139eff2acf',\n",
       " 'e72c9441-4329-4c4d-ac22-837369c31813',\n",
       " '5fc38a28-89a1-43a7-a63a-96e6a5ee0a87',\n",
       " '4148e24f-25ee-4e18-96df-912aff6c3221',\n",
       " 'ff448805-c3c6-4e02-8bae-1daa198b2325']"
      ]
     },
     "execution_count": 20,
     "metadata": {},
     "output_type": "execute_result"
    }
   ],
   "source": [
    "stereo.get_stereo_image_ids(spot_stereo_results)"
   ]
  },
  {
   "cell_type": "markdown",
   "id": "3f847ecd-910d-4b5a-8cbf-55e18bf90139",
   "metadata": {},
   "source": [
    "We have now all we need to go ahead and order the data.\n",
    "\n",
    "### Looking for tristereo data\n",
    "\n",
    "After having found stereo pairs, let us now look for tristereo triples. We define another AOI to look for tristereo data."
   ]
  },
  {
   "cell_type": "code",
   "execution_count": 21,
   "id": "f46076d2-c5dd-48d4-a6b5-b2c36f17e253",
   "metadata": {},
   "outputs": [],
   "source": [
    "# Path to the AOI GeoJSON.\n",
    "path2aoi2 = \"../examples/figueira_foz.geojson\""
   ]
  },
  {
   "cell_type": "code",
   "execution_count": 22,
   "id": "9e091a4b-9179-470d-897c-3a116bce6c8a",
   "metadata": {},
   "outputs": [],
   "source": [
    "import json\n",
    "\n",
    "with open(path2aoi2, \"r\") as f:\n",
    "    aoi_map2 = json.load(f)"
   ]
  },
  {
   "cell_type": "code",
   "execution_count": 23,
   "id": "0f86494a-f10a-42aa-8c0e-28a15d86e420",
   "metadata": {},
   "outputs": [
    {
     "data": {
      "application/vnd.jupyter.widget-view+json": {
       "model_id": "68e8de9e897543b7bbd68b053a0f90e1",
       "version_major": 2,
       "version_minor": 0
      },
      "text/plain": [
       "Map(center=[40.157387868535764, -8.857583004391348], controls=(ZoomControl(options=['position', 'zoom_in_text'…"
      ]
     },
     "metadata": {},
     "output_type": "display_data"
    }
   ],
   "source": [
    "mymap2 = Map(center=(40.157387868535764, -8.857583004391348), zoom=14)\n",
    "\n",
    "# Add the AOI to the map. First style it and then add it.\n",
    "aoi_layer = GeoJSON(\n",
    "    data=aoi_map2,\n",
    "    style={\"opacity\": 1, \"dashArray\": \"9\", \"fillOpacity\": 0.5, \"weight\": 1},\n",
    "    hover_style={\"color\": \"yellow\", \"dashArray\": \"0\", \"fillOpacity\": 0.5},\n",
    ")\n",
    "mymap2.add_layer(aoi_layer)\n",
    "mymap2"
   ]
  },
  {
   "cell_type": "markdown",
   "id": "7c8a0e05-ac5c-44e5-80fb-ded0faa58c20",
   "metadata": {},
   "source": [
    "Let us get the product ID for the display product."
   ]
  },
  {
   "cell_type": "code",
   "execution_count": 26,
   "id": "9a0e2ff7-a93a-4409-90f0-dd62b9008a49",
   "metadata": {
    "tags": []
   },
   "outputs": [
    {
     "data": {
      "text/plain": [
       "('Pléiades',\n",
       " {'collection': 'phr',\n",
       "  'host': 'oneatlas',\n",
       "  'data_products': {'Analytic': '4f1b2f62-98df-4c74-81f4-5dce45deee99',\n",
       "   'Display': '647780db-5a06-4b61-b525-577a8b68bb54'}})"
      ]
     },
     "execution_count": 26,
     "metadata": {},
     "output_type": "execute_result"
    }
   ],
   "source": [
    "pleiades_product = next(\n",
    "    filter(lambda e: e[0].lower().endswith(\"ades\"), products.items())\n",
    ")\n",
    "pleiades_product"
   ]
  },
  {
   "cell_type": "code",
   "execution_count": 27,
   "id": "940bd531-1d45-476e-9a6c-1335d7ad932d",
   "metadata": {
    "tags": []
   },
   "outputs": [
    {
     "data": {
      "text/plain": [
       "'647780db-5a06-4b61-b525-577a8b68bb54'"
      ]
     },
     "execution_count": 27,
     "metadata": {},
     "output_type": "execute_result"
    }
   ],
   "source": [
    "pleiades_product_id = pleiades_product[1][\"data_products\"][\"Display\"]\n",
    "pleiades_product_id"
   ]
  },
  {
   "cell_type": "markdown",
   "id": "46a7d02d-7fdb-45d2-b1f5-8ec8e2564900",
   "metadata": {},
   "source": [
    "And the collection name."
   ]
  },
  {
   "cell_type": "code",
   "execution_count": 28,
   "id": "0567c475-a590-4be6-a5b9-d5e39ac105ad",
   "metadata": {},
   "outputs": [
    {
     "data": {
      "text/plain": [
       "'phr'"
      ]
     },
     "execution_count": 28,
     "metadata": {},
     "output_type": "execute_result"
    }
   ],
   "source": [
    "pleiades_coll_name = pleiades_product[1][\"collection\"]\n",
    "pleiades_coll_name"
   ]
  },
  {
   "cell_type": "markdown",
   "id": "ad01ac95-ebbf-4b74-aaba-d3037b70a85d",
   "metadata": {},
   "source": [
    "Let us now perform the search."
   ]
  },
  {
   "cell_type": "code",
   "execution_count": 29,
   "id": "2f09e843-33f8-4aee-8887-558e850401a9",
   "metadata": {},
   "outputs": [],
   "source": [
    "pleiades_search_params = catalog.construct_search_parameters(\n",
    "    geometry=aoi_map2,\n",
    "    start_date=\"2021-09-01\",\n",
    "    end_date=\"2022-12-31\",\n",
    "    collections=[pleiades_coll_name],\n",
    "    max_cloudcover=10,\n",
    "    sortby=\"acquisitionDate\",\n",
    "    ascending=False,\n",
    "    limit=50,\n",
    ")"
   ]
  },
  {
   "cell_type": "code",
   "execution_count": 30,
   "id": "843c3667-89f8-43b8-a252-38469ffa97d9",
   "metadata": {},
   "outputs": [
    {
     "name": "stderr",
     "output_type": "stream",
     "text": [
      "2023-02-16 14:41:32,641 - Searching catalog with search_parameters: {'datetime': '2021-09-01T00:00:00Z/2022-12-31T23:59:59Z', 'intersects': {'type': 'Polygon', 'coordinates': (((-8.884849548339844, 40.16641243354131), (-8.884334564208984, 40.16601889477649), (-8.865280151367188, 40.12232191122354), (-8.798847198486328, 40.13098480788124), (-8.801078796386719, 40.15604848507155), (-8.831291198730469, 40.17480738367364), (-8.884849548339844, 40.16641243354131)),)}, 'limit': 50, 'collections': ['phr'], 'query': {'cloudCoverage': {'lte': 10}}, 'sortby': [{'field': 'properties.acquisitionDate', 'direction': 'desc'}]}\n",
      "2023-02-16 14:41:45,441 - 11 results returned.\n"
     ]
    }
   ],
   "source": [
    "pleiades_search_results = catalog.search(pleiades_search_params, as_dataframe=False)"
   ]
  },
  {
   "cell_type": "code",
   "execution_count": 31,
   "id": "d3ebd529-fa6f-428c-aa81-e339394caca2",
   "metadata": {},
   "outputs": [
    {
     "data": {
      "text/plain": [
       "[({'id': '6',\n",
       "   'type': 'Feature',\n",
       "   'properties': {'id': 'bc84ea63-f76b-47df-a868-373dacef9a17',\n",
       "    'constellation': 'phr',\n",
       "    'collection': 'phr',\n",
       "    'providerName': 'oneatlas',\n",
       "    'up42:usageType': ['DATA'],\n",
       "    'providerProperties': {'commercialReference': 'SO21065601',\n",
       "     'qualified': False,\n",
       "     'sourceIdentifier': 'DS_PHR1A_202110071120575_FR1_PX_W009N40_0102_03614',\n",
       "     'acquisitionStation': 'FR1',\n",
       "     'archivingCenter': 'FR1',\n",
       "     'lastUpdateDate': '2021-10-08T01:29:28.297605581Z',\n",
       "     'processingDate': '2021-10-08T00:15:24.337',\n",
       "     'parentIdentifier': 'DS_PHR1A_202110071121345_FR1_PX_W009N40_0102_03618',\n",
       "     'azimuthAngle': 179.9662671455482,\n",
       "     'workspaceTitle': 'Public',\n",
       "     'spectralRange': 'VISIBLE',\n",
       "     'productCategory': 'image',\n",
       "     'activityId': '48bc0d1c-8c89-4174-9bb2-5d14d6a30cd8',\n",
       "     'processingLevel': 'SENSOR',\n",
       "     'acquisitionIdentifier': None,\n",
       "     'customerReference': 'C301000',\n",
       "     'productionStatus': 'IN_CLOUD',\n",
       "     'sensorType': 'OPTICAL',\n",
       "     'geometryCentroid': [-8.927030432934574, 40.04607814865009],\n",
       "     'correlationId': 'efc75d71-6b7f-4af9-bfa2-e9132eb74dde',\n",
       "     'processorName': 'DRS-MM V2.9vV2.9',\n",
       "     'workspaceName': 'public',\n",
       "     'publicationDate': '2021-10-08T01:29:28.297605581Z',\n",
       "     'productType': 'bundle',\n",
       "     'illuminationElevationAngle': 42.24189591223806,\n",
       "     'expirationDate': '2022-10-08T01:29:28.297609981Z',\n",
       "     'workspaceId': '0e33eb50-3404-48ad-b835-b0b4b72a5625',\n",
       "     'incidenceAngleAcrossTrack': 22.56799693591933,\n",
       "     'illuminationAzimuthAngle': 158.7949645009587,\n",
       "     'format': 'image/jp2',\n",
       "     'incidenceAngleAlongTrack': 13.20124427230216,\n",
       "     'incidenceAngle': 25.51198391140989,\n",
       "     'archiveIdentifier': 'DS_PHR1A_202110071121345_FR1_PX_W009N40_0102_03618',\n",
       "     'processingCenter': 'FCMUGC',\n",
       "     'organisationName': 'AIRBUS DS GEO'},\n",
       "    'sceneId': 'bc84ea63-f76b-47df-a868-373dacef9a17',\n",
       "    'producer': 'airbus',\n",
       "    'acquisitionDate': '2021-10-07T11:21:34.555Z',\n",
       "    'start_datetime': None,\n",
       "    'end_datetime': None,\n",
       "    'cloudCoverage': 0.0,\n",
       "    'resolution': 0.5,\n",
       "    'deliveryTime': 'MINUTES'},\n",
       "   'geometry': {'type': 'Polygon',\n",
       "    'coordinates': (((-9.06724525, 40.25719896),\n",
       "      (-9.06473261, 39.85065255),\n",
       "      (-8.78859712, 39.83522367),\n",
       "      (-8.78681561, 40.23680039),\n",
       "      (-9.06724525, 40.25719896)),)},\n",
       "   'bbox': (-9.06724525, 39.83522367, -8.78681561, 40.25719896)},\n",
       "  {'id': '7',\n",
       "   'type': 'Feature',\n",
       "   'properties': {'id': '0a0a6a09-0ef5-4799-ab05-ecb4abab9c92',\n",
       "    'constellation': 'phr',\n",
       "    'collection': 'phr',\n",
       "    'providerName': 'oneatlas',\n",
       "    'up42:usageType': ['DATA'],\n",
       "    'providerProperties': {'commercialReference': 'SO21065601',\n",
       "     'qualified': False,\n",
       "     'sourceIdentifier': 'DS_PHR1A_202110071120291_FR1_PX_W009N40_0102_03614',\n",
       "     'acquisitionStation': 'FR1',\n",
       "     'archivingCenter': 'FR1',\n",
       "     'lastUpdateDate': '2021-10-08T01:23:42.483992532Z',\n",
       "     'processingDate': '2021-10-08T00:22:40.564',\n",
       "     'parentIdentifier': 'DS_PHR1A_202110071121061_FR1_PX_W009N40_0102_03618',\n",
       "     'azimuthAngle': 179.9086765821145,\n",
       "     'workspaceTitle': 'Public',\n",
       "     'spectralRange': 'VISIBLE',\n",
       "     'productCategory': 'image',\n",
       "     'activityId': '15dcb1c6-3b09-46f8-9b07-3845570b066e',\n",
       "     'processingLevel': 'SENSOR',\n",
       "     'acquisitionIdentifier': None,\n",
       "     'customerReference': 'C301000',\n",
       "     'productionStatus': 'IN_CLOUD',\n",
       "     'sensorType': 'OPTICAL',\n",
       "     'geometryCentroid': [-8.92691505726765, 40.041584859269726],\n",
       "     'correlationId': '03586165-ab66-4219-8c08-9cfad92dde81',\n",
       "     'processorName': 'DRS-MM V2.9vV2.9',\n",
       "     'workspaceName': 'public',\n",
       "     'publicationDate': '2021-10-08T01:23:42.483992532Z',\n",
       "     'productType': 'bundle',\n",
       "     'illuminationElevationAngle': 42.24360269327754,\n",
       "     'expirationDate': '2022-10-08T01:23:42.483996892Z',\n",
       "     'workspaceId': '0e33eb50-3404-48ad-b835-b0b4b72a5625',\n",
       "     'incidenceAngleAcrossTrack': 25.52866217492635,\n",
       "     'illuminationAzimuthAngle': 158.7940635770923,\n",
       "     'format': 'image/jp2',\n",
       "     'incidenceAngleAlongTrack': -3.951435579442058,\n",
       "     'incidenceAngle': 25.76005797560963,\n",
       "     'archiveIdentifier': 'DS_PHR1A_202110071121061_FR1_PX_W009N40_0102_03618',\n",
       "     'processingCenter': 'FCMUGC',\n",
       "     'organisationName': 'AIRBUS DS GEO'},\n",
       "    'sceneId': '0a0a6a09-0ef5-4799-ab05-ecb4abab9c92',\n",
       "    'producer': 'airbus',\n",
       "    'acquisitionDate': '2021-10-07T11:21:06.180Z',\n",
       "    'start_datetime': None,\n",
       "    'end_datetime': None,\n",
       "    'cloudCoverage': 0.0,\n",
       "    'resolution': 0.5,\n",
       "    'deliveryTime': 'MINUTES'},\n",
       "   'geometry': {'type': 'Polygon',\n",
       "    'coordinates': (((-9.07064227, 40.23968708),\n",
       "      (-9.06821369, 39.84042022),\n",
       "      (-8.78486771, 39.84903762),\n",
       "      (-8.78318784, 40.24296804),\n",
       "      (-9.07064227, 40.23968708)),)},\n",
       "   'bbox': (-9.07064227, 39.84042022, -8.78318784, 40.24296804)},\n",
       "  {'id': '8',\n",
       "   'type': 'Feature',\n",
       "   'properties': {'id': '997a983c-3de1-4480-b3ee-be7df7b108f9',\n",
       "    'constellation': 'phr',\n",
       "    'collection': 'phr',\n",
       "    'providerName': 'oneatlas',\n",
       "    'up42:usageType': ['DATA'],\n",
       "    'providerProperties': {'commercialReference': 'SO21065601',\n",
       "     'qualified': False,\n",
       "     'sourceIdentifier': 'DS_PHR1A_202110071120433_FR1_PX_W009N40_0102_03672',\n",
       "     'acquisitionStation': 'FR1',\n",
       "     'archivingCenter': 'FR1',\n",
       "     'lastUpdateDate': '2021-10-08T01:21:46.455396757Z',\n",
       "     'processingDate': '2021-10-08T00:14:18.384',\n",
       "     'parentIdentifier': 'DS_PHR1A_202110071121203_FR1_PX_W009N40_0102_03676',\n",
       "     'azimuthAngle': 179.9630835960183,\n",
       "     'workspaceTitle': 'Public',\n",
       "     'spectralRange': 'VISIBLE',\n",
       "     'productCategory': 'image',\n",
       "     'activityId': 'f65f44c0-f7ad-4498-846e-b652bc277ae8',\n",
       "     'processingLevel': 'SENSOR',\n",
       "     'acquisitionIdentifier': None,\n",
       "     'customerReference': 'C301000',\n",
       "     'productionStatus': 'IN_CLOUD',\n",
       "     'sensorType': 'OPTICAL',\n",
       "     'geometryCentroid': [-8.926791107094855, 40.04587606155358],\n",
       "     'correlationId': 'b89304d6-243b-407b-b716-e0356b8802c1',\n",
       "     'processorName': 'DRS-MM V2.9vV2.9',\n",
       "     'workspaceName': 'public',\n",
       "     'publicationDate': '2021-10-08T01:21:46.455396757Z',\n",
       "     'productType': 'bundle',\n",
       "     'illuminationElevationAngle': 42.2468226425737,\n",
       "     'expirationDate': '2022-10-08T01:21:46.455400932Z',\n",
       "     'workspaceId': '0e33eb50-3404-48ad-b835-b0b4b72a5625',\n",
       "     'incidenceAngleAcrossTrack': 24.03878198230229,\n",
       "     'illuminationAzimuthAngle': 158.7931720845583,\n",
       "     'format': 'image/jp2',\n",
       "     'incidenceAngleAlongTrack': 4.707362923909531,\n",
       "     'incidenceAngle': 24.39795938887441,\n",
       "     'archiveIdentifier': 'DS_PHR1A_202110071121203_FR1_PX_W009N40_0102_03676',\n",
       "     'processingCenter': 'FCMUGC',\n",
       "     'organisationName': 'AIRBUS DS GEO'},\n",
       "    'sceneId': '997a983c-3de1-4480-b3ee-be7df7b108f9',\n",
       "    'producer': 'airbus',\n",
       "    'acquisitionDate': '2021-10-07T11:21:20.305Z',\n",
       "    'start_datetime': None,\n",
       "    'end_datetime': None,\n",
       "    'cloudCoverage': 0.0,\n",
       "    'resolution': 0.5,\n",
       "    'deliveryTime': 'MINUTES'},\n",
       "   'geometry': {'type': 'Polygon',\n",
       "    'coordinates': (((-9.06745992, 40.24893221),\n",
       "      (-9.06505804, 39.84716673),\n",
       "      (-8.7877227, 39.84305257),\n",
       "      (-8.7861223, 40.2397601),\n",
       "      (-9.06745992, 40.24893221)),)},\n",
       "   'bbox': (-9.06745992, 39.84305257, -8.7861223, 40.24893221)})]"
      ]
     },
     "execution_count": 31,
     "metadata": {},
     "output_type": "execute_result"
    }
   ],
   "source": [
    "pleiades_tristereo_results = stereo.select_tristereo(\n",
    "    pleiades_search_results[\"features\"]\n",
    ")\n",
    "pleiades_tristereo_results"
   ]
  },
  {
   "cell_type": "markdown",
   "id": "e00b6390-a0b4-4489-9de8-8afb3622d0c3",
   "metadata": {},
   "source": [
    "We need to get the image IDs for placing the order. We use the *convenience* function `get_tristereo_image_ids`."
   ]
  },
  {
   "cell_type": "code",
   "execution_count": 32,
   "id": "a5b2077b-09b8-42d2-a052-339495295527",
   "metadata": {},
   "outputs": [
    {
     "data": {
      "text/plain": [
       "['bc84ea63-f76b-47df-a868-373dacef9a17',\n",
       " '0a0a6a09-0ef5-4799-ab05-ecb4abab9c92',\n",
       " '997a983c-3de1-4480-b3ee-be7df7b108f9']"
      ]
     },
     "execution_count": 32,
     "metadata": {},
     "output_type": "execute_result"
    }
   ],
   "source": [
    "stereo.get_tristereo_image_ids(pleiades_tristereo_results)"
   ]
  },
  {
   "cell_type": "markdown",
   "id": "a4d490ee-a5f3-49ea-977b-bd60b92fb95f",
   "metadata": {},
   "source": [
    "## Placing the orders\n",
    "\n",
    "For placing the orders and getting notified via a webhook when the orders get delivered we refer you to the recipe described in the blog post [data ordering 101](https://up42.com/blog/tech/data-ordering101) and the accompanying [Jupyter notebook](https://github.com/up42/data-recipes/blob/master/stereo-ordering101/notebooks/stereo_ordering101.ipynb)."
   ]
  },
  {
   "cell_type": "markdown",
   "id": "b1079d0b-b695-4815-9f41-c9b1802e5916",
   "metadata": {},
   "source": [
    "## Obtaining primary products\n",
    "\n",
    "Currently it is not possible to obtain primary products via API from Airbus. If you want to create a DEM then we can obtain these products for you. \n",
    "\n",
    " 1. From the process described in the notebook you can get the information you need to place the order.\n",
    " 2. Send your request via email to [ordering@up42.com](mailto:ordering@up42.com)."
   ]
  }
 ],
 "metadata": {
  "kernelspec": {
   "display_name": "Python 3 (ipykernel)",
   "language": "python",
   "name": "python3"
  },
  "language_info": {
   "codemirror_mode": {
    "name": "ipython",
    "version": 3
   },
   "file_extension": ".py",
   "mimetype": "text/x-python",
   "name": "python",
   "nbconvert_exporter": "python",
   "pygments_lexer": "ipython3",
   "version": "3.11.2"
  }
 },
 "nbformat": 4,
 "nbformat_minor": 5
}
